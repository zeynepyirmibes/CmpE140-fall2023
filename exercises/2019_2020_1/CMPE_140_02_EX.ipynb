{
 "cells": [
  {
   "cell_type": "code",
   "execution_count": null,
   "metadata": {},
   "outputs": [],
   "source": [
    "options(jupyter.rich_display = F)"
   ]
  },
  {
   "cell_type": "markdown",
   "metadata": {},
   "source": [
    "# BEING SUCCESSFUL OR NOT"
   ]
  },
  {
   "cell_type": "markdown",
   "metadata": {
    "tags": [
     "Sinan",
     "filtering",
     "vector",
     "easy"
    ]
   },
   "source": [
    "## QUESTION"
   ]
  },
  {
   "cell_type": "markdown",
   "metadata": {},
   "source": [
    "1) 84, 64, 18, 92, 54, 76, 84, 48 are grades of a group of students.Assign these numbers as a vector named \"grades\"\n",
    "\n",
    "2) Berk,Cengiz,Nur,Eda,Hasan,Mete,Merve,Ali are the names of students.Assign these names to the grades.\n",
    "\n",
    "3) Students who have grades lower than 65 will fail.Show these students.\n",
    "\n",
    "4) Assign students who have grades higher than 65 as \"successful\".\n",
    "\n",
    "5) Show the successful students."
   ]
  },
  {
   "cell_type": "markdown",
   "metadata": {},
   "source": [
    "## SOLUTION"
   ]
  },
  {
   "cell_type": "code",
   "execution_count": null,
   "metadata": {},
   "outputs": [],
   "source": [
    "## code here"
   ]
  },
  {
   "cell_type": "markdown",
   "metadata": {},
   "source": [
    "# XYZ"
   ]
  },
  {
   "cell_type": "markdown",
   "metadata": {
    "tags": [
     "Ubeyd",
     "sequence",
     "vector",
     "fitlering",
     "hard"
    ]
   },
   "source": [
    "## QUESTION"
   ]
  },
  {
   "cell_type": "markdown",
   "metadata": {},
   "source": [
    " 1) Create a vector called xyz1 that begins with 50, ends with 870, and consists of 50 elements with equal distances.\n",
    " \n",
    " 2) Repeat the vector xyz1 5 times and call this new vector xyz1_new.\n",
    " \n",
    " 3) In the vector xyz1_new, add 30 to numbers which are higher than 100.\n",
    " \n",
    " 4) Update the xyz1_new vector with respect to sorting the numbers in a decreasing order.\n",
    " \n",
    " 5) In the vector xyz1_new, take out the numbers that is higher than 500 and call this new vector final_xyz."
   ]
  },
  {
   "cell_type": "markdown",
   "metadata": {},
   "source": [
    "## SOLUTION"
   ]
  },
  {
   "cell_type": "code",
   "execution_count": null,
   "metadata": {},
   "outputs": [],
   "source": [
    "## code here"
   ]
  },
  {
   "cell_type": "markdown",
   "metadata": {},
   "source": [
    "# TRAVELLING"
   ]
  },
  {
   "cell_type": "markdown",
   "metadata": {
    "tags": [
     "Ubeyd",
     "vector",
     "adding/substracting",
     "filtering",
     "medium"
    ]
   },
   "source": [
    "## QUESTION"
   ]
  },
  {
   "cell_type": "markdown",
   "metadata": {},
   "source": [
    " Yasemin, Cansu and Mert are planning a vacation and they decided to travel with car.\n",
    " \n",
    " 1) Create a vector called car_vector_names that consists of their names.\n",
    " \n",
    " Their ages are 18, 30, 22 respectively.\n",
    " \n",
    " 2) Create a vector called car_vector_ages that consists of their ages.\n",
    "\n",
    "On the road, They argued and Mert left the car. After some time, they saw their old firend Kemal (23 years old) on the road and he gets into the car.\n",
    " \n",
    " 3) Update the vectors car_vector_names and car_vector_ages.\n",
    " \n",
    " 4) Assign the ages with the names. And print the car_vector_ages vector "
   ]
  },
  {
   "cell_type": "markdown",
   "metadata": {},
   "source": [
    "## SOLUTION"
   ]
  },
  {
   "cell_type": "code",
   "execution_count": null,
   "metadata": {},
   "outputs": [],
   "source": [
    "## code here"
   ]
  },
  {
   "cell_type": "markdown",
   "metadata": {},
   "source": [
    "# ASSETS AND LIABILITIES"
   ]
  },
  {
   "cell_type": "markdown",
   "metadata": {
    "tags": [
     "Bengisu_Kaynar",
     "18-19_2",
     "vector_definition",
     "easy"
    ]
   },
   "source": [
    "## QUESTION"
   ]
  },
  {
   "cell_type": "markdown",
   "metadata": {},
   "source": [
    "1) Create a vector called \"assets\" consisting of these 5 elements: cash, account receivable, supplies, shed and bicycle.\n",
    "\n",
    "2) Create another vector and name it \"liabilities\" consisting of only one element which is: account payable.\n",
    "\n",
    "3) Create the third vector called \"owner_equity\" consisting of two elements: common stock and retained earnings.\n",
    "\n",
    "4) Create another numerical vector called \"data_accounting\" consisting of these numbers : 3510, 110, 150, 3300, 2500, 1300, 7200, 1070. "
   ]
  },
  {
   "cell_type": "markdown",
   "metadata": {},
   "source": [
    "## SOLUTION"
   ]
  },
  {
   "cell_type": "code",
   "execution_count": null,
   "metadata": {},
   "outputs": [],
   "source": [
    "## code here"
   ]
  },
  {
   "cell_type": "markdown",
   "metadata": {},
   "source": [
    "Do not change the order of elements in any vector.\n",
    "\n",
    "Assign the first three vectors elements as names of the elements of vector \"data_accounting\" in the given order.\n",
    "\n",
    "Assign the  updated \"data_accounting\" vector to a new vector called \"balance_sheet\".\n",
    "\n",
    "Check if the sum of the first 5 elements of balance_sheet vector is equal to the sum of rest of the elements of the same vector.\n",
    "Assign the checking result to a new vector and name it \"balance_result\"\n"
   ]
  },
  {
   "cell_type": "code",
   "execution_count": null,
   "metadata": {},
   "outputs": [],
   "source": [
    "## code here"
   ]
  },
  {
   "cell_type": "markdown",
   "metadata": {},
   "source": [
    "# CANDIES AND CALORIES"
   ]
  },
  {
   "cell_type": "markdown",
   "metadata": {
    "tags": [
     "vector",
     "easy",
     "ipek"
    ]
   },
   "source": [
    "## QUESTION"
   ]
  },
  {
   "cell_type": "markdown",
   "metadata": {},
   "source": [
    "A group of five children (Arda, Berk, Can, Deniz, Emre) are eating candy.\n",
    "\n",
    "In the same order, they eat 12, 8, 11, 9, 13 green candy and 5, 3, 7, 2, 4 red candy.\n",
    "\n",
    "There are 2 calories in a green candy and 3 calories in a red candy.\n",
    "\n",
    "1) Create a \"children\" vector with these names.\n",
    "\n",
    "2) Create a \"green_candy\" vector and a \"red_candy\" vector with the candy amounts and children's names.\n",
    "\n",
    "3) From these vectors, calculate the total amount of calories for each child with a \"total_cal\" vector."
   ]
  },
  {
   "cell_type": "markdown",
   "metadata": {},
   "source": [
    " ## SOLUTION"
   ]
  },
  {
   "cell_type": "code",
   "execution_count": null,
   "metadata": {},
   "outputs": [],
   "source": [
    "## code here"
   ]
  },
  {
   "cell_type": "markdown",
   "metadata": {},
   "source": [
    "# RING THE BELL"
   ]
  },
  {
   "cell_type": "markdown",
   "metadata": {
    "tags": [
     "sequence",
     "vectorization",
     "vector_operations",
     "ipek",
     "easy"
    ]
   },
   "source": [
    "## QUESTION"
   ]
  },
  {
   "cell_type": "markdown",
   "metadata": {},
   "source": [
    "A bell rings to indicate the start of each hour after noon: once at 13:00, twice at 14:00, and so on.\n",
    "\n",
    "1) Create a vector named \"hours\" for the hours from 13:00 to 00:00 in this day.\n",
    "\n",
    "2) Create a vector named \"rings\" with how many times the bell rings in each hour, and name it with \"hours\".\n",
    "\n",
    "3) Someone forgets to ring the bell at 17:00. Change the \"rings\" vector to reflect this.\n",
    "\n",
    "4) How many times did the bell ring on that day in total?"
   ]
  },
  {
   "cell_type": "markdown",
   "metadata": {},
   "source": [
    " ## SOLUTION"
   ]
  },
  {
   "cell_type": "code",
   "execution_count": null,
   "metadata": {
    "scrolled": true
   },
   "outputs": [],
   "source": [
    "## code here"
   ]
  },
  {
   "cell_type": "markdown",
   "metadata": {},
   "source": [
    "# VECTORIZED OPERATIONS"
   ]
  },
  {
   "cell_type": "markdown",
   "metadata": {
    "tags": [
     "sequence",
     "vectorization",
     "filtering",
     "ömer",
     "easy"
    ]
   },
   "source": [
    "## QUESTION"
   ]
  },
  {
   "cell_type": "markdown",
   "metadata": {},
   "source": [
    "1) Create a vector from 10 to 93 increasing by 3.\n",
    "\n",
    "2) Create the inverse of this vector, that is this new vector must start with 93 and decrease.\n",
    "\n",
    "3) Subtract second vector from the first one and assign this to a variable called \"subs\".\n",
    "\n",
    "4) Assign the odd ordered numbers to a vector named \"odd\".\n",
    "\n",
    "5) Assign the even ordered numbers to a vector named \"even\".\n",
    "\n",
    "Note: For 4 & 5, if the subs would have been (2, 4, 6, 8), odds would be (2, 6) and evens would be (4, 8).\n",
    "\n",
    "6) Subtract \"odd\" from \"even\" and assign this to \"subsubs\".\n",
    "\n",
    "7) Get the absolute value of every element in \"subsubs\" and call this \"absolute_subsubs\".\n",
    "\n"
   ]
  },
  {
   "cell_type": "markdown",
   "metadata": {},
   "source": [
    " ## SOLUTION"
   ]
  },
  {
   "cell_type": "code",
   "execution_count": null,
   "metadata": {},
   "outputs": [],
   "source": [
    "## code here"
   ]
  },
  {
   "cell_type": "markdown",
   "metadata": {
    "tags": [
     "2019-2020-1",
     "vector",
     "easy",
     "salih"
    ]
   },
   "source": [
    "# A STUDENT'S LIFE :("
   ]
  },
  {
   "cell_type": "markdown",
   "metadata": {},
   "source": [
    "## QUESTION"
   ]
  },
  {
   "cell_type": "markdown",
   "metadata": {},
   "source": [
    "A student's hours of study in one week are as follows:\n",
    "\n",
    "* Monday(M) 4 hours\n",
    "* Tuesday(T) 4 hours\n",
    "* Wednesday(W) 3 hours\n",
    "* Thursday(Th) we don't know\n",
    "* Friday(F) 2 hours\n",
    "* Saturday(St) 2 hours\n",
    "\n",
    "1) Create a vector *study* which holds hours of study . Label the elements with the name of the days.\n",
    "~~~~\n",
    "study\n",
    " M  T  W Th  F St \n",
    " 4  4  3 NA  2  2\n",
    " ~~~~\n",
    "\n",
    "2) The student studied 1 hour on Sunday(S).Add this data to the vector.\n",
    "\n",
    "~~~~\n",
    "study\n",
    " M  T  W Th  F St  S \n",
    " 4  4  3 NA  2  2  1 \n",
    " ~~~~\n",
    "\n",
    "\n",
    "3) How many hours did she study (in total) on Friday and at the weekend ? Name the result as *weekend*.\n",
    "~~~~ \n",
    " weekend\n",
    "[1] 5\n",
    "~~~~\n",
    "\n",
    "4) The student studied 4 hours on Thursday. Update the *study* vector after this information. \n",
    "~~~~\n",
    "\n",
    "study\n",
    " M  T  W Th  F St  S \n",
    " 4  4  3  4  2  2  1 \n",
    " ~~~~\n",
    "\n",
    "\n",
    " "
   ]
  },
  {
   "cell_type": "markdown",
   "metadata": {},
   "source": [
    "## SOLUTION"
   ]
  },
  {
   "cell_type": "code",
   "execution_count": null,
   "metadata": {},
   "outputs": [],
   "source": [
    "## code here"
   ]
  },
  {
   "cell_type": "markdown",
   "metadata": {
    "tags": [
     "vectorization",
     "vector",
     "operations",
     "fatih",
     "2018-2019-1",
     "easy"
    ]
   },
   "source": [
    "# VECTORIZED OPERATIONS"
   ]
  },
  {
   "cell_type": "markdown",
   "metadata": {},
   "source": [
    "## QUESTION"
   ]
  },
  {
   "cell_type": "markdown",
   "metadata": {},
   "source": [
    "1) Create a vector which includes 9, 12, 17, 24, 35 and named \"quantity\".\n",
    "\n",
    "2) Create another vector named \"new_quantity\".\n",
    "    + Assign the values getting from product of \"quantity\" vector with 4, and sum each element with 7.\n",
    "3) Sum two vectors' elements and assign it to a new vector named \"total\" as such:\n",
    "\n",
    "```r\n",
    "total\n",
    "[1]  52  67  92 127 182\n",
    "```"
   ]
  },
  {
   "cell_type": "markdown",
   "metadata": {},
   "source": [
    "## SOLUTION"
   ]
  },
  {
   "cell_type": "code",
   "execution_count": null,
   "metadata": {},
   "outputs": [],
   "source": [
    "## code here"
   ]
  },
  {
   "cell_type": "markdown",
   "metadata": {
    "tags": [
     "vectorization",
     "vector",
     "filter",
     "ömer",
     "easy"
    ]
   },
   "source": [
    "# NAMES AND AGES"
   ]
  },
  {
   "cell_type": "markdown",
   "metadata": {},
   "source": [
    "## QUESTION"
   ]
  },
  {
   "cell_type": "markdown",
   "metadata": {},
   "source": [
    "1)  Create a vector with the ages of people given as (18, 19, 23, 26, 20, 21) and assign it to \"ages\".\n",
    "\n",
    "2)  Match the names of people with the ages, given in order with the ages as (Hale, Ahmet, Beril, Burcu, Aliye, Velihan).\n",
    "\n",
    "3)  Burcu sees that her age is wrong in the vector. Correct Burcu's name to 25.\n",
    "\n",
    "4)  Ahmed sees that his name is typed wrongly. Correct Ahmed's name as Ahmed.\n",
    "\n",
    "5)  Calculate the average years of age of this group and add this to the end of the vector with the name \"Average\".\n"
   ]
  },
  {
   "cell_type": "markdown",
   "metadata": {},
   "source": [
    " ## SOLUTION"
   ]
  },
  {
   "cell_type": "code",
   "execution_count": null,
   "metadata": {},
   "outputs": [],
   "source": [
    "## code here"
   ]
  },
  {
   "cell_type": "markdown",
   "metadata": {
    "tags": [
     "vector",
     "easy",
     "fatih",
     "2018-2019-1"
    ]
   },
   "source": [
    "# BLACK FRIDAY"
   ]
  },
  {
   "cell_type": "markdown",
   "metadata": {},
   "source": [
    "## QUESTION"
   ]
  },
  {
   "cell_type": "markdown",
   "metadata": {},
   "source": [
    "1) In a technology market, price of Iphone8 is 4600 liras.\n",
    "    + Assign this price to variable named \"price\".\n",
    "\n",
    "2) Because of Black Friday, the market give a discount at the rate of %30.\n",
    "    + Create a variable named \"discount\" and assign the discount value of Iphone8 from the current \"price\".\n",
    "    + (Use the variable names not basic calculation!)\n",
    "\n",
    "3) Find the new price of the phone after discount and assign the variable named \"final_price\" as such:\n",
    "\n",
    "```r\n",
    "final_price\n",
    "[1] 3220\n",
    "```\n"
   ]
  },
  {
   "cell_type": "markdown",
   "metadata": {},
   "source": [
    "## SOLUTION"
   ]
  },
  {
   "cell_type": "code",
   "execution_count": null,
   "metadata": {},
   "outputs": [],
   "source": [
    "## code here"
   ]
  },
  {
   "cell_type": "markdown",
   "metadata": {
    "tags": [
     "vector",
     "sort",
     "2018-2019-2",
     "zeynep",
     "easy"
    ]
   },
   "source": [
    "# CLIFF DIVERS"
   ]
  },
  {
   "cell_type": "markdown",
   "metadata": {},
   "source": [
    "## QUESTION"
   ]
  },
  {
   "cell_type": "markdown",
   "metadata": {},
   "source": [
    "1) Ali, Buket and Taner are cliff divers, they compete in an event by performing 3 separate dives and getting a point between 0-10 including half points for each of them.\n",
    "\n",
    "2) Randomly assign the points of the three dives to their name_points.\n",
    "\n",
    "3) Put their total points in a vector called 'totals' with their names.\n",
    "\n",
    "4) Order the 'totals' vector from highest to lowest and find out the winner by indexing.\n",
    "\n",
    "```\n",
    "set.seed(1111)\n",
    "points <- seq(0, 10, by = 0.5)\n",
    "\n",
    "#Your code here#\n",
    "\n",
    "totals[1]\n",
    "ali: 15.5\n",
    "```"
   ]
  },
  {
   "cell_type": "markdown",
   "metadata": {},
   "source": [
    "## SOLUTION"
   ]
  },
  {
   "cell_type": "code",
   "execution_count": null,
   "metadata": {},
   "outputs": [],
   "source": [
    "## code here"
   ]
  },
  {
   "cell_type": "markdown",
   "metadata": {
    "tags": [
     "vector",
     "medium",
     "2018-2019-2",
     "zeynep"
    ]
   },
   "source": [
    "# NUSRET "
   ]
  },
  {
   "cell_type": "markdown",
   "metadata": {},
   "source": [
    "## QUESTION"
   ]
  },
  {
   "cell_type": "markdown",
   "metadata": {},
   "source": [
    "1) Five friends decide to eat at Nusret and that only the ones who got grades below 90 in the EC203 midterm would pay for it.\n",
    "\n",
    "2) The midterm grades are as follows: Ada = 89, Burak = 72, Ceren = 93, Deniz = 51, Ezgi = 80. Store them in a vector called 'grades' with the names.\n",
    "\n",
    "3) They realize that they haven't invited their friend Faruk and he joins them. His midterm grade is 84. Add him in the 'grades' vector.\n",
    "\n",
    "4) A meal for 6 people at Nusret costs 900 liras. Find who has to pay for dinner and store them in a vector called 'losers'. Find how much the losers will pay and assign it to the vector 'share1'.\n",
    "\n",
    "5) It turns out that a question in the midterm was incorrect so the teacher gives everyone extra 6 points. Update the 'grades' and 'losers' vector accordingly.\n",
    "\n",
    "6) Find the new amount that losers have to pay each and store it in 'share2'.\n",
    "\n",
    "7) Find the difference between 'share1' and 'share2' as such:\n",
    "```\n",
    "share2 - share1\n",
    "120\n",
    "```"
   ]
  },
  {
   "cell_type": "markdown",
   "metadata": {},
   "source": [
    "## SOLUTION"
   ]
  },
  {
   "cell_type": "code",
   "execution_count": null,
   "metadata": {},
   "outputs": [],
   "source": [
    "## code here"
   ]
  },
  {
   "cell_type": "markdown",
   "metadata": {
    "tags": [
     "vector",
     "2018-2019-2",
     "sinan",
     "medium"
    ]
   },
   "source": [
    "# SHOE SIZES"
   ]
  },
  {
   "cell_type": "markdown",
   "metadata": {},
   "source": [
    "## QUESTION"
   ]
  },
  {
   "cell_type": "markdown",
   "metadata": {},
   "source": [
    "1) 41,45,37,39,43,36,42,38,46,35) are shoe sizes of a group of people.Create a vector by using these numbers in the same order which is named \"shoe_sizes\".\n",
    "\n",
    "2) (\"Ahmet\",\"Senem\",\"Defne\",\"Dilan\",\"Furkan\",\"Beren\",\"Burak\",\"Ezgi\",\"Emir\",\"Nermin\") are the names of the people.Create a vector by using these names in the same order which is named \"people_names\".\n",
    "\n",
    "3) Assign \"people_names\" to \"shoe_sizes\" as the names. \n",
    "\n",
    "4) We notice that we make a mistake at names.Change the name \"Senem\" with \"Hasan\".\n",
    "\n",
    "5) Create a vector \"women\" that includes people with shoe sizes whose shoe sizes are lower than 40.\n",
    "\n",
    "6) Create a vector \"men\" that includes people with shoe sizes whose shoe sizes are higher than 40.\n",
    "\n",
    "7) Find only the names of the women who have the biggest and the second biggest shoe size.\n",
    "\n",
    " (Hint:You can use \"sort\" function)\n"
   ]
  },
  {
   "cell_type": "markdown",
   "metadata": {},
   "source": [
    "## SOLUTION"
   ]
  },
  {
   "cell_type": "code",
   "execution_count": null,
   "metadata": {},
   "outputs": [],
   "source": [
    "## code here"
   ]
  },
  {
   "cell_type": "markdown",
   "metadata": {
    "tags": [
     "hazal",
     "vector",
     "medium"
    ]
   },
   "source": [
    "# DINNER"
   ]
  },
  {
   "cell_type": "markdown",
   "metadata": {},
   "source": [
    "## QUESTION"
   ]
  },
  {
   "cell_type": "markdown",
   "metadata": {},
   "source": [
    "Vito, Michael, Tom, Sonny and Fredo are sitting around a dinner table. Their ages are 53, 27, 36, 32 and 31 respectively.\n",
    "\n",
    "1) Create a vector called Ages consisting of the ages above in the given order.\n",
    "\n",
    "2) Create a vector called Corleone consisting of everyone sitting around the table, in the given order.\n",
    "\n",
    "3) Assign the elements of Corleone as the names of the elements of Ages.\n",
    "\n",
    "4) Kay and Connie join to the dinner table. Kay is 25 years old and Connie's age is somehow missing. Update the vector \"Ages\".\n",
    "\n",
    "5) Sonny and Connie leave the dinner table. Update the vector Ages.\n",
    "\n",
    "6) Create a vector called Weights consisting of these 5 elements: 91, 75, 78, 77 and 54.\n",
    "\n",
    "7) Assign the names of the elements of Ages as the names of the elements of Weights.\n",
    "\n",
    "8) Create a vector consisting of the weights of people who are older than 30 (their names are included in the vector). Call this new vector Wiseguys.\n"
   ]
  },
  {
   "cell_type": "markdown",
   "metadata": {},
   "source": [
    "## SOLUTION"
   ]
  },
  {
   "cell_type": "code",
   "execution_count": null,
   "metadata": {
    "code_folding": []
   },
   "outputs": [],
   "source": [
    "## code here"
   ]
  },
  {
   "cell_type": "markdown",
   "metadata": {},
   "source": [
    "# POPULATION"
   ]
  },
  {
   "cell_type": "markdown",
   "metadata": {
    "tags": [
     "2020-2021-1/Hazal",
     "Erge/w2/vectors/medium"
    ]
   },
   "source": [
    "## QUESTION"
   ]
  },
  {
   "cell_type": "markdown",
   "metadata": {},
   "source": [
    "1) Create a sequence called Population starting from 43000, increasing by 3000 and having a length of 5.\n",
    "\n",
    "2) Create a vector called Districts consisting of these 5 elements: Bornova, Cesme, Guzelbahce, Karsiyaka, Urla.\n",
    "\n",
    "3) Assign the elements of Districts as the names of Population.\n",
    "\n",
    "4) Decrease the population of districts having a population more than 50000 by 1000.\n",
    "\n",
    "5) Create another vector called Population2 consisting of these 5 elements: 148000, 191000, 135000, 276000, 25000.\n",
    "\n",
    "6) Assign these names to the elements of Population2 in the given order: Arnavutkoy, Besiktas, Cekmekoy, Sariyer and Sile.\n",
    "\n",
    "7) Check if the sum of Population2 is greater than 3 times Population.\n",
    "\n",
    "8) Assign the checking result to a new vector called Result."
   ]
  },
  {
   "cell_type": "markdown",
   "metadata": {},
   "source": [
    "## SOLUTION"
   ]
  },
  {
   "cell_type": "code",
   "execution_count": null,
   "metadata": {},
   "outputs": [],
   "source": [
    "## code here"
   ]
  },
  {
   "cell_type": "markdown",
   "metadata": {
    "tags": [
     "medium",
     "vector",
     "2019-2020-1",
     "Baran",
     "sum",
     "names"
    ]
   },
   "source": [
    "# STOCK MARKET"
   ]
  },
  {
   "cell_type": "markdown",
   "metadata": {},
   "source": [
    "## QUESTION"
   ]
  },
  {
   "cell_type": "markdown",
   "metadata": {},
   "source": [
    "You wish to invest in the stock market. You create a portfolio of 5 stocks from the following companies, with their respective prices:\n",
    "\n",
    "-  Apple, with a price of       220\n",
    "-  Boeing, with a price of      382\n",
    "-  McDonalds, with a price of   214\n",
    "-  Nike, with a price of         94\n",
    "-  Disney, with a price of      130\n",
    "\n",
    "(We assume you bought 1 of each of the stocks listed here.)\n",
    "\n",
    "1) Create two vectors, one named \"stock_names\" and another named \"prices\". Write the stock names and prices to these vectors.\n",
    "Assign the stock names to their respective prices, showing your stock portfolio. \n",
    "\n",
    "2) At the end of the day, some prices change. Create another vector, named \"new_prices\", which will reflect the prices after a day of trading in the stock market. Apple's stock price rose by 20%, while Nike's stock price fell by 50%.\n",
    "\n",
    "3) Calculate your final profit by subtracting the beginning value of your portfolio from the final value. Portfolio value refers to the sum of the value of all of your stocks. Assign this value to a new variable called \"profit\" as such:\n",
    "\n",
    "```r\n",
    "profit\n",
    "[1] -3\n",
    "```"
   ]
  },
  {
   "cell_type": "markdown",
   "metadata": {},
   "source": [
    "## SOLUTION"
   ]
  },
  {
   "cell_type": "code",
   "execution_count": null,
   "metadata": {},
   "outputs": [],
   "source": [
    "## code here"
   ]
  },
  {
   "cell_type": "markdown",
   "metadata": {
    "tags": [
     "medium",
     "vector",
     "2019-2020-1",
     "Baran",
     "subsetting",
     "updating"
    ]
   },
   "source": [
    "# NURSE'S OFFICE"
   ]
  },
  {
   "cell_type": "markdown",
   "metadata": {},
   "source": [
    "## QUESTION"
   ]
  },
  {
   "cell_type": "markdown",
   "metadata": {},
   "source": [
    "A group of people go to the nurse's office. The nurse notes their names & ages, and also takes their pulses. Their ages are as follows:\n",
    "\n",
    "-  Fatma 14\n",
    "-  Ahmet 23\n",
    "-  Mehmet 42\n",
    "-  Cansu 33\n",
    "-  Bartu 28\n",
    "\n",
    "The nurse records their pulse as the following:\n",
    "\n",
    "- Fatma 72\n",
    "- Ahmet 68\n",
    "- Mehmet 88\n",
    "- Cansu  91\n",
    "- Bartu 124\n",
    "\n",
    "1) Create two numeric vectors, \"age\" and \"pulse\", and enter the values mentioned above. Do not forget to include the names of the people.\n",
    "\n",
    "2) The nurse realizes that she's measured Bartu's pulse after he has exercised. She measures it again and records his pulse as 106. Change this value accordingly.\n",
    "\n",
    "3)The nurse wants to refer some people to a doctor for additional screening. Create a new vector called \"doctor\" and include the people over 30 and people with pulses over 100. Get the names of the people in this vector, as such:\n",
    "\n",
    "```r\n",
    "[1] \"Mehmet\" \"Cansu\"  \"Bartu\"\n",
    "```"
   ]
  },
  {
   "cell_type": "markdown",
   "metadata": {},
   "source": [
    "## SOLUTION"
   ]
  },
  {
   "cell_type": "code",
   "execution_count": null,
   "metadata": {},
   "outputs": [],
   "source": [
    "## code here"
   ]
  },
  {
   "cell_type": "markdown",
   "metadata": {
    "tags": [
     "vector",
     "filtering",
     "sorting",
     "oguzhan",
     "2018-2019-1",
     "medium"
    ]
   },
   "source": [
    "# EXPERIENCES AND SALARIES"
   ]
  },
  {
   "cell_type": "markdown",
   "metadata": {},
   "source": [
    "## QUESTION"
   ]
  },
  {
   "cell_type": "markdown",
   "metadata": {},
   "source": [
    "Assume that there is a company which has 5 workers. \n",
    "\n",
    "The salaries of the workers in the company are as follows:\n",
    "\n",
    "- Ali = 1200 $\n",
    "\n",
    "- Ahmet = 1400$\n",
    "\n",
    "- Aylin = 1300$\n",
    "\n",
    "- Zehra = 4000$\n",
    "\n",
    "- Mustafa = 3700$\n",
    "\n",
    "And the working experiences are:\n",
    "\n",
    "- Ali = 3 years\n",
    "\n",
    "- Ahmet = 4 years\n",
    "\n",
    "- Aylin = 2 years\n",
    "\n",
    "- Zehra = 8 years\n",
    "\n",
    "- Mustafa = 5 years\n",
    "\n",
    "\n",
    "1) Create two numeric vectors salary and work_experience that hold the given data. Do not forget labeling the elements in each vector with the names.\n",
    "\n",
    "2) Create a new vector expe_of_high_sal which holds the work experiences of the workers who have salary more than 2500$\n",
    "\n",
    "3) Print the work experiences of the workers who have salary more than 2500$ in descending order (from highest to lowest) as such:\n",
    "\n",
    "```r\n",
    "Mustafa   Zehra \n",
    "      5       8 \n",
    "```"
   ]
  },
  {
   "cell_type": "markdown",
   "metadata": {},
   "source": [
    "## SOLUTION"
   ]
  },
  {
   "cell_type": "code",
   "execution_count": null,
   "metadata": {},
   "outputs": [],
   "source": [
    "## code here"
   ]
  },
  {
   "cell_type": "markdown",
   "metadata": {
    "tags": [
     "Bengisu_Kaynar",
     "18-19_2",
     "vector",
     "medium"
    ]
   },
   "source": [
    "# my_samp"
   ]
  },
  {
   "cell_type": "markdown",
   "metadata": {},
   "source": [
    "## QUESTION"
   ]
  },
  {
   "cell_type": "markdown",
   "metadata": {},
   "source": [
    "1) Create a sequence  called \"heights\" from 145 to 185 increasing by 0.01.\n",
    "This vector represents the prospective heights of women in an arbitrary society. \n",
    "\n",
    "2) Choose randomly 100 samples from \"heights\" vector with the possibility that one element can be choosen more than once. Name it \"my_samp\".\n",
    "What is the percentage of heights below average?\n",
    "Assign your result to a vector called \"below_rate\"."
   ]
  },
  {
   "cell_type": "markdown",
   "metadata": {},
   "source": [
    "## SOLUTION"
   ]
  },
  {
   "cell_type": "code",
   "execution_count": null,
   "metadata": {},
   "outputs": [],
   "source": [
    "## code here"
   ]
  },
  {
   "cell_type": "markdown",
   "metadata": {
    "tags": [
     "Bengisu_Kaynar",
     "18-19_2",
     "vector",
     "function",
     "medium"
    ]
   },
   "source": [
    "# FLIGHTS"
   ]
  },
  {
   "cell_type": "markdown",
   "metadata": {},
   "source": [
    "## QUESTION"
   ]
  },
  {
   "cell_type": "markdown",
   "metadata": {},
   "source": [
    "Here are the prices for THY's 6 domestic flights: 137, 99, 276, 446, 345, 111.\n",
    "\n",
    "1) Create a vector called \"flights\" with these 6 elements.\n",
    "\n",
    "Since the inflation rate was announced, the flight prices have changed accordingly: inflation_rate = 0.24\n",
    "To stop the sharp increase in prices, THY launced a discount campaign: fight_against_inflation = -0.1\n",
    "\n",
    "2) Create a function called \"new_turkey\" and  set the inflation_rate and fight_against_inflation arguments to default values.\n",
    "This function should calculate new prices and return the vector called \"updated_prices\".\n",
    "Find the updated prices of \"flights\" vector."
   ]
  },
  {
   "cell_type": "markdown",
   "metadata": {},
   "source": [
    "## SOLUTION"
   ]
  },
  {
   "cell_type": "code",
   "execution_count": null,
   "metadata": {},
   "outputs": [],
   "source": [
    "## code here"
   ]
  },
  {
   "cell_type": "markdown",
   "metadata": {
    "tags": [
     "Bengisu_Kaynar",
     "18-19_2",
     "vector",
     "medium"
    ]
   },
   "source": [
    "# MIDTERMS"
   ]
  },
  {
   "cell_type": "markdown",
   "metadata": {},
   "source": [
    "## QUESTION"
   ]
  },
  {
   "cell_type": "markdown",
   "metadata": {},
   "source": [
    "Aleksander wants to create a list to see how many midterms he has this term. To do so, he creates two vectors.\n",
    "The first vector he creates is called \"classes\" and consisting of 6 elements: ec203, ec205, ec223, math231, ec233 and ad211.\n",
    "\n",
    "He assigns 1 or 2 as elements to a new vector depending on the number of midterms that a particular class has.\n",
    "Hence, he creates another vector called \"midterm_count\" consisting of these elements in the given order: 2,1,2,2,1,1.\n",
    "\n",
    "Eventually, he assigns the vector \"classes\" as the name of the vector \"midterm_count\". \n",
    "He creates a new vector called \"midterms\" and assign \"midterm_count\" vector to this new vector.\n",
    "However, he realizes that he forgets to add his ger201 having 2 midterms to the list as the last element.\n",
    "Besides, in the add-drop week, he drops the class with the code math231.\n",
    "Therefore, he wants to correct his mistakes.\n",
    "Correct these mistake he had made by adding and removing elements in the vector \"midterms.\"\n"
   ]
  },
  {
   "cell_type": "markdown",
   "metadata": {},
   "source": [
    "## SOLUTION"
   ]
  },
  {
   "cell_type": "code",
   "execution_count": null,
   "metadata": {},
   "outputs": [],
   "source": [
    "## code here"
   ]
  },
  {
   "cell_type": "markdown",
   "metadata": {
    "tags": [
     "vectorization",
     "vector",
     "filtering",
     "names",
     "medium",
     "fatih",
     "2018-2019-2",
     "modifying"
    ]
   },
   "source": [
    "# DISH WASHER PROBLEM"
   ]
  },
  {
   "cell_type": "markdown",
   "metadata": {},
   "source": [
    "## QUESTION"
   ]
  },
  {
   "cell_type": "markdown",
   "metadata": {},
   "source": [
    "\n",
    "Morty wants to buy a dishwasher. After some research he realizes machines with a price below the 1000 dollars has poor quality and above 2000 dollars are expensive to him.\n",
    "There are 6 machines in the store and their prices are listed below.\n",
    "However the seller made a 10% discount to all machines for Morty.\n",
    "\n",
    "- a = 1200\n",
    "- b = 1500\n",
    "- c = 2400\n",
    "- d = 850\n",
    "- e = 1750\n",
    "- f = 900\n",
    "\n",
    "1) Create a vector with the prices and name it \"prices\". Assign the letters into the prices vector to recognize them.\n",
    "\n",
    "2) Create another vector after the discount and named it \"new_prices\".\n",
    "\n",
    "3) Finally, create a vector named \"choices\" which filters out best options for Morty."
   ]
  },
  {
   "cell_type": "markdown",
   "metadata": {},
   "source": [
    "## SOLUTION"
   ]
  },
  {
   "cell_type": "code",
   "execution_count": null,
   "metadata": {},
   "outputs": [],
   "source": [
    "## code here"
   ]
  },
  {
   "cell_type": "markdown",
   "metadata": {
    "tags": [
     "fatih",
     "2018-2019-2",
     "vector",
     "names",
     "filtering",
     "reassignment",
     "medium"
    ]
   },
   "source": [
    "# A RISE IN WAGES"
   ]
  },
  {
   "cell_type": "markdown",
   "metadata": {},
   "source": [
    "## QUESTION"
   ]
  },
  {
   "cell_type": "markdown",
   "metadata": {},
   "source": [
    "A company wants to raise their worker's wage which are below 2000$.\n",
    "The wages of the workers in the company are as follows:\n",
    "\n",
    "- Yade = 2250\n",
    "\n",
    "- Bengisu = 1875\n",
    "\n",
    "- Yusuf = 1900\n",
    "\n",
    "- Sinan = 2050\n",
    "\n",
    "- Ubeyd = 1800\n",
    "\n",
    "- Tuana = 2000\n",
    "\n",
    "The company will raise the wages below 2000 dollars by 200 dollars and the wages above 2000 dollars by 100 dollars.\n",
    "\n",
    "1) Create a vector named \"workers\" which consists of names and another vector named \"wages\" which consists of salaries.\n",
    "\n",
    "3) Assign the names into the wages vector.\n",
    "\n",
    "2) Create another vector \"new_wages\" which holds the new wages after the raise and print it as such:\n",
    "\n",
    "- Yade = 2350\n",
    "- Bengisu = 2075\n",
    "- Yusuf = 2100\n",
    "- Sinan = 2150\n",
    "- Ubeyd = 2000\n",
    "- Tuana = 2000\n",
    "\n"
   ]
  },
  {
   "cell_type": "markdown",
   "metadata": {},
   "source": [
    "## SOLUTION"
   ]
  },
  {
   "cell_type": "code",
   "execution_count": null,
   "metadata": {},
   "outputs": [],
   "source": [
    "## code here"
   ]
  },
  {
   "cell_type": "markdown",
   "metadata": {},
   "source": [
    "# SHARING GUM"
   ]
  },
  {
   "cell_type": "markdown",
   "metadata": {
    "tags": [
     "vectorization",
     "sequence",
     "filtering",
     "ömer",
     "medium"
    ]
   },
   "source": [
    "## QUESTION"
   ]
  },
  {
   "cell_type": "markdown",
   "metadata": {},
   "source": [
    "A group of students are given a certain length of long-gum like a ruler(cetvel) to share evenly.\n",
    "\n",
    "1) If the length of the gum is 10m and the people sharing the gum are 8 people, what would be the numbers on the ruler to cut it evenly? Find and call it \"spots\".\n",
    "\n",
    "#Example: If it was three people with 3m gum, it would be (1, 2).\n",
    "\n",
    "#Hint:  Use sequences and an argument in sequences that you learned.\n",
    "\n",
    "2) Find the share of every person in terms m. Create a vector with the shares and call it \"shares\".\n",
    "\n",
    "3) Assume that the 7th person gives his quarter share to 5th and quarter share to 3rd. Update the shares of the people in the vector and call it \"reassigned_shares\".\n"
   ]
  },
  {
   "cell_type": "markdown",
   "metadata": {},
   "source": [
    " ## SOLUTION"
   ]
  },
  {
   "cell_type": "code",
   "execution_count": null,
   "metadata": {},
   "outputs": [],
   "source": [
    "## code here"
   ]
  },
  {
   "cell_type": "markdown",
   "metadata": {
    "tags": [
     "vector",
     "indexing",
     "oguzhan",
     "2018-2019-1",
     "updating",
     "hard"
    ]
   },
   "source": [
    "# CORRECTING PROFITS"
   ]
  },
  {
   "cell_type": "markdown",
   "metadata": {},
   "source": [
    "## QUESTION"
   ]
  },
  {
   "cell_type": "markdown",
   "metadata": {},
   "source": [
    "You are accountant in a company and have a data about the profit of the company for different months.\n",
    "\n",
    "The data is as follows:\n",
    "\n",
    "- Jan = 32700$\n",
    "\n",
    "- Mar = 30200$\n",
    "\n",
    "- Feb = 37600$\n",
    "\n",
    "- Apr = 40000$\n",
    "\n",
    "- May = 31200$\n",
    "\n",
    "- Jun = 36900$\n",
    "\n",
    "\n",
    "1) create a vector profit that holds the given data in given order.\n",
    "\n",
    "2) Now you realised the order of march and february is confused.\n",
    "    + Create a new vector (name it as new_profit) in which the months are in right order.\n",
    "    + Do it by rearranging income vector. (Hint:Use vector indices)\n",
    "\n",
    "3) Then you notice a problem in the data of June and the correct data is not available.\n",
    "    + Create a new vector final_profit. It should be in right order and data for June should be seen as missing (remember what you should use for missing data) as such:\n",
    "    \n",
    "```r\n",
    "final_profit\n",
    "  Jan   Feb   Mar   Apr   May   Jun \n",
    "32700 37600 30200 40000 31200    NA \n",
    "```"
   ]
  },
  {
   "cell_type": "markdown",
   "metadata": {},
   "source": [
    "## SOLUTION"
   ]
  },
  {
   "cell_type": "code",
   "execution_count": null,
   "metadata": {},
   "outputs": [],
   "source": [
    "## code here"
   ]
  },
  {
   "cell_type": "markdown",
   "metadata": {
    "tags": [
     "2019-2020-1",
     "hard",
     "vector",
     "salih"
    ]
   },
   "source": [
    "\n",
    "# AN AUDITION\n",
    "\n"
   ]
  },
  {
   "cell_type": "markdown",
   "metadata": {},
   "source": [
    "## QUESTION"
   ]
  },
  {
   "cell_type": "markdown",
   "metadata": {},
   "source": [
    "There is an audition for Cats the Musical.Participants are evaluated according to their abilities of singing and  dancing   over 10 points.Their points after the audition are as follows:\n",
    "\n",
    "Singing (S)\n",
    "* Ali = 7 \n",
    "* Sabri = 7 \n",
    "* Mustafa = 2 \n",
    "* Kuzey = 9 \n",
    "* Eren = 5 \n",
    "\n",
    "Dancing (D) \n",
    "* Ali = 7 \n",
    "* Sabri = 5\n",
    "* Mustafa = 5\n",
    "* Kuzey = 5 \n",
    "* Eren = 3                                                                                                      \n",
    "\n",
    "1) Create three vectors: *participants, singing and acting* that hold the given data.\n",
    "~~~~\n",
    "participants\n",
    "[1] \"Ali\"     \"Sabri\"   \"Mustafa\" \"Kuzey\"   \"Eren\"\n",
    "\n",
    "singing\n",
    "[1] 7 7 2 9 5\n",
    "\n",
    "dancing\n",
    "[1] 7 5 5 5 3\n",
    "\n",
    "~~~~\n",
    "\n",
    "2) The final points of the participants calculated as 2S+D. Create a vector *final* holding the final points of participants.\n",
    "~~~~\n",
    "final\n",
    "[1] 21 19  9 23 13\n",
    "~~~~\n",
    "\n",
    "3) Assign the participants' names to their respective final points \n",
    "~~~~\n",
    "final\n",
    "    Ali   Sabri Mustafa   Kuzey    Eren \n",
    "     21      19       9      23      13 \n",
    "~~~~\n",
    "\n",
    "4) If  participants' final points are lower than 10, they cannot participate in the second step of the audition. Create a vector *second* which holds the points and names of the second step participants. Do it by rearranging the *final* vector.\n",
    "~~~~\n",
    "second\n",
    "  Ali Sabri Kuzey  Eren \n",
    "   21    19    23    13 \n",
    "~~~~\n",
    "\n",
    "5) In the second step of the audition, participants are ordered by their final points and two participants with the lowest points are eliminated. First order the participants by their final points than remove the eliminated ones from the vector *second* and name the new vector as *result*. \n",
    "~~~~\n",
    "result\n",
    "  Kuzey Ali \n",
    "   23    21\n",
    "~~~~\n",
    "\n",
    "6) The participant with the highest point is selected for the role \"Munkustrap\" and the second will play \"Mungojerrie\". Update the vector *result* into a vector which shows these two actors' names and  their roles(instead of their points) respectively.\n",
    "\n",
    "~~~~\n",
    "result\n",
    "          Kuzey         Ali \n",
    " \"Munkustrap\" \"Mungojerrie\"\n",
    " ~~~~\n"
   ]
  },
  {
   "cell_type": "markdown",
   "metadata": {},
   "source": [
    "## SOLUTION"
   ]
  },
  {
   "cell_type": "code",
   "execution_count": null,
   "metadata": {},
   "outputs": [],
   "source": [
    "## code here"
   ]
  },
  {
   "cell_type": "markdown",
   "metadata": {
    "tags": [
     "hard",
     "vector",
     "sort",
     "2018-2019-2",
     "zeynep"
    ]
   },
   "source": [
    "# COFFESHOP WAGES"
   ]
  },
  {
   "cell_type": "markdown",
   "metadata": {},
   "source": [
    "## QUESTION"
   ]
  },
  {
   "cell_type": "markdown",
   "metadata": {},
   "source": [
    "1. Five students work in a coffeeshop for an hourly wage of 15\\\\$. They can work as long as they want.\n",
    "\n",
    "2. Ali works 4 hours, Imre works 8 hours, Sevval works 5 hours, Basak works 5 hours and Naz works 7 hours. Store them in a vector called 'hours' with the names.\n",
    "\n",
    "3. Calculate their wages and store them in 'wages'. The ones who work more than 5 hours get a 10$ bonus, update accordingly.\n",
    "\n",
    "4. Their weekly transportation expenses to come to work are as follows: Ali = 70\\\\$, Imre = 90\\\\$, Sevval = 80\\\\$, Basak = 50\\\\$, Naz = 60\\\\$. Store them in 'texp'.\n",
    "\n",
    "5. The ones whose wage doesn't cover their transportation expenses quit the job. Update the 'wages' vector accordingly.\n",
    "\n",
    "6. Update the 'wages' vector to order them from highest to lowest."
   ]
  },
  {
   "cell_type": "markdown",
   "metadata": {},
   "source": [
    "## SOLUTION"
   ]
  },
  {
   "cell_type": "code",
   "execution_count": null,
   "metadata": {},
   "outputs": [],
   "source": [
    "## code here"
   ]
  }
 ],
 "metadata": {
  "celltoolbar": "Tags",
  "kernelspec": {
   "display_name": "R",
   "language": "R",
   "name": "ir"
  },
  "language_info": {
   "codemirror_mode": "r",
   "file_extension": ".r",
   "mimetype": "text/x-r-source",
   "name": "R",
   "pygments_lexer": "r",
   "version": "3.6.1"
  },
  "toc": {
   "nav_menu": {},
   "number_sections": true,
   "sideBar": true,
   "skip_h1_title": false,
   "toc_cell": false,
   "toc_position": {},
   "toc_section_display": true,
   "toc_window_display": true
  }
 },
 "nbformat": 4,
 "nbformat_minor": 2
}
