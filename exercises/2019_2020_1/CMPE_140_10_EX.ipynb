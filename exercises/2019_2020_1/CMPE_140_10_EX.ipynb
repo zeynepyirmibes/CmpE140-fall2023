{
 "cells": [
  {
   "cell_type": "code",
   "execution_count": null,
   "metadata": {},
   "outputs": [],
   "source": [
    "options(jupyter.rich_display = F)"
   ]
  },
  {
   "cell_type": "markdown",
   "metadata": {
    "tags": [
     "2018-2019-1",
     "Yahya",
     "Fatih",
     "Arslantürk",
     "DataAccess",
     "Easy"
    ]
   },
   "source": [
    "# USING THE DATA OF CARS"
   ]
  },
  {
   "cell_type": "markdown",
   "metadata": {},
   "source": [
    "## QUESTION"
   ]
  },
  {
   "cell_type": "markdown",
   "metadata": {},
   "source": [
    "1) There is a data frame in R named **mtcars**. Assign it to **car_data**.\n",
    "\n",
    "2) Access Toyoto Coralla's horse power(**hp**). (Toyota Coralla is at 20th row).And access 20th row and 4th column via matrix-like indexing.\n",
    "\n",
    "3) Access **car_data**'s **disp** column and find the mean.\n"
   ]
  },
  {
   "cell_type": "markdown",
   "metadata": {},
   "source": [
    "## SOLUTION"
   ]
  },
  {
   "cell_type": "code",
   "execution_count": null,
   "metadata": {},
   "outputs": [],
   "source": []
  },
  {
   "cell_type": "markdown",
   "metadata": {
    "tags": [
     "2018-2019-1",
     "Bengisu",
     "Kaynar",
     "DataFrame",
     "Easy"
    ]
   },
   "source": [
    "# USING THE DATA OF AIRQUALITY"
   ]
  },
  {
   "cell_type": "markdown",
   "metadata": {},
   "source": [
    "## QUESTION"
   ]
  },
  {
   "cell_type": "markdown",
   "metadata": {},
   "source": [
    "**airquality** is a data frame of New York air quality measurements.\n",
    " \n",
    "1) Our first aim is to construct a new data frame called **may** with the elements of May.\n",
    "\n",
    "2) If the temperature is higher than 65 among the elements of may, construct another data frame called **anormal** with these elements.\n",
    "\n",
    "3) Lastly find the day with the highest **solar.R** and assign it to a vector named **not_sustainable**."
   ]
  },
  {
   "cell_type": "markdown",
   "metadata": {},
   "source": [
    "## SOLUTION"
   ]
  },
  {
   "cell_type": "code",
   "execution_count": null,
   "metadata": {},
   "outputs": [],
   "source": []
  },
  {
   "cell_type": "markdown",
   "metadata": {
    "tags": [
     "2018/2019-1",
     "ÖmerErhan",
     "data.frame",
     "easy"
    ]
   },
   "source": [
    "# THE EASIEST ONE"
   ]
  },
  {
   "cell_type": "markdown",
   "metadata": {},
   "source": [
    "## QUESTION"
   ]
  },
  {
   "cell_type": "markdown",
   "metadata": {},
   "source": [
    "1) Create **name** vector with names as Ali, Veli, Selami, Seher, Nalan.\n",
    "\n",
    "2) Create **ages** vector with numbers 21, 23, 24, 22, 20 in the given order.\n",
    "\n",
    "3) Create **management** vector with logical variables T, F, F, T, T.\n",
    "\n",
    "See: These arguments that are in vectors are given in order and associated with each other according to their order. \n",
    "\n",
    "4) Create a data frame called **people** which holds all of these argument with the order associated with their question numbers.\n",
    "\n",
    "```R\n",
    "> people\n",
    "    name ages management\n",
    "1    Ali   21       TRUE\n",
    "2   Veli   23      FALSE\n",
    "3 Selami   24      FALSE\n",
    "4  Seher   22       TRUE\n",
    "5  Nalan   20       TRUE\n",
    "```\n"
   ]
  },
  {
   "cell_type": "markdown",
   "metadata": {},
   "source": [
    "## SOLUTION"
   ]
  },
  {
   "cell_type": "code",
   "execution_count": null,
   "metadata": {},
   "outputs": [],
   "source": []
  },
  {
   "cell_type": "markdown",
   "metadata": {
    "tags": [
     "2019-2020-1",
     "Elif_Kurt",
     "data.frame",
     "accessing",
     "easy"
    ]
   },
   "source": [
    "# EXAM"
   ]
  },
  {
   "cell_type": "markdown",
   "metadata": {},
   "source": [
    "## QUESTION"
   ]
  },
  {
   "cell_type": "markdown",
   "metadata": {},
   "source": [
    "1) Create tree vectors named **names**, **score** and **attempt**. Names are Yeliz, Zeynep, Seyma, Feryal, Esma.\n",
    "Scores are 13, 45, 32, 68, 19 and attempts are 1, 1, 3, 2, 4.\n",
    "\n",
    "2) Create a data frame named **exam** using these vectors.\n",
    "\n",
    "3) Give the scores as a vector and dataframe. See the class of these. "
   ]
  },
  {
   "cell_type": "markdown",
   "metadata": {},
   "source": [
    "## SOLUTION\n"
   ]
  },
  {
   "cell_type": "code",
   "execution_count": null,
   "metadata": {},
   "outputs": [],
   "source": []
  },
  {
   "cell_type": "markdown",
   "metadata": {
    "tags": [
     "2018-2019-1",
     "YusufDik",
     "easy",
     "dataframe"
    ]
   },
   "source": [
    "# TURKISH POP"
   ]
  },
  {
   "cell_type": "markdown",
   "metadata": {},
   "source": [
    "## QUESTION"
   ]
  },
  {
   "cell_type": "markdown",
   "metadata": {},
   "source": [
    "1) Create a data frame which includes Turkish pop singers Edis, Hande Yener, Aleyna Tilki, Tarkan and their ages which are 28, 45, 18, 46 respectively. Name the data frame as **df1**.\n",
    "\n",
    "2) Then create a data frame which involves these singers and their excellence scores out of 10. The scores are 8, 8, 9.8, and 10 respectively. Name the second data frame as **df2**.\n",
    "\n",
    "3) By merging (using the \"inner join\" method) these two data frames you created, create a new dataframe called **tpop_singers**.\n",
    "\n",
    "Your final result should look like this:\n",
    "\n",
    "```r\n",
    "tpop_singers\n",
    "\n",
    "  Name         ages scores\n",
    "1 Aleyna Tilki 18    9.8  \n",
    "2 Edis         28    8.0  \n",
    "3 Hande Yener  45    8.0  \n",
    "4 Tarkan       46   10.0  \n",
    "```\n"
   ]
  },
  {
   "cell_type": "markdown",
   "metadata": {},
   "source": [
    "## SOLUTION"
   ]
  },
  {
   "cell_type": "code",
   "execution_count": null,
   "metadata": {},
   "outputs": [],
   "source": []
  },
  {
   "cell_type": "markdown",
   "metadata": {
    "tags": [
     "2018-2019-1",
     "OmerErhanErbis",
     "medium",
     "dataframe"
    ]
   },
   "source": [
    "# DREAM CARS"
   ]
  },
  {
   "cell_type": "markdown",
   "metadata": {},
   "source": [
    "## QUESTION"
   ]
  },
  {
   "cell_type": "markdown",
   "metadata": {},
   "source": [
    "- There is a built-in data frame called cars in R. We will use this to create another data frame.\n",
    "\n",
    "1) Set seed to 10.\n",
    "\n",
    "2) Create a sample of length 50, consisting of \"L\" and \"K\" which symbolizes Luks and Kulustur and assign it to **boyle**.\n",
    "\n",
    "3) Create a data frame called **kars** which has speed, boyle and distance as arguments in given order. Speed and distance arguments are coming from built-in data frame cars.\n",
    "\n",
    "4) Create a vector consisting of built-in letters and LETTERS vectors without including the last arguments of them. This vector should have length of 50 and call it **letLET**.\n",
    "\n",
    "5) Change the row names of kars to letLET. First few rows of the data frame should look like this:\n",
    "\n",
    "```r\n",
    "     speed\t  boyle\t  dist\n",
    "a\t  4\t      L\t      2\n",
    "b\t  4\t      L\t     10\n",
    "c\t  7\t      K\t      4\n",
    "d\t  7\t      K\t     22\n",
    "e\t  8\t      K\t     16\n",
    "f\t  9\t      L\t     10\n",
    "\n",
    "```\n",
    "\n"
   ]
  },
  {
   "cell_type": "markdown",
   "metadata": {},
   "source": [
    "## SOLUTION"
   ]
  },
  {
   "cell_type": "code",
   "execution_count": null,
   "metadata": {},
   "outputs": [],
   "source": []
  },
  {
   "cell_type": "markdown",
   "metadata": {
    "tags": [
     "2018/2019-1",
     "bengisu",
     "data.frame",
     "medium"
    ]
   },
   "source": [
    "# FAT GETS WATER"
   ]
  },
  {
   "cell_type": "markdown",
   "metadata": {},
   "source": [
    "## QUESTION"
   ]
  },
  {
   "cell_type": "markdown",
   "metadata": {},
   "source": [
    "1) 5 people go to a bar, create a data frame called **person** with the information below.\n",
    "    \n",
    "- Their names are Marx, Engels , Smith , Ricardo  and Bakunin\n",
    "- Their ages are respectively 42,30, 46, 33, and 35 in column age\n",
    "- Their weights are respectively 80, 62, 75, 65, and 78 in column weight \n",
    "\n",
    "2) Add a new column containing boolean entities called greater.than.mean.weight and in that column indicate if the person's weight is greater than the mean weight of these people.\n",
    "\n",
    "3) Add a new column named order containing their orders,\n",
    "\n",
    "- Their orders are respectively whiskey, beer, wine, vodka, vodka.\n",
    "- Later on, the people whose weights are greater than the mean weight change their orders with water. \n",
    "\n",
    "\n",
    "```r\n",
    "> person\n",
    "    names age weight greater.than.mean.weight order\n",
    "1    Marx  42    80                     TRUE water\n",
    "2  Engels  30    62                    FALSE  beer\n",
    "3   Smith  46    75                     TRUE water\n",
    "4 Ricardo  33    65                    FALSE vodka\n",
    "5 Bakunin  35    78                     TRUE water\n",
    "```"
   ]
  },
  {
   "cell_type": "markdown",
   "metadata": {},
   "source": [
    "## SOLUTION"
   ]
  },
  {
   "cell_type": "code",
   "execution_count": null,
   "metadata": {},
   "outputs": [],
   "source": []
  },
  {
   "cell_type": "markdown",
   "metadata": {
    "tags": [
     "2019-2020-1",
     "Salih",
     "Data",
     "Frame",
     "Merging",
     "Medium"
    ]
   },
   "source": [
    "# HONEYMOON"
   ]
  },
  {
   "cell_type": "markdown",
   "metadata": {},
   "source": [
    "## QUESTION"
   ]
  },
  {
   "cell_type": "markdown",
   "metadata": {},
   "source": [
    "Jake and Amy want to decide where to go for honeymoon. Jake found 5 hotels online and noted their rates given by previous visitors, Amy got information about 5 hotels, their prices for one night (in dollars) and whether the hotel has room service or not.\n",
    "\n",
    "Jake's notes:\n",
    "\n",
    "|Hotels|Rate|\n",
    "|---|---|\n",
    "|Rome Times|8.6|\n",
    "|Myriad|9.3|\n",
    "|Oderberger|8.8|\n",
    "|Boho|8.4|\n",
    "|Laslett|9.0|\n",
    "\n",
    "Amy's notes:\n",
    "\n",
    "|Hotels|Prices|Room_Service|\n",
    "|---|---|:-:|\n",
    "|Rome Times|117|Yes|\n",
    "|Myriad|186|Yes|\n",
    "|Oderberger|123|No|\n",
    "|Boho|158|No|\n",
    "|Holiday Inn|140|Yes| \n",
    "\n",
    "\n",
    "1) Create two data frames named **Jake** and **Amy** that hold the given data.The columns of the data frames should be arranged as the tables above (Hotels and Rate for **Jake** ; Hotels, Prices, and Room_Service for **Amy**). Use Boolean expressions for information about room service. You can copy the code below to start.\n",
    "\n",
    "~~~~\n",
    "hotels <- c(\"Rome Times\",\"Myriad\",\"Oderberger\",\"Boho\",\"Laslett\",\"Holiday Inn\")\n",
    "prices <- c(117,186,123,158,140)\n",
    "rates <- c(8.6,9.3,8.8,8.4,9.0)\n",
    "room_service <- c(T,T,F,F,F)\n",
    "~~~~\n",
    "\n",
    "2) Create a function named **honey** that takes 3 arguments; \n",
    "* **df1** and **df2** :two data frames with default values **Amy** and **Jake** respectively \n",
    "* **bdgt**: the amount of money that this couple can spend for one night at a hotel, with default value = 150.\n",
    "\n",
    "Your function should do the following:\n",
    " \n",
    " * If bdgt is more than or equal to the most expensive hotel's price, it will return a data frame which contains information about all of the hotels - Even if they contain missing data.\n",
    " \n",
    " * If bdgt is less than the most expensive hotel's price but more then the cheapest hotels's price, it should update df1 into a new data frame which only holds information about hotels rated higher than 8.5 and update df2 into a new data frame which only holds hotels that are priced under bdgt. Then, return a data frame which reflects the intersection of these new data frames. \n",
    " \n",
    " * If bgdt is less than the cheapest hotel's price, the function should return \"FIND ANOTHER ONE\"\n",
    " \n",
    " Here are two examples:\n",
    " \n",
    " ~~~~\n",
    " honey()\n",
    "      Hotels        Price    Room_Service  Rate\n",
    "1 Oderberger     123         FALSE      8.8\n",
    "2 Rome Times     117          TRUE      8.6\n",
    "\n",
    " ~~~~\n",
    "~~~~\n",
    "honey(,,100)\n",
    "[1] \"FIND ANOTHER ONE\"\n",
    "~~~~\n",
    "\n",
    " \n"
   ]
  },
  {
   "cell_type": "markdown",
   "metadata": {},
   "source": [
    "## SOLUTION "
   ]
  },
  {
   "cell_type": "code",
   "execution_count": null,
   "metadata": {},
   "outputs": [],
   "source": []
  },
  {
   "cell_type": "markdown",
   "metadata": {
    "tags": [
     "2019/2020-1",
     "Feyza_Erdönmez",
     "Data_Frame",
     "Accessing",
     "Medium"
    ]
   },
   "source": [
    "# ORANGE"
   ]
  },
  {
   "cell_type": "markdown",
   "metadata": {},
   "source": [
    "## QUESTION"
   ]
  },
  {
   "cell_type": "markdown",
   "metadata": {},
   "source": [
    "Ömer wants to find the average circumference of different types of orange trees and will use the built-in **Orange** data frame in R.\n",
    "\n",
    "1) Create a function called **cim_mean** that takes 1 argument **Otrees**, a dataframe that has 5 different tree types in the first column and circumference in its third column, and calculates the average circumference of each tree type. The function should return a vector of circumference means as such:\n",
    "\n",
    "```r\n",
    "cim_mean(Orange)\n",
    "\n",
    "Type 1\n",
    "    99.5714285714286\n",
    "Type 2\n",
    "    135.285714285714\n",
    "Type 3\n",
    "    94\n",
    "Type 4\n",
    "    139.285714285714\n",
    "Type 5\n",
    "    111.142857142857\n",
    "\n",
    "```\n",
    "\n",
    "\n"
   ]
  },
  {
   "cell_type": "markdown",
   "metadata": {},
   "source": [
    "## SOLUTION"
   ]
  },
  {
   "cell_type": "code",
   "execution_count": null,
   "metadata": {},
   "outputs": [],
   "source": []
  },
  {
   "cell_type": "markdown",
   "metadata": {
    "tags": [
     "2019-2020-1",
     "selin",
     "data_frames",
     "medium"
    ]
   },
   "source": [
    "# WHICH MALL TO CHOOSE ?"
   ]
  },
  {
   "cell_type": "markdown",
   "metadata": {},
   "source": [
    "## QUESTION"
   ]
  },
  {
   "cell_type": "markdown",
   "metadata": {},
   "source": [
    "Meycem needs to go to the mall urgently because she needs to buy some clothes for an interview which is in 3 hours.  She has 3 malls that are close to her. The first mall (*mall1*) is 5 kms, the second mall (*mall2*) is 15 kms, the third mall (*mall3*) is 13 kms away from her. She also wants some particular stores to be in the mall she chooses to go. The first mall and third mall have all the wanted stores, but the second mall doesn't. The total stores in *mall 1* is 63, in *mall 2* it is 46, in *mall 3* it is 25. All of the 3 malls have parking space. \n",
    "\n",
    "In the matrices below the distances between the stores in each mall is given. Since Meycem has very limited time,  she wants to choose the mall where her walking distance between the stores is minimized so she can make this shopping as fast as possible and make it in time for her interview.\n",
    "\n",
    "```r \n",
    "                                      \n",
    "           Mall 1                \n",
    "       store1 store2 store3     \n",
    "store1      0     94    143\n",
    "store2     94      0    335    \n",
    "store3    143    335      0  \n",
    "\n",
    "          Mall 2\n",
    "       store1 store2 store3\n",
    "store1      0     84    361\n",
    "store2     84      0    521\n",
    "store3    361    521      0\n",
    "\n",
    "          Mall 3\n",
    "       store1 store2 store3\n",
    "store1      0     58    448\n",
    "store2     58      0    146\n",
    "store3    448    146      0\n",
    "\n",
    "\n",
    "```\n",
    "\n",
    "1) Vectorize the information of including all wanted stores under the name **wstores**.\n",
    "\n",
    "2) Vectorize the information of the distances to the malls under the name **malldist**.\n",
    "\n",
    "3) Vectorize the information of the total number of stores under the name **totalst**.\n",
    "\n",
    "4) Vectorize the information of having a parking space under the name **parksp**.\n",
    "\n",
    "5) Use these vectors to create a data frame named **whmall** .\n",
    " \n",
    "6) To fulfill the condition, create a vector named **shortest**, which will take two arguments, a matrix (*mt*)  that shows the distances between stores, and the order (*ord*) which Meycem will follow when shopping. Meycem will first visit store 3, then store 1 and finally store 2. The function should sum the distances between the stores to show in which mall the distances between the stores is minimized.\n",
    "\n",
    "7) Vectorize Meycem's order of visiting the stores under the name **ordm**. Define the matrices, use them and the vector **ordm** to find the sums for each malls walking distance.\n",
    "\n",
    "8) Vectorize these walking distances under the name **walkdist** and add this to your data frame and name your new data frame **new_whmall**.\n",
    "\n",
    "Your ending data frame should look like the following:\n",
    "\n",
    "```r \n",
    "      has_all_stores distance total_stores has_park walkdist\n",
    "mall1           TRUE        5           63     TRUE      237\n",
    "mall2          FALSE       15           46     TRUE      445\n",
    "mall3           TRUE       13           25     TRUE      506\n",
    "\n",
    "```\n",
    "\n",
    "The information for the matrices is below, you can copy them for convenience.\n",
    "\n",
    "```r \n",
    "a1 <- c(0, 94, 143)\n",
    "a2 <- c(94, 0 , 335)\n",
    "a3 <- c(143 , 335, 0)\n",
    "matr1 <- matrix(c(a1,a2,a3), ncol = 3 , byrow = T)\n",
    "rownames(matr) <- c(\"store1\", \"store2\", \"store3\")\n",
    "colnames(matr) <- c(\"store1\", \"store2\", \"store3\")\n",
    "\n",
    "\n",
    "a4 <- c(0, 84, 361)\n",
    "a5 <- c(84, 0, 521)\n",
    "a6 <- c(361, 521, 0)\n",
    "matr2 <- matrix(c(a4,a5,a6), ncol = 3 , byrow = T)\n",
    "rownames(matr2) <- c(\"store1\", \"store2\", \"store3\")\n",
    "colnames(matr2) <- c(\"store1\", \"store2\", \"store3\")\n",
    "\n",
    "\n",
    "\n",
    "a7 <- c(0, 58, 448)\n",
    "a8 <- c(58 , 0, 146)\n",
    "a9 <- c(448, 146, 0)\n",
    "matr3 <- matrix(c(a7,a8,a9), ncol = 3 , byrow = T)\n",
    "rownames(matr3) <- c(\"store1\", \"store2\", \"store3\")\n",
    "colnames(matr3) <- c(\"store1\", \"store2\", \"store3\")\n",
    "```\n"
   ]
  },
  {
   "cell_type": "markdown",
   "metadata": {},
   "source": [
    "## SOLUTION"
   ]
  },
  {
   "cell_type": "code",
   "execution_count": null,
   "metadata": {},
   "outputs": [],
   "source": []
  },
  {
   "cell_type": "markdown",
   "metadata": {
    "tags": [
     "2019-2020",
     "gulgun",
     "hard",
     "data_filtering",
     "merge"
    ]
   },
   "source": [
    "# SMURFING SMURFS WITH SMURFICIDE"
   ]
  },
  {
   "cell_type": "markdown",
   "metadata": {},
   "source": [
    "## QUESTION"
   ]
  },
  {
   "cell_type": "markdown",
   "metadata": {},
   "source": [
    "Gargamel wants to kill smurfs in his house using some special kind of insecticide called smurficide. To pick the worst possible way of death for smurfs, he decides to make a mixture of the insecticides that kills smurfs the most slowly and  that have a detestable flavor for smurfs. \n",
    "\n",
    "There is a build in data set named **InsectSprays** in your R Studio. Count column shows how many minutes it takes for smurficide to kill a smurf, and spray column is for the flavor of smurficide which are *A* for almonds, *B* for brownies, *C* for chocolate, *D* for donuts, *E* for ethil alcohol, *F* for fruits. Gargamel also knows that smurfs hate brownies and almonds.\n",
    "\n",
    "He will prepare the mixture of smurficides using all the slowest killing ones along with the slowest killing sprays of each detestable flavor.\n",
    "\n",
    "1) Create a function named **smurficide** which takes one argument named **dta**. This function should determine the slowest killing sprays, and slowest killing sprays from each flavor that smurfs hate. \n",
    "\n",
    "2) The function should return all the sprays Gargamel will use to prepare his mixture as such \n",
    "\n",
    "\n",
    "```r\n",
    "    count spray\n",
    "1    21     B\n",
    "2    21     B\n",
    "3    23     A\n",
    "4    26     F\n",
    "5    26     F\n",
    "\n",
    "```\n"
   ]
  },
  {
   "cell_type": "markdown",
   "metadata": {},
   "source": [
    "## SOLUTION"
   ]
  },
  {
   "cell_type": "code",
   "execution_count": null,
   "metadata": {},
   "outputs": [],
   "source": []
  }
 ],
 "metadata": {
  "celltoolbar": "Tags",
  "kernelspec": {
   "display_name": "R",
   "language": "R",
   "name": "ir"
  },
  "language_info": {
   "codemirror_mode": "r",
   "file_extension": ".r",
   "mimetype": "text/x-r-source",
   "name": "R",
   "pygments_lexer": "r",
   "version": "3.6.1"
  },
  "toc": {
   "base_numbering": 1,
   "nav_menu": {},
   "number_sections": true,
   "sideBar": true,
   "skip_h1_title": false,
   "title_cell": "Table of Contents",
   "title_sidebar": "Contents",
   "toc_cell": false,
   "toc_position": {
    "height": "calc(100% - 180px)",
    "left": "10px",
    "top": "150px",
    "width": "268.133px"
   },
   "toc_section_display": true,
   "toc_window_display": true
  }
 },
 "nbformat": 4,
 "nbformat_minor": 2
}
