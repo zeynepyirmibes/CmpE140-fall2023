{
 "cells": [
  {
   "cell_type": "code",
   "execution_count": null,
   "metadata": {},
   "outputs": [],
   "source": [
    "options(jupyter.rich_display = F)"
   ]
  },
  {
   "cell_type": "markdown",
   "metadata": {
    "tags": [
     "2019-2020-1",
     "Ubeyd",
     "Öktem",
     "Factors",
     "Easy"
    ]
   },
   "source": [
    "# FINDING MAJOR BY USING FACTORS"
   ]
  },
  {
   "cell_type": "markdown",
   "metadata": {},
   "source": [
    "## QUESTION"
   ]
  },
  {
   "cell_type": "markdown",
   "metadata": {},
   "source": [
    "Write a function called **function_of_factors** that takes two vectors as argument.\n",
    "\n",
    "First argument is a name vector, which consists of names.\n",
    "\n",
    "Second argument is a major vector, which consists of majors respectively.\n",
    "\n",
    "Function should take these two arguments and must return the name/names of the person studying management.\n",
    "\n",
    "(This function can be written with loops, but you must use factors instead.)\n",
    "\n",
    "               \n",
    "\n",
    "The elements of both vectors correspond to each other.\n",
    "\n",
    "For example if we have these two vectors:\n",
    "\n",
    "```r\n",
    "\n",
    "names <- c(\"Can\", \"Cem\", \"Hande\", \"Mehmet\", \"Deniz\", \"Kemal\", \"Derya\", \"Fatma\")\n",
    "\n",
    "majors <- c(\"Economics\", \"Sociology\", \"Sociology\", \"Politics\",\n",
    "            \"Economics\", \"Economics\", \"Sociology\", \"Management\")\n",
    "```\n",
    "\n",
    "We should understand that Can study economics, Cem study sociology and so on.\n",
    "\n",
    "In this example, the function has to return,\n",
    "```r\n",
    "function_of_factors(name = names, major = majors)\n",
    "'Fatma'\n",
    "```"
   ]
  },
  {
   "cell_type": "markdown",
   "metadata": {},
   "source": [
    "## SOLUTION"
   ]
  },
  {
   "cell_type": "code",
   "execution_count": null,
   "metadata": {},
   "outputs": [],
   "source": []
  },
  {
   "cell_type": "markdown",
   "metadata": {
    "tags": [
     "elif",
     "2019-2020-1",
     "factors",
     "easy"
    ]
   },
   "source": [
    "# LETTERS"
   ]
  },
  {
   "cell_type": "markdown",
   "metadata": {},
   "source": [
    "## QUESTION"
   ]
  },
  {
   "cell_type": "markdown",
   "metadata": {},
   "source": [
    "RNGversion(\"3.1.1\")\n",
    "set.seed(2020)\n",
    "\n",
    "1) Create two factors named **f1** and **f2** using the **sample** function, with 12 upper case letters and 12 lower case letters.\n",
    "\n",
    "2) Combine them using levels and name this factor as **f_factor**. Final result should look like this:\n",
    "\n",
    "```r\n",
    " [1] A B C H J K L M O Q V W b d f j k m n o u v y z\n",
    "Levels: A b B C d f H j J k K L m M n o O Q u v V W y z\n",
    "```"
   ]
  },
  {
   "cell_type": "markdown",
   "metadata": {},
   "source": [
    "## SOLUTION"
   ]
  },
  {
   "cell_type": "code",
   "execution_count": null,
   "metadata": {},
   "outputs": [],
   "source": []
  },
  {
   "cell_type": "markdown",
   "metadata": {
    "tags": [
     "2019-2020-1",
     "HazalErge",
     "easy",
     "factors"
    ]
   },
   "source": [
    "# BIRTHDAY MONTHS"
   ]
  },
  {
   "cell_type": "markdown",
   "metadata": {},
   "source": [
    "## QUESTION"
   ]
  },
  {
   "cell_type": "markdown",
   "metadata": {},
   "source": [
    "1) 13 random students from CMPE140 course have their birthdays in following months: October, August, January, July, July, June, July, October, January, April, April, January, May. Create a vector called **sample_fac** consisting of these 13 months subsequently.\n",
    "\n",
    "2) Create a factor called **sample_fac** derived from the vector you created above.\n",
    "\n",
    "3) Get the summary of sample_fac."
   ]
  },
  {
   "cell_type": "markdown",
   "metadata": {},
   "source": [
    "## SOLUTION"
   ]
  },
  {
   "cell_type": "code",
   "execution_count": null,
   "metadata": {},
   "outputs": [],
   "source": []
  },
  {
   "cell_type": "markdown",
   "metadata": {
    "tags": [
     "2019-2020-1",
     "selin",
     "factors",
     "easy"
    ]
   },
   "source": [
    "# CHOCOLATES"
   ]
  },
  {
   "cell_type": "markdown",
   "metadata": {},
   "source": [
    "## QUESTION"
   ]
  },
  {
   "cell_type": "markdown",
   "metadata": {},
   "source": [
    "A chocolate store lists their 3 main types of chocolates: white chocolate, milk chocolate, dark chocolate. However, they wrote the same type of chocolate wth both uppercase and lowercase letters. They want to eliminate these differences in the levels.\n",
    "\n",
    "1) Copy this vector below containing the listed chocolate categories.\n",
    "\n",
    "```r \n",
    "chocolates <- c(\"white\"  ,\"milk\", \"white\", \"Dark\", \"Milk\", \"White\", \"dark\", \"white\", \"white\", \"milk\")\n",
    "```\n",
    "\n",
    "2) Convert the information of chocolate categories into a factor named **choco_factor**.\n",
    "\n",
    "3) Overwrite all the occurances of the types of chocolates starting with uppercase letters with lowercase versions.\n",
    "\n",
    "4) Delete the old levels of the categories starting with uppercase letters and see the resulting factor to be like the one below:\n",
    "\n",
    "```r \n",
    " [1] white milk  white dark  milk  white dark  white white milk \n",
    "Levels: dark milk white\n",
    "\n",
    "```"
   ]
  },
  {
   "cell_type": "markdown",
   "metadata": {},
   "source": [
    "## SOLUTION"
   ]
  },
  {
   "cell_type": "code",
   "execution_count": null,
   "metadata": {},
   "outputs": [],
   "source": []
  },
  {
   "cell_type": "markdown",
   "metadata": {
    "tags": [
     "2019-2020",
     "gulgun",
     "easy",
     "factor",
     "labels",
     "cut()"
    ]
   },
   "source": [
    "# CHICKEN WEIGHTS"
   ]
  },
  {
   "cell_type": "markdown",
   "metadata": {},
   "source": [
    "## QUESTION"
   ]
  },
  {
   "cell_type": "markdown",
   "metadata": {},
   "source": [
    "A chicken farmer wants to categorize his chickens according to their weights so that he can know which chickens he should send to slaughterhouse first. He already has a data ***chickwts*** (which also exists in your R Studio) showing the weights of chickens and kind of feed given to them. \n",
    "\n",
    "1) Create a function named ***fatchicks*** which takes one argument ***dta*** that is set as ***chickwts*** as default. This function should assign  \"anorexic\", \"skinny\", \"medium\", and \"obese\" labels for chickens weighting \n",
    "between [0, 150], (150,300], (300,450], and (450,600] consecutively. The result should look like:\n",
    "\n",
    "\n",
    "```r\n",
    "[1] skinny skinny anorexic skinny skinny skinny anorexic anorexic anorexic anorexic medium skinny skinny anorexic skinny skinny anorexic skinny skinny skinny skinny skinny skinny skinny skinny medium medium skinny skinny skinny medium skinny skinny skinny skinny skinny medium medium medium medium medium skinny medium skinny medium medium skinny medium medium skinny medium medium medium skinny skinny skinny skinny medium skinny medium medium medium skinny medium medium medium medium skinny skinny skinny medium\n",
    " Levels:\n",
    "'anorexic' 'skinny' 'medium' 'obese'\n",
    "\n",
    "```"
   ]
  },
  {
   "cell_type": "markdown",
   "metadata": {},
   "source": [
    "## SOLUTION"
   ]
  },
  {
   "cell_type": "code",
   "execution_count": null,
   "metadata": {},
   "outputs": [],
   "source": []
  },
  {
   "cell_type": "markdown",
   "metadata": {
    "tags": [
     "2019/2020-1",
     "yfatih",
     "medium",
     "factors"
    ]
   },
   "source": [
    "# FACTORIZED DATA.FRAME"
   ]
  },
  {
   "cell_type": "markdown",
   "metadata": {},
   "source": [
    "## QUESTION"
   ]
  },
  {
   "cell_type": "markdown",
   "metadata": {},
   "source": [
    "|Name|Gender|Month of Birth|\n",
    "|:--:|:--:|:---:|\n",
    "|Can|Male|January|\n",
    "|Cem|Male|July|\n",
    "|Hande|Female|May|\n",
    "|Mehmet|Male|May|\n",
    "|Deniz|Female|February|\n",
    "|Kemal|Male|July|\n",
    "|Derya|Female|May|\n",
    "|Fatma|Female|April|\n",
    "\n",
    "1) Create a vector named **names** which consists of the names in the table.\n",
    "\n",
    "2) Now create **genders** vector with the information taken from these people.\n",
    "\n",
    "3) Convert the gender information to a factor (or a categorical variable) than change the levels of this factor as F and M for female and male respectively.\n",
    "\n",
    "4) Create a **birtday_months** vector using the month of birth information for everyone in the table and **months** vector consisting of all the months. Than convert it to a factor by **months** vector.\n",
    "\n",
    "5) Finally, create a data frame called **people** using factorized versions of **names**, **genders**, and **birthday_months** vectors. Summarize your data frame and examine factorization.\n",
    "\n",
    "\n",
    "\n",
    "```r\n",
    "> summary(people)\n",
    "     names   gender_fac   birthday_fac\n",
    " Can    :1   F:4        May     :3    \n",
    " Cem    :1   M:4        July    :2    \n",
    " Deniz  :1              January :1    \n",
    " Derya  :1              February:1    \n",
    " Fatma  :1              April   :1    \n",
    " Hande  :1              March   :0    \n",
    " (Other):2              (Other) :0 \n",
    "```\n"
   ]
  },
  {
   "cell_type": "markdown",
   "metadata": {},
   "source": [
    "## SOLUTION"
   ]
  },
  {
   "cell_type": "code",
   "execution_count": null,
   "metadata": {},
   "outputs": [],
   "source": []
  },
  {
   "cell_type": "markdown",
   "metadata": {
    "tags": [
     "2019/2020-1",
     "Feyza_Erdönmez",
     "Factors",
     "Binning",
     "Medium"
    ]
   },
   "source": [
    "# STATISTIC ASSIGNMENT"
   ]
  },
  {
   "cell_type": "markdown",
   "metadata": {},
   "source": [
    "## QUESTION"
   ]
  },
  {
   "cell_type": "markdown",
   "metadata": {},
   "source": [
    "A student is doing her/his statistics assignments, using R programming. This student, who needs to adjust ranges in each assignment, wants to write a function for that.\n",
    "\n",
    "1) This function named **binning** takes  **x** and **c** vectors as arguments.\n",
    "\n",
    "2) Separates the vector **x** according to the intervals in **c**, and each interval is open at the second value.\n",
    "\n",
    "3) You can use:\n",
    "```r \n",
    "x <- c(11, 18, 36, 74, 43, 81, 95, 64, 32, 51)\n",
    "c <- c(0, 30, 70, 100)\n",
    "```\n",
    "and your function should return:\n",
    "```r \n",
    " [1] [0,30)   [0,30)   [30,70)  [70,100] [30,70)  [70,100] [70,100] [30,70)  [30,70)  [30,70) \n",
    "Levels: [0,30) [30,70) [70,100]\n",
    " ```\n"
   ]
  },
  {
   "cell_type": "markdown",
   "metadata": {},
   "source": [
    "## SOLUTION"
   ]
  },
  {
   "cell_type": "code",
   "execution_count": null,
   "metadata": {},
   "outputs": [],
   "source": []
  },
  {
   "cell_type": "markdown",
   "metadata": {
    "tags": [
     "2019-2020-1",
     "Salih",
     "Factors",
     "Medium"
    ]
   },
   "source": [
    "# AGE GROUPS"
   ]
  },
  {
   "cell_type": "markdown",
   "metadata": {},
   "source": [
    "## QUESTION"
   ]
  },
  {
   "cell_type": "markdown",
   "metadata": {},
   "source": [
    "World DanceSport Federation defines some age categories for dancers. Three of these categories are listed below:\n",
    "\n",
    "|Categories|Age Range|\n",
    "|:-:|:-:|\n",
    "|Adult|18-35|\n",
    "|Senior1|35-45|\n",
    "|Senior2|45-50|\n",
    "\n",
    "Create a function named **partners** which takes 2 arguments:\n",
    "\n",
    "* **mls** : a vector which holds names and ages of male dancers\n",
    "* **fmls** : a vector which holds names and ages of female dancers\n",
    "\n",
    "Your function should do the following :\n",
    "\n",
    "* First, it will categorize the female and male dancers as \"Adult\", \"Senior1\", and \"Senior2\" according to their ages.\n",
    "   **Hint**: You can use the cut() function.\n",
    "\n",
    "* Then, it will sort the dancers which are in the \"Adult\" category by their ages in increasing order. (Males and females separately)\n",
    "\n",
    "* Finally, it will return a list of which the first element will be a couple consisting of the youngest adult male and youngest adult female, the second element will be the second youngest adult male and female and so on.\n",
    "\n",
    "Copy the code below and try your function with **mages** and **fages** samples.\n",
    "\n",
    "```r\n",
    "RNGversion(\"3.1.1\")\n",
    "set.seed(7) \n",
    "mages <- sample(18:50, 8)\n",
    "fages <- sample(18:50, 8)\n",
    "males <- c(\"Onur\", \"Ege\", \"Can\", \"Mehmet\", \"Ali\", \"Mustafa\", \"Mert\", \"Ahmet\")\n",
    "females <- c(\"Beste\", \"Merve\", \"Miray\", \"Sena\", \"Bilge\", \"Feyza\", \"Ceyda\", \"Deniz\")\n",
    "names(mages) <- males\n",
    "names(fages) <- females\n",
    "```\n",
    "\n",
    "The result should look like :\n",
    "\n",
    "```r\n",
    "partners(mls = mages, fmls = fages)\n",
    "[[1]]\n",
    "Mehmet  Feyza \n",
    "    20     20 \n",
    "\n",
    "[[2]]\n",
    "  Can Beste \n",
    "   21    23 \n",
    "\n",
    "[[3]]\n",
    " Ali Sena \n",
    "  25   24 \n",
    "\n",
    "[[4]]\n",
    " Mert Ceyda \n",
    "   27    30 \n",
    "\n",
    "[[5]]\n",
    "  Ege Merve \n",
    "   30    32 \n",
    "   ```\n",
    "\n",
    "\n",
    "\n",
    "\n"
   ]
  },
  {
   "cell_type": "markdown",
   "metadata": {},
   "source": [
    "## SOLUTION"
   ]
  },
  {
   "cell_type": "code",
   "execution_count": null,
   "metadata": {},
   "outputs": [],
   "source": []
  }
 ],
 "metadata": {
  "celltoolbar": "Tags",
  "kernelspec": {
   "display_name": "R",
   "language": "R",
   "name": "ir"
  },
  "language_info": {
   "codemirror_mode": "r",
   "file_extension": ".r",
   "mimetype": "text/x-r-source",
   "name": "R",
   "pygments_lexer": "r",
   "version": "3.6.1"
  },
  "toc": {
   "base_numbering": 1,
   "nav_menu": {},
   "number_sections": true,
   "sideBar": true,
   "skip_h1_title": false,
   "title_cell": "Table of Contents",
   "title_sidebar": "Contents",
   "toc_cell": false,
   "toc_position": {},
   "toc_section_display": true,
   "toc_window_display": true
  }
 },
 "nbformat": 4,
 "nbformat_minor": 2
}
