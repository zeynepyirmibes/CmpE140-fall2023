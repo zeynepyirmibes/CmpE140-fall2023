{
 "cells": [
  {
   "cell_type": "code",
   "execution_count": null,
   "metadata": {},
   "outputs": [],
   "source": [
    "options(jupyter.rich_display = F)"
   ]
  },
  {
   "cell_type": "markdown",
   "metadata": {},
   "source": [
    "# SIMPLE ARITHMETIC"
   ]
  },
  {
   "cell_type": "markdown",
   "metadata": {},
   "source": [
    "## MODULO OPERATOR"
   ]
  },
  {
   "cell_type": "markdown",
   "metadata": {},
   "source": [
    "Question: There are only 3 states of weather occuring sequentially and in a cycle: 0 is rainy, 1 is cloudy, 2 is sunny<p></p>\n",
    "Today was rainy (so state 0). What will be the state of the weather 1237 days later?"
   ]
  },
  {
   "cell_type": "code",
   "execution_count": null,
   "metadata": {},
   "outputs": [],
   "source": [
    "1237 %% 3"
   ]
  },
  {
   "cell_type": "markdown",
   "metadata": {},
   "source": [
    "So it will be cloudy that day!"
   ]
  },
  {
   "cell_type": "markdown",
   "metadata": {},
   "source": [
    "# VECTORS"
   ]
  },
  {
   "cell_type": "markdown",
   "metadata": {},
   "source": [
    "## SEQUENCES"
   ]
  },
  {
   "cell_type": "markdown",
   "metadata": {},
   "source": [
    "Create:\n",
    "- A sequence of values from 1, of 20 values (length.out) and with steps of 3 (by), save in seq_1 as such:\n",
    "\n",
    "```r\n",
    "seq_1\n",
    "\n",
    "[1]  1  4  7 10 13 16 19 22 25 28 31 34 37 40 43 46 49 52 55 58\n",
    "```\n",
    "\n",
    "- A sequence of values from 1 to 134 with steps of 7, save in seq_2 as such:\n",
    "\n",
    "```r\n",
    "seq_2\n",
    "\n",
    "[1]   1   8  15  22  29  36  43  50  57  64  71  78  85  92  99 106 113 120 127\n",
    "[20] 134\n",
    "```\n",
    "\n",
    "- A sequence of values to from 42 to 150 with 10 elements, save in seq_3 as such:\n",
    "\n",
    "```r\n",
    "seq_3\n",
    "\n",
    "[1]  42  54  66  78  90 102 114 126 138 150\n",
    "```"
   ]
  },
  {
   "cell_type": "code",
   "execution_count": null,
   "metadata": {
    "scrolled": true
   },
   "outputs": [],
   "source": [
    "seq_1 <- seq(1, by = 3, length.out = 20)\n",
    "seq_1\n",
    "\n",
    "seq_2 <- seq(1, 134, by = 7)\n",
    "seq_2\n",
    "\n",
    "seq_3 <- seq(42, 150, length.out = 10)\n",
    "seq_3"
   ]
  },
  {
   "cell_type": "markdown",
   "metadata": {},
   "source": [
    "## VECTOR SUBSETTING"
   ]
  },
  {
   "cell_type": "markdown",
   "metadata": {},
   "source": [
    "### Subset with a vector of indices"
   ]
  },
  {
   "cell_type": "markdown",
   "metadata": {},
   "source": [
    "Let's create the objects and assign to names in any case:"
   ]
  },
  {
   "cell_type": "code",
   "execution_count": null,
   "metadata": {},
   "outputs": [],
   "source": [
    "worker_age <- c(Emre = 25, Can = 52, Ceren = 33)\n",
    "worker_income <- c(Emre = 36000, Can = 38500, Ceren = 40700)"
   ]
  },
  {
   "cell_type": "markdown",
   "metadata": {},
   "source": [
    "Get the ages of Can and Ceren by combining relevant indices using c function"
   ]
  },
  {
   "cell_type": "code",
   "execution_count": null,
   "metadata": {},
   "outputs": [],
   "source": [
    "worker_age[c(2,3)]"
   ]
  },
  {
   "cell_type": "markdown",
   "metadata": {},
   "source": [
    "We subsetted the 2nd and third indices of the \"worker_age\" object.\n",
    "\n",
    "We used a vector of those values with c(2,3).\n",
    "\n",
    "However this vector is not assigned to a name.\n",
    "\n",
    "To use it again, we have to create it again"
   ]
  },
  {
   "cell_type": "markdown",
   "metadata": {},
   "source": [
    "Get the ages of Can and Ceren by combining relevant indices using \":\" colon operator"
   ]
  },
  {
   "cell_type": "code",
   "execution_count": null,
   "metadata": {},
   "outputs": [],
   "source": [
    "worker_age[2:3]"
   ]
  },
  {
   "cell_type": "markdown",
   "metadata": {},
   "source": [
    "### Subset with a vector of boolean values"
   ]
  },
  {
   "cell_type": "markdown",
   "metadata": {},
   "source": [
    "Get the ages of Can and Ceren by using a boolean vector that says which items to include (T) or exclude (F)"
   ]
  },
  {
   "cell_type": "code",
   "execution_count": null,
   "metadata": {},
   "outputs": [],
   "source": [
    "worker_age[c(F,T,T)]"
   ]
  },
  {
   "cell_type": "markdown",
   "metadata": {},
   "source": [
    "Now subset the worker_age vector with just one TRUE value. Does it return only the first item?"
   ]
  },
  {
   "cell_type": "code",
   "execution_count": null,
   "metadata": {},
   "outputs": [],
   "source": [
    "worker_age[T]"
   ]
  },
  {
   "cell_type": "markdown",
   "metadata": {},
   "source": [
    "Why did it return the whole vector although we supplied a single logical value?\n",
    "<p></p>R automatically recycled the vector wtih single T value to the length of the worker_age vector.<p></p>Now subset it with all T logical values"
   ]
  },
  {
   "cell_type": "code",
   "execution_count": null,
   "metadata": {},
   "outputs": [],
   "source": [
    "worker_age[c(T,T,T)]"
   ]
  },
  {
   "cell_type": "markdown",
   "metadata": {},
   "source": [
    "## NAMING VECTOR ITEMS"
   ]
  },
  {
   "cell_type": "markdown",
   "metadata": {},
   "source": [
    "For the following three questions, please copy the below code to your Rstudio session to create the **hundred** vector exactly as such:\n",
    "\n",
    "```r\n",
    "RNGversion(\"3.3.1\")\n",
    "set.seed(20191003)\n",
    "hundred <- round(rnorm(10, 9, 0.5), 2)\n",
    "names(hundred) <- letters[sample(10)]\n",
    "hundred\n",
    "\n",
    "    h     j     c     f     i     a     d     e     b     g \n",
    " 9.77  8.78  8.79  8.80  9.27  9.31  9.67 10.02  8.74  8.81 \n",
    "```\n",
    "\n",
    "These are hypothetical unordered performances of 10 atheletes (named a-j) in men's 100 meters sprint race"
   ]
  },
  {
   "cell_type": "code",
   "execution_count": null,
   "metadata": {},
   "outputs": [],
   "source": [
    "RNGversion(\"3.3.1\")\n",
    "set.seed(20191003)\n",
    "hundred <- round(rnorm(10, 9, 0.5), 2)\n",
    "names(hundred) <- letters[sample(10)]\n",
    "hundred"
   ]
  },
  {
   "cell_type": "markdown",
   "metadata": {},
   "source": [
    "## FILTERING A VECTOR BY A CONDITION"
   ]
  },
  {
   "cell_type": "markdown",
   "metadata": {},
   "source": [
    "Subset the **hundred** vector for the values that are **less than** 9 and assign into **worst** object as such:\n",
    "\n",
    "```r\n",
    "worst\n",
    "\n",
    "   j    c    f    b    g \n",
    "8.78 8.79 8.80 8.74 8.81 \n",
    "```"
   ]
  },
  {
   "cell_type": "code",
   "execution_count": null,
   "metadata": {},
   "outputs": [],
   "source": [
    "worst <- hundred[hundred < 9]\n",
    "worst"
   ]
  },
  {
   "cell_type": "markdown",
   "metadata": {},
   "source": [
    "## SORTING"
   ]
  },
  {
   "cell_type": "code",
   "execution_count": null,
   "metadata": {},
   "outputs": [],
   "source": [
    "worker_age <- c(Emre = 25, Can = 52, Ceren = 33)\n",
    "worker_income <- c(Emre = 36000, Can = 38500, Ceren = 40700)"
   ]
  },
  {
   "cell_type": "markdown",
   "metadata": {},
   "source": [
    "Sort worker's income in descending order"
   ]
  },
  {
   "cell_type": "code",
   "execution_count": null,
   "metadata": {},
   "outputs": [],
   "source": [
    "sort(worker_income, decreasing = TRUE)"
   ]
  },
  {
   "cell_type": "markdown",
   "metadata": {},
   "source": [
    "# FUNCTIONS"
   ]
  },
  {
   "cell_type": "markdown",
   "metadata": {},
   "source": [
    "## ARGUMENTS WITH DEFAULT VALUES"
   ]
  },
  {
   "cell_type": "markdown",
   "metadata": {},
   "source": [
    "We can provide a default value to an argument, that the function may assume in case no value is provided for that argument"
   ]
  },
  {
   "cell_type": "code",
   "execution_count": null,
   "metadata": {},
   "outputs": [],
   "source": [
    "plus1squared <- function(x = 1)\n",
    "{\n",
    "    return(x^2 + 2*x + 1)\n",
    "}"
   ]
  },
  {
   "cell_type": "markdown",
   "metadata": {},
   "source": [
    "Now call it with no values for x:"
   ]
  },
  {
   "cell_type": "code",
   "execution_count": null,
   "metadata": {},
   "outputs": [],
   "source": [
    "plus1squared()"
   ]
  },
  {
   "cell_type": "markdown",
   "metadata": {},
   "source": [
    "And call it with 1 or 2"
   ]
  },
  {
   "cell_type": "code",
   "execution_count": null,
   "metadata": {},
   "outputs": [],
   "source": [
    "plus1squared(x = 1)\n",
    "plus1squared(x = 2)"
   ]
  },
  {
   "cell_type": "markdown",
   "metadata": {},
   "source": [
    "So the function assumed the default value of 1 when we did not provide one"
   ]
  },
  {
   "cell_type": "markdown",
   "metadata": {},
   "source": [
    "# CONDITIONALS"
   ]
  },
  {
   "cell_type": "markdown",
   "metadata": {},
   "source": [
    "Using sqrt and round right function that returns whether a number is a square number (square of an integer)"
   ]
  },
  {
   "cell_type": "code",
   "execution_count": null,
   "metadata": {},
   "outputs": [],
   "source": [
    "is_square <- function(inputx)\n",
    "{\n",
    "    sqrtx <- sqrt(inputx)\n",
    "\n",
    "    if (sqrtx == round(sqrtx))\n",
    "    {\n",
    "        return(\"square\")\n",
    "    } else\n",
    "    {\n",
    "        return(\"not square\")\n",
    "    }\n",
    "}"
   ]
  },
  {
   "cell_type": "markdown",
   "metadata": {},
   "source": [
    "# LOOPS"
   ]
  },
  {
   "cell_type": "markdown",
   "metadata": {},
   "source": [
    "## VECTOR ACCUMULATION, AND VARIABLE SWAPPING"
   ]
  },
  {
   "cell_type": "markdown",
   "metadata": {
    "slideshow": {
     "slide_type": "slide"
    }
   },
   "source": [
    "A _Fibonacci sequence_ starts with 1 and 1, and each new value is the sum of the two previous values. Formally:\n",
    "$$\\begin{eqnarray}\n",
    "F_1 &=& 1\\\\\n",
    "F_2 &=& 1\\\\\n",
    "F_{n} &=& F_{n-1} + F_{n-2}\n",
    "\\end{eqnarray}$$\n",
    "\n",
    "Each number in this sequence is called a _Fibonacci number_. Let us write R code that displays the first 20 Fibonacci numbers."
   ]
  },
  {
   "cell_type": "code",
   "execution_count": null,
   "metadata": {},
   "outputs": [],
   "source": [
    "f1 <- 1\n",
    "f2 <- 1\n",
    "fibo <- c(f1, f2)\n",
    "\n",
    "for (i in 3:20){\n",
    "    temp <- f1\n",
    "    f1 <- f2\n",
    "    f2 <- f2 + temp\n",
    "    fibo <- c(fibo, f2)\n",
    "}\n",
    "\n",
    "fibo"
   ]
  },
  {
   "cell_type": "markdown",
   "metadata": {},
   "source": [
    "## LOOP WITH CONDITION, ACCUMULATION AND DIVISIBILITY"
   ]
  },
  {
   "cell_type": "markdown",
   "metadata": {},
   "source": [
    "Write a function divisors that takes an argument n, and collects and returns the divisors of the number\n",
    "\n",
    "**Hint:**\n",
    "- Initiate an empty vector (vec <- c() or vec <- integer(0) or vec <- NULL)\n",
    "- Iterate through all numbers from 1 to n with a for loop\n",
    "- Check the divisibility of n with the iterator using modulo and append the number if divisible\n",
    "- Return the vector\n",
    "\n",
    "as such:\n",
    "\n",
    "```R\n",
    "divisors(60)\n",
    "divisors(23)\n",
    "divisors(100)\n",
    "\n",
    "[1]  1  2  3  4  5  6 10 12 15 20 30 60\n",
    "[1]  1 23\n",
    "[1]   1   2   4   5  10  20  25  50 100\n",
    "```"
   ]
  },
  {
   "cell_type": "markdown",
   "metadata": {},
   "source": [
    "**Solution 4:**"
   ]
  },
  {
   "cell_type": "code",
   "execution_count": null,
   "metadata": {},
   "outputs": [],
   "source": [
    "divisors <- function(n)\n",
    "{\n",
    "    vec <- integer(0)\n",
    "    \n",
    "    for (i in 1:n)\n",
    "    {\n",
    "        if (n %% i == 0)\n",
    "        {\n",
    "            vec <- c(vec, i)            \n",
    "        }\n",
    "    }\n",
    "    \n",
    "    return(vec)\n",
    "}\n",
    "\n",
    "divisors(60)\n",
    "divisors(23)\n",
    "divisors(100)"
   ]
  },
  {
   "cell_type": "markdown",
   "metadata": {},
   "source": [
    "# MATRICES"
   ]
  },
  {
   "cell_type": "markdown",
   "metadata": {},
   "source": [
    "## MATRIX SUBSETTING AND UPDATING"
   ]
  },
  {
   "cell_type": "markdown",
   "metadata": {},
   "source": [
    "Burcu learns her midterm and final scores and makes a table as such:\n",
    "\n",
    "|MATH102|PSY101|CMPE140|EC102|\n",
    "|:-:|:-:|:-:|:-:|\n",
    "|43|96|0|94|\n",
    "|32|90|10|80|\n",
    "|60|100|4|98|\n",
    "\n",
    "Then she gets an e-mail from Mert Hoca about a mistake in scoring CMPE140 exams and corrected scores. She wants to change the CMPE140 column of the table to:\n",
    "\n",
    "|CMPE140|\n",
    "|:-:|\n",
    "|100|\n",
    "|80|\n",
    "|90|\n",
    "\n",
    "1) Create 4 vectors containing exam scores from the first table: **MATH102**, **PSY101**, **CMPE140** and **EC102**\n",
    "\n",
    "2) Create a matrix named **my_scores** that has 4 vectors you created as columns\n",
    "\n",
    "3) Create a vector called **CMPE_correct** that contains corrected exam results \n",
    "\n",
    "4) Write a function **correct** that takes three arguments: **mat** a matrix of size m x n, **vec** a vector of length m, **ind** column index to change values\n",
    "\n",
    "4) Change the *CMPE140* column of the matrix with the corrected scores using the **correct** function as such:\n",
    "\n",
    "```r\n",
    "correct(mat = my_scores, vec = CMPE140_corrected, ind = 3)\n",
    "\n",
    "    MATH101 PSY101 CMPE140 EC102\n",
    "[1,] 43       96    100     94   \n",
    "[2,] 32       90     80     80   \n",
    "[3,] 60      100     90     98    \n",
    "```"
   ]
  },
  {
   "cell_type": "code",
   "execution_count": null,
   "metadata": {},
   "outputs": [],
   "source": [
    "#1\n",
    "MATH101 <- c(43, 32, 60)\n",
    "PSY101 <- c(96, 90, 100)\n",
    "CMPE140 <- c(0, 10, 4)\n",
    "EC102 <- c(94, 80, 98)\n",
    "\n",
    "#2\n",
    "my_scores <- cbind(MATH101, PSY101, CMPE140, EC102)\n",
    "\n",
    "#3\n",
    "CMPE140_corrected <- c(100, 80, 90)\n",
    "\n",
    "#4\n",
    "correct <- function(mat, vec, ind)\n",
    "{\n",
    "    mat[,ind] <- vec\n",
    "    return(mat)    \n",
    "}\n",
    "\n",
    "correct(mat = my_scores, vec = CMPE140_corrected, ind = 3)"
   ]
  },
  {
   "cell_type": "markdown",
   "metadata": {},
   "source": [
    "# LISTS"
   ]
  },
  {
   "cell_type": "markdown",
   "metadata": {},
   "source": [
    "## LOOP THROUGH A LIST"
   ]
  },
  {
   "cell_type": "markdown",
   "metadata": {},
   "source": [
    "choose(n, r) function returns the number of distinct combinations of r values from a set of n values"
   ]
  },
  {
   "cell_type": "markdown",
   "metadata": {},
   "source": [
    "Pascal triangle shows the coefficients of polynomials ${(x+1)}^n$ for each value of n.\n",
    "\n",
    "For example ${(x+1)}^2 = x^2 + 2x + 1$\n",
    "\n",
    "The coefficients are: C(2,0), C(2,1), C(2,2)"
   ]
  },
  {
   "cell_type": "code",
   "execution_count": null,
   "metadata": {},
   "outputs": [],
   "source": [
    "pascal <- lapply(1:10, function(x) choose(x, 0:x))\n",
    "pascal"
   ]
  },
  {
   "cell_type": "markdown",
   "metadata": {},
   "source": [
    "Now let's get the maximum of each list item into a vector using a loop:"
   ]
  },
  {
   "cell_type": "code",
   "execution_count": null,
   "metadata": {},
   "outputs": [],
   "source": [
    "maximums <- c()\n",
    "for (i in pascal)\n",
    "{\n",
    "    maximums <- c(maximums, max(i))\n",
    "}\n",
    "maximums"
   ]
  },
  {
   "cell_type": "markdown",
   "metadata": {},
   "source": [
    "Or using sapply:"
   ]
  },
  {
   "cell_type": "code",
   "execution_count": null,
   "metadata": {},
   "outputs": [],
   "source": [
    "sapply(pascal, max)"
   ]
  },
  {
   "cell_type": "markdown",
   "metadata": {},
   "source": [
    "## function(x) NOTATION"
   ]
  },
  {
   "cell_type": "markdown",
   "metadata": {},
   "source": [
    "Let's have a randomly generated list of numeric vectors as such:\n",
    "\n",
    "```R\n",
    "RNGversion(\"3.3.1\")\n",
    "set.seed(20)\n",
    "listx <- split(sample(100, 20, replace = T), sample(sample(3:5, 1), 20, replace = T))\n",
    "listx\n",
    "\n",
    "\n",
    "$`1`\n",
    "[1] 88 28 97  8  1\n",
    "\n",
    "$`2`\n",
    "[1] 77 53 38 72 20 46 29\n",
    "\n",
    "$`3`\n",
    "[1] 33 75 11 82\n",
    "\n",
    "$`4`\n",
    "[1] 99 10 76 33\n",
    "```\n",
    "\n",
    "Please write a function **first(lst)**, that takes a single argument lst, a list object, and returns the **first** element of each vector item **EXACTLY** as such: \n",
    "\n",
    "```R\n",
    "first(lst = listx)\n",
    "\n",
    " 1  2  3  4 \n",
    "88 77 33 99 \n",
    "\n",
    "```\n",
    "\n",
    "**Hint:**\n",
    "- Easiest way is to use sapply()\n",
    "- You can make use of the \"function(x) ....\" notation inside sapply"
   ]
  },
  {
   "cell_type": "markdown",
   "metadata": {},
   "source": [
    "**Solution:**"
   ]
  },
  {
   "cell_type": "code",
   "execution_count": null,
   "metadata": {},
   "outputs": [],
   "source": [
    "RNGversion(\"3.3.1\")\n",
    "set.seed(20)\n",
    "listx <- split(sample(100, 20, replace = T), sample(sample(3:5, 1), 20, replace = T))\n",
    "listx\n",
    "\n",
    "first <- function(lst)\n",
    "{\n",
    "    sapply(lst, function(x) x[1])\n",
    "}\n",
    "           \n",
    "first(lst = listx)"
   ]
  },
  {
   "cell_type": "markdown",
   "metadata": {},
   "source": [
    "# DATA FRAMES"
   ]
  },
  {
   "cell_type": "markdown",
   "metadata": {},
   "source": [
    "## AGGREGATING A DATA FRAME"
   ]
  },
  {
   "cell_type": "markdown",
   "metadata": {},
   "source": [
    "iris is a famous database and is a built-in one in R:"
   ]
  },
  {
   "cell_type": "code",
   "execution_count": null,
   "metadata": {},
   "outputs": [],
   "source": [
    "iris"
   ]
  },
  {
   "cell_type": "markdown",
   "metadata": {},
   "source": [
    "Info on iris:"
   ]
  },
  {
   "cell_type": "code",
   "execution_count": null,
   "metadata": {},
   "outputs": [],
   "source": [
    "?iris"
   ]
  },
  {
   "cell_type": "markdown",
   "metadata": {},
   "source": [
    "```\n",
    "Format\n",
    "iris is a data frame with 150 cases (rows) and 5 variables (columns) named Sepal.Length, Sepal.Width, Petal.Length, Petal.Width, and Species.\n",
    "\n",
    "iris3 gives the same data arranged as a 3-dimensional array of size 50 by 4 by 3, as represented by S-PLUS. The first dimension gives the case number within the species subsample, the second the measurements with names Sepal L., Sepal W., Petal L., and Petal W., and the third the species.\n",
    "```"
   ]
  },
  {
   "cell_type": "markdown",
   "metadata": {},
   "source": [
    "See the unique values of species:"
   ]
  },
  {
   "cell_type": "code",
   "execution_count": null,
   "metadata": {},
   "outputs": [],
   "source": [
    "unique(iris$Species)"
   ]
  },
  {
   "cell_type": "markdown",
   "metadata": {},
   "source": [
    "And let's get the average\n",
    "\n",
    "- Sepal.Length\n",
    "- Sepal.Width\n",
    "- Petal.Length\n",
    "- Petal.Width\n",
    "\n",
    "values of each of the species"
   ]
  },
  {
   "cell_type": "code",
   "execution_count": null,
   "metadata": {},
   "outputs": [],
   "source": [
    "averages <- aggregate(iris[-5], by = iris[5], FUN = mean)"
   ]
  },
  {
   "cell_type": "code",
   "execution_count": null,
   "metadata": {},
   "outputs": [],
   "source": [
    "averages"
   ]
  },
  {
   "cell_type": "markdown",
   "metadata": {},
   "source": [
    "**NOTE THAT value passed to by argument must be a list (or data frame) not a vector!**"
   ]
  },
  {
   "cell_type": "markdown",
   "metadata": {},
   "source": [
    "# PLOTS"
   ]
  },
  {
   "cell_type": "markdown",
   "metadata": {
    "tags": [
     "2019-2020-1",
     "Selin",
     "advanced_graphics",
     "boxplots",
     "easy"
    ]
   },
   "source": [
    "## ORANGE TREES"
   ]
  },
  {
   "cell_type": "markdown",
   "metadata": {},
   "source": [
    "A naturalist wants to see some information on the orange trees. She wants to see the summary statistics as boxplots. She wants the two aspects age and circumference in two seperate boxplots and she wants to see two boxplots side by side.\n",
    "\n",
    "1) See the built-in data set **Orange**.\n",
    "\n",
    "2) Make the arrangement such that there will be 2 boxplots with 1 row and 2 columns.\n",
    "\n",
    "3) Create a boxplot of the *age* column in the data set and name that boxplot **\"Age\"**.\n",
    "\n",
    "4) Create a horizontal boxplot of the *circumference* column in the data set and name that boxplot **\"Circumference\"**.\n",
    "\n",
    "The outcome should look like the following:"
   ]
  },
  {
   "attachments": {
    "image.png": {
     "image/png": "[encoded data removed]"
    }
   },
   "cell_type": "markdown",
   "metadata": {},
   "source": [
    "![image.png](attachment:image.png)"
   ]
  },
  {
   "cell_type": "code",
   "execution_count": null,
   "metadata": {},
   "outputs": [],
   "source": [
    "#1\n",
    "Orange\n",
    "\n",
    "#2\n",
    "par(mfrow = c(1, 2))\n",
    "\n",
    "\n",
    "#3\n",
    "boxplot(Orange$age)\n",
    "title(\"Age\")\n",
    "\n",
    "#4\n",
    "boxplot(Orange$circumference, horizontal = T)\n",
    "title(\"Circumference\")"
   ]
  },
  {
   "cell_type": "markdown",
   "metadata": {
    "tags": [
     "2019-2020-1",
     "elif",
     "histogram",
     "density",
     "medium"
    ]
   },
   "source": [
    "## AIR QUALITY"
   ]
  },
  {
   "attachments": {
    "WhatsApp%20Image%202019-12-18%20at%2019.34.00.jpeg": {
     "image/jpeg": "[encoded data removed]"
    }
   },
   "cell_type": "markdown",
   "metadata": {},
   "source": [
    "1) We will use the **airquality** data set.\n",
    "   Take wind column of the **airquality** dataset and make this a vector named **airs**.\n",
    "   \n",
    "2) Create an histogram named **air** for this data.\n",
    "   In the histogram, there should be 18 columns, its color should be green with purple borders. Make the name of x-axis \"wind\" and the name of histogram \"airquality\".\n",
    "   \n",
    "3) Draw a density curve on top of your histogram.\n",
    "\n",
    "**Hint:** Note that this function requires you to set the prob argument of the histogram to true first!\n",
    "\n",
    "The end result should look as such:\n",
    "\n",
    "![WhatsApp%20Image%202019-12-18%20at%2019.34.00.jpeg](attachment:WhatsApp%20Image%202019-12-18%20at%2019.34.00.jpeg)"
   ]
  },
  {
   "cell_type": "code",
   "execution_count": null,
   "metadata": {},
   "outputs": [],
   "source": [
    "#1 \n",
    "airquality\n",
    "airs <- as.vector(airquality$Wind)\n",
    "\n",
    "#2\n",
    "air <- hist(airs, breaks = 18, col = \"green\", xlab = \"Wind\", main = \"Airquality\", border = \"purple\", probability = TRUE)\n",
    "\n",
    "#3\n",
    "lines(density(airs))"
   ]
  }
 ],
 "metadata": {
  "kernelspec": {
   "display_name": "R",
   "language": "R",
   "name": "ir"
  },
  "language_info": {
   "codemirror_mode": "r",
   "file_extension": ".r",
   "mimetype": "text/x-r-source",
   "name": "R",
   "pygments_lexer": "r",
   "version": "3.6.2"
  },
  "toc": {
   "base_numbering": 1,
   "nav_menu": {},
   "number_sections": true,
   "sideBar": true,
   "skip_h1_title": false,
   "title_cell": "Table of Contents",
   "title_sidebar": "Contents",
   "toc_cell": false,
   "toc_position": {},
   "toc_section_display": true,
   "toc_window_display": true
  }
 },
 "nbformat": 4,
 "nbformat_minor": 2
}
