{
 "cells": [
  {
   "cell_type": "code",
   "execution_count": null,
   "metadata": {},
   "outputs": [],
   "source": [
    "options(jupyter.rich_display = F)\n",
    "options(warnings = -1)"
   ]
  },
  {
   "cell_type": "markdown",
   "metadata": {
    "tags": [
     "Yahya",
     "Fatih",
     "Arslantürk",
     "2018-2019-1",
     "IfElse",
     "Easy"
    ]
   },
   "source": [
    "# NEGATIVE NUMBER DETECTION"
   ]
  },
  {
   "cell_type": "markdown",
   "metadata": {},
   "source": [
    "## QUESTION"
   ]
  },
  {
   "cell_type": "markdown",
   "metadata": {},
   "source": [
    "1) Create a function named **sign** that gives information about whether the given argument is negative or non-negative.\n",
    "\n",
    "2) The function should return *negative* or *non-negative* according to the given argument.\n",
    "\n",
    "```R\n",
    "sign(10)\n",
    "\n",
    "[1] \"non-negative\"\n",
    "\n",
    "sign(-10)\n",
    "\n",
    "[1] \"negative\"\n",
    "```"
   ]
  },
  {
   "cell_type": "markdown",
   "metadata": {},
   "source": [
    "## SOLUTION"
   ]
  },
  {
   "cell_type": "code",
   "execution_count": null,
   "metadata": {},
   "outputs": [],
   "source": [
    "#1\n",
    "sign <- function(x)\n",
    "{\n",
    "    if (x < 0)\n",
    "    {    \n",
    "    #2\n",
    "        return(\"negative\")\n",
    "    }\n",
    "    else\n",
    "    {\n",
    "        return(\"non-negative\")\n",
    "    }\n",
    "}\n",
    "\n",
    "sign(10)\n",
    "sign(-10)"
   ]
  },
  {
   "cell_type": "markdown",
   "metadata": {
    "tags": [
     "Yusuf_Dik",
     "2018-2019-2",
     "functions",
     "ifelse",
     "easy"
    ]
   },
   "source": [
    "# DRIVER'S LICENSE"
   ]
  },
  {
   "cell_type": "markdown",
   "metadata": {},
   "source": [
    "## QUESTION"
   ]
  },
  {
   "cell_type": "markdown",
   "metadata": {},
   "source": [
    "1) Create a function named **drivers_license** using vectorized **ifelse** function. \n",
    "\n",
    "2) The function should take the argument named **age** and can take multiple values.\n",
    "\n",
    "3) For each age value, if the age is bigger than 18, the function should return \"YES\", else it should return \"NO\".\n",
    "\n",
    "4) Try your function with different inputs.\n",
    "\n",
    "```R\n",
    "drivers_license(16:20)\n",
    "\n",
    "[1] \"NO\"  \"NO\"  \"YES\" \"YES\" \"YES\"\n",
    "\n",
    "```\n"
   ]
  },
  {
   "cell_type": "markdown",
   "metadata": {},
   "source": [
    "## SOLUTION"
   ]
  },
  {
   "cell_type": "code",
   "execution_count": null,
   "metadata": {},
   "outputs": [],
   "source": [
    "#1\n",
    "drivers_license <- function(age) #2\n",
    "{\n",
    "\n",
    "#3    \n",
    "    response <- ifelse(age < 18, \"NO\", \"YES\")\n",
    "    return(response)\n",
    "}\n",
    "\n",
    "#4\n",
    "drivers_license(16:20)"
   ]
  },
  {
   "cell_type": "markdown",
   "metadata": {
    "tags": [
     "2019-2020-1",
     "omer",
     "functions",
     "if",
     "else",
     "RNG",
     "easy"
    ]
   },
   "source": [
    "# GUESS THE NUMBER"
   ]
  },
  {
   "cell_type": "markdown",
   "metadata": {},
   "source": [
    "## QUESTION"
   ]
  },
  {
   "cell_type": "markdown",
   "metadata": {},
   "source": [
    "Two friends want to play a game based on guessing numbers\n",
    "\n",
    "1) set seed to 1555\n",
    "\n",
    "2) Create a function **guess_check** with an argument called *guess*. This function should generate a random number between 1 and 100, then tell if that number is the same with the guess.\n",
    "\n",
    "3) This function should either return \"Your guess is correct!\" or \"Your guess is incorrect!\"\n",
    "\n",
    "```r\n",
    "guess_check(4)\n",
    "[1] \"Your guess is incorrect!\"\n",
    "```\n"
   ]
  },
  {
   "cell_type": "markdown",
   "metadata": {},
   "source": [
    "## SOLUTION"
   ]
  },
  {
   "cell_type": "code",
   "execution_count": null,
   "metadata": {},
   "outputs": [],
   "source": [
    "RNGversion(\"3.3.1\")\n",
    "set.seed(1555)\n",
    "\n",
    "#1\n",
    "guess_check <- function(guess)\n",
    "{\n",
    "  x <- sample(1:100, 1)\n",
    "  if (x == guess)\n",
    "  {\n",
    "    return( \"Your guess is correct!\")\n",
    "  }\n",
    "  else\n",
    "  {\n",
    "    return(\"Your guess is incorrect!\")  \n",
    "  }\n",
    "}\n",
    "\n",
    "guess_check(4)"
   ]
  },
  {
   "cell_type": "markdown",
   "metadata": {
    "tags": [
     "2019-2020-1",
     "omer",
     "medium",
     "functions",
     "if",
     "else"
    ]
   },
   "source": [
    "# A BURGER FOR YOU"
   ]
  },
  {
   "cell_type": "markdown",
   "metadata": {},
   "source": [
    "## QUESTION"
   ]
  },
  {
   "cell_type": "markdown",
   "metadata": {},
   "source": [
    "\n",
    "\n",
    "A fast food restaurant has 8 different types of burgers in their menu\n",
    "\n",
    "Burgers' names and some of their ingredients are given below:\n",
    "\n",
    "|Burger Name|Chicken / Meat| Cheese | Pickles|\n",
    "|:---|:--:|:--:|:---:|\n",
    "|Hooper|Meat|Yes|Yes\n",
    "|Big Mack|Meat|No|No\n",
    "|Meat Royale|Meat|No|Yes\n",
    "|Mr Chicken|Chicken|Yes|No\n",
    "|Pick Me|Chicken|No|No\n",
    "|Cow Boy|Meat|Yes|No\n",
    "|Quarter Kilo|Chicken|No|Yes\n",
    "|Serious Taste|Chicken|Yes|Yes\n",
    "\n",
    "1) Create function called **your_burger** that takes 3 arguments *MorC* , *Cheese* , *Pickles*. This function should return a burger name that matches costumers' preferences as such:\n",
    "\n",
    "```r\n",
    "your_burger(MorC = \"Chicken\", Cheese = \"Yes\", Pickles = \"Yes\")\n",
    "[1] \"Serious Taste\"\n",
    "```\n",
    "\n",
    "**Hint:** If the customer wants anything other than meat and chicken (fish etc.), you can ignore their request and just give a burger with chicken."
   ]
  },
  {
   "cell_type": "markdown",
   "metadata": {},
   "source": [
    "## SOLUTION"
   ]
  },
  {
   "cell_type": "code",
   "execution_count": null,
   "metadata": {},
   "outputs": [],
   "source": [
    "your_burger <- function(MorC, Cheese, Pickles)\n",
    "{\n",
    "  if (MorC==\"Meat\")\n",
    "  {\n",
    "    if (Cheese==\"Yes\")\n",
    "    {\n",
    "      if (Pickles==\"Yes\")\n",
    "      {\n",
    "        return(\"Hooper\")\n",
    "      }\n",
    "      else \n",
    "        {\n",
    "        return(\"Cow Boy\")\n",
    "        }\n",
    "    }\n",
    "    else\n",
    "    {\n",
    "      if (Pickles==\"Yes\")\n",
    "      {\n",
    "        return(\"Meat Royale\")\n",
    "      }\n",
    "      else \n",
    "      {\n",
    "          return(\"Big Mack\")\n",
    "      }\n",
    "    }\n",
    "  }\n",
    "  else\n",
    "  {\n",
    "    if (Cheese==\"Yes\")\n",
    "    {\n",
    "      if (Pickles==\"Yes\")\n",
    "      {\n",
    "        return(\"Serious Taste\")\n",
    "      }\n",
    "      else return(\"Mr Chicken\")\n",
    "    }\n",
    "    else\n",
    "    {\n",
    "      if (Pickles==\"Yes\")\n",
    "      {\n",
    "        return(\"Quarter Kilo\")\n",
    "      }\n",
    "      else return(\"Pick Me\")\n",
    "    }\n",
    "  }\n",
    "} \n",
    "\n",
    "your_burger(MorC = \"Chicken\", Cheese = \"Yes\", Pickles = \"Yes\")"
   ]
  },
  {
   "cell_type": "markdown",
   "metadata": {
    "tags": [
     "yahya_fatih",
     "2018-2019-2",
     "medium",
     "logical_operator",
     "ifelse"
    ]
   },
   "source": [
    "# PLOT TEST"
   ]
  },
  {
   "cell_type": "markdown",
   "metadata": {},
   "source": [
    "## QUESTION"
   ]
  },
  {
   "cell_type": "markdown",
   "metadata": {},
   "source": [
    "In a school, teachers want to divide students into classes according to their pilot test. However, they just want the children that are between 8 and 12 ([8,12]) years old. If a student's age is not in this  break s/he will not be accepted.\n",
    "\n",
    "1) Using if-else statements and logical operators create a function named **class_finder** that takes two arguments; **point** and **age** and returns student's class.\n",
    "\n",
    "The dividing should be like this: with the upper limit being inclusive, the points between 100 and 80 will be in the 1st, between 80 and 60 will be in the 2nd, between 60 and 40 will be in the 3rd, between 40 and 20 will be in the 4th and the rest will be in the 5th class.\n",
    "\n",
    "2) Try your function with different inputs.\n",
    "```R\n",
    "class_finder(80, 12)\n",
    "\n",
    "[1] \"second class\"\n",
    "\n",
    "class_finder(90, 10)\n",
    "\n",
    "[1] \"first class\"\n",
    "\n",
    "class_finder(65, 13)\n",
    "\n",
    "[1] \"not accepted\"\n",
    "\n",
    "class_finder(100, 11)\n",
    "\n",
    "[1] \"first class\"\n",
    "```"
   ]
  },
  {
   "cell_type": "markdown",
   "metadata": {},
   "source": [
    "## SOLUTION"
   ]
  },
  {
   "cell_type": "code",
   "execution_count": null,
   "metadata": {},
   "outputs": [],
   "source": [
    "#1\n",
    "class_finder <- function(point, age)\n",
    "{\n",
    "  if(point <= 20 && age <= 12 && age >= 8) {\n",
    "    \"fifth class\"\n",
    "  } else if(point <= 40 && age <= 12 && age >= 8) {\n",
    "    \"fourth class\"\n",
    "  } else if(point <= 60 && age <= 12 && age >= 8) {\n",
    "    \"third class\"\n",
    "  } else if(point <= 80 && age <= 12 && age >= 8) {\n",
    "    \"second class\"\n",
    "  } else if(point <= 100 && age <= 12 && age >= 8) {\n",
    "    \"first class\"\n",
    "  } else {\n",
    "    \"not accepted\"\n",
    "  }\n",
    "}\n",
    "\n",
    "#2\n",
    "class_finder(80, 12)\n",
    "class_finder(90, 10)\n",
    "class_finder(65, 13)\n",
    "class_finder(100, 11)"
   ]
  },
  {
   "cell_type": "markdown",
   "metadata": {
    "tags": [
     "yahya_fatih_aslantürk",
     "2018-2019-2",
     "medium",
     "ifelse",
     "functions"
    ]
   },
   "source": [
    "# LETTER GRADES"
   ]
  },
  {
   "cell_type": "markdown",
   "metadata": {},
   "source": [
    "## QUESTION"
   ]
  },
  {
   "cell_type": "markdown",
   "metadata": {},
   "source": [
    "In CMPE199 course the instructor decides to grade notes in a strict catalog.\n",
    "\n",
    "According to this catalog (lower points being inclusive):\n",
    "\n",
    "|Note|Letter Grade|\n",
    "|:-|:-:|\n",
    "|100-90|AA|\n",
    "|89-85|BA|\n",
    "|84-80|BB|\n",
    "|79-75|CB|\n",
    "|74-70|CC|\n",
    "|69-60|DC|\n",
    "|59-50|DD|\n",
    "|0-49|F|\n",
    "\n",
    "\n",
    "\n",
    "1) Using if-else statements create a function called **grader** that returns the letter grade of a given note.\n",
    "\n",
    "2) Try your function with different inputs.\n",
    "\n",
    "```R\n",
    "grader(89)\n",
    "[1] \"BA\"\n",
    "grader(70)\n",
    "[1] \"CC\"\n",
    "```\n"
   ]
  },
  {
   "cell_type": "markdown",
   "metadata": {},
   "source": [
    "## SOLUTION"
   ]
  },
  {
   "cell_type": "code",
   "execution_count": null,
   "metadata": {},
   "outputs": [],
   "source": [
    "#1  \n",
    "grader <- function(x) \n",
    "{\n",
    "  if (x>=90) {\n",
    "    \"AA\"\n",
    "  } else if (x>=85) {\n",
    "    \"BA\"\n",
    "  } else if (x>=80) {\n",
    "    \"BB\"\n",
    "  } else if (x>=75) {\n",
    "    \"CB\"\n",
    "  } else if (x>=70) {\n",
    "    \"CC\"\n",
    "  } else if (x>=60) {\n",
    "    \"DC\"\n",
    "  } else if (x>=50) {\n",
    "    \"DD\"\n",
    "  } else {\n",
    "    \"F\"\n",
    "  }\n",
    "}\n",
    "\n",
    "#2\n",
    "grader(89)\n",
    "grader(70)"
   ]
  },
  {
   "cell_type": "markdown",
   "metadata": {
    "tags": [
     "Yusuf_Dİk",
     "2018-2019-2",
     "ifelse",
     "functions",
     "medium"
    ]
   },
   "source": [
    "# THE SUITABLE EMPLOYEE"
   ]
  },
  {
   "cell_type": "markdown",
   "metadata": {},
   "source": [
    "## QUESTION"
   ]
  },
  {
   "cell_type": "markdown",
   "metadata": {},
   "source": [
    "A company employs people over 27 and whose CV score is greater than 80. They reject other applications.\n",
    "\n",
    "1) Create a function named **company**. \n",
    "\n",
    "2) This function takes two integer arguments, the first one is *age* and the other is *cv_score*.\n",
    "\n",
    "3) If both arguments fit the company requirements, the function should return \"YOU ARE ACCEPTED.\"; else it should return \"REJECTED FROM AGE\" or \"REJECTED FROM SCORE\" according to the failed criteria. Age should be checked first\n",
    "\n",
    "4) Try your function with different inputs.\n",
    "\n",
    "```R\n",
    "\n",
    "company(age = 29, cv_score = 78)\n",
    "\n",
    "[1] \"REJECTED FROM SCORE\"\n",
    "\n",
    "company(age = 29, cv_score = 85)\n",
    "\n",
    "[1] \"YOU ARE ACCEPTED.\"\n",
    "\n",
    "company(age = 26, cv_score = 100)\n",
    "\n",
    "[1] \"REJECTED FROM AGE\"\n",
    "```\n"
   ]
  },
  {
   "cell_type": "markdown",
   "metadata": {},
   "source": [
    "## SOLUTION"
   ]
  },
  {
   "cell_type": "code",
   "execution_count": null,
   "metadata": {},
   "outputs": [],
   "source": [
    "company <- function(age, cv_score) \n",
    "{\n",
    "  if(age > 27){\n",
    "    if(cv_score > 80){\n",
    "      return(\"YOU ARE ACCEPTED.\")\n",
    "                     } else {\n",
    "      return(\"REJECTED FROM SCORE\")\n",
    "                            }\n",
    "              } else {\n",
    "    return(\"REJECTED FROM AGE\")\n",
    "                     }\n",
    "}  \n",
    "\n",
    "#4\n",
    "company(age = 29, cv_score = 78)\n",
    "company(age = 29, cv_score = 85)\n",
    "company(age = 26, cv_score = 100)"
   ]
  },
  {
   "cell_type": "markdown",
   "metadata": {
    "tags": [
     "2019/2020-1",
     "Firdevs_Feyza_Erdönmez",
     "Function",
     "Relational_Operators",
     "Logical_Operators",
     "medium"
    ]
   },
   "source": [
    "# EMPTY SEATS"
   ]
  },
  {
   "cell_type": "markdown",
   "metadata": {},
   "source": [
    "## QUESTION"
   ]
  },
  {
   "cell_type": "markdown",
   "metadata": {},
   "source": [
    "After the first lab session of CMPE140 course, Serhat Hoca chooses the students who are sitting in a certain place as a vectorperson (vectörcübasi), however, many students do not want this duty, so this seat remains empty in the next session. Serhat Hoca decides to systematize this work and asks the voluntary students' entry year, department and hometown information. As a result of this call, four students volunteer. These students are;\n",
    "\n",
    "|STUDENT|DEPARTMENT|HOMETOWN|ENTRY YEAR|\n",
    "|:-|:-:|:-:|:-:|\n",
    "|Tolga|economics|Ankara|2015|\n",
    "|Ayse|management|Kocaeli|2017|\n",
    "|Funda|management|Kocaeli|2019|\n",
    "|Bora|management|Erzurum|2018|\n",
    "\n",
    "1) Create vectors for the names of each student, which takes three elements, first is the department, second is the hometown, and the last is the entry year.\n",
    "```R\n",
    "Tolga\n",
    "[1] \"economics\" \"Ankara\" \"2015\"\n",
    "\n",
    "```\n",
    "\n",
    "2) Create a function called **vectorperson**, which takes a vector as argument. \n",
    "\n",
    "3) This course is primarily given to management students for these semester so the first requirement is to become a vector student is to be a management student.\n",
    "\n",
    "4) If a management student whose entry year is equal to or between 2016 and 2018, and from Kocaeli the function returns \"You are the new vectorperson!\" otherwise it returns \"next time\".\n",
    "\n",
    "5) Try the function for each student and see who will be the next vectorperson.\n",
    "\n",
    "```R\n",
    "vectorperson(Tolga)\n",
    "\n",
    "[1] \"next time\"\n",
    "\n",
    "vectorperson(Aysel)\n",
    "\n",
    "[1] \"You are the new vectorperson!\"\n",
    "\n",
    "vectorperson(Funda)\n",
    "\n",
    "[1] \"next time\"\n",
    "\n",
    "vectorperson(Bora)\n",
    "\n",
    "[1] \"next time\"\n",
    "```\n",
    "\n",
    "**Hint:** You should use as.integer() or as.numeric() to convert the entry year coerced to character back to a numeric value"
   ]
  },
  {
   "cell_type": "markdown",
   "metadata": {},
   "source": [
    "## SOLUTION"
   ]
  },
  {
   "cell_type": "code",
   "execution_count": null,
   "metadata": {},
   "outputs": [],
   "source": [
    "#1\n",
    "Tolga <- c(\"economics\" , \"Ankara\" , 2015)\n",
    "Aysel <- c(\"management\" , \"Kocaeli\" , 2017)\n",
    "Funda <- c(\"management\" , \"Kocaeli\" , 2019)\n",
    "Bora <- c(\"management\" , \"Erzurum\" , 2018)\n",
    "\n",
    "#2\n",
    "vectorperson <- function(x)\n",
    "{\n",
    "    \n",
    "    #3\n",
    "    if(x[1] == \"management\")\n",
    "    {\n",
    "        if(x[2] == \"Kocaeli\" && as.integer(x[3]) >= 2016 && as.integer(x[3]) <= 2018)\n",
    "        {\n",
    "        #4\n",
    "            return(\"You are the new vectorperson!\")\n",
    "        }\n",
    "        else\n",
    "        {\n",
    "            return(\"next time\")\n",
    "        }\n",
    "    }\n",
    "    else\n",
    "    {\n",
    "        return(\"next time\")\n",
    "    }\n",
    "}\n",
    "\n",
    "#5\n",
    "vectorperson(Tolga)\n",
    "vectorperson(Aysel)\n",
    "vectorperson(Funda)\n",
    "vectorperson(Bora)"
   ]
  },
  {
   "cell_type": "markdown",
   "metadata": {
    "tags": [
     "2019/2020-1",
     "Firdevs_Feyza_Erdönmez",
     "Function",
     "Relational_Operators",
     "Logical_Operators",
     "Medium"
    ]
   },
   "source": [
    "# ERASMUS CALCULATOR"
   ]
  },
  {
   "cell_type": "markdown",
   "metadata": {},
   "source": [
    "## QUESTION"
   ]
  },
  {
   "cell_type": "markdown",
   "metadata": {},
   "source": [
    "The Erasmus score to be submitted to a university in France is calculated as follows:\n",
    "\n",
    "1) Use the vectors below to ask students their French levels and GPAs.\n",
    "\n",
    "```r\n",
    "french_level <- readline(prompt= \"What is your French level? (A1/A2/B1/B2/C1) : \")\n",
    "\n",
    "GPA <- readline(prompt= \"Enter your GPA : \" )\n",
    "```\n",
    "\n",
    "2) Create a function called **go_to_france** which holds two arguments *french_level* and *GPA*.\n",
    "\n",
    "3) The first option for Erasmus in France is that the French level is at least B1 and the GPA is at least 3.2. If the condition holds, it returns \"France is waiting for you!\" if not, returns \"not accepted\".\n",
    "\n",
    "4) The second option is that the level of French is less than B1 and the GPA is at least 3.5. If it holds, it returns \"You can apply an English program in France\" if not, \"not accepted\".\n",
    "\n",
    "5) Otherwise, it returns \"not accepted\".\n",
    "\n",
    "```r\n",
    "go_to_france(french_level, GPA)\n",
    "\n",
    "What is your French level? (A1/A2/B1/B2) : A1\n",
    "Enter your GPA : 3.2\n",
    "\n",
    "[1] \"not accepted\"\n",
    "```"
   ]
  },
  {
   "cell_type": "markdown",
   "metadata": {},
   "source": [
    "## SOLUTION"
   ]
  },
  {
   "cell_type": "code",
   "execution_count": null,
   "metadata": {},
   "outputs": [],
   "source": [
    "#1\n",
    "french_level <- readline(prompt = \"What is your French level? (A1/A2/B1/B2) : \")\n",
    "GPA <- readline(prompt = \"Enter your GPA : \")\n",
    "\n",
    "#2\n",
    "go_to_france <- function(french_level, GPA)\n",
    "{\n",
    "    \n",
    "    #3\n",
    "  if(french_level == \"B1\" || french_level == \"B2\")\n",
    "  {\n",
    "    if(GPA >= 3.2){\n",
    "      return(\"France is waiting for you!\")\n",
    "    }else\n",
    "    {\n",
    "      return(\"not accepted\")\n",
    "    }\n",
    "      \n",
    "      #4\n",
    "  }else if(french_level == \"A1\" || french_level == \"A2\"){\n",
    "    if(GPA >= 3.5)\n",
    "    {\n",
    "      return(\"You can apply an English program in France\")\n",
    "    }else {\n",
    "      return(\"not accepted\")\n",
    "          }\n",
    "      \n",
    "      #5\n",
    "  }else {\n",
    "    return(\"not accepted\")\n",
    "        }\n",
    "}\n",
    "\n",
    "go_to_france(french_level, GPA)"
   ]
  },
  {
   "cell_type": "markdown",
   "metadata": {
    "tags": [
     "ipek_özdemir",
     "2018-2019-2",
     "ifelse",
     "medium"
    ]
   },
   "source": [
    "# TEMPERATURE"
   ]
  },
  {
   "cell_type": "markdown",
   "metadata": {},
   "source": [
    "## QUESTION"
   ]
  },
  {
   "cell_type": "markdown",
   "metadata": {},
   "source": [
    "1) Write a function called **wtemp** that takes a vector as argument, consisting of a week's temperature values.\n",
    "\n",
    "2) If there are at least 3 days above 15 degrees, it should return the average temperature saying: \"It was warm this week. Average: \" and then give the average temperature.\n",
    "\n",
    "3) In the other case, it should similarly return: \"This week was normal. Average: \" \n",
    "\n",
    "```R\n",
    "week1 <- c(11, 13, 10, 15, 16)\n",
    "week2 <- c(14, 12, 16, 17, 19)\n",
    "wtemp(week1)\n",
    "[1]\"This week was normal. Average:  13\"\n",
    "wtemp(week2)\n",
    "[1]\"It was warm this week. Average:  15.6\"\n",
    "```"
   ]
  },
  {
   "cell_type": "markdown",
   "metadata": {},
   "source": [
    "## SOLUTION"
   ]
  },
  {
   "cell_type": "code",
   "execution_count": null,
   "metadata": {},
   "outputs": [],
   "source": [
    "wtemp <- function(vec1)\n",
    "{\n",
    "    hotdays <- sum(vec1>15)\n",
    "    avgtemp <- mean(vec1)\n",
    "    if (hotdays >= 3)\n",
    "    {\n",
    "        paste(\"It was warm this week. Average: \", avgtemp)\n",
    "    }\n",
    "    else\n",
    "    {\n",
    "        paste(\"This week was normal. Average: \", avgtemp)\n",
    "    }\n",
    "  \n",
    "}\n",
    "\n",
    "week1 <- c(11, 13, 10, 15, 16)\n",
    "week2 <- c(14, 12, 16, 17, 19)\n",
    "wtemp(week1)\n",
    "wtemp(week2)"
   ]
  },
  {
   "cell_type": "markdown",
   "metadata": {
    "tags": [
     "ömer_erhan",
     "2018-2019-2",
     "functions",
     "ifelse",
     "medium"
    ]
   },
   "source": [
    "# CONTROLLER"
   ]
  },
  {
   "cell_type": "markdown",
   "metadata": {},
   "source": [
    "## QUESTION"
   ]
  },
  {
   "cell_type": "markdown",
   "metadata": {},
   "source": [
    "1) Create a function called **controller** that takes an argument called *number*.\n",
    "\n",
    "2) The function should return \"high_positive\" if the number has 2.\n",
    "\n",
    "3) The function should return \"positive\" if the number has 4.\n",
    "\n",
    "4) The function should return \"odd\" if the number has 7.\n",
    "```R\n",
    "controller(28)\n",
    "[1]\"high_positive\"\n",
    "controller(34)\n",
    "[1]\"positive\"\n",
    "controller(57)\n",
    "[1]\"odd\"\n",
    "```\n",
    "\n",
    "Hint: You can search for any() function.\n",
    "\n",
    "Hint: Create this function for only two-digit numbers.\n"
   ]
  },
  {
   "cell_type": "markdown",
   "metadata": {},
   "source": [
    "## SOLUTION"
   ]
  },
  {
   "cell_type": "code",
   "execution_count": null,
   "metadata": {},
   "outputs": [],
   "source": [
    "controller <- function(number)\n",
    "{\n",
    "  b <- number %% 10\n",
    "  new_number <- floor(number / 10)\n",
    "  b <- c(new_number, b)\n",
    "  \n",
    "  if(any(b == 2)) return(\"high_positive\")\n",
    "  if(any(b == 4)) return(\"positive\")\n",
    "  if(any(b == 7)) return(\"odd\")\n",
    "}\n",
    "\n",
    "controller(28)\n",
    "controller(34)\n",
    "controller(57)"
   ]
  },
  {
   "cell_type": "markdown",
   "metadata": {
    "tags": [
     "ömer_erhan",
     "medium",
     "ifelse",
     "2018-2019-2"
    ]
   },
   "source": [
    "# FEE CALCULATOR"
   ]
  },
  {
   "cell_type": "markdown",
   "metadata": {
    "code_folding": []
   },
   "source": [
    "## QUESTION"
   ]
  },
  {
   "cell_type": "markdown",
   "metadata": {},
   "source": [
    "1) Create a function called **fee_calculator** that takes the argument *age* and the argument *base* with default value 2.60.\n",
    "\n",
    "2) For people with ages equal or lower than 18, the calculator has to give half of the base.\n",
    "\n",
    "3) For people with ages larger than 18 and equal or lower than 25, the calculator has to give 0.7 of the base.\n",
    "\n",
    "4) For people with ages larger than 25 and equal or lower than 65, the calculator has to give the base.\n",
    "\n",
    "5) For people with ages equal or larger than 65, they have to be free of charge.\n",
    "\n",
    "**Hint:** You can hold the value in a variable called fee.\n",
    "\n",
    "```r\n",
    "fee_calculator(age = 20, base = 3)\n",
    "\n",
    "[1] 2.1\n",
    "\n",
    "fee_calculator(age = 17)\n",
    "\n",
    "[1] 1.3\n",
    "```"
   ]
  },
  {
   "cell_type": "markdown",
   "metadata": {},
   "source": [
    "## SOLUTION"
   ]
  },
  {
   "cell_type": "code",
   "execution_count": null,
   "metadata": {},
   "outputs": [],
   "source": [
    "fee_calculator <- function(age, base = 2.60)\n",
    "{\n",
    "  if(age <= 18)\n",
    "  {\n",
    "    fee <- base * 0.5\n",
    "  }\n",
    "  else if(age <= 25)\n",
    "  {\n",
    "    fee <- base * 0.7\n",
    "  }\n",
    "  else if(age < 65)\n",
    "  {\n",
    "    fee <- base * 1\n",
    "  }\n",
    "  else\n",
    "  {\n",
    "    fee <- base * 0\n",
    "  }\n",
    "  return(fee)\n",
    "}\n",
    "\n",
    "fee_calculator(age = 20, base = 3)\n",
    "fee_calculator(age = 17)"
   ]
  },
  {
   "cell_type": "markdown",
   "metadata": {
    "tags": [
     "2018-2019-2",
     "zeynep_cilingir",
     "medium",
     "ifelse"
    ]
   },
   "source": [
    "# HONORS"
   ]
  },
  {
   "cell_type": "markdown",
   "metadata": {},
   "source": [
    "## QUESTION"
   ]
  },
  {
   "cell_type": "markdown",
   "metadata": {},
   "source": [
    "•\tIn Bogazici University, in order to graduate as a high honors student your GPA should be equal to or above 3.50, and if not, with a GPA that is equal to 3.00 or more you can graduate as a honors student.\n",
    "\n",
    "1) Set RNGversion to \"3.3.1\" and seed to 1998.\n",
    "\n",
    "2) There are 150 students graduating that year, their student numbers range from 801 to 950. Create a vector called *students* with their numbers.\n",
    "\n",
    "3) Select 150 random numbers from a sequence from 2.00 to 4.00 increasing by 0.01. (replace = T)\n",
    "\n",
    "4) Assign these to gpas by using the student numbers as names.\n",
    "\n",
    "5) Write a function called **honors** that takes *gpa* as argument and returns if the student is \"honors\", \"high honors\" or \"none\".\n",
    "\n",
    "```R\n",
    "honors(gpas[\"801\"])\n",
    "[1]\"none\"\n",
    "honors(gpas[\"821\"])\n",
    "[1]\"high honors\"\n",
    "honors(gpas[\"914\"])\n",
    "[1]\"honors\"\n",
    "```\n"
   ]
  },
  {
   "cell_type": "markdown",
   "metadata": {},
   "source": [
    "## SOLUTION"
   ]
  },
  {
   "cell_type": "code",
   "execution_count": null,
   "metadata": {},
   "outputs": [],
   "source": [
    "#1\n",
    "RNGversion(\"3.3.1\")\n",
    "set.seed(1998)\n",
    "\n",
    "#2\n",
    "students <- seq(801, 950)\n",
    "\n",
    "#3\n",
    "gpas <- sample(seq(2, 4, by = 0.01), 150, replace = T)\n",
    "\n",
    "#4\n",
    "names(gpas) <- students\n",
    "\n",
    "#5\n",
    "honors <- function(gpa){\n",
    "  if (gpa >= 3.50){\n",
    "    return(\"high honors\")\n",
    "  } else if (gpa >= 3.00){\n",
    "    return(\"honors\")\n",
    "  } else{\n",
    "    return(\"none\")\n",
    "  }\n",
    "}\n",
    "\n",
    "#6\n",
    "honors(gpas[\"801\"])\n",
    "honors(gpas[\"821\"])\n",
    "honors(gpas[\"914\"])\n"
   ]
  },
  {
   "cell_type": "markdown",
   "metadata": {
    "tags": [
     "Bengisu",
     "Kaynar",
     "2018-2019-2",
     "NestedIf",
     "Medium"
    ]
   },
   "source": [
    "# PRINCE CHARMING"
   ]
  },
  {
   "cell_type": "markdown",
   "metadata": {},
   "source": [
    "## QUESTION"
   ]
  },
  {
   "cell_type": "markdown",
   "metadata": {},
   "source": [
    "Our legendary character Margaret finally found her prince charming. Her prospective husband is now searching for a flat to live happily ever after. \n",
    "\n",
    "However, Margaret has some conditions for the flat they will choose. \n",
    "\n",
    "The first condition is that the flat should be at least *40 square meter*.\n",
    "\n",
    "The second condition is that number of rooms is supposed to be at least *2*.\n",
    "\n",
    "The third condition is that the flat should be at least on the *3rd floor*. \n",
    "\n",
    "1) Create a function called **nest** that gives \"Considerable\", \"Seriously\", \"Gosh!\" or \"I said no\" as returns to the conditions in the given order.\n",
    "\n",
    "NOTE: If all conditions are satisfied, the function must return \"Considerable\", if only the first two of them are satisfied, the function must return \"Seriously\", etc. \n",
    "```R\n",
    "studio_flat <- c(42,1,4)\n",
    "nest(studio_flat)\n",
    "[1]\"Gosh!\"\n",
    "```\n",
    " \n",
    "2) Define the *studio_flat* vector and test your function with it.\n"
   ]
  },
  {
   "cell_type": "markdown",
   "metadata": {},
   "source": [
    "## SOLUTION"
   ]
  },
  {
   "cell_type": "code",
   "execution_count": null,
   "metadata": {},
   "outputs": [],
   "source": [
    "#1\n",
    "nest <- function(x)\n",
    "{\n",
    "    if(x[1] >= 40)\n",
    "    {\n",
    "        if(x[2] >= 2)\n",
    "        { \n",
    "            if(x[3] >= 3)\n",
    "            {\n",
    "                return(\"Considerable\")\n",
    "            }\n",
    "            else\n",
    "            {\n",
    "                return(\"Seriously\")\n",
    "            }\n",
    "        }\n",
    "        else\n",
    "        {\n",
    "            return(\"Gosh!\")\n",
    "        }\n",
    "    }\n",
    "    else\n",
    "    {\n",
    "        return(\"I said no\")\n",
    "    }\n",
    "}\n",
    "\n",
    "#2\n",
    "studio_flat <- c(42, 1, 4)\n",
    "\n",
    "nest(studio_flat)"
   ]
  },
  {
   "cell_type": "markdown",
   "metadata": {
    "tags": [
     "Bengisu",
     "Kaynar",
     "2018-2019-2",
     "IfElse",
     "Medium"
    ]
   },
   "source": [
    "# NUMBERS THAT ARE DIVISABLE BY 7"
   ]
  },
  {
   "cell_type": "markdown",
   "metadata": {},
   "source": [
    "## QUESTION"
   ]
  },
  {
   "cell_type": "markdown",
   "metadata": {},
   "source": [
    "First run: RNGversion(\"3.3.1\")\n",
    "\n",
    "1) Set seed to 1903\n",
    "\n",
    "2) Create a sample with 27 numbers without replacement between 1 and 100. Name that sample *my_samp*.\n",
    "```R\n",
    "my_samp\n",
    "[1] 68 16 30 34 21 46 23 62 53 78 71 32 64 43 76 61 94 24 92 84 20 87 13 14 56 26 10\n",
    "```\n",
    "3) Try to distinguish the numbers based on their characteristics of being divisible by 7. Give the output \"div\" for those divisible by 7 and \"non\" for others. Assign these ouputs to a new vector called *division*.\n",
    "```R\n",
    "division\n",
    "[1] 'non' 'non' 'non' 'non' 'div' 'non' 'non' 'non' 'non' 'non' 'non' 'non' 'non' 'non' 'non' 'non' 'non' 'non' 'non' 'div' 'non' 'non' 'non' 'div' 'div' 'non' 'non'\n",
    "```\n",
    "4) Find the ratio of \"non\"s to \"div\"s and create a vector for that ratio named *ratio*.\n",
    "```R\n",
    "ratio\n",
    "[1] 5.75\n",
    "```"
   ]
  },
  {
   "cell_type": "markdown",
   "metadata": {},
   "source": [
    "## SOLUTION"
   ]
  },
  {
   "cell_type": "code",
   "execution_count": null,
   "metadata": {},
   "outputs": [],
   "source": [
    "#1\n",
    "RNGversion(\"3.3.1\")\n",
    "set.seed(1903)\n",
    "\n",
    "#2\n",
    "my_samp <- sample(1:100,27, replace = F)\n",
    "\n",
    "#3\n",
    "division <- ifelse(my_samp %% 7 == 0 , \"div\", \"non\")\n",
    "\n",
    "#4\n",
    "ratio <- length(division[division==\"non\"])/length(division[division==\"div\"])\n",
    "ratio"
   ]
  },
  {
   "cell_type": "markdown",
   "metadata": {
    "tags": [
     "2018/2019-1",
     "Babacan",
     "function",
     "if-else",
     "hard"
    ]
   },
   "source": [
    "# NUMBER GAME"
   ]
  },
  {
   "cell_type": "markdown",
   "metadata": {},
   "source": [
    "## QUESTION"
   ]
  },
  {
   "cell_type": "markdown",
   "metadata": {},
   "source": [
    "Three friends; Harun, Ensar, and Bersun share the numbers among themselves.\n",
    "\n",
    " - If a number can be divided by 2 and 3, they call it \"Ensarus number\",\n",
    " - If a number can be divided by 2 or 3 (just one of them), they call it \"Bersunus number\",\n",
    " - If a number can not be divided by 2 and 3, they call it \"Harunus number\".\n",
    " \n",
    "These three are very bad at mathematics so write a function named **number_game** that determines which number it is.\n",
    "\n",
    "```r\n",
    "number_game(4)\n",
    "\n",
    "[1] \"Bersunus number\"\n",
    "\n",
    "number_game(6)\n",
    "\n",
    "[1] \"Ensarus number\"\n",
    "\n",
    "number_game(7)\n",
    "\n",
    "[1] \"Harunus number\"\n",
    "```\n"
   ]
  },
  {
   "cell_type": "markdown",
   "metadata": {},
   "source": [
    "## SOLUTION"
   ]
  },
  {
   "cell_type": "code",
   "execution_count": null,
   "metadata": {},
   "outputs": [],
   "source": [
    "number_game <- function(x)\n",
    "{\n",
    "    if (x %% 2 == 0 && x %% 3 == 0)\n",
    "    {\n",
    "        return(\"Ensarus number\")\n",
    "    }\n",
    "    else if (x %% 2 == 0 || x %% 3 == 0)\n",
    "    {\n",
    "        return(\"Bersunus number\")\n",
    "    }\n",
    "    else\n",
    "    {\n",
    "        return(\"Harunus number\")\n",
    "    }\n",
    "}\n",
    "\n",
    "number_game(4)\n",
    "number_game(6)\n",
    "number_game(7)"
   ]
  },
  {
   "cell_type": "markdown",
   "metadata": {
    "tags": [
     "2019-2020-1",
     "salih",
     "if",
     "else",
     "hard"
    ]
   },
   "source": [
    "# A SPECIAL OFFER"
   ]
  },
  {
   "cell_type": "markdown",
   "metadata": {},
   "source": [
    "## QUESTION "
   ]
  },
  {
   "cell_type": "markdown",
   "metadata": {},
   "source": [
    "A shop’s manager starts a new campaign for the consumers. The campaign offers consumers some discounts for their next expenditures according to their monthly spending. Different conditions for the discounts are listed below :\n",
    "\n",
    "|Condition|Discount|\n",
    "|:--|:-:|\n",
    "|Total monthly spending is at least 750TL  | %50 Discount|\n",
    "|Consumer comes to the shop at least 15 days of the month and buys something | %50 Discount|\n",
    "|Total monthly expenditure is over 500TL| 35% Discount| \n",
    "|Every other amount of expenditure | No Discount |\n",
    "\n",
    "\n",
    "Create a function named  **special_offer**  which takes only one argument named *spending* : a vector which holds a consumer’s expenditure in each day of one month . \n",
    "\n",
    "The function should calculate the discount rate earned by the consumer and should return \"50% Discount\" , \n",
    "\"35% Discount\" or \"No Discount\" according to the required conditions.\n",
    "```R\n",
    "consumer1 <- c(10,10,20,10,5,0,0,0,15,5,10,0,0,0,9,5,5,5,7,0,0,4,0,0,6,0,5,0,0,0)\n",
    "consumer2 <-c(110,0,0,0,0,0,145,0,0,0,0,0,105,0,0,0,160,0,0,120,0,105,0,0,150,0,0,0,0,0)\n",
    "consumer3 <- c(75,75,0,0,0,0,0,0,0,0,0,0,0,0,90,70,60,30,0,0,0,0,0,0,35,70,0,0,0,0)\n",
    "\n",
    "special_offer(consumer1)\n",
    "[1] \"50% Discount\"\n",
    "\n",
    "special_offer(consumer2)\n",
    "[1] \"50% Discount\"\n",
    "\n",
    "special_offer(consumer3)\n",
    "[1] \"35% Discount\"\n",
    "```\n"
   ]
  },
  {
   "cell_type": "markdown",
   "metadata": {},
   "source": [
    "## SOLUTION"
   ]
  },
  {
   "cell_type": "code",
   "execution_count": null,
   "metadata": {},
   "outputs": [],
   "source": [
    "special_offer <- function(spending)\n",
    "{\n",
    "    a <- spending > 0\n",
    "  \n",
    "    if(sum(spending)>= 750 | sum(a)>= 15) return(\"50% Discount\") #Total expenditure is greater than or equal to 750 OR the expenditure is greater than 0 at least 15 days\n",
    "  \n",
    "    else if(sum(spending)> 500) return(\"35% Discount\") #Total expenditure is greater than 500\n",
    "  \n",
    "    else return(\"No Discount\") # Otherwise the consumer does not get any discount\n",
    "}\n",
    "\n",
    "consumer1 <- c(10,10,20,10,5,0,0,0,15,5,10,0,0,0,9,5,5,5,7,0,0,4,0,0,6,0,5,0,0,0)\n",
    "consumer2 <-c(110,0,0,0,0,0,145,0,0,0,0,0,105,0,0,0,160,0,0,120,0,105,0,0,150,0,0,0,0,0)\n",
    "consumer3 <- c(75,75,0,0,0,0,0,0,0,0,0,0,0,0,90,70,60,30,0,0,0,0,0,0,35,70,0,0,0,0)\n",
    "\n",
    "special_offer(consumer1)\n",
    "special_offer(consumer2)\n",
    "special_offer(consumer3)"
   ]
  },
  {
   "cell_type": "markdown",
   "metadata": {
    "tags": [
     "2019-2020-1",
     "salih",
     "nested",
     "if",
     "else",
     "hard"
    ]
   },
   "source": [
    "# A PLACEMENT TEST"
   ]
  },
  {
   "cell_type": "markdown",
   "metadata": {},
   "source": [
    "## QUESTION"
   ]
  },
  {
   "cell_type": "markdown",
   "metadata": {},
   "source": [
    " A placement test consists of Math, English, Physics and Social Sciences tests. Ordering of the participants is done as follows: \n",
    "\n",
    "*  A student with higher total points has a better ranking.\n",
    "*  If two students have the same total points, the one with the highest math score has a better ranking\n",
    "*  If total points and math scores are equal, the student with  higher English score has a better ranking.\n",
    "*  If total points, math and English scores are equal; the students share the same ranking.\n",
    "\n",
    "Create a function named **PT** which takes two arguments named *st1* and  *st2* : two vectors with 4 elements:\n",
    "\n",
    "*\tFirst element is the participant number of the student\n",
    "*\tSecond is the total point,\n",
    "*\tThird is the math score,\n",
    "*\tFourth is the English score.\n",
    "\n",
    "The function should order the students regarding to the required conditions and should return the participant number of the student with higher ranking or “EQUAL” if they share the same ranking.\n",
    "```R\n",
    "Ahmet <- c(1055, 119,39,40)\n",
    "Mehmet <- c(1083,119, 40,40)\n",
    "Esra <- c(1012, 113,35,40)\n",
    "Aylin <- c(1047,115,38,37)\n",
    "Ali <- c(1072, 118,38,40)\n",
    "Gizem <- c(1100,118,38,40)\n",
    "\n",
    "PT(Ahmet, Mehmet)\n",
    "[1]1083\n",
    "\n",
    "PT(Esra, Aylin)\n",
    "[1]1047\n",
    "\n",
    "PT(Ali, Gizem)\n",
    "[1] \"EQUAL\"\n",
    "\n",
    "PT(Ahmet, Mehmet)\n",
    "[1] 1083\n",
    "\n",
    "PT(Esra, Aylin)\n",
    "[1] 1047\n",
    "\n",
    "PT(Ali, Gizem)\n",
    "[1] \"EQUAL\"\n",
    "```\n",
    "\n",
    "\n"
   ]
  },
  {
   "cell_type": "markdown",
   "metadata": {},
   "source": [
    "## SOLUTION"
   ]
  },
  {
   "cell_type": "code",
   "execution_count": null,
   "metadata": {},
   "outputs": [],
   "source": [
    "PT <- function(st1,st2)\n",
    "{ \n",
    "    if(st1[2] != st2[2]) \n",
    "    {\n",
    "        if(st1[2] > st2[2]) return(st1[1])\n",
    "        else return(st2[1]) #If total points are not equal, the one with the greater point has the higher ranking\n",
    "    }\n",
    "    else if(st1[3] != st2[3]) \n",
    "    {\n",
    "        if(st1[3] > st2[3]) return(st1[1])\n",
    "        else return(st2[1]) #Total points are equal, the one with the higher math score has the higher ranking\n",
    "    }\n",
    "    else if(st1[4] != st2[4]) \n",
    "    {\n",
    "        if(st1[4] > st2[4]) return(st1[1])\n",
    "        else return(st2[1]) #If two other point are equal, the one with the higher English score has the higher ranking\n",
    "    }\n",
    "    else return (\"EQUAL\") #Otherwise they share the same ranking\n",
    "}\n",
    "\n",
    "Ahmet <- c(1055, 119,39,40)\n",
    "Mehmet<- c(1083,119, 40,40)\n",
    "Esra <- c(1012, 113,35,40)\n",
    "Aylin <- c(1047,115,38,37)\n",
    "Ali<- c(1072, 118,38,40)\n",
    "Gizem <- c(1100,118,38,40)\n",
    "\n",
    "PT(Ahmet, Mehmet)\n",
    "PT(Esra, Aylin)\n",
    "PT(Ali, Gizem)\n",
    "PT(Ahmet, Mehmet)\n",
    "PT(Esra, Aylin)\n",
    "PT(Ali, Gizem)"
   ]
  }
 ],
 "metadata": {
  "celltoolbar": "Tags",
  "kernelspec": {
   "display_name": "R",
   "language": "R",
   "name": "ir"
  },
  "language_info": {
   "codemirror_mode": "r",
   "file_extension": ".r",
   "mimetype": "text/x-r-source",
   "name": "R",
   "pygments_lexer": "r",
   "version": "3.6.1"
  },
  "toc": {
   "nav_menu": {},
   "number_sections": true,
   "sideBar": true,
   "skip_h1_title": false,
   "toc_cell": false,
   "toc_position": {
    "height": "569.6px",
    "left": "10px",
    "top": "150px",
    "width": "209.4px"
   },
   "toc_section_display": true,
   "toc_window_display": true
  }
 },
 "nbformat": 4,
 "nbformat_minor": 2
}
