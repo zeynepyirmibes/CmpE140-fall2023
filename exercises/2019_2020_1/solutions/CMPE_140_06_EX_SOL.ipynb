{
 "cells": [
  {
   "cell_type": "code",
   "execution_count": null,
   "metadata": {},
   "outputs": [],
   "source": [
    "options(jupyter.rich_display = F)"
   ]
  },
  {
   "cell_type": "markdown",
   "metadata": {
    "tags": [
     "2018-19-2",
     "Yusuf_Dik",
     "function",
     "loop",
     "easy"
    ]
   },
   "source": [
    "# CHEAT MACHINE"
   ]
  },
  {
   "cell_type": "markdown",
   "metadata": {},
   "source": [
    "## QUESTION"
   ]
  },
  {
   "cell_type": "markdown",
   "metadata": {},
   "source": [
    "1) Ceren creates a cheat machine for grades.\n",
    "\n",
    "This machine makes all grades AA. \n",
    "\n",
    "She creates a function which takes a vector with any length and turns all grades into AA.\n",
    "\n",
    "Use **\"grades\"** for the argument name.\n",
    "\n",
    "Name this function **\"happy_parents\"**.\n",
    "\n",
    "2) Try this function with: vec1 <- c(\"BA\",\"CC\",\"DC\")\n",
    "\n",
    "The solution is:\n",
    "```R\n",
    "happy_parents(vec1)\n",
    "\n",
    "[1] \"AA\" \"AA\" \"AA\"\n",
    "```"
   ]
  },
  {
   "cell_type": "markdown",
   "metadata": {},
   "source": [
    "## SOLUTION"
   ]
  },
  {
   "cell_type": "code",
   "execution_count": null,
   "metadata": {},
   "outputs": [],
   "source": [
    "#1\n",
    "happy_parents <- function(grades)\n",
    "{\n",
    "  for (i in 1:length(grades)) \n",
    "  {\n",
    "    grades[i] <- \"AA\"\n",
    "  }\n",
    "  return(grades)\n",
    "}\n",
    "\n",
    "#2\n",
    "vec1 <- c(\"BA\",\"CC\",\"DC\")\n",
    "happy_parents(vec1)\n"
   ]
  },
  {
   "cell_type": "markdown",
   "metadata": {
    "tags": [
     "2019-2020-1",
     "Baran",
     "repeat",
     "loop",
     "medium"
    ]
   },
   "source": [
    "# COMPOUNDING INTEREST "
   ]
  },
  {
   "cell_type": "markdown",
   "metadata": {},
   "source": [
    "## QUESTION"
   ]
  },
  {
   "cell_type": "markdown",
   "metadata": {},
   "source": [
    "Write a function called **\"interest\"** which will calculate the years it takes an amount of money to reach a desired sum by accruing interest. Calculate the added interest by updating the money sum each year, compounding the interest. The function should receive the arguments of **\"start\"** (which denotes the money at the start), **\"end\"** (which denotes desired sum at the end) and the yearly interest rate. The function should return the years required to reach the **\"end\"** sum. \n",
    "\n",
    "**HINT:** The process of compounding the interest is simple, however since it requires many repetitions, please create the function by using the ***repeat*** loop. Before the loop, create a variable to keep track of which year you are currently calcuating for. For every operation, increase this by 1. Do not forget to ***break*** the loop when the value of our money is greater than or equal to the desired value.\n",
    "\n",
    "Thus, you should have a function as such: \n",
    "\n",
    "\n",
    "```r\n",
    "interest(start = 1000, end = 2000, rate = 0.10)\n",
    "[1] 8\n",
    "```"
   ]
  },
  {
   "cell_type": "markdown",
   "metadata": {},
   "source": [
    "## SOLUTION"
   ]
  },
  {
   "cell_type": "code",
   "execution_count": null,
   "metadata": {},
   "outputs": [],
   "source": [
    "# using while\n",
    "interest <- function(start, end , rate) #function has 3 inputs\n",
    "{\n",
    "    years <- 0 #this will keep track of years\n",
    "    while(start < end)\n",
    "    { #we use repeat to loop the compounding operation\n",
    "        years <- years + 1 #for every compounding, a year has passed\n",
    "        start <- start * (1 + rate) \n",
    "    }\n",
    "    return(years)\n",
    "}\n",
    "\n",
    "interest(start = 1000, end = 2000, rate = 0.10)\n",
    "\n",
    "# using repeat, prefer the above solution. but this is just for demonstrating repeat loop\n",
    "interest <- function(start, end , rate) #function has 3 inputs\n",
    "{\n",
    "    years <- 0 #this will keep track of years\n",
    "    repeat{ #we use repeat to loop the compounding operation\n",
    "        years <- years + 1 #for every compounding, a year has passed\n",
    "        start <- start * (1 + rate) \n",
    "        if(start >= end){break} #don't forget to break the loop\n",
    "    }\n",
    "    return(years)\n",
    "}\n",
    "\n",
    "interest(start = 1000, end = 2000, rate = 0.10)"
   ]
  },
  {
   "cell_type": "markdown",
   "metadata": {
    "tags": [
     "2019/2020-1",
     "SaadetZeynepCilingir",
     "Vector",
     "Function",
     "While_Loop",
     "Relational_Operators",
     "Medium"
    ]
   },
   "source": [
    "# PLAY THE GAME"
   ]
  },
  {
   "cell_type": "markdown",
   "metadata": {},
   "source": [
    "## QUESTION"
   ]
  },
  {
   "cell_type": "markdown",
   "metadata": {},
   "source": [
    "Four friends play a game of choosing 4 numbers from 1 to 10 in a particular order to match a predecided key. If one successfully predicts the number and its order correctly, he/she gets $10 for each correct guess.\n",
    "\n",
    "1) Set RNGversion to \"3.3.1\" and seed to **\"2019\"**.\n",
    "\n",
    "2) Create a variable named **\"key\"** with 4 random numbers between 1 and 10 (no replacement).\n",
    "\n",
    "3) Do the same for **\"ali\"**, **\"veli\"**, **\"ayse\"**,and **\"fatma\"**.\n",
    "\n",
    "4) Write a function **\"guess_dollars\"** that takes **\"guess\"** and **\"correction\"** with the default value **\"key\"** as arguments.\n",
    "\n",
    "5) Use the function to find out how much each friend gets.\n",
    "\n",
    "**HINT**: The function should check how much money each person gets. Use a **\"while\"** loop to do this.\n",
    "\n",
    "```R\n",
    "guess_dollars(guess = ali)\n",
    "[1] 0\n",
    "\n",
    "guess_dollars(guess = veli)\n",
    "[1] 10\n",
    "\n",
    "guess_dollars(guess = ayse)\n",
    "[1] 10\n",
    "\n",
    "guess_dollars(guess = fatma)\n",
    "[1] 20\n",
    "\n",
    "```"
   ]
  },
  {
   "cell_type": "markdown",
   "metadata": {},
   "source": [
    "## SOLUTION"
   ]
  },
  {
   "cell_type": "code",
   "execution_count": null,
   "metadata": {},
   "outputs": [],
   "source": [
    "#1\n",
    "RNGversion(\"3.3.1\")\n",
    "set.seed(2019)\n",
    "\n",
    "#2\n",
    "key <- sample(1:10, 4)\n",
    "\n",
    "#3\n",
    "ali <- sample(1:10, 4)\n",
    "veli <- sample(1:10, 4)\n",
    "ayse <- sample(1:10, 4)\n",
    "fatma <- sample(1:10, 4)\n",
    "\n",
    "#4\n",
    "guess_dollars <- function(guess, correction = key)\n",
    "{\n",
    "    num_correct <- 0\n",
    "    for (n in 1:4)\n",
    "    {\n",
    "        if (guess[n] == correction[n])\n",
    "        {\n",
    "            num_correct <- num_correct + 1\n",
    "        }\n",
    "    }\n",
    "\n",
    "    return(num_correct * 10)\n",
    "\n",
    "}\n",
    "\n",
    "#5\n",
    "guess_dollars(guess = ali)\n",
    "guess_dollars(guess = veli)\n",
    "guess_dollars(guess = ayse)\n",
    "guess_dollars(guess = fatma)"
   ]
  },
  {
   "cell_type": "markdown",
   "metadata": {
    "tags": [
     "2018-19-2",
     "Yusuf_Dik",
     "loop",
     "medium"
    ]
   },
   "source": [
    "# MARIE'S DESKMATE"
   ]
  },
  {
   "cell_type": "markdown",
   "metadata": {},
   "source": [
    "## QUESTION"
   ]
  },
  {
   "cell_type": "markdown",
   "metadata": {},
   "source": [
    "When Marie is in the break, Marie's deskmate brakes her pencils.\n",
    "\n",
    "1) Since she always breaks Marie's pencils, the deskmate creates a function named **\"apologising\"** from her.\n",
    "\n",
    "The function takes an integer which the number of the pencils and returns *\"I am sorry Marie.\"* statement square of the number times. You can name the integer as **number** for the function.\n",
    "\n",
    "\n",
    "```r\n",
    "apologising(4)\n",
    "\n",
    " [1] \"I am sorry Marie.\" \"I am sorry Marie.\" \"I am sorry Marie.\"\n",
    " [4] \"I am sorry Marie.\" \"I am sorry Marie.\" \"I am sorry Marie.\"\n",
    " [7] \"I am sorry Marie.\" \"I am sorry Marie.\" \"I am sorry Marie.\"\n",
    "[10] \"I am sorry Marie.\" \"I am sorry Marie.\" \"I am sorry Marie.\"\n",
    "[13] \"I am sorry Marie.\" \"I am sorry Marie.\" \"I am sorry Marie.\"\n",
    "[16] \"I am sorry Marie.\"\n",
    "```"
   ]
  },
  {
   "cell_type": "markdown",
   "metadata": {},
   "source": [
    "## SOLUTION"
   ]
  },
  {
   "cell_type": "code",
   "execution_count": null,
   "metadata": {},
   "outputs": [],
   "source": [
    "#1\n",
    "apologising <- function(number)\n",
    "{\n",
    "  vec <- c()\n",
    "  for (a in 1:(number^2))\n",
    "  {\n",
    "    vec <- c(vec, \"I am sorry Marie.\")\n",
    "  }\n",
    "  return(vec)\n",
    "}\n",
    "\n",
    "#2\n",
    "apologising(4)\n",
    "apologising(7)"
   ]
  },
  {
   "cell_type": "markdown",
   "metadata": {
    "tags": [
     "2018-19-2",
     "Ubeyd_Oktem",
     "break",
     "for_loop",
     "loop",
     "medium"
    ]
   },
   "source": [
    "# BROKE FRIENDS"
   ]
  },
  {
   "cell_type": "markdown",
   "metadata": {},
   "source": [
    "## QUESTION"
   ]
  },
  {
   "cell_type": "markdown",
   "metadata": {},
   "source": [
    "1) Write a function named **\"break_point\"**.\n",
    "\n",
    "This function should take two arguments, a vector and vector's one element.\n",
    "\n",
    "It should return all elements in the vector before the second argument of the function.\n",
    "\n",
    "**HINT:** Use \"*for*\" loop and \"*break*\" statement.\n",
    "```r\n",
    "break_point(names_vector, \"Ece\")\n",
    "[1] \"Ahmet\"  \"Mehmet\" \"Cem\"    \"Elif\"  \n",
    "```"
   ]
  },
  {
   "cell_type": "markdown",
   "metadata": {},
   "source": [
    "## SOLUTION"
   ]
  },
  {
   "cell_type": "code",
   "execution_count": null,
   "metadata": {},
   "outputs": [],
   "source": [
    "#1\n",
    "break_point <- function(x, y)\n",
    "{\n",
    "    m <- c()\n",
    "    \n",
    "    for(i in 1:length(x))\n",
    "    {\n",
    "        if(x[i] == y)\n",
    "        {\n",
    "            break\n",
    "        }\n",
    "            else\n",
    "        {\n",
    "            m <- c(m, x[i])\n",
    "        }\n",
    "  }\n",
    "    \n",
    "  return(m)\n",
    "}\n",
    "\n",
    "names_vector <- c(\"Ahmet\", \"Mehmet\",\"Cem\", \"Elif\", \"Ece\", \"Fatma\")\n",
    "\n",
    "break_point(names_vector, \"Ece\")"
   ]
  },
  {
   "cell_type": "markdown",
   "metadata": {
    "tags": [
     "Yahya",
     "Fatih",
     "Arslantürk",
     "2018-2019-2",
     "While",
     "Medium"
    ]
   },
   "source": [
    "# DELETING UNWANTED ELEMENTS"
   ]
  },
  {
   "cell_type": "markdown",
   "metadata": {},
   "source": [
    "## QUESTION"
   ]
  },
  {
   "cell_type": "markdown",
   "metadata": {},
   "source": [
    "In binary system the word \"Hello\" is represented by 40 numbers consisted of 0s and 1s. \n",
    "\n",
    "However in our vector there are some parasites distorting the message.\n",
    "\n",
    "To fix the message write a function **correct** that takes a single argument **vec** and runs a while loop that exclude the parasites out of the vector \"Hello\" and assign the original message to \"**Hello_binary**\".\n",
    "\n",
    "```R\n",
    "Hello <- c(0, 2, 1, 0, 0, 1, 0, 3, 0, 0, 5, 0, 1, 1, 0, 6, 0, 1, 0, \n",
    "           1, 4, 0, 1, 1, 0, 2, 1, 1, 0, 0, 0, 1, 7, 1, 0, 1, 1, 2, \n",
    "           0, 0, 0, 1, 1, 0, 1, 1, 1, 1)\n",
    "\n",
    "correct(vec = Hello)\n",
    "\n",
    " [1] 0 1 0 0 1 0 0 0 0 1 1 0 0 1 0 1 0 1 1 0 1 1 0 0 0 1 1 0 1 1 0 0 0 1 1 0 1 1\n",
    "[39] 1 1\n",
    "```"
   ]
  },
  {
   "cell_type": "markdown",
   "metadata": {},
   "source": [
    "## SOLUTION"
   ]
  },
  {
   "cell_type": "code",
   "execution_count": null,
   "metadata": {},
   "outputs": [],
   "source": [
    "Hello <- c(0, 2, 1, 0, 0, 1, 0, 3, 0, 0, 5, 0, 1, 1, 0, 6, 0, 1, 0, \n",
    "           1, 4, 0, 1, 1, 0, 2, 1, 1, 0, 0, 0, 1, 7, 1, 0, 1, 1, 2, \n",
    "           0, 0, 0, 1, 1, 0, 1, 1, 1, 1)\n",
    "\n",
    "correct <- function(vec)\n",
    "{\n",
    "\n",
    "    vec_binary <- c()\n",
    "    i <- 0\n",
    "\n",
    "    for(i in seq_along(vec))\n",
    "    {\n",
    "      if (vec[i] == 0 || vec[i] == 1)\n",
    "      {\n",
    "          vec_binary <- c(vec_binary, Hello[i])\n",
    "      }\n",
    "    }\n",
    "\n",
    "    return(vec_binary)\n",
    "}\n",
    "\n",
    "correct(vec = Hello)"
   ]
  },
  {
   "cell_type": "markdown",
   "metadata": {
    "tags": [
     "2019/2020-1",
     "SinanKanidinc",
     "Function",
     "For_Loop",
     "Medium"
    ]
   },
   "source": [
    "# SUCCESSFUL/UNSUCCESSFUL"
   ]
  },
  {
   "cell_type": "markdown",
   "metadata": {},
   "source": [
    "## QUESTION"
   ]
  },
  {
   "cell_type": "markdown",
   "metadata": {},
   "source": [
    "1) A teacher wants to create a function named **results** that takes two arguments, the answers of students as **answers** and the answer key as **true_answers** with the default value of **key**.\n",
    "\n",
    "2) Store the number of correct answers in **\"correct_ans\"**.\n",
    "\n",
    "3) If the number of correct answers is more than **3**, the function returns the number of correct answers and **\"Successful\"**.\n",
    "\n",
    "4) Otherwise, it returns the number of correct answers and **\"Unsuccessful\"**.\n",
    "\n",
    "\n",
    "```r\n",
    "answers_jay <- c(\"yes\",\"yes\",\"no\",\"yes\",\"no\",\"yes\",\"yes\")\n",
    "key <- c(\"no\",\"no\",\"yes\",\"yes\",\"yes\",\"no\",\"yes\")\n",
    "\n",
    "results(answers_jay)\n",
    "[1] \"2\"            \"Unsuccessful\"\n",
    "```"
   ]
  },
  {
   "cell_type": "markdown",
   "metadata": {},
   "source": [
    "## SOLUTION"
   ]
  },
  {
   "cell_type": "code",
   "execution_count": null,
   "metadata": {},
   "outputs": [],
   "source": [
    "#1\n",
    "results <- function(answers , true_answers=key){\n",
    "    \n",
    "#2\n",
    "  correct_ans <- 0\n",
    "  for(i in 1:length(answers)){\n",
    "    if(answers[i]==true_answers[i]){\n",
    "      correct_ans <- correct_ans +1 \n",
    "    }\n",
    "  }\n",
    "    \n",
    "#3\n",
    "  if(correct_ans > 3){\n",
    "      return(c(correct_ans, \"Successful\"))\n",
    "    }\n",
    "    \n",
    "#4\n",
    "  if(correct_ans < 4){\n",
    "      return(c(correct_ans,\"Unsuccessful\"))\n",
    "  } \n",
    "}\n",
    "\n",
    "#5\n",
    "answers_jay <- c(\"yes\",\"yes\",\"no\",\"yes\",\"no\",\"yes\",\"yes\")\n",
    "key <- c(\"no\",\"no\",\"yes\",\"yes\",\"yes\",\"no\",\"yes\")\n",
    "results(answers_jay)"
   ]
  },
  {
   "cell_type": "markdown",
   "metadata": {
    "tags": [
     "2019-2020-1",
     "MuhammetAhmetBabacan",
     "loops",
     "medium"
    ]
   },
   "source": [
    "# PRINT VALUE"
   ]
  },
  {
   "cell_type": "markdown",
   "metadata": {},
   "source": [
    "## QUESTION"
   ]
  },
  {
   "cell_type": "markdown",
   "metadata": {},
   "source": [
    "1) Collect and return the values of the variable **Intgr**, decrementing it by 0.5 each time, as long as **Intgr** remains positive.\n",
    "\n",
    "- Write your function by using a while loop.\n",
    "\n",
    "2) Your function should yield results such as:\n",
    "\n",
    "```R\n",
    "print_value_while(5)\n",
    "\n",
    "[1] 4.5 4.0 3.5 3.0 2.5 2.0 1.5 1.0 0.5\n",
    "```"
   ]
  },
  {
   "cell_type": "markdown",
   "metadata": {},
   "source": [
    "## SOLUTION"
   ]
  },
  {
   "cell_type": "code",
   "execution_count": null,
   "metadata": {},
   "outputs": [],
   "source": [
    "#1\n",
    "print_value_while <- function(Intgr) {\n",
    "    vec <- c()\n",
    "    while(Intgr > 0.5)\n",
    "    {\n",
    "        Intgr <- Intgr - 0.5\n",
    "        vec <- c(vec, Intgr)\n",
    "    }\n",
    "    \n",
    "    return(vec)\n",
    "}\n",
    "\n",
    "print_value_while(5)"
   ]
  },
  {
   "cell_type": "markdown",
   "metadata": {
    "tags": [
     "2019-2020-1",
     "MuhammetAhmetBabacan",
     "loops",
     "medium"
    ]
   },
   "source": [
    "# THE LARGEST FACTOR"
   ]
  },
  {
   "cell_type": "markdown",
   "metadata": {},
   "source": [
    "## QUESTION "
   ]
  },
  {
   "cell_type": "markdown",
   "metadata": {},
   "source": [
    "1) Write a function called \"**largest_factor**\" by using a while loop to calculate the largest factor of a number.\n",
    "\n",
    "2) Your function should yield results such as:\n",
    "\n",
    "\n",
    "```R\n",
    "largest_factor(24)\n",
    "\n",
    "[1] 12\n",
    "\n",
    "largest_factor(43)\n",
    "\n",
    "[1] 1\n",
    "```"
   ]
  },
  {
   "cell_type": "markdown",
   "metadata": {},
   "source": [
    "## SOLUTION"
   ]
  },
  {
   "cell_type": "code",
   "execution_count": null,
   "metadata": {},
   "outputs": [],
   "source": [
    "largest_factor <- function(number) {\n",
    "\n",
    "    i <- 1\n",
    "    vec <- c()\n",
    "    \n",
    "    while (i < (number-1))\n",
    "    {\n",
    "        if(number %% i == 0)\n",
    "        {\n",
    "            vec <- c(vec,i)\n",
    "        }\n",
    "        \n",
    "        i <- i + 1\n",
    "    }\n",
    "    \n",
    "    factor <- max(vec)\n",
    "    return(factor)\n",
    "\n",
    "}"
   ]
  },
  {
   "cell_type": "markdown",
   "metadata": {
    "tags": [
     "2018-2019-1",
     "fatih",
     "loops",
     "if",
     "else",
     "medium"
    ]
   },
   "source": [
    "# UNIVERSITY DETECTOR"
   ]
  },
  {
   "cell_type": "markdown",
   "metadata": {},
   "source": [
    "## QUESTION"
   ]
  },
  {
   "cell_type": "markdown",
   "metadata": {},
   "source": [
    "1) Bernard wants to apply to a university in Europe. He has some criteria for his education and he wants to make the best decision. Create a vector called **\"bernards_desires\"** as such:\n",
    "\n",
    "```r\n",
    "bernards_desires <- c(country=\"England\",\n",
    "                      city=\"big\", \n",
    "                      language=\"English\",\n",
    "                      accomodation=\"dorm\",\n",
    "                      scholarship=\"yes\")\n",
    "```\n",
    "2) Create 4 vectors, each representing the universities' properties as such:\n",
    "```r\n",
    "Manchester <- c(\"England\", \"big\", \"English\", \"apart\", \"yes\")\n",
    "Strasbourg <- c(\"France\", \"big\", \"French\", \"dorm\", \"yes\")\n",
    "Berlin <- c(\"Germany\", \"small\", \"English\", \"apart\", \"no\")\n",
    "Ghent <- c(\"Belgium\", \"big\", \"Flemish\", \"dorm\", \"no\")\n",
    "```\n",
    "- If the school has at least 3 of his desires, he is okay with it.\n",
    "\n",
    "3) Create a function called **\"unidetector\"** which matches bernards_desires with universities' properties and returns either \"Good choice\" or \"Not a good choice\" as such:\n",
    "\n",
    "```r\n",
    "unidetector(x = Berlin, desires = bernards_desires)\n",
    "[1] \"Not a good choice\"\n",
    "```"
   ]
  },
  {
   "cell_type": "markdown",
   "metadata": {},
   "source": [
    "## SOLUTION"
   ]
  },
  {
   "cell_type": "code",
   "execution_count": null,
   "metadata": {},
   "outputs": [],
   "source": [
    "\n",
    "#1)\n",
    "\n",
    "bernards_desires <- c(country=\"England\", city=\"big\", language=\"English\", accomodation=\"dorm\", scholarship=\"yes\")\n",
    "\n",
    "Manchester <- c(\"England\", \"big\", \"English\", \"apart\", \"yes\")\n",
    "Strasbourg <- c(\"France\", \"big\", \"French\", \"dorm\", \"yes\")\n",
    "Berlin <- c(\"Germany\", \"small\", \"English\", \"apart\", \"no\")\n",
    "Ghent <- c(\"Belgium\", \"big\", \"Flemish\", \"dorm\", \"no\")\n",
    "\n",
    "unidetector <- function(x, desires)\n",
    "{\n",
    "  checks <- 0\n",
    "  for (i in 1:length(x)) {\n",
    "    if(x[i] == desires[i]){\n",
    "      checks <- checks + 1\n",
    "    }\n",
    "  }\n",
    "  if(checks < 3){\n",
    "    print(\"Not a good choice\")\n",
    "  } else {\n",
    "    print(\"Good choice\")\n",
    "    }\n",
    "}\n",
    "\n",
    "unidetector(x = Manchester, desires = bernards_desires)\n",
    "unidetector(x = Strasbourg, desires = bernards_desires)\n",
    "unidetector(x = Berlin, desires = bernards_desires)\n",
    "unidetector(x = Ghent, desires = bernards_desires)"
   ]
  },
  {
   "cell_type": "markdown",
   "metadata": {
    "tags": [
     "2018-2019-2",
     "ipek",
     "loops",
     "for",
     "else",
     "medium"
    ]
   },
   "source": [
    "# LEAP YEARS"
   ]
  },
  {
   "cell_type": "markdown",
   "metadata": {},
   "source": [
    "## QUESTION"
   ]
  },
  {
   "cell_type": "markdown",
   "metadata": {},
   "source": [
    "1) Write a function to find the numbers divisible by a number \"**num3**\", between two numbers \"**num1**\" and \"**num2**\".\n",
    "\n",
    "2) Find the leap years between 1914 and 1999. How many are there?\n",
    "\n",
    "```R\n",
    "divides(1914, 1999, 4)\n",
    " [1] 1916 1920 1924 1928 1932 1936 1940 1944 1948 1952 1956 1960 1964 1968 1972\n",
    "[16] 1976 1980 1984 1988 1992 1996\n",
    "\n",
    "length(divides(1914, 1999, 4))\n",
    "[1] 21\n",
    "```"
   ]
  },
  {
   "cell_type": "markdown",
   "metadata": {},
   "source": [
    "## SOLUTION"
   ]
  },
  {
   "cell_type": "code",
   "execution_count": null,
   "metadata": {},
   "outputs": [],
   "source": [
    "#1)\n",
    "divides <- function(num1, num2, num3){\n",
    "  result <- c()\n",
    "  for(i in num1:num2){\n",
    "    if(i %% num3 == 0){\n",
    "      result <- c(result, i)\n",
    "    }\n",
    "  }\n",
    "  return(result)\n",
    "}\n",
    "\n",
    "#2)\n",
    "divides(1914, 1999, 4)\n",
    "length(divides(1914, 1999, 4))"
   ]
  },
  {
   "cell_type": "markdown",
   "metadata": {
    "tags": [
     "2019-2010-1",
     "selin",
     "loops",
     "while_loop",
     "sum",
     "medium"
    ]
   },
   "source": [
    "# TOTAL PAGES TO READ"
   ]
  },
  {
   "cell_type": "markdown",
   "metadata": {},
   "source": [
    "## QUESTION"
   ]
  },
  {
   "cell_type": "markdown",
   "metadata": {},
   "source": [
    "Ali's teacher gives him 10 books to read and two weeks to read them. The teacher asks the students to report the number of total pages they read at the end of the week. Ali decides to read the books with the number of pages less than 400 in the first week. Given the number of pages below, he needs to find the total pages he will read in this first week. \n",
    "\n",
    "```r\n",
    " Book_1  Book_2   Book_3    Book_4   Book_5   Book_6  Book_7   Book_8   Book_9   Book_10 \n",
    "  62      299      551       242      172      417     126      328       346      255\n",
    "```\n",
    "\n",
    "1) Create a vector named **\"numof_pages\"** containing the page numbers above.\n",
    "\n",
    "2) Create a function named **\"total_pages\"** which takes the argument *page_count*.\n",
    "\n",
    "3) Use a **for** loop \n",
    "\n",
    "4) Check if the number of pages in a book is less than 200.\n",
    "\n",
    "5) If condition 2) holds, update the sum of number of pages.\n",
    "\n",
    "6) The function should return the sum of the total number of pages\n",
    "\n",
    "7) Apply your function to see that the total pages Ali will read is 1830."
   ]
  },
  {
   "cell_type": "markdown",
   "metadata": {},
   "source": [
    "## SOLUTION"
   ]
  },
  {
   "cell_type": "code",
   "execution_count": null,
   "metadata": {},
   "outputs": [],
   "source": [
    "#1\n",
    "numof_pages <- c(62, 299, 551, 242, 172, 417, 126, 328, 346, 255)\n",
    "\n",
    "#2\n",
    "total_pages <- function(page_count)\n",
    "{\n",
    "  i <- 1\n",
    "  sm <- 0\n",
    "#3\n",
    "  for (i in seq_along(page_count)) \n",
    "  {\n",
    "#4      \n",
    "    if ( page_count[i] < 400 )\n",
    "    {\n",
    "#5        \n",
    "      sm <- sm + page_count[i]\n",
    "     \n",
    "    }\n",
    "     \n",
    "  }\n",
    "    \n",
    "#6   \n",
    "  return(sm)\n",
    "}\n",
    "\n",
    "#7\n",
    "total_pages(numof_pages)"
   ]
  },
  {
   "cell_type": "markdown",
   "metadata": {
    "tags": [
     "2019/2020-1",
     "for_loop",
     "yfatih",
     "medium"
    ]
   },
   "source": [
    "# EXPONENTIAL LOOP"
   ]
  },
  {
   "cell_type": "markdown",
   "metadata": {},
   "source": [
    "## QUESTION"
   ]
  },
  {
   "cell_type": "markdown",
   "metadata": {},
   "source": [
    "1) Set RNGversion to \"3.3.1\" and seed to 2705 and create a vector named **\"my_samp\"** which takes different 10 integers.\n",
    "\n",
    "2) Now take i'th power of every single number in **\"my_samp\"** vector and put them in another vector **\"my_exp\"**. ( If third number in your vector is 4, then in your new vector third number should be 4 over 3 )\n",
    "\n",
    "3) Check your new **\"my_exp\"**.\n",
    "\n",
    "```r\n",
    "my_exp\n",
    "[1] 12 3969 97336 13845841 52521875 47045881 1.6384e+11 1099511627776 5429503678976 732668047258620108\n",
    "```\n"
   ]
  },
  {
   "cell_type": "markdown",
   "metadata": {},
   "source": [
    "## SOLUTION"
   ]
  },
  {
   "cell_type": "code",
   "execution_count": null,
   "metadata": {},
   "outputs": [],
   "source": [
    "#1\n",
    "RNGversion(\"3.3.1\")\n",
    "set.seed(2705)\n",
    "my_samp <- sample(1:100, 10)\n",
    "\n",
    "#2\n",
    "my_exp <- c()\n",
    "\n",
    "for(i in 1:length(my_samp))\n",
    "{\n",
    "  my_exp[i] <- my_samp[i]^i\n",
    "}\n",
    "\n",
    "#3\n",
    "my_exp"
   ]
  },
  {
   "cell_type": "markdown",
   "metadata": {
    "tags": [
     "İpek",
     "Özdemir",
     "While",
     "2018-2019-2",
     "Medium"
    ]
   },
   "source": [
    "# DIET CALCULATOR"
   ]
  },
  {
   "cell_type": "markdown",
   "metadata": {},
   "source": [
    "## QUESTION"
   ]
  },
  {
   "cell_type": "markdown",
   "metadata": {},
   "source": [
    "Deniz is trying to lose weight. He starts a diet on week 1. \n",
    "\n",
    "Every week, he loses 4 percent of his original weight, but gains 0.1 kg of muscle.\n",
    "\n",
    "He starts on week 1 with \"**start**\" kg, default is 120.\n",
    "\n",
    "He wants to reach \"**end**\" kg, default is 80. \n",
    "\n",
    "Write a function named \"**diet**\" to calculate how many weeks he must diet.\n",
    "\n",
    "```R\n",
    "diet(100, 60)\n",
    "\n",
    "[1] 12\n",
    "```"
   ]
  },
  {
   "cell_type": "markdown",
   "metadata": {},
   "source": [
    "## SOLUTION"
   ]
  },
  {
   "cell_type": "code",
   "execution_count": null,
   "metadata": {},
   "outputs": [],
   "source": [
    "diet <- function(start = 120, end = 80){\n",
    "  kg_now <- start\n",
    "  week <- 1\n",
    "    \n",
    "  while(kg_now > end){\n",
    "    kg_now <- kg_now - start * 0.04 + 0.1\n",
    "    week <- week + 1\n",
    "  }\n",
    "    \n",
    "  return(week)\n",
    "}\n",
    "\n",
    "diet(100, 60)"
   ]
  },
  {
   "cell_type": "markdown",
   "metadata": {
    "tags": [
     "Bengisu",
     "Kaynar",
     "2018-2019-2",
     "NestedLoops",
     "Hard"
    ]
   },
   "source": [
    "# FIRST SUPPER"
   ]
  },
  {
   "cell_type": "markdown",
   "metadata": {},
   "source": [
    "## QUESTION"
   ]
  },
  {
   "cell_type": "markdown",
   "metadata": {},
   "source": [
    "Margaret ,who wrote a code to find her prospective husband previously, eventually met her prince charming.\n",
    "\n",
    "This time, she will meet his family. \n",
    "\n",
    "In order to arrange a day to meet, she creates a for loop with schedules of her, her boyfriend, and his family.\n",
    "\n",
    "She is available from the first day to the 30rd day of month by 4 days.\n",
    "\n",
    "Her boyfriend is free in the 1st, 8th, 15th, 21th and 28th days of month.\n",
    "\n",
    "Her boyfriend's family is free during random 13 days in this month. Use:\n",
    "\n",
    "```R\n",
    "RNGversion(\"3.3.1\")\n",
    "set.seed(2019)\n",
    "```\n",
    "\n",
    "Note: This month consists of 30 days.\n",
    "\n",
    "\n",
    "1) Create a nested loop to find her, her boyfriend's and his family's common available days.\n",
    "\n",
    "2) Assign the result to a vector called \"**aksam_yemegi**\".\n",
    "\n",
    "\n",
    "```R\n",
    "mex\n",
    "\n",
    "[1]  1  5  9 13 17 21 25 29\n",
    "\n",
    "himx\n",
    "\n",
    "[1]  1  8 15 21 28\n",
    "\n",
    "his_familyx\n",
    "\n",
    " [1] 24 21  9 17  2 26 20  1  3 13 16 29  4\n",
    "\n",
    "daymatch(mex, himx, his_familyx)\n",
    "\n",
    "[1]  1 21\n",
    "\n",
    "```"
   ]
  },
  {
   "cell_type": "markdown",
   "metadata": {},
   "source": [
    "## SOLUTION"
   ]
  },
  {
   "cell_type": "code",
   "execution_count": null,
   "metadata": {},
   "outputs": [],
   "source": [
    "RNGversion(\"3.3.1\")\n",
    "set.seed(2019)\n",
    "\n",
    "mex <- seq(1,30,by=4)\n",
    "himx <- c(1,8,15,21,28)\n",
    "his_familyx <- sample(1:30,13)\n",
    "\n",
    "daymatch <- function(me, him, his_family)\n",
    "{\n",
    "    aksam_yemegi <- c()\n",
    "\n",
    "    for (i in 1:length(me))\n",
    "    {\n",
    "        for (j in 1:length(his_family))\n",
    "        {\n",
    "            for (k in 1:length(him))\n",
    "            {\n",
    "                if(me[i]==him[k] && me[i] == his_family[j])\n",
    "                {\n",
    "                    aksam_yemegi <- c(aksam_yemegi,me[i])\n",
    "                }\n",
    "            }\n",
    "        }\n",
    "    }\n",
    "    \n",
    "   return(aksam_yemegi) \n",
    "}\n",
    "\n",
    "mex\n",
    "himx\n",
    "his_familyx\n",
    "daymatch(mex, himx, his_familyx)"
   ]
  },
  {
   "cell_type": "markdown",
   "metadata": {
    "tags": [
     "2019-2020-1",
     "Baran",
     "nested",
     "loop",
     "for",
     "hard"
    ]
   },
   "source": [
    "# AN EVENING DANCE"
   ]
  },
  {
   "cell_type": "markdown",
   "metadata": {},
   "source": [
    "## QUESTION"
   ]
  },
  {
   "cell_type": "markdown",
   "metadata": {},
   "source": [
    "You are the manager of a dance studio. You wish to teach your students waltz, which requires a partner. So, you want to \n",
    "write down couples, which will consist of a woman and a man. Periodically, people alternate their dance partners so that any given male dances with each female, and vice versa.\n",
    "\n",
    "For example, for 3 males and 3 females, you should have 9 possible partners.\n",
    "\n",
    "1) So, write a function **\"dance\"** which will draw names from a vector of male names and create partners by matching this name with every name from a vector of female names. Write the function such that it works for vectors of any length. So, it should have two inputs **\"vec1\"** and **\"vec2\"**. Within the function, create a vector **\"partners\"** where you will write down every possible partner, and return this vector in the end. \n",
    "\n",
    "Write the function by utilizing two ***for*** loops, one nested within another. These ***for*** loops will denote the index of the vectors, hence we have two of them. They should begin at 1 for the first index, and end at the length of that vector. Also, you may use the\n",
    "***paste*** function in order to join the names so that you can join two separate names into a single item within a vector.\n",
    "\n",
    "For example:\n",
    "\n",
    "```r\n",
    "paste(\"Ahmet\", \"Ayse\")\n",
    "[1] \"Ahmet Ayse\"\n",
    "```\n",
    "\n",
    "2) Test your function by creating a vector for the following names and inserting these into the function:\n",
    "```r\n",
    "males <- c(\"Ahmet\", \"Hakan\", \"Ali\", \"Kaan\" , \"Serkan\")\n",
    "females <- c(\"Ayşe\", \"Fatma\", \"Ceren\", \"Elif\", \"Bilge\")\n",
    "\n",
    " [1] \"Ahmet Ayşe\"   \"Ahmet Fatma\"  \"Ahmet Ceren\"  \"Ahmet Elif\"   \"Ahmet Bilge\" \n",
    " [6] \"Hakan Ayşe\"   \"Hakan Fatma\"  \"Hakan Ceren\"  \"Hakan Elif\"   \"Hakan Bilge\" \n",
    "[11] \"Ali Ayşe\"     \"Ali Fatma\"    \"Ali Ceren\"    \"Ali Elif\"     \"Ali Bilge\"   \n",
    "[16] \"Kaan Ayşe\"    \"Kaan Fatma\"   \"Kaan Ceren\"   \"Kaan Elif\"    \"Kaan Bilge\"  \n",
    "[21] \"Serkan Ayşe\"  \"Serkan Fatma\" \"Serkan Ceren\" \"Serkan Elif\"  \"Serkan Bilge\"\n",
    "```"
   ]
  },
  {
   "cell_type": "markdown",
   "metadata": {},
   "source": [
    "## SOLUTION"
   ]
  },
  {
   "cell_type": "code",
   "execution_count": null,
   "metadata": {},
   "outputs": [],
   "source": [
    "#1 Create the Function\n",
    "\n",
    "dance <- function(vec1, vec2){ #function takes input of two names vectors\n",
    "  partners <- c() #we will write down partners into this vector\n",
    "  for(i in 1:(length(vec1))){ #index for first vector\n",
    "    for(j in 1:(length(vec2))){ #index for second vector\n",
    "     partners <- c(partners, paste(vec1[i], vec2[j])) #use the paste function to join names, since it joins two names into one\n",
    "    }\n",
    "  }\n",
    "  \n",
    "  return(partners) #return the partners list\n",
    "}\n",
    "\n",
    "#2 Test\n",
    "\n",
    "males <- c(\"Ahmet\", \"Hakan\", \"Ali\", \"Kaan\" , \"Serkan\") #create male names vector\n",
    "females <- c(\"Ayşe\", \"Fatma\", \"Ceren\", \"Elif\", \"Bilge\") #create female names vector\n",
    "\n",
    "dance(males, females) #insert into function"
   ]
  },
  {
   "cell_type": "markdown",
   "metadata": {
    "tags": [
     "2018-2019-2",
     "omer",
     "loops",
     "if",
     "else",
     "repeat",
     "hard"
    ]
   },
   "source": [
    "# ROCK PAPER STRATEGY"
   ]
  },
  {
   "cell_type": "markdown",
   "metadata": {},
   "source": [
    "## QUESTION"
   ]
  },
  {
   "cell_type": "markdown",
   "metadata": {},
   "source": [
    "  We will play rock paper scissors with 2 people\n",
    "  Each turn, they will randomly choose strategies.\n",
    "  \n",
    "1)  Create **\"strategies\"** vector that contains 3 possible strategies that are \"**rock**\", \"**paper**\", \"**scissors**\".\n",
    "\n",
    "2)  Create a function called **\"rps_game\"** that plays n times this game. It should return scores of two people, 1 for wins, 0 for losses and 0.5 s for draws.\n",
    "\n",
    "3)  Set RNGversion to \"3.3.1\" and seed to 97.\n",
    "\n",
    "**Obligation:**  Use repeat function.\n",
    "\n",
    "**Hint:**  You have to use counter to play n times. You can call it *i* and with every loop, it has to be updated.\n",
    "\n",
    "**Hint:**  You have to hold strategies played randomly each time in a variable. You can use *sp1* and *sp2* for that.\n",
    "\n",
    "**Hint:**  You have to count scores each turn adding to previous scores of players. You can use *p1* and *p2* for that.\n",
    "\n",
    "```r\n",
    "RNGversion(\"3.3.1\")\n",
    "set.seed(97)\n",
    "rps_game(10)\n",
    "\n",
    "[1] 4.5 5.5\n",
    "```"
   ]
  },
  {
   "cell_type": "markdown",
   "metadata": {},
   "source": [
    "## SOLUTION"
   ]
  },
  {
   "cell_type": "code",
   "execution_count": null,
   "metadata": {},
   "outputs": [],
   "source": [
    "#1\n",
    "strategies <- c(\"rock\", \"paper\", \"scissors\")\n",
    "\n",
    "#2\n",
    "rps_game <- function(n)\n",
    "{\n",
    "  i <- 0\n",
    "  p1 <- 0\n",
    "  p2 <- 0\n",
    "  repeat\n",
    "  {\n",
    "    sp1 <- sample(strategies, 1, T)\n",
    "    sp2 <- sample(strategies, 1, T)\n",
    "    if(sp1 == \"rock\")\n",
    "    {\n",
    "      if(sp2 == \"rock\")\n",
    "      {\n",
    "        p1 <- p1 + 0.5\n",
    "        p2 <- p2 + 0.5\n",
    "      }\n",
    "      else if(sp2 == \"paper\")\n",
    "      {\n",
    "        p2 <- p2 + 1\n",
    "      }\n",
    "      else\n",
    "      {\n",
    "        p1 <- p1 + 1\n",
    "      }\n",
    "    }\n",
    "    else if(sp1 == \"paper\")\n",
    "    {\n",
    "      if(sp2 == \"rock\")\n",
    "      {\n",
    "        p1 <- p1 + 1\n",
    "      }\n",
    "      else if(sp2 == \"paper\")\n",
    "      {\n",
    "        p1 <- p1 + 0.5\n",
    "        p2 <- p2 + 0.5\n",
    "      }\n",
    "      else\n",
    "      {\n",
    "        p2 <- p2 + 1\n",
    "      }\n",
    "    }\n",
    "    else if(sp1 == \"scissors\")\n",
    "    {\n",
    "      if(sp2 == \"rock\")\n",
    "      {\n",
    "        p2 <- p2 + 1\n",
    "      }\n",
    "      else if(sp2 == \"paper\")\n",
    "      {\n",
    "        p1 <- p1 + 1\n",
    "      }\n",
    "      else\n",
    "      {\n",
    "        p1 <- p1 + 0.5\n",
    "        p2 <- p2 + 0.5\n",
    "      }\n",
    "    }\n",
    "    i <- i + 1\n",
    "    if(i == n)\n",
    "    {\n",
    "      return( c(p1, p2) )\n",
    "    }\n",
    "  }\n",
    "}\n",
    "\n",
    "\n",
    "#3\n",
    "RNGversion(\"3.3.1\")\n",
    "set.seed(97)\n",
    "rps_game(10)"
   ]
  },
  {
   "cell_type": "markdown",
   "metadata": {
    "tags": [
     "2019-2020-1",
     "Selin",
     "loops",
     "while_loop",
     "Hard"
    ]
   },
   "source": [
    "# RAISING WAGES LIKE A BOSS"
   ]
  },
  {
   "cell_type": "markdown",
   "metadata": {},
   "source": [
    "## QUESTION"
   ]
  },
  {
   "cell_type": "markdown",
   "metadata": {},
   "source": [
    "In a working place, the employer decides to give a raise to his employees based on their current wages which are shown in the table below:\n",
    "\n",
    "|Names|Wages|\n",
    "|:--|---|\n",
    "|Ali|5500|\n",
    "|Selin|4300|\n",
    "|Kaan|5700|\n",
    "|Ayse|2400|\n",
    "|Ahmet|1200|\n",
    "|Mehmet|3600|\n",
    "|Esra|8600|\n",
    "|Yagmur|6300|\n",
    "\n",
    "He wants to give the employees with wages less than 4000$ a 10% raise. \n",
    "\n",
    "1) Vectorize the information given in the table.\n",
    "\n",
    "2) Create a function named **\"wage_raise\"** that takes two arguments: the wages and the names. \n",
    "\n",
    "3) The function should first assign the names to the corresponding wages.\n",
    "\n",
    "4) Filter the workers with the wages less than 4000 in a vector named **\"raise\"**.\n",
    "\n",
    "5) Update the wages lower than 4000 in a new vector named **\"new_wages\"**.\n",
    "\n",
    "The function should return both the names and the updated wages of the workers.\n",
    "\n",
    "\n",
    "```r\n",
    "wage_raise(wages, worker_names)\n",
    "ayse  ahmet mehmet \n",
    "2640   1320   3960 \n",
    "```"
   ]
  },
  {
   "cell_type": "markdown",
   "metadata": {},
   "source": [
    "## SOLUTION"
   ]
  },
  {
   "cell_type": "code",
   "execution_count": null,
   "metadata": {},
   "outputs": [],
   "source": [
    "#1\n",
    "worker_names <- c(\"ali\", \"selin\", \"kaan\", \"ayse\", \"ahmet\", \"mehmet\", \"esra\", \"yagmur\")\n",
    "wages <- c( 5500, 4300, 5700, 2400, 1200, 3600, 8600, 6300)\n",
    "\n",
    "#2\n",
    "wage_raise <- function(wgs , nms)\n",
    "{ \n",
    "    \n",
    "#3    \n",
    "  names(wgs) <- nms\n",
    "  i <- 1\n",
    "  raise <- c()\n",
    "  while(i <= length(wgs))\n",
    "  {\n",
    "\n",
    "#4      \n",
    "    if( wgs[i] < 4000 )  \n",
    "    { \n",
    "      raise <- c(raise, wgs[i])\n",
    "    }\n",
    "      \n",
    "    i <- i+1\n",
    "      \n",
    "  }\n",
    "\n",
    "#5    \n",
    "  new_wages <- (raise * 0.10) + raise\n",
    "  return(new_wages)\n",
    "}\n",
    " \n",
    "wage_raise(wages, worker_names)"
   ]
  },
  {
   "cell_type": "markdown",
   "metadata": {
    "tags": [
     "2019/2020-1",
     "for_loop",
     "yfatih",
     "hard"
    ]
   },
   "source": [
    "# FIVELESS"
   ]
  },
  {
   "cell_type": "markdown",
   "metadata": {},
   "source": [
    "## QUESTION"
   ]
  },
  {
   "cell_type": "markdown",
   "metadata": {},
   "source": [
    "1) Create a vector named **\"nums\"** that consists of all numbers from 1 to 100.\n",
    "\n",
    "2) Create a function named **\"fiveless\"** which takes *n* as argument and using for loop check for all numbers in *n* if it is divided by three or seven but not five. \n",
    "\n",
    "3) Try your function with nums vector.\n",
    "\n",
    "```r\n",
    "fiveless(nums)\n",
    "[1] 3 6 7 9 12 14 18 21 24 27 28 33 36 39 42 48 49 51 54 56 57 63 66 69 72 77 78 81 84 87 91 93 96 98 99\n",
    "```\n"
   ]
  },
  {
   "cell_type": "markdown",
   "metadata": {},
   "source": [
    "## SOLUTION"
   ]
  },
  {
   "cell_type": "code",
   "execution_count": null,
   "metadata": {},
   "outputs": [],
   "source": [
    "#1\n",
    "nums <- c(1:100)\n",
    "\n",
    "#2\n",
    "fiveless <- function(n)\n",
    "{\n",
    "  vec <- integer(0)\n",
    "  \n",
    "  for (i in 1:length(n))\n",
    "  {\n",
    "    if (n[i] %% 5 != 0)\n",
    "    {\n",
    "      if (n[i] %% 3 == 0 | n[i] %% 7 == 0)\n",
    "        {\n",
    "        vec <- c(vec, n[i])\n",
    "      }\n",
    "    }\n",
    "  }\n",
    "  return(vec)\n",
    "}\n",
    "\n",
    "#3\n",
    "fiveless(nums)"
   ]
  }
 ],
 "metadata": {
  "celltoolbar": "Tags",
  "kernelspec": {
   "display_name": "R",
   "language": "R",
   "name": "ir"
  },
  "language_info": {
   "codemirror_mode": "r",
   "file_extension": ".r",
   "mimetype": "text/x-r-source",
   "name": "R",
   "pygments_lexer": "r",
   "version": "3.6.1"
  },
  "toc": {
   "nav_menu": {},
   "number_sections": true,
   "sideBar": true,
   "skip_h1_title": false,
   "toc_cell": false,
   "toc_position": {
    "height": "709.091px",
    "left": "0px",
    "top": "110.284px",
    "width": "349.091px"
   },
   "toc_section_display": true,
   "toc_window_display": true
  }
 },
 "nbformat": 4,
 "nbformat_minor": 2
}
