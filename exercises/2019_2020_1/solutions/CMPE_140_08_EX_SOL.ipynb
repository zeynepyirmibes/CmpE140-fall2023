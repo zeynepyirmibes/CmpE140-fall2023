{
 "cells": [
  {
   "cell_type": "code",
   "execution_count": null,
   "metadata": {},
   "outputs": [],
   "source": [
    "options(jupyter.rich_display = F)"
   ]
  },
  {
   "cell_type": "markdown",
   "metadata": {
    "tags": [
     "2019-2020-1",
     "Baran",
     "matrix",
     "subsetting",
     "with",
     "indices",
     "easy"
    ]
   },
   "source": [
    "# MATRIX SUBSETTING"
   ]
  },
  {
   "cell_type": "markdown",
   "metadata": {},
   "source": [
    "## QUESTION"
   ]
  },
  {
   "cell_type": "markdown",
   "metadata": {},
   "source": [
    "1) Create a function **msubset** , which will take two arguments; *mat* (a matrix) and *num* (an integer). For a given matrix, this function will return another matrix by getting rid of the last *num* rows and columns of that matrix.\n",
    "\n",
    "2) Get rid of the last row and column of a matrix **mat1** of numbers from 1 to 9, with 3 rows and columns. You should see the following: \n",
    "\n",
    "```r\n",
    "> msubset(mat1, 1)\n",
    "     [,1] [,2]\n",
    "[1,]    1    4\n",
    "[2,]    2    5\n",
    "```\n",
    "\n",
    "3) Get rid of the last 2 rows and columns of a matrix **mat2** of 24 letters from a to x, with 4 rows and 6 columns. You may use **letters** vector built into R to easily create this matrix. You should see the following:\n",
    "\n",
    "```r\n",
    "> msubset(mat2, 2)\n",
    "     [,1] [,2] [,3] [,4]\n",
    "[1,] \"a\"  \"e\"  \"i\"  \"m\" \n",
    "[2,] \"b\"  \"f\"  \"j\"  \"n\" \n",
    "```\n"
   ]
  },
  {
   "cell_type": "markdown",
   "metadata": {},
   "source": [
    "## SOLUTION"
   ]
  },
  {
   "cell_type": "code",
   "execution_count": null,
   "metadata": {},
   "outputs": [],
   "source": [
    "#1 Create The Function\n",
    "msubset <- function(mat, num) #take two inputs, a matrix and an integer\n",
    "{\n",
    "    a <- nrow(mat) #number of rows\n",
    "    b <- ncol(mat) #number of columns\n",
    "    return(mat[1:(a - num), 1:(b - num)]) #index the matrix by subtracting num from the total number of rows and columns\n",
    "}\n",
    "\n",
    "#2\n",
    "mat1 <- matrix(c(1:9), nrow =3) #first test case\n",
    "msubset(mat1, 1)\n",
    "\n",
    "#3\n",
    "mat2 <- matrix(letters[1:24], nrow = 4, ncol = 6) #second test case\n",
    "msubset(mat2, 2)"
   ]
  },
  {
   "cell_type": "markdown",
   "metadata": {
    "tags": [
     "2019-2020-1",
     "Baran",
     "matrix",
     "operations",
     "medium"
    ]
   },
   "source": [
    "# WHICH OPERATION"
   ]
  },
  {
   "cell_type": "markdown",
   "metadata": {},
   "source": [
    "## QUESTION"
   ]
  },
  {
   "cell_type": "markdown",
   "metadata": {},
   "source": [
    "1) You are a student who wishes to try out some of the matrix operations you have just learned. Create a function **mat_ops**, which will take two arguments. The first argument will be **mat** a matrix, and the second argument will be **unknown**. You do not know what **unknown** is. The function should do the following:\n",
    "\n",
    "- If **unknown** is of class \"matrix\", do matrix multiplication (%\\*%) with **unknown** and **mat**\n",
    "- If **unknown** is a vector of class \"numeric\", do scalar multiplication with **unknown** and **mat**\n",
    "- If **unknown** does not fit any of these cases, transpose **mat**\n",
    "\n",
    "Create a matrix **mat_test** of numbers from 1 to 4 (with 2 rows and 2 columns), and test your function. Test the following cases and see if you see the values below the test cases: \n",
    "\n",
    "2) **unknown** is the same as **mat_test**\n",
    "\n",
    "```r\n",
    "> mat_ops(mat_test, mat_test)\n",
    "     [,1] [,2]\n",
    "[1,]    7   15\n",
    "[2,]   10   22\n",
    "\n",
    "```\n",
    "\n",
    "3) **unknown** is 3\n",
    "\n",
    "```r\n",
    "> mat_ops(mat_test, 3)\n",
    "     [,1] [,2]\n",
    "[1,]    3    9\n",
    "[2,]    6   12\n",
    "```\n",
    "4) **unknown** is a vector with one character element c(\"Ahmet\")\n",
    "\n",
    "```r\n",
    "> mat_ops(mat_test, c(\"Ahmet\"))\n",
    "     [,1] [,2]\n",
    "[1,]    1    2\n",
    "[2,]    3    4\n",
    "```\n"
   ]
  },
  {
   "cell_type": "markdown",
   "metadata": {},
   "source": [
    "## SOLUTION"
   ]
  },
  {
   "cell_type": "code",
   "execution_count": null,
   "metadata": {},
   "outputs": [],
   "source": [
    "#1\n",
    "mat_ops <- function(mat, unknown) #function takes two inputs\n",
    "{\n",
    "    if(class(unknown) == \"matrix\") #check if it's a matrix\n",
    "    {\n",
    "        return(mat %*% unknown) #if it is a matrix, do matrix multiplication\n",
    "    }\n",
    "    else if(class(unknown) == \"numeric\") #check if it's numeric \n",
    "    {\n",
    "        return(unknown * mat) #if it is numeric, do scalar multiplication\n",
    "    }\n",
    "    else #if it is neither a matrix nor a numeric value\n",
    "    {\n",
    "        return(t(mat)) #transpose mat\n",
    "    }\n",
    "}\n",
    "\n",
    "mat_test <- matrix(c(1:4), nrow = 2, ncol= 2) #test matrix\n",
    "\n",
    "#2\n",
    "mat_ops(mat_test, mat_test)\n",
    "\n",
    "#3\n",
    "mat_ops(mat_test, 3)\n",
    "\n",
    "#4\n",
    "mat_ops(mat_test, c(\"Ahmet\"))"
   ]
  },
  {
   "cell_type": "markdown",
   "metadata": {
    "tags": [
     "2019-2020-1",
     "HazalErge",
     "matrix",
     "medium"
    ]
   },
   "source": [
    "# CURRENCY CRISIS"
   ]
  },
  {
   "cell_type": "markdown",
   "metadata": {},
   "source": [
    "## QUESTION"
   ]
  },
  {
   "cell_type": "markdown",
   "metadata": {},
   "source": [
    "- Here you can find the average monthly values of USD/TRY and EUR/TRY starting from January 2018 up until December 2018:\n",
    "\n",
    "|Months|USD/TRY|EUR/TRY|\n",
    "|:--|:-:|:-:\n",
    "|Jan|3.755|4.6646\n",
    "|Feb|3.7988|4.6322\n",
    "|March|3.9552|4.8738\n",
    "|Apr|4.0617|4.9059\n",
    "|May|4.5245|5.2900\n",
    "|Jun|4.5872|5.3601\n",
    "|Jul|4.9142|5.7454\n",
    "|Aug|6.5380|7.5861\n",
    "|Sep|6.0560|7.0304\n",
    "|Oct|5.5835|6.3159\n",
    "|Nov|5.2128|5.8994\n",
    "|Dec|5.2887|6.0664\n",
    "\n",
    "\n",
    "\n",
    "1) Create a matrix called **currency** containing USD/TRY values in the first column and EUR/TRY values in the second column with the months as row names.\n",
    "\n",
    "2) Write a function named **change** which takes a matrix as argument and calculates the change between two successive elements of this matrix.\n",
    "\n",
    "3) Try above function on the matrix you just created."
   ]
  },
  {
   "cell_type": "markdown",
   "metadata": {},
   "source": [
    "### SOLUTION"
   ]
  },
  {
   "cell_type": "code",
   "execution_count": null,
   "metadata": {},
   "outputs": [],
   "source": [
    "#1\n",
    "dollar <- c(3.755, 3.7988 , 3.9552 ,4.0617,4.5245,4.5872,4.9142,6.5380,6.0560,5.5835,5.2128,5.2887)\n",
    "euro <- c(4.6646,4.6322,4.8738,4.9059,5.2900,5.3601,5.7454,7.5861,7.0304,6.3159,5.8994,6.0664)\n",
    "currency <- cbind(dollar,euro)\n",
    "rownames(currency) <- c(\"January\",\"February\",\"March\",\"April\",\"May\",\"June\",\"July\",\"August\",\"September\",\"October\",\"November\",\"December\")\n",
    "currency\n",
    "\n",
    "#2\n",
    "change <- function(x){\n",
    "    percent <- matrix(,nrow(x),ncol(x))\n",
    "    percent[1,] <- NA\n",
    "    for (i in 1:(nrow(x)-1)){\n",
    "        for (p in 1:ncol(x)){\n",
    "            percent[i+1,p] <- ((x[i+1,p]-x[i,p])/x[i,p])*100\n",
    "        }\n",
    "    }\n",
    "    rownames(percent) <- rownames(x)\n",
    "    colnames(percent) <- colnames(x)\n",
    "    return(percent)\n",
    "}\n",
    "\n",
    "change(currency)\n"
   ]
  },
  {
   "cell_type": "markdown",
   "metadata": {
    "tags": [
     "2019-2020-1",
     "omer",
     "matrices",
     "cbind",
     "matrix",
     "modificaiton",
     "medium"
    ]
   },
   "source": [
    "# BAD NEWS"
   ]
  },
  {
   "cell_type": "markdown",
   "metadata": {},
   "source": [
    "## QUESTION"
   ]
  },
  {
   "cell_type": "markdown",
   "metadata": {},
   "source": [
    "Burcu learns her midterm and final scores and makes a table as such:\n",
    "\n",
    "|MATH102|PSY101|CMPE140|EC102|\n",
    "|:-:|:-:|:-:|:-:|\n",
    "|43|96|0|94|\n",
    "|32|90|10|80|\n",
    "|60|100|4|98|\n",
    "\n",
    "Then she gets an e-mail from Mert Hoca about a mistake in scoring CMPE140 exams and corrected scores. She wants to change the CMPE140 column of the table to:\n",
    "\n",
    "|CMPE140|\n",
    "|:-:|\n",
    "|100|\n",
    "|80|\n",
    "|90|\n",
    "\n",
    "1) Create 4 vectors containing exam scores from the first table: **MATH102**, **PSY101**, **CMPE140** and **EC102**\n",
    "\n",
    "2) Create a matrix named **my_scores** that has 4 vectors you created as columns\n",
    "\n",
    "3) Create a vector called **CMPE_correct** that contains corrected exam results \n",
    "\n",
    "4) Write a function **correct** that takes three arguments: **mat** a matrix of size m x n, **vec** a vector of length m, **ind** column index to change values\n",
    "\n",
    "4) Change the *CMPE140* column of the matrix with the corrected scores using the **correct** function as such:\n",
    "\n",
    "```r\n",
    "correct(mat = my_scores, vec = CMPE140_corrected, ind = 3)\n",
    "\n",
    "    MATH101 PSY101 CMPE140 EC102\n",
    "[1,] 43       96    100     94   \n",
    "[2,] 32       90     80     80   \n",
    "[3,] 60      100     90     98    \n",
    "```"
   ]
  },
  {
   "cell_type": "markdown",
   "metadata": {},
   "source": [
    "## SOLUTION"
   ]
  },
  {
   "cell_type": "code",
   "execution_count": null,
   "metadata": {},
   "outputs": [],
   "source": [
    "#1\n",
    "MATH101 <- c(43, 32, 60)\n",
    "PSY101 <- c(96, 90, 100)\n",
    "CMPE140 <- c(0, 10, 4)\n",
    "EC102 <- c(94, 80, 98)\n",
    "\n",
    "#2\n",
    "my_scores <- cbind(MATH101, PSY101, CMPE140, EC102)\n",
    "\n",
    "#3\n",
    "CMPE140_corrected <- c(100, 80, 90)\n",
    "\n",
    "#4\n",
    "correct <- function(mat, vec, ind)\n",
    "{\n",
    "    mat[,ind] <- vec\n",
    "    return(mat)    \n",
    "}\n",
    "\n",
    "correct(mat = my_scores, vec = CMPE140_corrected, ind = 3)"
   ]
  },
  {
   "cell_type": "markdown",
   "metadata": {
    "tags": [
     "2019-2020-1",
     "Selin",
     "Matrices",
     "medium"
    ]
   },
   "source": [
    "# MOVIES"
   ]
  },
  {
   "cell_type": "markdown",
   "metadata": {},
   "source": [
    "## QUESTION"
   ]
  },
  {
   "cell_type": "markdown",
   "metadata": {},
   "source": [
    "Selin and her 5 friends - Gökçe, Öykü, Eylül, Elif and Ceren - are going to 3 movies in 1 week together. They rate all 3 movies out of 5 and Selin wants to create a matrix including these points given below to see which movie got the highest total points:\n",
    "\n",
    "|Names|Points of movie 1|Points of movie 2|Points of movie 3|\n",
    "|:--|:-:|:-:|:-:|\n",
    "|Selin|5|4|2|\n",
    "|Gökçe|4|5|2|\n",
    "|Öykü|5|5|1|\n",
    "|Eylül|3|4|2|\n",
    "|Elif|4|5|3|\n",
    "|Ceren|5|4|3|\n",
    "\n",
    "1) Create a vector **f1** which will include the points given to the first movie.\n",
    "\n",
    "2) Create a vector **f2** which will include the points given to the second movie.\n",
    "\n",
    "3) Create a vector **f3** which will include the points given to the third movie.\n",
    "\n",
    "4) Create a vector named **friends** which will include all the names of the friends (including Selin).\n",
    "\n",
    "5) Create a vector named **movies** which will include the names of the movies as \"*m1*\", \"*m2*\", \"*m3*\".\n",
    "\n",
    "6) Create a function **moviemat** that takes following arguments:\n",
    "- **rn**, a vector of movienames\n",
    "- **cn**, a vector of column names\n",
    "- **ellipses** (...), for indefinite number of columns to bind\n",
    "    \n",
    "    The function should bind the columns in ellipses into a matrix, assign assign rn as rownmaes and cn as colnames\n",
    "    \n",
    "    And, last the function should return the sum of each column\n",
    "\n",
    "7) Using **moviemat** function, create the matrix, make **friends** rownames and **movies** colnames and find the total points that each movie got to see that **m2** got the highest total points as such:"
   ]
  },
  {
   "cell_type": "markdown",
   "metadata": {},
   "source": [
    "## SOLUTION"
   ]
  },
  {
   "cell_type": "code",
   "execution_count": null,
   "metadata": {},
   "outputs": [],
   "source": [
    "#1\n",
    "f1 <- c(5,4,5,3,4,5)\n",
    "\n",
    "#2\n",
    "f2 <- c(4,5,5,4,5,4)\n",
    "\n",
    "#3\n",
    "f3 <- c(2,2,1,2,3,3)\n",
    "\n",
    "#4\n",
    "friends <- c(\"selin\", \"gokce\", \"oyku\", \"eylul\", \"elif\", \"ceren\")\n",
    "\n",
    "#5\n",
    "movies <- c(\"m1\",\"m2\",\"m3\")\n",
    "\n",
    "#6\n",
    "moviemat <- function(rn, cn, ...)\n",
    "{\n",
    "    mat <- cbind(...)\n",
    "    rownames(mat) <- rn\n",
    "    colnames(mat) <- cn\n",
    "    return(colSums(mat))    \n",
    "}\n",
    "\n",
    "#7\n",
    "moviemat(rn = friends, cn = movies, f1, f2, f3)"
   ]
  },
  {
   "cell_type": "markdown",
   "metadata": {
    "tags": [
     "2019-2020-1",
     "Elif_Kurt",
     "matrix",
     "cbind",
     "rbind",
     "medium"
    ]
   },
   "source": [
    "# A CLASS"
   ]
  },
  {
   "cell_type": "markdown",
   "metadata": {},
   "source": [
    "## QUESTION"
   ]
  },
  {
   "cell_type": "markdown",
   "metadata": {},
   "source": [
    "1) There is a class with 3 students.\n",
    "\n",
    "- The students **height** vector is c(168, 165, 177). \n",
    "\n",
    "- The students **weight** vector is c(56, 54, 65).\n",
    "\n",
    "- Their **names_** are \"*Lale*\", \"*Ela*\", \"*Ali*\". \n",
    "\n",
    "- Their **maths** exam notes are *89, 93, 56*. Create these vectors.\n",
    "\n",
    "2) And then, create a matrix named **a_class** for these students.\n",
    "\n",
    "- Give a name to rows \"*Lale*\", \"*Ela*\", \"*Ali*\"\n",
    "\n",
    "- **note**: Each row should be for a student.\n",
    "\n",
    "3) See the attibutes of this matrix.\n",
    "\n",
    "4) There is a new comer, *Veli*. He is 184 cm, 74 kgs and he did not take the maths exam.\n",
    "\n",
    "- Create a vector named **Veli** and combine this with the matrix."
   ]
  },
  {
   "cell_type": "markdown",
   "metadata": {},
   "source": [
    "## SOLUTION"
   ]
  },
  {
   "cell_type": "code",
   "execution_count": null,
   "metadata": {},
   "outputs": [],
   "source": [
    "#1\n",
    "height <- c(168, 165, 177)\n",
    "weight <- c(56, 54, 65)\n",
    "names_ <- c(\"Lale\", \"Ela\", \"Ali\")\n",
    "maths <- c(89, 93, 56)\n",
    "\n",
    "#2\n",
    "a_class <- cbind(height, weight, maths)\n",
    "rownames(a_class) <- names_\n",
    "a_class\n",
    "\n",
    "#3\n",
    "attributes(a_class)\n",
    "\n",
    "#4\n",
    "Veli <- c(184, 74, NA)\n",
    "a_class <- rbind(a_class, Veli)\n",
    "a_class"
   ]
  },
  {
   "cell_type": "markdown",
   "metadata": {
    "tags": [
     "2018/2019-1",
     "ÖmerErhan",
     "loops",
     "matrix",
     "medium"
    ]
   },
   "source": [
    "# LETTER MATRIX"
   ]
  },
  {
   "cell_type": "markdown",
   "metadata": {},
   "source": [
    "## QUESTION"
   ]
  },
  {
   "cell_type": "markdown",
   "metadata": {},
   "source": [
    "1) Use built in **letters** vector by column to create a 2x13 matrix.\n",
    "\n",
    "2) Create the same matrix by using loops and name it **m_letter**.\n",
    "\n",
    "```r\n",
    "> m_letter\n",
    "     [,1] [,2] [,3] [,4] [,5] [,6] [,7] [,8] [,9] [,10] [,11] [,12] [,13]\n",
    "[1,] \"a\"  \"c\"  \"e\"  \"g\"  \"i\"  \"k\"  \"m\"  \"o\"  \"q\"  \"s\"   \"u\"   \"w\"   \"y\"  \n",
    "[2,] \"b\"  \"d\"  \"f\"  \"h\"  \"j\"  \"l\"  \"n\"  \"p\"  \"r\"  \"t\"   \"v\"   \"x\"   \"z\" \n",
    "```\n"
   ]
  },
  {
   "cell_type": "markdown",
   "metadata": {},
   "source": [
    "## SOLUTION"
   ]
  },
  {
   "cell_type": "code",
   "execution_count": null,
   "metadata": {},
   "outputs": [],
   "source": [
    "#1\n",
    "matrix(letters, 2, 13)\n",
    "\n",
    "#2\n",
    "m_letter <- matrix(nrow = 2, ncol = 13)\n",
    "on <- 1\n",
    "for (i in 1:13) {\n",
    "  for (j in 1:2) {\n",
    "    m_letter[j , i] <- letters[on]\n",
    "    on <- on + 1\n",
    "    } \n",
    "}\n",
    "\n",
    "m_letter"
   ]
  },
  {
   "cell_type": "markdown",
   "metadata": {
    "tags": [
     "2019/2020-1",
     "Firdevs_Feyza_Erdonmez",
     "vector",
     "creating_matrix_from_vector",
     "filtering",
     "medium"
    ]
   },
   "source": [
    "# ALBERT LONG HALL"
   ]
  },
  {
   "cell_type": "markdown",
   "metadata": {},
   "source": [
    "## QUESTION"
   ]
  },
  {
   "cell_type": "markdown",
   "metadata": {},
   "source": [
    "Albert Long Hall Classical Music Concerts organization wants to give the audience whose age is 90 or over 90 an invitation as a gift for the next concert. Let's find these people as follows.\n",
    "\n",
    "1) set RNGversion to 3.3.1 and seed to 23\n",
    "\n",
    "2) Create a sample vector named **audience_age** taking 200 value from 8 to 100 (with replacement).\n",
    "\n",
    "3) Assign audience ages to matrix called **seating_plan** with 20 rows and 10 columns.\n",
    "\n",
    "4) Name the rows in alphabetical order with capital letters and columns in order of numbers.\n",
    " \n",
    "5) Show the seat locations of the listeners to send invitations for the next concert.\n",
    "\n",
    "**HINT** : You can use **which** function with *arr.ind=T* inside it to be able to see the seats."
   ]
  },
  {
   "cell_type": "markdown",
   "metadata": {},
   "source": [
    "## SOLUTION"
   ]
  },
  {
   "cell_type": "code",
   "execution_count": null,
   "metadata": {},
   "outputs": [],
   "source": [
    "#1\n",
    "RNGversion(\"3.3.1\")\n",
    "set.seed(23)\n",
    "\n",
    "#2\n",
    "audience_age <- sample(8:100, 200, replace=T)\n",
    "\n",
    "#3\n",
    "seating_plan <- matrix(audience_age, nrow=20, ncol=10)\n",
    "\n",
    "#4\n",
    "rownames(seating_plan) <- LETTERS[1:20]\n",
    "colnames(seating_plan) <- 1:10\n",
    "\n",
    "#5\n",
    "which(seating_plan >= 90, arr.ind = T)"
   ]
  },
  {
   "cell_type": "markdown",
   "metadata": {
    "tags": [
     "2019-2020-1",
     "HazalErge",
     "matrix",
     "Hard"
    ]
   },
   "source": [
    "# PLAYING WITH MATRICES"
   ]
  },
  {
   "cell_type": "markdown",
   "metadata": {},
   "source": [
    "## QUESTION"
   ]
  },
  {
   "cell_type": "markdown",
   "metadata": {},
   "source": [
    "1) Create a 6 × 10 matrix of random integers chosen from 1, 2,. . . , 10.\n",
    "\n",
    "2) Find the number of entries in each row which are greater than 4.\n",
    "\n",
    "3) Which rows contain exactly two occurrences of the number seven?"
   ]
  },
  {
   "cell_type": "markdown",
   "metadata": {},
   "source": [
    "## SOLUTION"
   ]
  },
  {
   "cell_type": "code",
   "execution_count": null,
   "metadata": {},
   "outputs": [],
   "source": [
    "#1\n",
    "set.seed(1911)\n",
    "aMat <- matrix(sample(10, size=60, replace=T), nr=6)\n",
    "\n",
    "#2\n",
    "apply(aMat, 1, function(x){sum(x>4)})\n",
    "\n",
    "#3\n",
    "which( apply(aMat,1,function(x){sum(x==7)==2}) )"
   ]
  },
  {
   "cell_type": "markdown",
   "metadata": {
    "tags": [
     "2019-2020-1",
     "omer",
     "matrices",
     "for",
     "hard"
    ]
   },
   "source": [
    "# FINDING NICKNAMES"
   ]
  },
  {
   "cell_type": "markdown",
   "metadata": {},
   "source": [
    "## QUESTION"
   ]
  },
  {
   "cell_type": "markdown",
   "metadata": {},
   "source": [
    "Mehmet wants to find interesting nicknames to use for in favorite games. He prepares a table including his nickname ideas for those games as such:\n",
    "\n",
    "|PUBG|COD|CSGO|LOL|\n",
    "|:--|:--|:--|:--|\n",
    "|DincSavasci|minikmemo7|AWPsevdalisi|Pentasiz1i|\n",
    "|dropavcisiTR|cilginhamsi61|ratata11|Oldun_CiKxd|\n",
    "|SonKalan|FazeMeMoCaN|61Memo61|MidSal61|\n",
    "|KopruYilani|droNesaVaR|YaRgiCMehMeT|6AyYildiz1|\n",
    "\n",
    "But later, he learns that each game has a character limit for nicknames so he wants to know which ideas can be used for the games they were designed for. Limit of each game are as follows:\n",
    "- PUBG: Less than 9 characters\n",
    "- COD: Less than 12 characters\n",
    "- CSGO: Less than 9 characters\n",
    "- LOL: Less than 11 characters\n",
    "\n",
    "1) Create a matrix called **mehmet_ideas** that contains Mehmet's nickname ideas as shown in the table. (Without game names)\n",
    "\n",
    "2) Create a vector called **game_names** and assign it to **mehmet_ideas** as column names\n",
    "\n",
    "3) Create a function called **nick_check** that takes a matrix of nicknames as its argument and checks if a name can be used for the game of that column and return a new matrix as such:\n",
    "\n",
    "```r      \n",
    "nick_check(mehmet_ideas)\n",
    "\n",
    "        PUBG      COD         CSGO      LOL        \n",
    "[1,] cant use minikmemo7  cant use Pentasiz1i \n",
    "[2,] cant use cant use   ratata11  Oldun_CiKxd\n",
    "[3,] SonKalan  FazeMeMoCaN 61Memo61  MidSal61   \n",
    "[4,] cant use droNesaVaR  cant use 6AyYildiz1 \n",
    "```\n",
    "\n",
    "**Hints:**\n",
    "- You can use **nchar()** function to find how many characters a nickname has\n",
    "- Your function should also create a vector of character limits to compare with the matrix"
   ]
  },
  {
   "cell_type": "markdown",
   "metadata": {},
   "source": [
    "## SOLUTION"
   ]
  },
  {
   "cell_type": "code",
   "execution_count": null,
   "metadata": {},
   "outputs": [],
   "source": [
    "#1\n",
    "mehmet_ideas <- matrix(c(\"DincSavasci\", \"minikmemo7\", \"AWPsevdalisi\", \"Pentasiz1i\",\n",
    "                         \"dropavcisiTR\", \"cilginhamsi61\", \"ratata11\", \"Oldun_CiKxd\",\n",
    "                         \"SonKalan\", \"FazeMeMoCaN\", \"61Memo61\", \"MidSal61\",\n",
    "                         \"KopruYilani\", \"droNesaVaR\", \"YaRgiCMehMeT\", \"6AyYildiz1\"), nrow=4, byrow=T)\n",
    "\n",
    "#2\n",
    "game_names <- c(\"PUBG\", \"COD\", \"CSGO\", \"LOL\")\n",
    "colnames(mehmet_ideas) <- game_names\n",
    "\n",
    "#3\n",
    "nick_check <- function(nick_mat)\n",
    "{\n",
    "    char_lim <- c(9, 12, 9, 11)\n",
    "    for (i in 1:NROW(nick_mat))\n",
    "    {\n",
    "       for(j in 1:NCOL(nick_mat))\n",
    "       {\n",
    "          if(nchar(nick_mat[i,j]) > char_lim[j]) \n",
    "            {\n",
    "             nick_mat[i,j] <- \"cant use\"\n",
    "            }\n",
    "       }\n",
    "    } \n",
    " return(nick_mat)\n",
    "}\n",
    "      \n",
    "nick_check(mehmet_ideas)"
   ]
  },
  {
   "cell_type": "markdown",
   "metadata": {
    "tags": [
     "2019-2020-1",
     "Selin",
     "matrices",
     "hard"
    ]
   },
   "source": [
    "# FIND THE FINALISTS"
   ]
  },
  {
   "cell_type": "markdown",
   "metadata": {},
   "source": [
    "## QUESTION"
   ]
  },
  {
   "cell_type": "markdown",
   "metadata": {},
   "source": [
    "In a competition, the procedure is to eliminate the lowest ranked groups repeatedly until only the two highest point groups were left. In the vectors below, you can see the points earned by each group in each step of the competition.\n",
    "\n",
    "```R\n",
    "g1 <- c (17, 11, 15, 8, 13, 12)\n",
    "\n",
    "g2 <- c(15, 9, 16, 10, 14, 17)\n",
    "\n",
    "g3 <- c(19, 13, 18, 11, 16, 12)\n",
    "\n",
    "g4 <- c(13, 15, 14, 7, 9, 14)\n",
    "\n",
    "g5 <- c(9, 13, 12, 8, 11, 15)\n",
    "\n",
    "g6 <- c(20, 18, 14, 16, 17, 15)\n",
    "```\n",
    "\n",
    "The first group is represented by **g1** where the elements of the **g1** vector are the points the group got in each step of the competition. Same logic applies to all remaining 5 groups. To fulfill the procedure of the competition;\n",
    "\n",
    "1) Copy the vectors above (g1, g2,...) and run them to assign the values to the groups.\n",
    "\n",
    "2) Create a 6 by 6 matrix named **comp** which will be including the vectors above. Create the matrix such that the g  values (g1, g2,...) are arranged by rows.\n",
    "\n",
    "3) Assign the row names of the matrix as such: \"gr1\", \"gr2\", \"gr3\", \"gr4\", \"gr5\", \"gr6\".\n",
    "\n",
    "4) Assign the column names of the matrix as such: \"s1\", \"s2\", \"s3\", \"s4\", \"s5\", \"s6\".\n",
    "\n",
    "5) Create a function named **two_finalists** which will take one argument: a matrix.\n",
    "\n",
    "6) The function should eliminate the group with the lowest total points one by one until only the two groups with the highest points are left and the function should return both the names and the total points of both finalist groups.\n",
    "\n",
    "7) Try your function with the matrix **comp** you created and see that group 3 and group 6 got the highest two points with 89 and 100 respectively.\n",
    "\n",
    "**HINT** : You can use the \"while\" statement. "
   ]
  },
  {
   "cell_type": "markdown",
   "metadata": {},
   "source": [
    "## SOLUTION"
   ]
  },
  {
   "cell_type": "code",
   "execution_count": null,
   "metadata": {},
   "outputs": [],
   "source": [
    "#1\n",
    "g1 <- c (17, 11, 15, 8, 13, 12)\n",
    "g2 <- c(15, 9, 16, 10, 14, 17)\n",
    "g3 <- c(19, 13, 18, 11, 16, 12)\n",
    "g4 <- c(13, 15, 14, 7, 9, 14)\n",
    "g5 <- c(9, 13, 12, 8, 11, 15)\n",
    "g6 <- c(20, 18, 14, 16, 17, 15)\n",
    "\n",
    "#2\n",
    "comp <- matrix(c(g1, g2, g3, g4, g5, g6), nrow = 6 , byrow = T)\n",
    "\n",
    "#3\n",
    "rownames(comp) <- c(\"gr1\",\"gr2\",\"gr3\",\"gr4\",\"gr5\",\"gr6\")\n",
    "\n",
    "#4\n",
    "colnames(comp) <- c(\"s1\", \"s2\", \"s3\", \"s4\", \"s5\", \"s6\")\n",
    "\n",
    "#5\n",
    "two_finalists <- function(mat)\n",
    "{\n",
    "\n",
    "#6\n",
    "  while(nrow(mat) > 2)    \n",
    "  {\n",
    "    \n",
    "    wh <-  which.min(rowSums(mat))  \n",
    "    mat <- mat[-wh,]        \n",
    "  }\n",
    "    \n",
    "  return(rowSums(mat))\n",
    "}\n",
    "\n",
    "#7\n",
    "two_finalists(comp)"
   ]
  },
  {
   "cell_type": "markdown",
   "metadata": {
    "tags": [
     "2018/2019-1",
     "Babacan",
     "function",
     "matrix",
     "hard"
    ]
   },
   "source": [
    "# OBURISTAN"
   ]
  },
  {
   "cell_type": "markdown",
   "metadata": {},
   "source": [
    "## QUESTION"
   ]
  },
  {
   "cell_type": "markdown",
   "metadata": {},
   "source": [
    "A typical resident of the country of **Oburistan** consumes a simple basket of goods consisting only of life’s essentials: soda, pizza, and Hamburger. \n",
    "\n",
    "A year’s basket contains 1,000 sodas, 100 pizzas, and 50 hamburgers. \n",
    "The price of these goods in each of the past three years is given in the following table:\n",
    "\n",
    "||soda|pizza|hamburger|\n",
    "|---|:-:|:-:|:-:|\n",
    "|**2015**|1|8|10|\n",
    "|**2016**|1.5|8|10|\n",
    "|**2017**|1.5|8.5|11|\n",
    "\n",
    "1) Create a 3x3 matrix called **Oburistan** to store these prices binding rows of prices (without column or row names).\n",
    "\n",
    "2) Assign row and column names as shown in the table. \n",
    "\n",
    "3) Calculate Cost of basket (CoB) for each year according to: \n",
    "    \n",
    "    Cost of Basket = 1000 x price of a soda + 100 x price of a pizza + 50 x price of a hamburger\n",
    "\n",
    "4) Update **Oburistan** matrix by adding a \"CoB\" column to matrix with CoB values.\n",
    "\n",
    "```R\n",
    "> Oburistan\n",
    "     Soda Pizza Hamburger CoB \n",
    "2015 1.0  8.0   10        2300\n",
    "2016 1.5  8.0   10        2800\n",
    "2017 1.5  8.5   11        2900\n",
    "```\n"
   ]
  },
  {
   "cell_type": "markdown",
   "metadata": {},
   "source": [
    "## SOLUTION"
   ]
  },
  {
   "cell_type": "code",
   "execution_count": null,
   "metadata": {
    "scrolled": true
   },
   "outputs": [],
   "source": [
    "#1\n",
    "Oburistan <- rbind(c(1, 8, 10), c(1.5, 8, 10), c(1.5, 8.5, 11))\n",
    "\n",
    "#2\n",
    "rownames(Oburistan) <- c(\"2015\", \"2016\", \"2017\")\n",
    "colnames(Oburistan) <- c(\"Soda\", \"Pizza\", \"Hamburger\")\n",
    "\n",
    "#3\n",
    "CoB <- Oburistan[,1]*1000 + Oburistan[,2]*100 + Oburistan[,3]*50\n",
    "\n",
    "#4\n",
    "Oburistan <- cbind(Oburistan, CoB)\n",
    "Oburistan"
   ]
  },
  {
   "cell_type": "markdown",
   "metadata": {
    "tags": [
     "2018/2019-1",
     "Nihal",
     "function",
     "matrix",
     "hard"
    ]
   },
   "source": [
    "# MATRIX WITH ZERO ONES"
   ]
  },
  {
   "cell_type": "markdown",
   "metadata": {},
   "source": [
    "## QUESTION"
   ]
  },
  {
   "cell_type": "markdown",
   "metadata": {},
   "source": [
    "Please write a function that gives us a n x m matrix such that if sum of the element's indices is even, the element equals 1; if it's odd, the element equals 0.\n",
    "\n",
    "For example:\n",
    "\n",
    "```r\n",
    "> my_func <- function(n, m) \n",
    "{\n",
    "##code here##\n",
    "}\n",
    "```\n",
    "\n",
    "\n",
    "```r\n",
    "> my_func(4,5)\n",
    "      [,1] [,2] [,3] [,4] [,5]\n",
    "[1,]    1    0    1    0    1\n",
    "[2,]    0    1    0    1    0\n",
    "[3,]    1    0    1    0    1\n",
    "[4,]    0    1    0    1    0\n",
    "```"
   ]
  },
  {
   "cell_type": "markdown",
   "metadata": {},
   "source": [
    "## SOLUTION"
   ]
  },
  {
   "cell_type": "code",
   "execution_count": null,
   "metadata": {},
   "outputs": [],
   "source": [
    "my_func <- function(n, m)\n",
    "    {\n",
    "    my_mat <- matrix(nrow = n, ncol = m)\n",
    "    for (i in 1:n)\n",
    "        {\n",
    "        for(j in 1:m)\n",
    "            {\n",
    "            if((i+j)%%2 == 0)\n",
    "                {\n",
    "                my_mat[i, j] <- 1\n",
    "            } else {\n",
    "                my_mat[i, j] <- 0\n",
    "            }\n",
    "        }\n",
    "    }\n",
    "    return(my_mat)\n",
    "}\n",
    "\n",
    "my_func(4,5)"
   ]
  },
  {
   "cell_type": "code",
   "execution_count": null,
   "metadata": {},
   "outputs": [],
   "source": [
    "# concise method, by SÇ\n",
    "\n",
    "my_func <- function(n, m)\n",
    "    {\n",
    "    my_mat <- matrix(1, nrow = n, ncol = m)\n",
    "    my_mat[(row(my_mat) + col(my_mat)) %% 2 == 1] <- 0 \n",
    "    return(my_mat)\n",
    "}\n",
    "\n",
    "my_func(4,5)"
   ]
  },
  {
   "cell_type": "code",
   "execution_count": null,
   "metadata": {},
   "outputs": [],
   "source": []
  }
 ],
 "metadata": {
  "celltoolbar": "Tags",
  "kernelspec": {
   "display_name": "R",
   "language": "R",
   "name": "ir"
  },
  "language_info": {
   "codemirror_mode": "r",
   "file_extension": ".r",
   "mimetype": "text/x-r-source",
   "name": "R",
   "pygments_lexer": "r",
   "version": "3.6.1"
  },
  "toc": {
   "nav_menu": {},
   "number_sections": true,
   "sideBar": true,
   "skip_h1_title": false,
   "toc_cell": false,
   "toc_position": {
    "height": "733px",
    "left": "0px",
    "top": "135.2px",
    "width": "274.4px"
   },
   "toc_section_display": true,
   "toc_window_display": true
  }
 },
 "nbformat": 4,
 "nbformat_minor": 2
}
