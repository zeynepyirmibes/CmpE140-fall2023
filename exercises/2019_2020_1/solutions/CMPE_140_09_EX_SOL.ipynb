{
 "cells": [
  {
   "cell_type": "code",
   "execution_count": null,
   "metadata": {},
   "outputs": [],
   "source": [
    "options(jupyter.rich_display = F)"
   ]
  },
  {
   "cell_type": "markdown",
   "metadata": {
    "tags": [
     "2019-2020-1",
     "Hazal",
     "Erge",
     "lists",
     "easy"
    ]
   },
   "source": [
    "# 1. JUST TO KNOW YOU"
   ]
  },
  {
   "cell_type": "markdown",
   "metadata": {},
   "source": [
    "## QUESTION"
   ]
  },
  {
   "cell_type": "markdown",
   "metadata": {},
   "source": [
    "1) Create a list called **AboutMe** consisting of your name, your age and whether you are a Management student or not (by using Boolean variables for the 3rd element).\n",
    "\n",
    "2) Update your list by deleting your age and adding new information about yourself: the name of your favorite movie and your weight. Your result should look like this:\n",
    "\n",
    "```r\n",
    "> AboutMe\n",
    "$name\n",
    "[1] \"Hazal\"\n",
    "\n",
    "$management\n",
    "[1] FALSE\n",
    "\n",
    "$movie\n",
    "[1] \"Vertigo\"\n",
    "\n",
    "$weight\n",
    "[1] \"44\"\n",
    "```\n"
   ]
  },
  {
   "cell_type": "markdown",
   "metadata": {},
   "source": [
    "## SOLUTION"
   ]
  },
  {
   "cell_type": "code",
   "execution_count": null,
   "metadata": {},
   "outputs": [],
   "source": [
    "# original version with single brackets (\"[\")\n",
    "\n",
    "#1\n",
    "AboutMe <- list(name= 'Hazal',age=21, management=FALSE)\n",
    "\n",
    "#2\n",
    "AboutMe[[2]] <- NULL\n",
    "AboutMe[3] <-'Vertigo'\n",
    "AboutMe[4] <- 44\n",
    "names(AboutMe)[3:4] <- c('movie','weight')\n",
    "AboutMe\n"
   ]
  },
  {
   "cell_type": "code",
   "execution_count": null,
   "metadata": {},
   "outputs": [],
   "source": [
    "# version 2 with double brackets (\"[[\") by SÇ\n",
    "\n",
    "#1\n",
    "AboutMe2 <- list(name= 'Hazal',age=21, management=FALSE)\n",
    "\n",
    "#2\n",
    "AboutMe2[[2]] <- NULL\n",
    "AboutMe2[[3]] <-'Vertigo'\n",
    "AboutMe2[[4]] <- 44\n",
    "names(AboutMe2)[3:4] <- c('movie','weight')\n",
    "AboutMe2\n"
   ]
  },
  {
   "cell_type": "code",
   "execution_count": null,
   "metadata": {},
   "outputs": [],
   "source": [
    "# version 3 with single brackets (\"[\") and assigning a list into a subset of multiple items by SÇ\n",
    "\n",
    "#1\n",
    "AboutMe3 <- list(name= 'Hazal',age=21, management=FALSE)\n",
    "\n",
    "#2\n",
    "AboutMe3[[2]] <- NULL\n",
    "AboutMe3[3:4] <- list('Vertigo', 44)\n",
    "names(AboutMe3)[3:4] <- c('movie','weight')\n",
    "AboutMe3"
   ]
  },
  {
   "cell_type": "markdown",
   "metadata": {
    "tags": [
     "2019/2020-1",
     "yahyafatih",
     "list",
     "easy"
    ]
   },
   "source": [
    "# 2. FIND BMI"
   ]
  },
  {
   "cell_type": "markdown",
   "metadata": {},
   "source": [
    "## QUESTION"
   ]
  },
  {
   "cell_type": "markdown",
   "metadata": {},
   "source": [
    "1) Create **people**, **weights** and **heights** vectors with given values:\n",
    "\n",
    "|people|weight|height|\n",
    "|:---|:-:|:-:|\n",
    "|a.|78|1.77|\n",
    "|b.|66|1.54|\n",
    "|c.|95|1.73|\n",
    "|d.|65|1.82|\n",
    "|e.|86|1.88|\n",
    "\n",
    "\n",
    "\n",
    "2) Give names to **weights** and **heights** vectors using **people**.\n",
    "\n",
    "3) Create a list named **our_list** consists of **weights** and **heights** vectors.\n",
    "\n",
    "4) Now design a function named **add_bmi** which takes a list as an argument and add that list body mass indexes that are calculated using weights and heights in the list.\n",
    "\n",
    "- Note: BMI = weight/(height^2)\n",
    "\n",
    "```r\n",
    "> add_bmi(our_list)\n",
    "$weights\n",
    "a. b. c. d. e. \n",
    "78 66 95 65 86 \n",
    "\n",
    "$heights\n",
    "  a.   b.   c.   d.   e. \n",
    "1.77 1.54 1.73 1.82 1.88 \n",
    "\n",
    "$bmi\n",
    "      a.       b.       c.       d.       e. \n",
    "24.89706 27.82931 31.74179 19.62323 24.33228 \n",
    "```\n"
   ]
  },
  {
   "cell_type": "markdown",
   "metadata": {},
   "source": [
    "## SOLUTION"
   ]
  },
  {
   "cell_type": "code",
   "execution_count": null,
   "metadata": {
    "scrolled": true
   },
   "outputs": [],
   "source": [
    "#1\n",
    "people <- c(\"a.\", \"b.\", \"c.\", \"d.\", \"e.\")\n",
    "weights <- c(78, 66, 95, 65, 86)\n",
    "heights <- c(1.77, 1.54, 1.73, 1.82, 1.88)\n",
    "\n",
    "#2\n",
    "names(weights) <- people\n",
    "names(heights) <- people\n",
    "\n",
    "#3\n",
    "our_list <- list(\"weights\" = weights, \"heights\" = heights)\n",
    "our_list\n",
    "\n",
    "#4\n",
    "add_bmi <- function(listx)\n",
    "{\n",
    "  bmi <- listx[[\"weights\"]]/(listx[[\"heights\"]]^2)\n",
    "  listx$bmi <- bmi\n",
    "  \n",
    "  return(listx)\n",
    "}\n",
    "\n",
    "add_bmi(our_list)"
   ]
  },
  {
   "cell_type": "markdown",
   "metadata": {
    "tags": [
     "2019-2020_1",
     "gulgun",
     "filtering",
     "list",
     "list_indexing",
     "easy"
    ]
   },
   "source": [
    "# 3. BAD STUDENTS"
   ]
  },
  {
   "cell_type": "markdown",
   "metadata": {},
   "source": [
    "## QUESTION"
   ]
  },
  {
   "cell_type": "markdown",
   "metadata": {},
   "source": [
    "A teacher wants to see which students had a grade less than average to scold them at class. She prepares a list consisting of student's names and grades as such: \n",
    "\n",
    "```R\n",
    "student_grades <- list(names= c(\"Ibrahim\", \"Kadir\", \"Fatmagul\",\"Yasar\", \"Sabri\", \"Zeynep\"),\n",
    "                       grades = c(52, 13, 12, 63, 28, 89))\n",
    "```\n",
    "\n",
    "1) Copy the list above and create a function named **bad_students** which takes one argument named **lst**. The function should calculate the average grade in the class and return the names of students who got below average. \n",
    "\n",
    "```R\n",
    "bad_student(lst = student_grades)\n",
    "\n",
    "[1] \"Kadir\"    \"Fatmagul\" \"Sabri\"\n",
    "\n",
    "```"
   ]
  },
  {
   "cell_type": "markdown",
   "metadata": {},
   "source": [
    "## SOLUTION"
   ]
  },
  {
   "cell_type": "code",
   "execution_count": null,
   "metadata": {},
   "outputs": [],
   "source": [
    "student_grades <- list(names = c(\"Ibrahim\", \"Kadir\", \"Fatmagul\",\"Yasar\", \"Sabri\", \"Zeynep\"),\n",
    "                       grades = c(52, 13, 12, 63, 28, 89) )\n",
    "\n",
    "#1 \n",
    "bad_student <- function(lst)\n",
    "{\n",
    "  nll <- c()\n",
    "  #calculating average\n",
    "    avr <- mean(lst[[2]])\n",
    "    #finding indices of bad students\n",
    "  for(i in 1:length(lst[[1]]))\n",
    "  {\n",
    "    if(lst[[2]][i] < avr)\n",
    "    {\n",
    "      nll <- c(nll,i)\n",
    "    }\n",
    "    \n",
    "   \n",
    "  }\n",
    "  #returning names of bad students\n",
    "  return(lst[[1]][nll])\n",
    "}\n",
    "\n",
    "bad_student(lst = student_grades)"
   ]
  },
  {
   "cell_type": "markdown",
   "metadata": {
    "tags": [
     "2019-2020-1",
     "Hazal",
     "Erge",
     "lists",
     "medium"
    ]
   },
   "source": [
    "# 4. CUBE ROOT"
   ]
  },
  {
   "cell_type": "markdown",
   "metadata": {},
   "source": [
    "## QUESTION"
   ]
  },
  {
   "cell_type": "markdown",
   "metadata": {},
   "source": [
    "1) Create a function which takes an argument and returns the cube root of it.\n",
    "\n",
    "2) Create a list consisting of following numbers: 64, 729, 1000, and 6859.\n",
    "\n",
    "3) Apply your function to the list you just created. Your result should look like this:\n",
    "\n",
    "```r\n",
    "> lapply(numbers, cuberoot)\n",
    "[[1]]\n",
    "[1] 4\n",
    "\n",
    "[[2]]\n",
    "[1] 9\n",
    "\n",
    "[[3]]\n",
    "[1] 10\n",
    "\n",
    "[[4]]\n",
    "[1] 19\n",
    "```"
   ]
  },
  {
   "cell_type": "markdown",
   "metadata": {},
   "source": [
    "## SOLUTION"
   ]
  },
  {
   "cell_type": "code",
   "execution_count": null,
   "metadata": {},
   "outputs": [],
   "source": [
    "#1\n",
    "cuberoot <- function(x) { x^(1/3)}\n",
    "\n",
    "#2\n",
    "numbers <- list(64, 729, 1000, 6859)\n",
    "\n",
    "#3\n",
    "lapply(numbers, cuberoot)"
   ]
  },
  {
   "cell_type": "markdown",
   "metadata": {
    "tags": [
     "2019/2020-1",
     "yahyafatih",
     "list",
     "medium"
    ]
   },
   "source": [
    "# 5. SALARY ADJUSTING"
   ]
  },
  {
   "cell_type": "markdown",
   "metadata": {},
   "source": [
    "## QUESTION"
   ]
  },
  {
   "cell_type": "markdown",
   "metadata": {},
   "source": [
    "A boutique firm wants to keep their employees' informations into a list and make the changes over that list.\n",
    "\n",
    "1) Create vectors named **worker**, **age**, **education**, **experience** and **salary** using given data: \n",
    "\n",
    "|worker|age|education|experience|salary|\n",
    "|:-:|:-:|:-:|:-:|:-:|\n",
    "|a.|26|bachelor degree|4|2200|\n",
    "|b.|44|secondary school|12|5400|\n",
    "|c.|55|high school|28|6500|\n",
    "|d.|40|bachelor degree|16|5700|\n",
    "|e.|31|bachelor degree|7|4700|\n",
    "\n",
    "2) Now merge your five vector into a list and name it **worker_list**.\n",
    "\n",
    "3) The firm wants to make 10% wage increase who worked 10 years or more in the sector. Create a function named **salary_adjust** which does two things: \n",
    "- first it checks whether a worker gets a promotion or not and keep the results as boolean arguments in another vector in the list.\n",
    "- then it gives the raises by looking that boolean vector.\n",
    "\n",
    "```r\n",
    "> salary_adjust(worker_list)\n",
    "$worker\n",
    "[1] \"a.\" \"b.\" \"c.\" \"d.\" \"f.\"\n",
    "\n",
    "$age\n",
    "[1] 26 44 55 40 31\n",
    "\n",
    "$education\n",
    "[1] \"bachelor degree\" \"secondary school\" \"high school\" \"bachelor degree\" \"bachelor degree\" \n",
    "\n",
    "$experience\n",
    "[1]  4 12 28 16  7\n",
    "\n",
    "$salary\n",
    "[1] 2200 5940 7150 6270 4700\n",
    "\n",
    "$promotion\n",
    "[1] FALSE  TRUE  TRUE  TRUE FALSE\n",
    "```\n"
   ]
  },
  {
   "cell_type": "markdown",
   "metadata": {},
   "source": [
    "## SOLUTION"
   ]
  },
  {
   "cell_type": "code",
   "execution_count": null,
   "metadata": {},
   "outputs": [],
   "source": [
    "#1\n",
    "worker <- c(\"a.\", \"b.\", \"c.\", \"d.\", \"f.\")\n",
    "age <- c(26, 44, 55, 40, 31)\n",
    "education <- c(\"bachelor degree\", \"secondary school\", \"high school\", \"bachelor degree\", \"bachelor degree\")\n",
    "experience <- c(4, 12, 28, 16, 7)\n",
    "salary <- c(2200, 5400, 6500, 5700, 4700)\n",
    "\n",
    "#2\n",
    "worker_list <- list(\"worker\" = worker, \"age\" = age, \"education\" = education, \"experience\" = experience, \"salary\" = salary)\n",
    "worker_list\n",
    "\n",
    "#3\n",
    "salary_adjust <- function(listx) \n",
    "{\n",
    "  for (i in 1:length(worker_list[[1]])) {\n",
    "    if(listx$experience[i] >= 10) {\n",
    "      listx$promotion[i] <- T\n",
    "    } else {\n",
    "      listx$promotion[i] <- F\n",
    "    }\n",
    "    if(listx$promotion[i] == T) {\n",
    "      listx$salary[i] <- listx$salary[i]*(1.1)\n",
    "    }\n",
    "  }\n",
    "  return(listx)\n",
    "}\n",
    "\n",
    "salary_adjust(listx = worker_list)"
   ]
  },
  {
   "cell_type": "markdown",
   "metadata": {
    "tags": [
     "2019/2020-1",
     "Firdevs_Feyza_Erdönmez",
     "Function",
     "List",
     "Function_Indicating",
     "Medium"
    ]
   },
   "source": [
    "# 6. A MAGAZINE ISSUE"
   ]
  },
  {
   "cell_type": "markdown",
   "metadata": {},
   "source": [
    "## QUESTION"
   ]
  },
  {
   "cell_type": "markdown",
   "metadata": {},
   "source": [
    "One magazine wants to give 1-year membership to its subscribers after reviewing their subscriber profiles, on condition that they promote their magazines in their social media accounts.\n",
    "\n",
    "In the database of the magazine, the name of each user, the city in where he / she lives, the age and the subscription period are kept as a list.\n",
    "\n",
    "The magazine receives the number of instagram followers of each user in order to make this campaign.\n",
    "\n",
    "Follow these steps to find magazine promoters / influencers. \n",
    "\n",
    "1) Create a function named **magazine**, which takes **usr** (the user data list), and **flw** the number of followers, respectively. \n",
    "\n",
    "2) Add followers as **followers** to the user data list.\n",
    "\n",
    "3) The journal will select influencers from 3 major cities (istanbul, ankara, izmir).\n",
    "\n",
    "4) Subscribers who live in one of these three big cities, aged between 22 and 28 years, subscribe to the magazine for at least 2 years and have more than 350 followers will be offered.\n",
    "\n",
    "5) If a subscriber is suitable for the offer, the function will return the data as a vector and \"*offer*\", otherwise it will return the data as a vector and \"*no*\".\n",
    "\n",
    "6) You can use:\n",
    "```r \n",
    "subscriber <- list(name = \"Gizem\", city = \"istanbul\", age = 22, time = 2)\n",
    "```\n",
    "and your function should return\n",
    " ```r       \n",
    "> magazine(usr = subscriber, flw = 420)\n",
    "    name       city        age       time  followers   decision \n",
    "  \"Gizem \" \"istanbul\"       \"22\"        \"2\"      \"420\"    \"offer\" \n",
    "```"
   ]
  },
  {
   "cell_type": "markdown",
   "metadata": {},
   "source": [
    "## SOLUTION"
   ]
  },
  {
   "cell_type": "code",
   "execution_count": null,
   "metadata": {},
   "outputs": [],
   "source": [
    "#1\n",
    "magazine <- function(usr,flw){\n",
    "    \n",
    "#2\n",
    "  usr$followers <- flw\n",
    "    \n",
    "#3\n",
    "  if(usr[[2]] == \"istanbul\"|| usr[[2]] == \"ankara\" || usr[[2]] == \"izmir\" ){\n",
    "      \n",
    "#4\n",
    "    if(usr[[3]] >= 22 && usr[[3]] <= 28){\n",
    "      if(usr[[4]] >= 2){\n",
    "        if(usr$followers[1] > 350)\n",
    "            \n",
    "#5\n",
    "       return(c(unlist(usr), decision = \"offer\")) \n",
    "      }\n",
    "    }\n",
    "  }else{\n",
    "    return(c(unlist(usr)), decision = \"no\")\n",
    "  }\n",
    "}\n",
    "\n",
    "#6\n",
    "subscriber <- list(name = \"Gizem \", city = \"istanbul\", age = 22, time = 2)\n",
    "magazine(usr = subscriber, flw = 420)"
   ]
  },
  {
   "cell_type": "markdown",
   "metadata": {
    "tags": [
     "2019-2020-1",
     "sapply",
     "lists",
     "Baran",
     "medium"
    ]
   },
   "source": [
    "# 7. SCHOOL ASSEMBLY"
   ]
  },
  {
   "cell_type": "markdown",
   "metadata": {},
   "source": [
    "## QUESTION"
   ]
  },
  {
   "cell_type": "markdown",
   "metadata": {},
   "source": [
    "The election for the school assembly has just concluded. Each class holds elections on their own, where they each get to choose one student for the school assembly. The result of the election (the names of the candidates and their respective votes) is put into a list, where the candidates from a class make up a given element of the list. \n",
    "\n",
    "1) Please write a function called **assembly**, which will pick the winner of the election from each class from this list. So, if there are 5 classes, there should be 5 winners.\n",
    "\n",
    "2) Please create a list called **school** from the following class vectors, and determine the winners from this list, using your function. \n",
    "\n",
    "\n",
    "```r\n",
    "a <- c(\"Ali\" = 3, \"Ayşe\" = 8 , \"Ahmet\" = 5)\n",
    "b <- c(\"Mehmet\" = 2 , \"Ayça\" = 10, \"Elif\" = 7)\n",
    "c <- c(\"Kaan\" = 4, \"Fırat\" = 10 , \"Osman\" = 1 )\n",
    "d <- c(\"Ezgi\" = 2, \"Serhat\" = 7, \"Gamze\" = 5)\n",
    "e <- c(\"Feyyaz\" = 7, \"Can\" = 9, \"Okan\" = 3)\n",
    "f <- c(\"Deniz\" = 4, \"Kemal\" = 6, \"Cem\" = 5)\n",
    "\n",
    "```\n",
    "\n",
    "The end result should be as such:\n",
    "\n",
    "```r\n",
    "> assembly(x = school)\n",
    "  Ayse   Ayça  Fırat Serhat    Can  Kemal \n",
    "     8     10     10      7      9      6 \n",
    "```"
   ]
  },
  {
   "cell_type": "markdown",
   "metadata": {},
   "source": [
    "## SOLUTION"
   ]
  },
  {
   "cell_type": "code",
   "execution_count": null,
   "metadata": {},
   "outputs": [],
   "source": [
    "#1\n",
    "assembly <- function(x){\n",
    "  winners <- sapply(x, function(a) a[which.max(a)]) #with the sapply function, pick the student who received the most votes\n",
    "                    #sapply allows us to each element of a list, and produces a vector\n",
    "return(winners)\n",
    "}\n",
    "\n",
    "#2\n",
    "a <- c(\"Ali\" = 3, \"Ayşe\" = 8 , \"Ahmet\" = 5)\n",
    "b <- c(\"Mehmet\" = 2 , \"Ayça\" = 10, \"Elif\" = 7)\n",
    "c <- c(\"Kaan\" = 4, \"Fırat\" = 10 , \"Osman\" = 1 )\n",
    "d <- c(\"Ezgi\" = 2, \"Serhat\" = 7, \"Gamze\" = 5)\n",
    "e <- c(\"Feyyaz\" = 7, \"Can\" = 9, \"Okan\" = 3)\n",
    "f <- c(\"Deniz\" = 4, \"Kemal\" = 6, \"Cem\" = 5)\n",
    "\n",
    "school <- list(a,b,c,d,e,f) #create the list\n",
    "\n",
    "assembly(x = school)"
   ]
  },
  {
   "cell_type": "markdown",
   "metadata": {
    "tags": [
     "2019-20-2",
     "Elif_Kurt",
     "list",
     "getting_information",
     "medium"
    ]
   },
   "source": [
    "# 8. EC233"
   ]
  },
  {
   "cell_type": "markdown",
   "metadata": {},
   "source": [
    "## QUESTION"
   ]
  },
  {
   "cell_type": "markdown",
   "metadata": {},
   "source": [
    "1) Create a list named **a_class** from given vectors.\n",
    "\n",
    "```r\n",
    "student <- c(\"Murat\", \"Aysegul\", \"Ibrahim\", \"Esra\", \"Melike\")\n",
    "\n",
    "mt1 <- c(98, 57, 86, 63, 99)\n",
    "\n",
    "mt2 <- c(46, 68, 77, 72, 35)\n",
    "\n",
    "final <- c(79, 89, 83, 67, 94)\n",
    "```\n",
    "\n",
    "2) Assign vector names to list members.\n",
    "\n",
    "3) Give the names of the students from the list using the element name, and then element number.\n",
    "\n",
    "4) In order to reference a list member directly, we have to use the double square bracket **[[]]** operator or **$** operator.\n",
    "\n",
    "Access final notes using this information."
   ]
  },
  {
   "cell_type": "markdown",
   "metadata": {},
   "source": [
    "## SOLUTION"
   ]
  },
  {
   "cell_type": "code",
   "execution_count": null,
   "metadata": {},
   "outputs": [],
   "source": [
    "#1\n",
    "student <- c(\"Murat\", \"Aysegul\", \"Ibrahim\", \"Esra\", \"Melike\")\n",
    "\n",
    "mt1 <- c(98, 57, 86, 63, 99)\n",
    "\n",
    "mt2 <- c(46, 68, 77, 72, 35)\n",
    "\n",
    "final <- c(79, 89, 83, 67, 94)\n",
    "\n",
    "a_class <- list(student, mt1, mt2, final)\n",
    "\n",
    "#2\n",
    "names(a_class) <- c(\"student\", \"mt1\", \"mt2\", \"final\")\n",
    "a_class\n",
    "\n",
    "#3\n",
    "a_class[\"student\"]\n",
    "a_class[1]\n",
    "\n",
    "#4\n",
    "a_class[[\"final\"]]\n",
    "a_class$final"
   ]
  },
  {
   "cell_type": "markdown",
   "metadata": {
    "tags": [
     "2019-2020-1",
     "Selin",
     "lists",
     "medium"
    ]
   },
   "source": [
    "# 9. LIVING HEALTHY"
   ]
  },
  {
   "cell_type": "markdown",
   "metadata": {},
   "source": [
    "## QUESTION"
   ]
  },
  {
   "cell_type": "markdown",
   "metadata": {},
   "source": [
    "Ali and Kaan decide to enroll to a gym. The gym has a 10% discount opportunity for people who promise to be enrolled for 6 months and a 15% discount for people who promise to be enrolled for at least 8 months. Regardless of how many months you will be enrolled, your monthly fee is decreasing by 5 TL every month. The fee for the first month is 195 TL.\n",
    "Suppose now Ali decides to benefit from the 6 month discount opportunity and Kaan wants to benefit from the 8 month discount opportunity.\n",
    "Remember, regardless of the months, their monthly fee is decreasing by 5 TL each month.\n",
    "\n",
    "1) Create a list named **alfee** which will include two elements: the fee for each month and the number of months Ali is willing to be enrolled.\n",
    "\n",
    "2) Create a list named **kafee** which will include two elements : the fee for each month and the number of months Kaan is willing to be enrolled\n",
    "\n",
    "3) Create a list named **alka** consisting of these two lists in step 1 and 2.\n",
    "\n",
    "4) Now create a function **dis** which will take a list as an argument. Name that argument **lst**.\n",
    "\n",
    "5) The function should check whether you will be enrolled for 6 months or at least 8 months and apply the discount according to that information.\n",
    "\n",
    "6) The function should eventually update the monthly fees according to the information about the number of months Ali and Kaan are willing to be enrolled.\n",
    "\n",
    "7) Apply this function to your list **alka** to see the list with the updated versions of the monthly fees.\n",
    "\n",
    "Hint: Use **lapply** function.\n",
    "\n",
    "Your updated list should look like this:\n",
    "\n",
    "```r \n",
    "\n",
    "[[1]]\n",
    "[[1]][[1]]\n",
    "[1] 175.5 171.0 166.5 162.0 157.5 153.0\n",
    "\n",
    "[[1]][[2]]\n",
    "[1] 6\n",
    "\n",
    "\n",
    "[[2]]\n",
    "[[2]][[1]]\n",
    "[1] 165.75 161.50 157.25 153.00 148.75 144.50 140.25 136.00\n",
    "\n",
    "[[2]][[2]]\n",
    "[1] 8\n",
    "\n",
    "```"
   ]
  },
  {
   "cell_type": "markdown",
   "metadata": {},
   "source": [
    "## SOLUTION"
   ]
  },
  {
   "cell_type": "code",
   "execution_count": null,
   "metadata": {},
   "outputs": [],
   "source": [
    "#1\n",
    "alfee <- list(seq(from= 195, by = -5, length.out = 6), 6)\n",
    "\n",
    "#2\n",
    "kafee <- list(seq(from= 195, by= -5 , length.out = 8), 8)\n",
    "\n",
    "#3\n",
    "alka <- list(alfee,kafee)\n",
    "\n",
    "#4\n",
    "dis <- function(lst)\n",
    "{\n",
    "    \n",
    "#5    \n",
    "  if(length(lst[[1]]) == 6)\n",
    "  {\n",
    "   lst[[1]] <- lst[[1]] * 0.9\n",
    "   \n",
    "  }\n",
    "    \n",
    "    if(length(lst[[1]]) >= 8)\n",
    "    {\n",
    "     lst[[1]] <-  lst[[1]] * 0.85 \n",
    "      \n",
    "    }\n",
    "    \n",
    "#6    \n",
    "   return (lst) \n",
    "}\n",
    "\n",
    "#7\n",
    "lapply(alka, dis)"
   ]
  },
  {
   "cell_type": "markdown",
   "metadata": {
    "tags": [
     "2019-2020-1",
     "Ubeyd",
     "Öktem",
     "Functions",
     "Lists",
     "Hard-Medium"
    ]
   },
   "source": [
    "# 10. DIFFERENT TYPES OF INPUTS IN A LIST"
   ]
  },
  {
   "cell_type": "markdown",
   "metadata": {},
   "source": [
    "## QUESTION"
   ]
  },
  {
   "cell_type": "markdown",
   "metadata": {},
   "source": [
    "Write a function called **function_of_lists** that takes a list as an argument.\n",
    "This list's elements are characters, numbers, and logical operators.\n",
    "The function should take the list and return the seperated version of the list's elements according to their types.\n",
    "In other words all numerical values should placed in together, as well as other types.\n",
    "\n",
    "The return should be a list that consists all of the accumulated elements of the list according to their types.\n",
    "Also you should name the returning list's sub lists as **Characters**, **Numerical_Values**, **Logical_Values**.\n",
    "These names should be within the list. (One list must be returned.)\n",
    "\n",
    "\n",
    "\n",
    "For example if we have such a list,\n",
    "\n",
    "```R\n",
    "list_of_all <- list(1, 2, 3, 4, \"ahmet\", \"mehmet\", 11,\n",
    "                    TRUE, \"ayse\", 12, \"beyza\",\n",
    "                    FALSE, 45, \"serra\")\n",
    "```\n",
    "\n",
    "The output must be,\n",
    "\n",
    "```r\n",
    "> function_of_lists(x = list_of_all)\n",
    "$Characters\n",
    "[1]  1  2  3  4 11 12 45\n",
    "\n",
    "$Numerical_Values\n",
    "[1] \"ahmet\"  \"mehmet\" \"ayse\"   \"beyza\"  \"serra\" \n",
    "\n",
    "$Logical_Values\n",
    "[1]  TRUE FALSE\n",
    "```"
   ]
  },
  {
   "cell_type": "markdown",
   "metadata": {},
   "source": [
    "## SOLUTION"
   ]
  },
  {
   "cell_type": "code",
   "execution_count": null,
   "metadata": {},
   "outputs": [],
   "source": [
    "list_of_all <- list(1, 2, 3, 4, \"ahmet\", \"mehmet\", 11, TRUE, \"ayse\", 12, \"beyza\", FALSE, 45, \"serra\")\n",
    "\n",
    "\n",
    "function_of_lists <- function(x){\n",
    "  m <- c()\n",
    "  \n",
    "  for (i in 1:length(x)) {\n",
    "    if(class(x[[i]]) == \"numeric\"){\n",
    "      m <- c(m, x[[i]])\n",
    "    }\n",
    "  }\n",
    "  \n",
    "  n <- c()\n",
    "  \n",
    "  for (i in 1:length(x)) {\n",
    "    if(class(x[[i]]) == \"character\"){\n",
    "      n <- c(n, x[[i]])\n",
    "    }\n",
    "  }\n",
    "  \n",
    "  k <- c()\n",
    "  \n",
    "  for (i in 1:length(x)) {\n",
    "    if(class(x[[i]]) == \"logical\") {\n",
    "      k <- c(k, x[[i]])\n",
    "    }\n",
    "  }\n",
    "  \n",
    "  return(list(Characters = m,\n",
    "              Numerical_Values = n,\n",
    "              Logical_Values= k))\n",
    "\n",
    "}\n",
    "\n",
    "function_of_lists(x = list_of_all)"
   ]
  },
  {
   "cell_type": "markdown",
   "metadata": {
    "tags": [
     "2019-2020_1",
     "gulgun",
     "list",
     "deleting_elements",
     "single_double_brackets",
     "for",
     "hard"
    ]
   },
   "source": [
    "# 11. EMPLOYER OF DUNE"
   ]
  },
  {
   "cell_type": "markdown",
   "metadata": {},
   "source": [
    "## QUESTION"
   ]
  },
  {
   "cell_type": "markdown",
   "metadata": {},
   "source": [
    "Dune is a planet where there is no syndicate and workers are at discretion of their employers. An employer prepares a list of his workers' names, ages, wages and their characters to take some decisions.\n",
    "\n",
    "```R\n",
    "worker_info <- list(names = c(\"Duncan Idaho\", \"Paul Atreides\", \"Vladimir Harkonnen\", \"Liet Kynes\", \"Wellington Yueh\"),\n",
    "                    ages = c(45, 20, 58, 45, 38),\n",
    "                    wages = c(4500, 3600, 2700, 6100, 5200),\n",
    "                    character = c(\"Good\", \"Good\", \"Evil\", \"Good\", \"Evil\"))\n",
    "```\n",
    "\n",
    "1) Copy the list above to create **worker_info** list\n",
    "\n",
    "2) Create a function named **employer** which takes one argument **lst**. The function should find the youngest worker and give him a 20% rise on his wage.\n",
    "\n",
    "4) Then it should find the workers with evil characters, lay them off and return the list without fired workers' informations as follows:\n",
    "\n",
    "```r\n",
    "> employer(lst = worker_info)\n",
    "\n",
    "$names\n",
    "'Duncan Idaho' 'Paul Atreides' 'Liet Kynes'\n",
    "\n",
    "$ages\n",
    "45 20 45\n",
    "\n",
    "$wages\n",
    "4500 4320 6100\n",
    "\n",
    "$character\n",
    "'Good' 'Good' 'Good'\n",
    "```\n",
    "\n"
   ]
  },
  {
   "cell_type": "markdown",
   "metadata": {},
   "source": [
    "## SOLUTION"
   ]
  },
  {
   "cell_type": "code",
   "execution_count": null,
   "metadata": {},
   "outputs": [],
   "source": [
    "#1 \n",
    "worker_info <- list(names = c(\"Duncan Idaho\",\n",
    "                              \"Paul Atreides\", \"Vladimir Harkonnen\",\n",
    "                              \"Liet Kynes\", \"Wellington Yueh\"),\n",
    "                    ages = c(45, 20, 58, 45, 38),\n",
    "                    wages = c(4500, 3600, 2700, 6100, 5200),\n",
    "                    character = c(\"Good\", \"Good\", \"Evil\", \"Good\", \"Evil\"))\n",
    "\n",
    "#2\n",
    "employer <- function(lst)\n",
    "{\n",
    " #finding the indice of youngest worker\n",
    "   indice <- order(lst$ages, decreasing = F)[1]\n",
    " # increasing his wage\n",
    "   lst$wages[indice] <- lst$wages[indice]*1.2\n",
    "   \n",
    "   #3 finding evil workers' indices\n",
    "    \n",
    "   z <- c()\n",
    "   for (i in 1:length(lst[[4]])) \n",
    "   {\n",
    "     if (lst[[4]][i] == \"Evil\")\n",
    "       z <- c(z,i)\n",
    "   }\n",
    "   \n",
    "   #firing evil workers\n",
    "   for (i in 1:length(lst))\n",
    "   {\n",
    "    lst[[i]]<-lst[[i]][-z]\n",
    "   }\n",
    "   return(lst)\n",
    "}\n",
    "\n",
    "employer(lst = worker_info)"
   ]
  },
  {
   "cell_type": "markdown",
   "metadata": {
    "tags": [
     "2017-2018-2",
     "Alp",
     "matrix",
     "function",
     "ifelse",
     "list",
     "forloop",
     "Hard"
    ]
   },
   "source": [
    "# 12. MATRIX FUNCTION"
   ]
  },
  {
   "cell_type": "markdown",
   "metadata": {},
   "source": [
    "## QUESTION"
   ]
  },
  {
   "cell_type": "markdown",
   "metadata": {},
   "source": [
    " RNGversion(\"3.3.1\")\n",
    " set.seed(1903)\n",
    " \n",
    "1) Create a random 6x6 matrix which is consisted of 1's and 0's, using\n",
    "\n",
    "```R\n",
    "temp <- matrix(sample(1:0, 36, T), nrow = 6, ncol = 6)\n",
    "```\n",
    "\n",
    "2) Create a function called **analyze** which will do a few tasks on this random matrix and return a list.\n",
    " Result list's elements will be like this:\n",
    "\n",
    "\t1- How many 0's does this matrix has?\n",
    "\t2- How many 1's does this matrix has?\n",
    "\t3- If there are more 0's than 1's, return \"Non Matrix\", if it is otherwise return \"Lone Matrix\"\n",
    "\t4- If there is at least one row which has only 0's or 1's, return;\n",
    "        4a- \"Row Strike\"\n",
    "        4b- the row indexes which are suitable to the task 4\n",
    "\t4- If there isn't, return only \"No Row Strike\"\n",
    "\t5- If there is at least one column which has only 0's or 1's, return;\n",
    "        5a- \"Col Strike\"\n",
    "        5b- the column indexes which are suitable to the task 5\n",
    "\t5- If there isn't, return only \"No Col Strike\"\n",
    "\n",
    " For example : If we have a matrix like this,\n",
    "```r\n",
    " > tempx\n",
    "      [,1] [,2] [,3] [,4] [,5] [,6]\n",
    " [1,]    0    0    0    0    1    0\n",
    " [2,]    0    1    1    0    0    0\n",
    " [3,]    1    0    0    0    0    1\n",
    " [4,]    1    1    1    0    1    0\n",
    " [5,]    1    0    1    0    1    1\n",
    " [6,]    1    1    0    0    1    1\n",
    "```\n",
    "\n",
    "  The outcome of analyze(temp) will be:\n",
    "\n",
    "```R\n",
    " > analyze(temp = tempx)\n",
    " [[1]]\n",
    " [1] 19\n",
    "\n",
    " [[2]]\n",
    " [1] 17\n",
    "\n",
    " [[3]]\n",
    " [1] \"Non Matrix\"\n",
    "\n",
    " [[4]]\n",
    " [1] \"No Row Strike\"\n",
    "\n",
    " [[5]]\n",
    " [[5]][[1]]\n",
    " [1] \"Col Strike\"\n",
    "\n",
    " [[5]][[2]]\n",
    " [1] 4\n",
    "```"
   ]
  },
  {
   "cell_type": "markdown",
   "metadata": {},
   "source": [
    "## SOLUTION"
   ]
  },
  {
   "cell_type": "code",
   "execution_count": null,
   "metadata": {},
   "outputs": [],
   "source": [
    "RNGversion(\"3.3.1\")\n",
    "set.seed(1903)\n",
    "\n",
    "#1\n",
    "tempx <- matrix(sample(1:0, 36, T), nrow = 6, ncol = 6)\n",
    "\n",
    "#2\n",
    "analyze <- function(temp)\n",
    "{\n",
    "  \n",
    "    zero.c <- 0\n",
    "    lone.c <- 0\n",
    "  \n",
    "    checkrow <- FALSE\n",
    "    checkcol <- FALSE\n",
    "  \n",
    "    rowi <- c()\n",
    "    coli <- c()\n",
    "  \n",
    "    # Here we find the amounts of 0's and 1's\n",
    "    for (i in 1:6)\n",
    "    {\n",
    "        for (j in 1:6)\n",
    "        {\n",
    "            ifelse(temp[i, j] == 0,\n",
    "                   zero.c <- zero.c + 1,\n",
    "                   lone.c <- lone.c + 1\n",
    "                  )\n",
    "        }\n",
    "    }\n",
    "    \n",
    "    # Here we find whether rows or columns have all 1's or 0's or not\n",
    "    for (i in 1:6)\n",
    "    {\n",
    "    \n",
    "        # Here whether rows have all 1's or 0's or not\n",
    "        ifelse(all(temp[i,] == 1) | all(temp[i,] == 0),\n",
    "               checkrow <- T,\n",
    "               zero.c <- zero.c\n",
    "              )\n",
    "\n",
    "        ifelse(all(temp[i,] == 1) | all(temp[i,] == 0),\n",
    "               rowi <- c(rowi, i),\n",
    "               zero.c <- zero.c\n",
    "              )\n",
    "                \n",
    "        # Here whether columns have all 1's or 0's or not\n",
    "        ifelse(all(temp[, i] == 1) | all(temp[, i] == 0),\n",
    "               checkcol <- T,\n",
    "               zero.c <- zero.c\n",
    "              )\n",
    "\n",
    "        ifelse(all(temp[, i] == 1) | all(temp[, i] == 0),\n",
    "               coli <- c(coli, i),\n",
    "               zero.c <- zero.c\n",
    "              )\n",
    "    \n",
    "    }\n",
    "    \n",
    "    # Here we create our list with our findings\n",
    "    result.list <- list(zero.c,\n",
    "                        lone.c,\n",
    "                        ifelse(zero.c > lone.c,\n",
    "                               \"Non Matrix\",\n",
    "                               \"Lone Matrix\")\n",
    "                        )\n",
    "  \n",
    "    ifelse(checkrow == T,\n",
    "           result.list <- c(result.list, list(list(\"Row Strike\", rowi))),\n",
    "           result.list <- c(result.list, \"No Row Strike\")\n",
    "           )\n",
    "\n",
    "    ifelse(checkcol==T,\n",
    "           result.list <- c(result.list, list(list(\"Col Strike\",coli))),\n",
    "           result.list <- c(result.list,\"No Col Strike\")\n",
    "          )\n",
    "  \n",
    "    return(result.list)\n",
    "\n",
    "}\n",
    "\n",
    "analyze(temp = tempx)"
   ]
  },
  {
   "cell_type": "code",
   "execution_count": null,
   "metadata": {},
   "outputs": [],
   "source": []
  }
 ],
 "metadata": {
  "celltoolbar": "Tags",
  "kernelspec": {
   "display_name": "R",
   "language": "R",
   "name": "ir"
  },
  "language_info": {
   "codemirror_mode": "r",
   "file_extension": ".r",
   "mimetype": "text/x-r-source",
   "name": "R",
   "pygments_lexer": "r",
   "version": "3.6.1"
  },
  "toc": {
   "base_numbering": 1,
   "nav_menu": {},
   "number_sections": true,
   "sideBar": true,
   "skip_h1_title": false,
   "title_cell": "Table of Contents",
   "title_sidebar": "Contents",
   "toc_cell": false,
   "toc_position": {
    "height": "calc(100% - 180px)",
    "left": "10px",
    "top": "150px",
    "width": "212px"
   },
   "toc_section_display": true,
   "toc_window_display": true
  }
 },
 "nbformat": 4,
 "nbformat_minor": 2
}
