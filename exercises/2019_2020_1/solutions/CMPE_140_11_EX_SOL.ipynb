{
 "cells": [
  {
   "cell_type": "code",
   "execution_count": 1,
   "metadata": {},
   "outputs": [],
   "source": [
    "options(jupyter.rich_display = F)"
   ]
  },
  {
   "cell_type": "markdown",
   "metadata": {
    "tags": [
     "2019-2020-1",
     "Ubeyd",
     "Öktem",
     "Factors",
     "Easy"
    ]
   },
   "source": [
    "# FINDING MAJOR BY USING FACTORS"
   ]
  },
  {
   "cell_type": "markdown",
   "metadata": {},
   "source": [
    "## QUESTION"
   ]
  },
  {
   "cell_type": "markdown",
   "metadata": {},
   "source": [
    "Write a function called **function_of_factors** that takes two vectors as argument.\n",
    "\n",
    "First argument is a name vector, which consists of names.\n",
    "\n",
    "Second argument is a major vector, which consists of majors respectively.\n",
    "\n",
    "Function should take these two arguments and must return the name/names of the person studying management.\n",
    "\n",
    "(This function can be written with loops, but you must use factors instead.)\n",
    "\n",
    "               \n",
    "\n",
    "The elements of both vectors correspond to each other.\n",
    "\n",
    "For example if we have these two vectors:\n",
    "\n",
    "```r\n",
    "\n",
    "names <- c(\"Can\", \"Cem\", \"Hande\", \"Mehmet\", \"Deniz\", \"Kemal\", \"Derya\", \"Fatma\")\n",
    "\n",
    "majors <- c(\"Economics\", \"Sociology\", \"Sociology\", \"Politics\",\n",
    "            \"Economics\", \"Economics\", \"Sociology\", \"Management\")\n",
    "```\n",
    "\n",
    "We should understand that Can study economics, Cem study sociology and so on.\n",
    "\n",
    "In this example, the function has to return,\n",
    "```r\n",
    "function_of_factors(name = names, major = majors)\n",
    "'Fatma'\n",
    "```"
   ]
  },
  {
   "cell_type": "markdown",
   "metadata": {},
   "source": [
    "## SOLUTION"
   ]
  },
  {
   "cell_type": "code",
   "execution_count": 8,
   "metadata": {},
   "outputs": [
    {
     "data": {
      "text/html": [
       "'Fatma'"
      ],
      "text/latex": [
       "'Fatma'"
      ],
      "text/markdown": [
       "'Fatma'"
      ],
      "text/plain": [
       "[1] \"Fatma\""
      ]
     },
     "metadata": {},
     "output_type": "display_data"
    }
   ],
   "source": [
    "names <- c(\"Can\", \"Cem\", \"Hande\", \"Mehmet\", \"Deniz\", \"Kemal\", \"Derya\", \"Fatma\")\n",
    "\n",
    "majors <- c(\"Economics\", \"Sociology\", \"Sociology\", \"Politics\", \"Economics\", \"Economics\", \"Sociology\", \"Management\")\n",
    "\n",
    "\n",
    "function_of_factors <- function(name, major){\n",
    "  \n",
    "  major_factor <- factor(major)\n",
    "  \n",
    "  the_variabe <- name[major == \"Management\"]\n",
    "  \n",
    "  return(the_variabe)\n",
    "  \n",
    "}\n",
    "\n",
    "function_of_factors(names, majors)"
   ]
  },
  {
   "cell_type": "markdown",
   "metadata": {
    "tags": [
     "elif",
     "2019-2020-1",
     "factors",
     "easy"
    ]
   },
   "source": [
    "# LETTERS"
   ]
  },
  {
   "cell_type": "markdown",
   "metadata": {},
   "source": [
    "## QUESTION"
   ]
  },
  {
   "cell_type": "markdown",
   "metadata": {},
   "source": [
    "RNGversion(\"3.1.1\")\n",
    "set.seed(2020)\n",
    "\n",
    "1) Create two factors named **f1** and **f2** using the **sample** function, with 12 upper case letters and 12 lower case letters.\n",
    "\n",
    "2) Combine them using levels and name this factor as **f_factor**. Final result should look like this:\n",
    "\n",
    "```r\n",
    " [1] A B C H J K L M O Q V W b d f j k m n o u v y z\n",
    "Levels: A b B C d f H j J k K L m M n o O Q u v V W y z\n",
    "```"
   ]
  },
  {
   "cell_type": "markdown",
   "metadata": {},
   "source": [
    "## SOLUTION"
   ]
  },
  {
   "cell_type": "code",
   "execution_count": 21,
   "metadata": {},
   "outputs": [
    {
     "name": "stderr",
     "output_type": "stream",
     "text": [
      "Warning message in RNGkind(\"Mersenne-Twister\", \"Inversion\", \"Rounding\"):\n",
      "\"non-uniform 'Rounding' sampler used\""
     ]
    },
    {
     "data": {
      "text/html": [
       "<ol class=list-inline>\n",
       "\t<li>A</li>\n",
       "\t<li>B</li>\n",
       "\t<li>C</li>\n",
       "\t<li>H</li>\n",
       "\t<li>J</li>\n",
       "\t<li>K</li>\n",
       "\t<li>L</li>\n",
       "\t<li>M</li>\n",
       "\t<li>O</li>\n",
       "\t<li>Q</li>\n",
       "\t<li>V</li>\n",
       "\t<li>W</li>\n",
       "\t<li>b</li>\n",
       "\t<li>d</li>\n",
       "\t<li>f</li>\n",
       "\t<li>j</li>\n",
       "\t<li>k</li>\n",
       "\t<li>m</li>\n",
       "\t<li>n</li>\n",
       "\t<li>o</li>\n",
       "\t<li>u</li>\n",
       "\t<li>v</li>\n",
       "\t<li>y</li>\n",
       "\t<li>z</li>\n",
       "</ol>\n",
       "\n",
       "<details>\n",
       "\t<summary style=display:list-item;cursor:pointer>\n",
       "\t\t<strong>Levels</strong>:\n",
       "\t</summary>\n",
       "\t<ol class=list-inline>\n",
       "\t\t<li>'A'</li>\n",
       "\t\t<li>'b'</li>\n",
       "\t\t<li>'B'</li>\n",
       "\t\t<li>'C'</li>\n",
       "\t\t<li>'d'</li>\n",
       "\t\t<li>'f'</li>\n",
       "\t\t<li>'H'</li>\n",
       "\t\t<li>'j'</li>\n",
       "\t\t<li>'J'</li>\n",
       "\t\t<li>'k'</li>\n",
       "\t\t<li>'K'</li>\n",
       "\t\t<li>'L'</li>\n",
       "\t\t<li>'m'</li>\n",
       "\t\t<li>'M'</li>\n",
       "\t\t<li>'n'</li>\n",
       "\t\t<li>'o'</li>\n",
       "\t\t<li>'O'</li>\n",
       "\t\t<li>'Q'</li>\n",
       "\t\t<li>'u'</li>\n",
       "\t\t<li>'v'</li>\n",
       "\t\t<li>'V'</li>\n",
       "\t\t<li>'W'</li>\n",
       "\t\t<li>'y'</li>\n",
       "\t\t<li>'z'</li>\n",
       "\t</ol>\n",
       "</details>"
      ],
      "text/latex": [
       "\\begin{enumerate*}\n",
       "\\item A\n",
       "\\item B\n",
       "\\item C\n",
       "\\item H\n",
       "\\item J\n",
       "\\item K\n",
       "\\item L\n",
       "\\item M\n",
       "\\item O\n",
       "\\item Q\n",
       "\\item V\n",
       "\\item W\n",
       "\\item b\n",
       "\\item d\n",
       "\\item f\n",
       "\\item j\n",
       "\\item k\n",
       "\\item m\n",
       "\\item n\n",
       "\\item o\n",
       "\\item u\n",
       "\\item v\n",
       "\\item y\n",
       "\\item z\n",
       "\\end{enumerate*}\n",
       "\n",
       "\\emph{Levels}: \\begin{enumerate*}\n",
       "\\item 'A'\n",
       "\\item 'b'\n",
       "\\item 'B'\n",
       "\\item 'C'\n",
       "\\item 'd'\n",
       "\\item 'f'\n",
       "\\item 'H'\n",
       "\\item 'j'\n",
       "\\item 'J'\n",
       "\\item 'k'\n",
       "\\item 'K'\n",
       "\\item 'L'\n",
       "\\item 'm'\n",
       "\\item 'M'\n",
       "\\item 'n'\n",
       "\\item 'o'\n",
       "\\item 'O'\n",
       "\\item 'Q'\n",
       "\\item 'u'\n",
       "\\item 'v'\n",
       "\\item 'V'\n",
       "\\item 'W'\n",
       "\\item 'y'\n",
       "\\item 'z'\n",
       "\\end{enumerate*}\n"
      ],
      "text/markdown": [
       "1. A\n",
       "2. B\n",
       "3. C\n",
       "4. H\n",
       "5. J\n",
       "6. K\n",
       "7. L\n",
       "8. M\n",
       "9. O\n",
       "10. Q\n",
       "11. V\n",
       "12. W\n",
       "13. b\n",
       "14. d\n",
       "15. f\n",
       "16. j\n",
       "17. k\n",
       "18. m\n",
       "19. n\n",
       "20. o\n",
       "21. u\n",
       "22. v\n",
       "23. y\n",
       "24. z\n",
       "\n",
       "\n",
       "\n",
       "**Levels**: 1. 'A'\n",
       "2. 'b'\n",
       "3. 'B'\n",
       "4. 'C'\n",
       "5. 'd'\n",
       "6. 'f'\n",
       "7. 'H'\n",
       "8. 'j'\n",
       "9. 'J'\n",
       "10. 'k'\n",
       "11. 'K'\n",
       "12. 'L'\n",
       "13. 'm'\n",
       "14. 'M'\n",
       "15. 'n'\n",
       "16. 'o'\n",
       "17. 'O'\n",
       "18. 'Q'\n",
       "19. 'u'\n",
       "20. 'v'\n",
       "21. 'V'\n",
       "22. 'W'\n",
       "23. 'y'\n",
       "24. 'z'\n",
       "\n",
       "\n"
      ],
      "text/plain": [
       " [1] A B C H J K L M O Q V W b d f j k m n o u v y z\n",
       "Levels: A b B C d f H j J k K L m M n o O Q u v V W y z"
      ]
     },
     "metadata": {},
     "output_type": "display_data"
    }
   ],
   "source": [
    "RNGversion(\"3.1.1\")\n",
    "set.seed(2020)\n",
    "#1\n",
    "f1 <- factor(sample(LETTERS, size = 12))\n",
    "f2 <- factor(sample(letters, size = 12))\n",
    "\n",
    "#2\n",
    "f_factor <- factor(c(levels(f1), levels(f2)))\n",
    "f_factor"
   ]
  },
  {
   "cell_type": "markdown",
   "metadata": {
    "tags": [
     "2019-2020-1",
     "HazalErge",
     "easy",
     "factors"
    ]
   },
   "source": [
    "# BIRTHDAY MONTHS"
   ]
  },
  {
   "cell_type": "markdown",
   "metadata": {},
   "source": [
    "## QUESTION"
   ]
  },
  {
   "cell_type": "markdown",
   "metadata": {},
   "source": [
    "1) 13 random students from CMPE140 course have their birthdays in following months: October, August, January, July, July, June, July, October, January, April, April, January, May. Create a vector called **sample_fac** consisting of these 13 months subsequently.\n",
    "\n",
    "2) Create a factor called **sample_fac** derived from the vector you created above.\n",
    "\n",
    "3) Get the summary of sample_fac."
   ]
  },
  {
   "cell_type": "markdown",
   "metadata": {},
   "source": [
    "## SOLUTION"
   ]
  },
  {
   "cell_type": "code",
   "execution_count": 13,
   "metadata": {},
   "outputs": [
    {
     "data": {
      "text/html": [
       "<ol class=list-inline>\n",
       "\t<li>'October'</li>\n",
       "\t<li>'August'</li>\n",
       "\t<li>'January'</li>\n",
       "\t<li>'July'</li>\n",
       "\t<li>'July'</li>\n",
       "\t<li>'June'</li>\n",
       "\t<li>'July'</li>\n",
       "\t<li>'October'</li>\n",
       "\t<li>'January'</li>\n",
       "\t<li>'April'</li>\n",
       "\t<li>'April'</li>\n",
       "\t<li>'January'</li>\n",
       "\t<li>'May'</li>\n",
       "</ol>\n"
      ],
      "text/latex": [
       "\\begin{enumerate*}\n",
       "\\item 'October'\n",
       "\\item 'August'\n",
       "\\item 'January'\n",
       "\\item 'July'\n",
       "\\item 'July'\n",
       "\\item 'June'\n",
       "\\item 'July'\n",
       "\\item 'October'\n",
       "\\item 'January'\n",
       "\\item 'April'\n",
       "\\item 'April'\n",
       "\\item 'January'\n",
       "\\item 'May'\n",
       "\\end{enumerate*}\n"
      ],
      "text/markdown": [
       "1. 'October'\n",
       "2. 'August'\n",
       "3. 'January'\n",
       "4. 'July'\n",
       "5. 'July'\n",
       "6. 'June'\n",
       "7. 'July'\n",
       "8. 'October'\n",
       "9. 'January'\n",
       "10. 'April'\n",
       "11. 'April'\n",
       "12. 'January'\n",
       "13. 'May'\n",
       "\n",
       "\n"
      ],
      "text/plain": [
       " [1] \"October\" \"August\"  \"January\" \"July\"    \"July\"    \"June\"    \"July\"   \n",
       " [8] \"October\" \"January\" \"April\"   \"April\"   \"January\" \"May\"    "
      ]
     },
     "metadata": {},
     "output_type": "display_data"
    },
    {
     "data": {
      "text/html": [
       "<ol class=list-inline>\n",
       "\t<li>October</li>\n",
       "\t<li>August</li>\n",
       "\t<li>January</li>\n",
       "\t<li>July</li>\n",
       "\t<li>July</li>\n",
       "\t<li>June</li>\n",
       "\t<li>July</li>\n",
       "\t<li>October</li>\n",
       "\t<li>January</li>\n",
       "\t<li>April</li>\n",
       "\t<li>April</li>\n",
       "\t<li>January</li>\n",
       "\t<li>May</li>\n",
       "</ol>\n",
       "\n",
       "<details>\n",
       "\t<summary style=display:list-item;cursor:pointer>\n",
       "\t\t<strong>Levels</strong>:\n",
       "\t</summary>\n",
       "\t<ol class=list-inline>\n",
       "\t\t<li>'April'</li>\n",
       "\t\t<li>'August'</li>\n",
       "\t\t<li>'January'</li>\n",
       "\t\t<li>'July'</li>\n",
       "\t\t<li>'June'</li>\n",
       "\t\t<li>'May'</li>\n",
       "\t\t<li>'October'</li>\n",
       "\t</ol>\n",
       "</details>"
      ],
      "text/latex": [
       "\\begin{enumerate*}\n",
       "\\item October\n",
       "\\item August\n",
       "\\item January\n",
       "\\item July\n",
       "\\item July\n",
       "\\item June\n",
       "\\item July\n",
       "\\item October\n",
       "\\item January\n",
       "\\item April\n",
       "\\item April\n",
       "\\item January\n",
       "\\item May\n",
       "\\end{enumerate*}\n",
       "\n",
       "\\emph{Levels}: \\begin{enumerate*}\n",
       "\\item 'April'\n",
       "\\item 'August'\n",
       "\\item 'January'\n",
       "\\item 'July'\n",
       "\\item 'June'\n",
       "\\item 'May'\n",
       "\\item 'October'\n",
       "\\end{enumerate*}\n"
      ],
      "text/markdown": [
       "1. October\n",
       "2. August\n",
       "3. January\n",
       "4. July\n",
       "5. July\n",
       "6. June\n",
       "7. July\n",
       "8. October\n",
       "9. January\n",
       "10. April\n",
       "11. April\n",
       "12. January\n",
       "13. May\n",
       "\n",
       "\n",
       "\n",
       "**Levels**: 1. 'April'\n",
       "2. 'August'\n",
       "3. 'January'\n",
       "4. 'July'\n",
       "5. 'June'\n",
       "6. 'May'\n",
       "7. 'October'\n",
       "\n",
       "\n"
      ],
      "text/plain": [
       " [1] October August  January July    July    June    July    October January\n",
       "[10] April   April   January May    \n",
       "Levels: April August January July June May October"
      ]
     },
     "metadata": {},
     "output_type": "display_data"
    },
    {
     "data": {
      "text/html": [
       "<dl class=dl-horizontal>\n",
       "\t<dt>April</dt>\n",
       "\t\t<dd>2</dd>\n",
       "\t<dt>August</dt>\n",
       "\t\t<dd>1</dd>\n",
       "\t<dt>January</dt>\n",
       "\t\t<dd>3</dd>\n",
       "\t<dt>July</dt>\n",
       "\t\t<dd>3</dd>\n",
       "\t<dt>June</dt>\n",
       "\t\t<dd>1</dd>\n",
       "\t<dt>May</dt>\n",
       "\t\t<dd>1</dd>\n",
       "\t<dt>October</dt>\n",
       "\t\t<dd>2</dd>\n",
       "</dl>\n"
      ],
      "text/latex": [
       "\\begin{description*}\n",
       "\\item[April] 2\n",
       "\\item[August] 1\n",
       "\\item[January] 3\n",
       "\\item[July] 3\n",
       "\\item[June] 1\n",
       "\\item[May] 1\n",
       "\\item[October] 2\n",
       "\\end{description*}\n"
      ],
      "text/markdown": [
       "April\n",
       ":   2August\n",
       ":   1January\n",
       ":   3July\n",
       ":   3June\n",
       ":   1May\n",
       ":   1October\n",
       ":   2\n",
       "\n"
      ],
      "text/plain": [
       "  April  August January    July    June     May October \n",
       "      2       1       3       3       1       1       2 "
      ]
     },
     "metadata": {},
     "output_type": "display_data"
    }
   ],
   "source": [
    "#1\n",
    "sample_months <- c('October','August','January','July','July','June','July','October','January','April','April','January','May')\n",
    "sample_months\n",
    "\n",
    "#2\n",
    "sample_fac <- factor(sample_months)\n",
    "sample_fac\n",
    "\n",
    "#3\n",
    "summary(sample_fac)"
   ]
  },
  {
   "cell_type": "markdown",
   "metadata": {
    "tags": [
     "2019-2020-1",
     "selin",
     "factors",
     "easy"
    ]
   },
   "source": [
    "# CHOCOLATES"
   ]
  },
  {
   "cell_type": "markdown",
   "metadata": {},
   "source": [
    "## QUESTION"
   ]
  },
  {
   "cell_type": "markdown",
   "metadata": {},
   "source": [
    "A chocolate store lists their 3 main types of chocolates: white chocolate, milk chocolate, dark chocolate. However, they wrote the same type of chocolate wth both uppercase and lowercase letters. They want to eliminate these differences in the levels.\n",
    "\n",
    "1) Copy this vector below containing the listed chocolate categories.\n",
    "\n",
    "```r \n",
    "chocolates <- c(\"white\"  ,\"milk\", \"white\", \"Dark\", \"Milk\", \"White\", \"dark\", \"white\", \"white\", \"milk\")\n",
    "```\n",
    "\n",
    "2) Convert the information of chocolate categories into a factor named **choco_factor**.\n",
    "\n",
    "3) Overwrite all the occurances of the types of chocolates starting with uppercase letters with lowercase versions.\n",
    "\n",
    "4) Delete the old levels of the categories starting with uppercase letters and see the resulting factor to be like the one below:\n",
    "\n",
    "```r \n",
    " [1] white milk  white dark  milk  white dark  white white milk \n",
    "Levels: dark milk white\n",
    "\n",
    "```"
   ]
  },
  {
   "cell_type": "markdown",
   "metadata": {},
   "source": [
    "## SOLUTION"
   ]
  },
  {
   "cell_type": "code",
   "execution_count": 14,
   "metadata": {},
   "outputs": [
    {
     "data": {
      "text/html": [
       "<ol class=list-inline>\n",
       "\t<li>white</li>\n",
       "\t<li>milk</li>\n",
       "\t<li>white</li>\n",
       "\t<li>dark</li>\n",
       "\t<li>milk</li>\n",
       "\t<li>white</li>\n",
       "\t<li>dark</li>\n",
       "\t<li>white</li>\n",
       "\t<li>white</li>\n",
       "\t<li>milk</li>\n",
       "</ol>\n",
       "\n",
       "<details>\n",
       "\t<summary style=display:list-item;cursor:pointer>\n",
       "\t\t<strong>Levels</strong>:\n",
       "\t</summary>\n",
       "\t<ol class=list-inline>\n",
       "\t\t<li>'dark'</li>\n",
       "\t\t<li>'milk'</li>\n",
       "\t\t<li>'white'</li>\n",
       "\t</ol>\n",
       "</details>"
      ],
      "text/latex": [
       "\\begin{enumerate*}\n",
       "\\item white\n",
       "\\item milk\n",
       "\\item white\n",
       "\\item dark\n",
       "\\item milk\n",
       "\\item white\n",
       "\\item dark\n",
       "\\item white\n",
       "\\item white\n",
       "\\item milk\n",
       "\\end{enumerate*}\n",
       "\n",
       "\\emph{Levels}: \\begin{enumerate*}\n",
       "\\item 'dark'\n",
       "\\item 'milk'\n",
       "\\item 'white'\n",
       "\\end{enumerate*}\n"
      ],
      "text/markdown": [
       "1. white\n",
       "2. milk\n",
       "3. white\n",
       "4. dark\n",
       "5. milk\n",
       "6. white\n",
       "7. dark\n",
       "8. white\n",
       "9. white\n",
       "10. milk\n",
       "\n",
       "\n",
       "\n",
       "**Levels**: 1. 'dark'\n",
       "2. 'milk'\n",
       "3. 'white'\n",
       "\n",
       "\n"
      ],
      "text/plain": [
       " [1] white milk  white dark  milk  white dark  white white milk \n",
       "Levels: dark milk white"
      ]
     },
     "metadata": {},
     "output_type": "display_data"
    }
   ],
   "source": [
    "#1\n",
    "chocolates <- c(\"white\"  ,\"milk\", \"white\", \"Dark\", \"Milk\", \"White\", \"dark\", \"white\", \"white\", \"milk\")\n",
    "\n",
    "#2\n",
    "choco_factor <- factor(chocolates)\n",
    "\n",
    "#3\n",
    "choco_factor[choco_factor == \"White\"] <- \"white\"\n",
    "choco_factor[choco_factor == \"Milk\"] <- \"milk\"\n",
    "choco_factor[choco_factor == \"Dark\"] <- \"dark\"\n",
    "\n",
    "#4\n",
    "choco_factor <- droplevels(choco_factor)\n",
    "choco_factor\n"
   ]
  },
  {
   "cell_type": "markdown",
   "metadata": {
    "tags": [
     "2019-2020",
     "gulgun",
     "easy",
     "factor",
     "labels",
     "cut()"
    ]
   },
   "source": [
    "# CHICKEN WEIGHTS"
   ]
  },
  {
   "cell_type": "markdown",
   "metadata": {},
   "source": [
    "## QUESTION"
   ]
  },
  {
   "cell_type": "markdown",
   "metadata": {},
   "source": [
    "A chicken farmer wants to categorize his chickens according to their weights so that he can know which chickens he should send to slaughterhouse first. He already has a data ***chickwts*** (which also exists in your R Studio) showing the weights of chickens and kind of feed given to them. \n",
    "\n",
    "1) Create a function named ***fatchicks*** which takes one argument ***dta*** that is set as ***chickwts*** as default. This function should assign  \"anorexic\", \"skinny\", \"medium\", and \"obese\" labels for chickens weighting \n",
    "between [0, 150], (150,300], (300,450], and (450,600] consecutively. The result should look like:\n",
    "\n",
    "\n",
    "```r\n",
    "[1] skinny skinny anorexic skinny skinny skinny anorexic anorexic anorexic anorexic medium skinny skinny anorexic skinny skinny anorexic skinny skinny skinny skinny skinny skinny skinny skinny medium medium skinny skinny skinny medium skinny skinny skinny skinny skinny medium medium medium medium medium skinny medium skinny medium medium skinny medium medium skinny medium medium medium skinny skinny skinny skinny medium skinny medium medium medium skinny medium medium medium medium skinny skinny skinny medium\n",
    " Levels:\n",
    "'anorexic' 'skinny' 'medium' 'obese'\n",
    "\n",
    "```"
   ]
  },
  {
   "cell_type": "markdown",
   "metadata": {},
   "source": [
    "## SOLUTION"
   ]
  },
  {
   "cell_type": "code",
   "execution_count": 15,
   "metadata": {},
   "outputs": [
    {
     "data": {
      "text/html": [
       "<ol class=list-inline>\n",
       "\t<li>skinny</li>\n",
       "\t<li>skinny</li>\n",
       "\t<li>anorexic</li>\n",
       "\t<li>skinny</li>\n",
       "\t<li>skinny</li>\n",
       "\t<li>skinny</li>\n",
       "\t<li>anorexic</li>\n",
       "\t<li>anorexic</li>\n",
       "\t<li>anorexic</li>\n",
       "\t<li>anorexic</li>\n",
       "\t<li>medium</li>\n",
       "\t<li>skinny</li>\n",
       "\t<li>skinny</li>\n",
       "\t<li>anorexic</li>\n",
       "\t<li>skinny</li>\n",
       "\t<li>skinny</li>\n",
       "\t<li>anorexic</li>\n",
       "\t<li>skinny</li>\n",
       "\t<li>skinny</li>\n",
       "\t<li>skinny</li>\n",
       "\t<li>skinny</li>\n",
       "\t<li>skinny</li>\n",
       "\t<li>skinny</li>\n",
       "\t<li>skinny</li>\n",
       "\t<li>skinny</li>\n",
       "\t<li>medium</li>\n",
       "\t<li>medium</li>\n",
       "\t<li>skinny</li>\n",
       "\t<li>skinny</li>\n",
       "\t<li>skinny</li>\n",
       "\t<li>medium</li>\n",
       "\t<li>skinny</li>\n",
       "\t<li>skinny</li>\n",
       "\t<li>skinny</li>\n",
       "\t<li>skinny</li>\n",
       "\t<li>skinny</li>\n",
       "\t<li>medium</li>\n",
       "\t<li>medium</li>\n",
       "\t<li>medium</li>\n",
       "\t<li>medium</li>\n",
       "\t<li>medium</li>\n",
       "\t<li>skinny</li>\n",
       "\t<li>medium</li>\n",
       "\t<li>skinny</li>\n",
       "\t<li>medium</li>\n",
       "\t<li>medium</li>\n",
       "\t<li>skinny</li>\n",
       "\t<li>medium</li>\n",
       "\t<li>medium</li>\n",
       "\t<li>skinny</li>\n",
       "\t<li>medium</li>\n",
       "\t<li>medium</li>\n",
       "\t<li>medium</li>\n",
       "\t<li>skinny</li>\n",
       "\t<li>skinny</li>\n",
       "\t<li>skinny</li>\n",
       "\t<li>skinny</li>\n",
       "\t<li>medium</li>\n",
       "\t<li>skinny</li>\n",
       "\t<li>medium</li>\n",
       "\t<li>medium</li>\n",
       "\t<li>medium</li>\n",
       "\t<li>skinny</li>\n",
       "\t<li>medium</li>\n",
       "\t<li>medium</li>\n",
       "\t<li>medium</li>\n",
       "\t<li>medium</li>\n",
       "\t<li>skinny</li>\n",
       "\t<li>skinny</li>\n",
       "\t<li>skinny</li>\n",
       "\t<li>medium</li>\n",
       "</ol>\n",
       "\n",
       "<details>\n",
       "\t<summary style=display:list-item;cursor:pointer>\n",
       "\t\t<strong>Levels</strong>:\n",
       "\t</summary>\n",
       "\t<ol class=list-inline>\n",
       "\t\t<li>'anorexic'</li>\n",
       "\t\t<li>'skinny'</li>\n",
       "\t\t<li>'medium'</li>\n",
       "\t\t<li>'obese'</li>\n",
       "\t</ol>\n",
       "</details>"
      ],
      "text/latex": [
       "\\begin{enumerate*}\n",
       "\\item skinny\n",
       "\\item skinny\n",
       "\\item anorexic\n",
       "\\item skinny\n",
       "\\item skinny\n",
       "\\item skinny\n",
       "\\item anorexic\n",
       "\\item anorexic\n",
       "\\item anorexic\n",
       "\\item anorexic\n",
       "\\item medium\n",
       "\\item skinny\n",
       "\\item skinny\n",
       "\\item anorexic\n",
       "\\item skinny\n",
       "\\item skinny\n",
       "\\item anorexic\n",
       "\\item skinny\n",
       "\\item skinny\n",
       "\\item skinny\n",
       "\\item skinny\n",
       "\\item skinny\n",
       "\\item skinny\n",
       "\\item skinny\n",
       "\\item skinny\n",
       "\\item medium\n",
       "\\item medium\n",
       "\\item skinny\n",
       "\\item skinny\n",
       "\\item skinny\n",
       "\\item medium\n",
       "\\item skinny\n",
       "\\item skinny\n",
       "\\item skinny\n",
       "\\item skinny\n",
       "\\item skinny\n",
       "\\item medium\n",
       "\\item medium\n",
       "\\item medium\n",
       "\\item medium\n",
       "\\item medium\n",
       "\\item skinny\n",
       "\\item medium\n",
       "\\item skinny\n",
       "\\item medium\n",
       "\\item medium\n",
       "\\item skinny\n",
       "\\item medium\n",
       "\\item medium\n",
       "\\item skinny\n",
       "\\item medium\n",
       "\\item medium\n",
       "\\item medium\n",
       "\\item skinny\n",
       "\\item skinny\n",
       "\\item skinny\n",
       "\\item skinny\n",
       "\\item medium\n",
       "\\item skinny\n",
       "\\item medium\n",
       "\\item medium\n",
       "\\item medium\n",
       "\\item skinny\n",
       "\\item medium\n",
       "\\item medium\n",
       "\\item medium\n",
       "\\item medium\n",
       "\\item skinny\n",
       "\\item skinny\n",
       "\\item skinny\n",
       "\\item medium\n",
       "\\end{enumerate*}\n",
       "\n",
       "\\emph{Levels}: \\begin{enumerate*}\n",
       "\\item 'anorexic'\n",
       "\\item 'skinny'\n",
       "\\item 'medium'\n",
       "\\item 'obese'\n",
       "\\end{enumerate*}\n"
      ],
      "text/markdown": [
       "1. skinny\n",
       "2. skinny\n",
       "3. anorexic\n",
       "4. skinny\n",
       "5. skinny\n",
       "6. skinny\n",
       "7. anorexic\n",
       "8. anorexic\n",
       "9. anorexic\n",
       "10. anorexic\n",
       "11. medium\n",
       "12. skinny\n",
       "13. skinny\n",
       "14. anorexic\n",
       "15. skinny\n",
       "16. skinny\n",
       "17. anorexic\n",
       "18. skinny\n",
       "19. skinny\n",
       "20. skinny\n",
       "21. skinny\n",
       "22. skinny\n",
       "23. skinny\n",
       "24. skinny\n",
       "25. skinny\n",
       "26. medium\n",
       "27. medium\n",
       "28. skinny\n",
       "29. skinny\n",
       "30. skinny\n",
       "31. medium\n",
       "32. skinny\n",
       "33. skinny\n",
       "34. skinny\n",
       "35. skinny\n",
       "36. skinny\n",
       "37. medium\n",
       "38. medium\n",
       "39. medium\n",
       "40. medium\n",
       "41. medium\n",
       "42. skinny\n",
       "43. medium\n",
       "44. skinny\n",
       "45. medium\n",
       "46. medium\n",
       "47. skinny\n",
       "48. medium\n",
       "49. medium\n",
       "50. skinny\n",
       "51. medium\n",
       "52. medium\n",
       "53. medium\n",
       "54. skinny\n",
       "55. skinny\n",
       "56. skinny\n",
       "57. skinny\n",
       "58. medium\n",
       "59. skinny\n",
       "60. medium\n",
       "61. medium\n",
       "62. medium\n",
       "63. skinny\n",
       "64. medium\n",
       "65. medium\n",
       "66. medium\n",
       "67. medium\n",
       "68. skinny\n",
       "69. skinny\n",
       "70. skinny\n",
       "71. medium\n",
       "\n",
       "\n",
       "\n",
       "**Levels**: 1. 'anorexic'\n",
       "2. 'skinny'\n",
       "3. 'medium'\n",
       "4. 'obese'\n",
       "\n",
       "\n"
      ],
      "text/plain": [
       " [1] skinny   skinny   anorexic skinny   skinny   skinny   anorexic anorexic\n",
       " [9] anorexic anorexic medium   skinny   skinny   anorexic skinny   skinny  \n",
       "[17] anorexic skinny   skinny   skinny   skinny   skinny   skinny   skinny  \n",
       "[25] skinny   medium   medium   skinny   skinny   skinny   medium   skinny  \n",
       "[33] skinny   skinny   skinny   skinny   medium   medium   medium   medium  \n",
       "[41] medium   skinny   medium   skinny   medium   medium   skinny   medium  \n",
       "[49] medium   skinny   medium   medium   medium   skinny   skinny   skinny  \n",
       "[57] skinny   medium   skinny   medium   medium   medium   skinny   medium  \n",
       "[65] medium   medium   medium   skinny   skinny   skinny   medium  \n",
       "Levels: anorexic skinny medium obese"
      ]
     },
     "metadata": {},
     "output_type": "display_data"
    }
   ],
   "source": [
    "fatchicks <- function(dta = chickwts)\n",
    "    {\n",
    "    #selecting the weight column from the dataframe\n",
    "    weights <- dta$weight\n",
    "    #giving the ranges to use in cut() function\n",
    "    ranges <- c(0, 150,300,450, 600)\n",
    "    #assigning labels to appropriate intervals\n",
    "    result <- cut(weights, breaks = ranges, include.lowest = T, labels= c(\"anorexic\", \"skinny\", \"medium\", \"obese\") )\n",
    "    \n",
    "    return(result)\n",
    "    }\n",
    "fatchicks()"
   ]
  },
  {
   "cell_type": "markdown",
   "metadata": {
    "tags": [
     "2019/2020-1",
     "yfatih",
     "medium",
     "factors"
    ]
   },
   "source": [
    "# FACTORIZED DATA.FRAME"
   ]
  },
  {
   "cell_type": "markdown",
   "metadata": {},
   "source": [
    "## QUESTION"
   ]
  },
  {
   "cell_type": "markdown",
   "metadata": {},
   "source": [
    "|Name|Gender|Month of Birth|\n",
    "|:--:|:--:|:---:|\n",
    "|Can|Male|January|\n",
    "|Cem|Male|July|\n",
    "|Hande|Female|May|\n",
    "|Mehmet|Male|May|\n",
    "|Deniz|Female|February|\n",
    "|Kemal|Male|July|\n",
    "|Derya|Female|May|\n",
    "|Fatma|Female|April|\n",
    "\n",
    "1) Create a vector named **names** which consists of the names in the table.\n",
    "\n",
    "2) Now create **genders** vector with the information taken from these people.\n",
    "\n",
    "3) Convert the gender information to a factor (or a categorical variable) than change the levels of this factor as F and M for female and male respectively.\n",
    "\n",
    "4) Create a **birtday_months** vector using the month of birth information for everyone in the table and **months** vector consisting of all the months. Than convert it to a factor by **months** vector.\n",
    "\n",
    "5) Finally, create a data frame called **people** using factorized versions of **names**, **genders**, and **birthday_months** vectors. Summarize your data frame and examine factorization.\n",
    "\n",
    "\n",
    "\n",
    "```r\n",
    "> summary(people)\n",
    "     names   gender_fac   birthday_fac\n",
    " Can    :1   F:4        May     :3    \n",
    " Cem    :1   M:4        July    :2    \n",
    " Deniz  :1              January :1    \n",
    " Derya  :1              February:1    \n",
    " Fatma  :1              April   :1    \n",
    " Hande  :1              March   :0    \n",
    " (Other):2              (Other) :0 \n",
    "```\n"
   ]
  },
  {
   "cell_type": "markdown",
   "metadata": {},
   "source": [
    "## SOLUTION"
   ]
  },
  {
   "cell_type": "code",
   "execution_count": 16,
   "metadata": {},
   "outputs": [
    {
     "data": {
      "text/html": [
       "<ol class=list-inline>\n",
       "\t<li>Male</li>\n",
       "\t<li>Male</li>\n",
       "\t<li>Female</li>\n",
       "\t<li>Male</li>\n",
       "\t<li>Female</li>\n",
       "\t<li>Male</li>\n",
       "\t<li>Female</li>\n",
       "\t<li>Female</li>\n",
       "</ol>\n",
       "\n",
       "<details>\n",
       "\t<summary style=display:list-item;cursor:pointer>\n",
       "\t\t<strong>Levels</strong>:\n",
       "\t</summary>\n",
       "\t<ol class=list-inline>\n",
       "\t\t<li>'Female'</li>\n",
       "\t\t<li>'Male'</li>\n",
       "\t</ol>\n",
       "</details>"
      ],
      "text/latex": [
       "\\begin{enumerate*}\n",
       "\\item Male\n",
       "\\item Male\n",
       "\\item Female\n",
       "\\item Male\n",
       "\\item Female\n",
       "\\item Male\n",
       "\\item Female\n",
       "\\item Female\n",
       "\\end{enumerate*}\n",
       "\n",
       "\\emph{Levels}: \\begin{enumerate*}\n",
       "\\item 'Female'\n",
       "\\item 'Male'\n",
       "\\end{enumerate*}\n"
      ],
      "text/markdown": [
       "1. Male\n",
       "2. Male\n",
       "3. Female\n",
       "4. Male\n",
       "5. Female\n",
       "6. Male\n",
       "7. Female\n",
       "8. Female\n",
       "\n",
       "\n",
       "\n",
       "**Levels**: 1. 'Female'\n",
       "2. 'Male'\n",
       "\n",
       "\n"
      ],
      "text/plain": [
       "[1] Male   Male   Female Male   Female Male   Female Female\n",
       "Levels: Female Male"
      ]
     },
     "metadata": {},
     "output_type": "display_data"
    },
    {
     "data": {
      "text/html": [
       "<ol class=list-inline>\n",
       "\t<li>M</li>\n",
       "\t<li>M</li>\n",
       "\t<li>F</li>\n",
       "\t<li>M</li>\n",
       "\t<li>F</li>\n",
       "\t<li>M</li>\n",
       "\t<li>F</li>\n",
       "\t<li>F</li>\n",
       "</ol>\n",
       "\n",
       "<details>\n",
       "\t<summary style=display:list-item;cursor:pointer>\n",
       "\t\t<strong>Levels</strong>:\n",
       "\t</summary>\n",
       "\t<ol class=list-inline>\n",
       "\t\t<li>'F'</li>\n",
       "\t\t<li>'M'</li>\n",
       "\t</ol>\n",
       "</details>"
      ],
      "text/latex": [
       "\\begin{enumerate*}\n",
       "\\item M\n",
       "\\item M\n",
       "\\item F\n",
       "\\item M\n",
       "\\item F\n",
       "\\item M\n",
       "\\item F\n",
       "\\item F\n",
       "\\end{enumerate*}\n",
       "\n",
       "\\emph{Levels}: \\begin{enumerate*}\n",
       "\\item 'F'\n",
       "\\item 'M'\n",
       "\\end{enumerate*}\n"
      ],
      "text/markdown": [
       "1. M\n",
       "2. M\n",
       "3. F\n",
       "4. M\n",
       "5. F\n",
       "6. M\n",
       "7. F\n",
       "8. F\n",
       "\n",
       "\n",
       "\n",
       "**Levels**: 1. 'F'\n",
       "2. 'M'\n",
       "\n",
       "\n"
      ],
      "text/plain": [
       "[1] M M F M F M F F\n",
       "Levels: F M"
      ]
     },
     "metadata": {},
     "output_type": "display_data"
    },
    {
     "data": {
      "text/html": [
       "<ol class=list-inline>\n",
       "\t<li>January</li>\n",
       "\t<li>July</li>\n",
       "\t<li>May</li>\n",
       "\t<li>May</li>\n",
       "\t<li>February</li>\n",
       "\t<li>July</li>\n",
       "\t<li>May</li>\n",
       "\t<li>April</li>\n",
       "</ol>\n",
       "\n",
       "<details>\n",
       "\t<summary style=display:list-item;cursor:pointer>\n",
       "\t\t<strong>Levels</strong>:\n",
       "\t</summary>\n",
       "\t<ol class=list-inline>\n",
       "\t\t<li>'January'</li>\n",
       "\t\t<li>'February'</li>\n",
       "\t\t<li>'March'</li>\n",
       "\t\t<li>'April'</li>\n",
       "\t\t<li>'May'</li>\n",
       "\t\t<li>'June'</li>\n",
       "\t\t<li>'July'</li>\n",
       "\t\t<li>'August'</li>\n",
       "\t\t<li>'September'</li>\n",
       "\t\t<li>'October'</li>\n",
       "\t\t<li>'November'</li>\n",
       "\t\t<li>'December'</li>\n",
       "\t</ol>\n",
       "</details>"
      ],
      "text/latex": [
       "\\begin{enumerate*}\n",
       "\\item January\n",
       "\\item July\n",
       "\\item May\n",
       "\\item May\n",
       "\\item February\n",
       "\\item July\n",
       "\\item May\n",
       "\\item April\n",
       "\\end{enumerate*}\n",
       "\n",
       "\\emph{Levels}: \\begin{enumerate*}\n",
       "\\item 'January'\n",
       "\\item 'February'\n",
       "\\item 'March'\n",
       "\\item 'April'\n",
       "\\item 'May'\n",
       "\\item 'June'\n",
       "\\item 'July'\n",
       "\\item 'August'\n",
       "\\item 'September'\n",
       "\\item 'October'\n",
       "\\item 'November'\n",
       "\\item 'December'\n",
       "\\end{enumerate*}\n"
      ],
      "text/markdown": [
       "1. January\n",
       "2. July\n",
       "3. May\n",
       "4. May\n",
       "5. February\n",
       "6. July\n",
       "7. May\n",
       "8. April\n",
       "\n",
       "\n",
       "\n",
       "**Levels**: 1. 'January'\n",
       "2. 'February'\n",
       "3. 'March'\n",
       "4. 'April'\n",
       "5. 'May'\n",
       "6. 'June'\n",
       "7. 'July'\n",
       "8. 'August'\n",
       "9. 'September'\n",
       "10. 'October'\n",
       "11. 'November'\n",
       "12. 'December'\n",
       "\n",
       "\n"
      ],
      "text/plain": [
       "[1] January  July     May      May      February July     May      April   \n",
       "12 Levels: January < February < March < April < May < June < ... < December"
      ]
     },
     "metadata": {},
     "output_type": "display_data"
    },
    {
     "data": {
      "text/html": [
       "<table>\n",
       "<thead><tr><th scope=col>names</th><th scope=col>gender_fac</th><th scope=col>birthday_fac</th></tr></thead>\n",
       "<tbody>\n",
       "\t<tr><td>Can     </td><td>M       </td><td>January </td></tr>\n",
       "\t<tr><td>Cem     </td><td>M       </td><td>July    </td></tr>\n",
       "\t<tr><td>Hande   </td><td>F       </td><td>May     </td></tr>\n",
       "\t<tr><td>Mehmet  </td><td>M       </td><td>May     </td></tr>\n",
       "\t<tr><td>Deniz   </td><td>F       </td><td>February</td></tr>\n",
       "\t<tr><td>Kemal   </td><td>M       </td><td>July    </td></tr>\n",
       "\t<tr><td>Derya   </td><td>F       </td><td>May     </td></tr>\n",
       "\t<tr><td>Fatma   </td><td>F       </td><td>April   </td></tr>\n",
       "</tbody>\n",
       "</table>\n"
      ],
      "text/latex": [
       "\\begin{tabular}{r|lll}\n",
       " names & gender\\_fac & birthday\\_fac\\\\\n",
       "\\hline\n",
       "\t Can      & M        & January \\\\\n",
       "\t Cem      & M        & July    \\\\\n",
       "\t Hande    & F        & May     \\\\\n",
       "\t Mehmet   & M        & May     \\\\\n",
       "\t Deniz    & F        & February\\\\\n",
       "\t Kemal    & M        & July    \\\\\n",
       "\t Derya    & F        & May     \\\\\n",
       "\t Fatma    & F        & April   \\\\\n",
       "\\end{tabular}\n"
      ],
      "text/markdown": [
       "\n",
       "| names | gender_fac | birthday_fac |\n",
       "|---|---|---|\n",
       "| Can      | M        | January  |\n",
       "| Cem      | M        | July     |\n",
       "| Hande    | F        | May      |\n",
       "| Mehmet   | M        | May      |\n",
       "| Deniz    | F        | February |\n",
       "| Kemal    | M        | July     |\n",
       "| Derya    | F        | May      |\n",
       "| Fatma    | F        | April    |\n",
       "\n"
      ],
      "text/plain": [
       "  names  gender_fac birthday_fac\n",
       "1 Can    M          January     \n",
       "2 Cem    M          July        \n",
       "3 Hande  F          May         \n",
       "4 Mehmet M          May         \n",
       "5 Deniz  F          February    \n",
       "6 Kemal  M          July        \n",
       "7 Derya  F          May         \n",
       "8 Fatma  F          April       "
      ]
     },
     "metadata": {},
     "output_type": "display_data"
    },
    {
     "data": {
      "text/plain": [
       "     names   gender_fac   birthday_fac\n",
       " Can    :1   F:4        May     :3    \n",
       " Cem    :1   M:4        July    :2    \n",
       " Deniz  :1              January :1    \n",
       " Derya  :1              February:1    \n",
       " Fatma  :1              April   :1    \n",
       " Hande  :1              March   :0    \n",
       " (Other):2              (Other) :0    "
      ]
     },
     "metadata": {},
     "output_type": "display_data"
    }
   ],
   "source": [
    "#1\n",
    "names <- c(\"Can\", \"Cem\", \"Hande\", \"Mehmet\", \"Deniz\", \"Kemal\", \"Derya\", \"Fatma\")\n",
    "\n",
    "#2\n",
    "genders <- c(\"Male\", \"Male\", \"Female\", \"Male\", \"Female\", \"Male\", \"Female\", \"Female\")\n",
    "\n",
    "#3\n",
    "gender_fac <- factor(genders)\n",
    "gender_fac\n",
    "levels(gender_fac) <- c(\"F\", \"M\")\n",
    "gender_fac\n",
    "\n",
    "#4\n",
    "birthday_months <- c(\"January\",\"July\",\"May\",\"May\",\"February\",\"July\",\"May\",\"April\")\n",
    "months <- c(\"January\",\"February\",\"March\",\"April\",\"May\",\n",
    "            \"June\",\"July\",\"August\",\"September\",\"October\",\"November\",\"December\")\n",
    "birthday_fac <- factor(birthday_months, levels=months, ordered=TRUE)\n",
    "birthday_fac\n",
    "\n",
    "#5\n",
    "people <- data.frame(names, gender_fac, birthday_fac)\n",
    "people\n",
    "summary(people)"
   ]
  },
  {
   "cell_type": "markdown",
   "metadata": {
    "tags": [
     "2019/2020-1",
     "Feyza_Erdönmez",
     "Factors",
     "Binning",
     "Medium"
    ]
   },
   "source": [
    "# STATISTIC ASSIGNMENT"
   ]
  },
  {
   "cell_type": "markdown",
   "metadata": {},
   "source": [
    "## QUESTION"
   ]
  },
  {
   "cell_type": "markdown",
   "metadata": {},
   "source": [
    "A student is doing her/his statistics assignments, using R programming. This student, who needs to adjust ranges in each assignment, wants to write a function for that.\n",
    "\n",
    "1) This function named **binning** takes  **x** and **c** vectors as arguments.\n",
    "\n",
    "2) Separates the vector **x** according to the intervals in **c**, and each interval is open at the second value.\n",
    "\n",
    "3) You can use:\n",
    "```r \n",
    "x <- c(11, 18, 36, 74, 43, 81, 95, 64, 32, 51)\n",
    "c <- c(0, 30, 70, 100)\n",
    "```\n",
    "and your function should return:\n",
    "```r \n",
    " [1] [0,30)   [0,30)   [30,70)  [70,100] [30,70)  [70,100] [70,100] [30,70)  [30,70)  [30,70) \n",
    "Levels: [0,30) [30,70) [70,100]\n",
    " ```\n"
   ]
  },
  {
   "cell_type": "markdown",
   "metadata": {},
   "source": [
    "## SOLUTION"
   ]
  },
  {
   "cell_type": "code",
   "execution_count": 19,
   "metadata": {},
   "outputs": [
    {
     "data": {
      "text/html": [
       "<ol class=list-inline>\n",
       "\t<li>[0,30)</li>\n",
       "\t<li>[0,30)</li>\n",
       "\t<li>[30,70)</li>\n",
       "\t<li>[70,100]</li>\n",
       "\t<li>[30,70)</li>\n",
       "\t<li>[70,100]</li>\n",
       "\t<li>[70,100]</li>\n",
       "\t<li>[30,70)</li>\n",
       "\t<li>[30,70)</li>\n",
       "\t<li>[30,70)</li>\n",
       "</ol>\n",
       "\n",
       "<details>\n",
       "\t<summary style=display:list-item;cursor:pointer>\n",
       "\t\t<strong>Levels</strong>:\n",
       "\t</summary>\n",
       "\t<ol class=list-inline>\n",
       "\t\t<li>'[0,30)'</li>\n",
       "\t\t<li>'[30,70)'</li>\n",
       "\t\t<li>'[70,100]'</li>\n",
       "\t</ol>\n",
       "</details>"
      ],
      "text/latex": [
       "\\begin{enumerate*}\n",
       "\\item {[}0,30)\n",
       "\\item {[}0,30)\n",
       "\\item {[}30,70)\n",
       "\\item {[}70,100{]}\n",
       "\\item {[}30,70)\n",
       "\\item {[}70,100{]}\n",
       "\\item {[}70,100{]}\n",
       "\\item {[}30,70)\n",
       "\\item {[}30,70)\n",
       "\\item {[}30,70)\n",
       "\\end{enumerate*}\n",
       "\n",
       "\\emph{Levels}: \\begin{enumerate*}\n",
       "\\item '{[}0,30)'\n",
       "\\item '{[}30,70)'\n",
       "\\item '{[}70,100{]}'\n",
       "\\end{enumerate*}\n"
      ],
      "text/markdown": [
       "1. [0,30)\n",
       "2. [0,30)\n",
       "3. [30,70)\n",
       "4. [70,100]\n",
       "5. [30,70)\n",
       "6. [70,100]\n",
       "7. [70,100]\n",
       "8. [30,70)\n",
       "9. [30,70)\n",
       "10. [30,70)\n",
       "\n",
       "\n",
       "\n",
       "**Levels**: 1. '[0,30)'\n",
       "2. '[30,70)'\n",
       "3. '[70,100]'\n",
       "\n",
       "\n"
      ],
      "text/plain": [
       " [1] [0,30)   [0,30)   [30,70)  [70,100] [30,70)  [70,100] [70,100] [30,70) \n",
       " [9] [30,70)  [30,70) \n",
       "Levels: [0,30) [30,70) [70,100]"
      ]
     },
     "metadata": {},
     "output_type": "display_data"
    }
   ],
   "source": [
    "#1\n",
    "binning <- function(x,c){\n",
    "\n",
    "#2\n",
    "  range <- cut(x, breaks = c, right = F, include.lowest = T)\n",
    "  return(range)\n",
    "}\n",
    "\n",
    "#3\n",
    "x <- c(11, 18, 36, 74, 43, 81, 95, 64, 32, 51)\n",
    "c <- c(0, 30, 70, 100)\n",
    "\n",
    "binning(x,c)"
   ]
  },
  {
   "cell_type": "markdown",
   "metadata": {
    "tags": [
     "2019-2020-1",
     "Salih",
     "Factors",
     "Medium"
    ]
   },
   "source": [
    "# AGE GROUPS"
   ]
  },
  {
   "cell_type": "markdown",
   "metadata": {},
   "source": [
    "## QUESTION"
   ]
  },
  {
   "cell_type": "markdown",
   "metadata": {},
   "source": [
    "World DanceSport Federation defines some age categories for dancers. Three of these categories are listed below:\n",
    "\n",
    "|Categories|Age Range|\n",
    "|:-:|:-:|\n",
    "|Adult|18-35|\n",
    "|Senior1|35-45|\n",
    "|Senior2|45-50|\n",
    "\n",
    "Create a function named **partners** which takes 2 arguments:\n",
    "\n",
    "* **mls** : a vector which holds names and ages of male dancers\n",
    "* **fmls** : a vector which holds names and ages of female dancers\n",
    "\n",
    "Your function should do the following :\n",
    "\n",
    "* First, it will categorize the female and male dancers as \"Adult\", \"Senior1\", and \"Senior2\" according to their ages.\n",
    "   **Hint**: You can use the cut() function.\n",
    "\n",
    "* Then, it will sort the dancers which are in the \"Adult\" category by their ages in increasing order. (Males and females separately)\n",
    "\n",
    "* Finally, it will return a list of which the first element will be a couple consisting of the youngest adult male and youngest adult female, the second element will be the second youngest adult male and female and so on.\n",
    "\n",
    "Copy the code below and try your function with **mages** and **fages** samples.\n",
    "\n",
    "```r\n",
    "RNGversion(\"3.1.1\")\n",
    "set.seed(7) \n",
    "mages <- sample(18:50, 8)\n",
    "fages <- sample(18:50, 8)\n",
    "males <- c(\"Onur\", \"Ege\", \"Can\", \"Mehmet\", \"Ali\", \"Mustafa\", \"Mert\", \"Ahmet\")\n",
    "females <- c(\"Beste\", \"Merve\", \"Miray\", \"Sena\", \"Bilge\", \"Feyza\", \"Ceyda\", \"Deniz\")\n",
    "names(mages) <- males\n",
    "names(fages) <- females\n",
    "```\n",
    "\n",
    "The result should look like :\n",
    "\n",
    "```r\n",
    "partners(mls = mages, fmls = fages)\n",
    "[[1]]\n",
    "Mehmet  Feyza \n",
    "    20     20 \n",
    "\n",
    "[[2]]\n",
    "  Can Beste \n",
    "   21    23 \n",
    "\n",
    "[[3]]\n",
    " Ali Sena \n",
    "  25   24 \n",
    "\n",
    "[[4]]\n",
    " Mert Ceyda \n",
    "   27    30 \n",
    "\n",
    "[[5]]\n",
    "  Ege Merve \n",
    "   30    32 \n",
    "   ```\n",
    "\n",
    "\n",
    "\n",
    "\n"
   ]
  },
  {
   "cell_type": "markdown",
   "metadata": {},
   "source": [
    "## SOLUTION"
   ]
  },
  {
   "cell_type": "code",
   "execution_count": 24,
   "metadata": {},
   "outputs": [
    {
     "name": "stderr",
     "output_type": "stream",
     "text": [
      "Warning message in RNGkind(\"Mersenne-Twister\", \"Inversion\", \"Rounding\"):\n",
      "\"non-uniform 'Rounding' sampler used\""
     ]
    },
    {
     "data": {
      "text/html": [
       "<ol>\n",
       "\t<li><dl class=dl-horizontal>\n",
       "\t<dt>Mehmet</dt>\n",
       "\t\t<dd>20</dd>\n",
       "\t<dt>Feyza</dt>\n",
       "\t\t<dd>20</dd>\n",
       "</dl>\n",
       "</li>\n",
       "\t<li><dl class=dl-horizontal>\n",
       "\t<dt>Can</dt>\n",
       "\t\t<dd>21</dd>\n",
       "\t<dt>Beste</dt>\n",
       "\t\t<dd>23</dd>\n",
       "</dl>\n",
       "</li>\n",
       "\t<li><dl class=dl-horizontal>\n",
       "\t<dt>Ali</dt>\n",
       "\t\t<dd>25</dd>\n",
       "\t<dt>Sena</dt>\n",
       "\t\t<dd>24</dd>\n",
       "</dl>\n",
       "</li>\n",
       "\t<li><dl class=dl-horizontal>\n",
       "\t<dt>Mert</dt>\n",
       "\t\t<dd>27</dd>\n",
       "\t<dt>Ceyda</dt>\n",
       "\t\t<dd>30</dd>\n",
       "</dl>\n",
       "</li>\n",
       "\t<li><dl class=dl-horizontal>\n",
       "\t<dt>Ege</dt>\n",
       "\t\t<dd>30</dd>\n",
       "\t<dt>Merve</dt>\n",
       "\t\t<dd>32</dd>\n",
       "</dl>\n",
       "</li>\n",
       "</ol>\n"
      ],
      "text/latex": [
       "\\begin{enumerate}\n",
       "\\item \\begin{description*}\n",
       "\\item[Mehmet] 20\n",
       "\\item[Feyza] 20\n",
       "\\end{description*}\n",
       "\n",
       "\\item \\begin{description*}\n",
       "\\item[Can] 21\n",
       "\\item[Beste] 23\n",
       "\\end{description*}\n",
       "\n",
       "\\item \\begin{description*}\n",
       "\\item[Ali] 25\n",
       "\\item[Sena] 24\n",
       "\\end{description*}\n",
       "\n",
       "\\item \\begin{description*}\n",
       "\\item[Mert] 27\n",
       "\\item[Ceyda] 30\n",
       "\\end{description*}\n",
       "\n",
       "\\item \\begin{description*}\n",
       "\\item[Ege] 30\n",
       "\\item[Merve] 32\n",
       "\\end{description*}\n",
       "\n",
       "\\end{enumerate}\n"
      ],
      "text/markdown": [
       "1. Mehmet\n",
       ":   20Feyza\n",
       ":   20\n",
       "\n",
       "\n",
       "2. Can\n",
       ":   21Beste\n",
       ":   23\n",
       "\n",
       "\n",
       "3. Ali\n",
       ":   25Sena\n",
       ":   24\n",
       "\n",
       "\n",
       "4. Mert\n",
       ":   27Ceyda\n",
       ":   30\n",
       "\n",
       "\n",
       "5. Ege\n",
       ":   30Merve\n",
       ":   32\n",
       "\n",
       "\n",
       "\n",
       "\n"
      ],
      "text/plain": [
       "[[1]]\n",
       "Mehmet  Feyza \n",
       "    20     20 \n",
       "\n",
       "[[2]]\n",
       "  Can Beste \n",
       "   21    23 \n",
       "\n",
       "[[3]]\n",
       " Ali Sena \n",
       "  25   24 \n",
       "\n",
       "[[4]]\n",
       " Mert Ceyda \n",
       "   27    30 \n",
       "\n",
       "[[5]]\n",
       "  Ege Merve \n",
       "   30    32 \n"
      ]
     },
     "metadata": {},
     "output_type": "display_data"
    }
   ],
   "source": [
    "RNGversion(\"3.1.1\")\n",
    "set.seed(7) \n",
    "mages <- sample(18:50, 8)\n",
    "fages <- sample(18:50, 8)\n",
    "males <- c(\"Onur\", \"Ege\", \"Can\", \"Mehmet\", \"Ali\", \"Mustafa\", \"Mert\", \"Ahmet\")\n",
    "females <- c(\"Beste\", \"Merve\", \"Miray\", \"Sena\", \"Bilge\", \"Feyza\", \"Ceyda\", \"Deniz\")\n",
    "names(mages) <- males\n",
    "names(fages) <- females\n",
    "\n",
    "partners <- function(mls,fmls)\n",
    "{\n",
    "  # Generating a factor object in order to categorize the data\n",
    "  lbl <- c(\"Adult\", \"Senior1\", \"Senior2\")\n",
    "  brks <- c(18, 35, 45, 50)\n",
    "  x <- cut(mls, breaks = brks, labels = lbl, include.lowest = T)\n",
    "  y <- cut(fmls, breaks = brks, labels = lbl, include.lowest = T)\n",
    "  \n",
    "  # Sorting the data in increasing order\n",
    "  q <- sort(mls[x == \"Adult\"])\n",
    "  z <- sort(fmls[y == \"Adult\"])\n",
    "  \n",
    "  # Creating the requested list\n",
    "  g <- list()\n",
    "  for(i in 1:length(q)){\n",
    "    \n",
    "    g[[i]] <- c(q[i], z[i])\n",
    "    }\n",
    "  return(g)\n",
    "  \n",
    "}\n",
    "partners(mls = mages, fmls = fages)"
   ]
  },
  {
   "cell_type": "markdown",
   "metadata": {},
   "source": []
  }
 ],
 "metadata": {
  "celltoolbar": "Tags",
  "kernelspec": {
   "display_name": "R",
   "language": "R",
   "name": "ir"
  },
  "language_info": {
   "codemirror_mode": "r",
   "file_extension": ".r",
   "mimetype": "text/x-r-source",
   "name": "R",
   "pygments_lexer": "r",
   "version": "3.6.1"
  },
  "toc": {
   "base_numbering": 1,
   "nav_menu": {},
   "number_sections": true,
   "sideBar": true,
   "skip_h1_title": false,
   "title_cell": "Table of Contents",
   "title_sidebar": "Contents",
   "toc_cell": false,
   "toc_position": {},
   "toc_section_display": true,
   "toc_window_display": true
  }
 },
 "nbformat": 4,
 "nbformat_minor": 2
}
