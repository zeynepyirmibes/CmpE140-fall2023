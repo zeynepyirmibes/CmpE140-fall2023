{
 "cells": [
  {
   "cell_type": "code",
   "execution_count": null,
   "metadata": {},
   "outputs": [],
   "source": [
    "options(jupyter.rich_display = F)"
   ]
  },
  {
   "cell_type": "markdown",
   "metadata": {
    "tags": [
     "2020-2021-1",
     "melike",
     "logical",
     "operators",
     "easy"
    ]
   },
   "source": [
    "# SHOPPING CENTER ENTRANCE"
   ]
  },
  {
   "cell_type": "markdown",
   "metadata": {},
   "source": [
    "Due to the COVID-19 pandemic, mall entrances are subject to mask and body temperature control.\n",
    "\n",
    "\n",
    "\n",
    "\n",
    "\n",
    "\n",
    "Write a function named **enter_or_not** that takes two arguments without default values:\n",
    "\n",
    "  - **mask** (stands for wearing a mask or not) that will take a character value of YES or NO, and\n",
    "  \n",
    "  - **temp** (stands for body temperature) that will take a numeric value for body temperature\n",
    "  \n",
    "  \n",
    "  \n",
    "  \n",
    "  \n",
    "  \n",
    "  \n",
    " The function will feature a condition:\n",
    "\n",
    "  - If **mask** equals yes and **temp** is below or equal 37.5, the function will return **\"you can enter**,\n",
    "  \n",
    "  - otherwise the function will return **\"you cannot enter\"**\n",
    "  \n",
    "  \n",
    " as such:\n",
    " ```r \n",
    "\n",
    " > enter_or_not(\"YES\", 37.6)\n",
    "[1] \"you cannot enter\"\n",
    "\n",
    "``` "
   ]
  },
  {
   "cell_type": "markdown",
   "metadata": {
    "tags": [
     "2020-2021-1",
     "oyku",
     "decision_structures",
     "ifelse_statement",
     "easy"
    ]
   },
   "source": [
    "# A NEW ACTOR, A NEW BEGINNING"
   ]
  },
  {
   "cell_type": "markdown",
   "metadata": {},
   "source": [
    "A popular TV series is looking to replace its main actor because of her involvement in a recent scandal. The casting crew have received a handful of applications and have narrowed the candidates down to 6 people. These are the candidates.\n",
    "\n",
    "|Actor|Height|Acting Score|\n",
    "|---|---|---|\n",
    "|Meltem|159|8|\n",
    "|Ece|164|2|\n",
    "|Seyhan|179|10|\n",
    "|Ceren|167|4|\n",
    "|Hazal|162|3|\n",
    "|Deniz|172|9|\n",
    "\n",
    "1) Create a vector for each of these actors. The vectors should consist of their height and acting score and should be named after them. Here is how your vectors should look:\n",
    "\n",
    "```r\n",
    "> Meltem\n",
    "[1] 159   8\n",
    "```\n",
    "\n",
    "2) The casting crew has decided that the ideal actor should have a height between 165 and 175 cm, and an acting score above 5. So if the candidate has an acting score below or equal to 5, they will be eliminated. In addition to that, if the candidate is below 165 cm or above 175 cm in height, they will be eliminated. \n",
    "\n",
    "Create a function **which_actor** that will take the input **actor**.\n",
    "\n",
    "   According to the criteria above, the function should return one of these if the candidate gets eliminated:\n",
    "   \n",
    "   **\"Elimination due to acting score.\"**\n",
    "   \n",
    "   **\"Elimination due to height.\"**\n",
    "   \n",
    "   **\"Elimination due to both height and acting score.\"**\n",
    "   \n",
    "   If the candidate matches the description of the ideal actor, the function will return:\n",
    "   \n",
    "   **\"You are our newest actor!\"**\n",
    "\n",
    "\n",
    "3) Use your function to see if the TV series have found their newest actor. These are the some of the results you should get:\n",
    "\n",
    "```r\n",
    "> which_actor(Meltem)\n",
    "[1] \"Elimination due to height.\"\n",
    "\n",
    "> which_actor(Deniz)\n",
    "[1] \"You are our newest actor!\"\n",
    "```"
   ]
  },
  {
   "cell_type": "markdown",
   "metadata": {
    "tags": [
     "2019_2020_2",
     "meryem",
     "ifelse",
     "setseed",
     "sort",
     "easy"
    ]
   },
   "source": [
    "# FILTERING PRICES"
   ]
  },
  {
   "cell_type": "markdown",
   "metadata": {},
   "source": [
    "Aylin wants to buy a new phone and her budget is 1200\\$. She is going to filter the phone options according to their prices to narrow the options.\n",
    "\n",
    "1) First write down RNGversion(\"3.3.1\") and set seed to 1921.\n",
    "\n",
    "```r\n",
    "RNGversion(\"3.3.1\")\n",
    "set.seed(1921)\n",
    "```\n",
    "\n",
    "\n",
    "2) Create a sample vector named **prices** with 30 elements from 500 to 2000 with replacement.\n",
    "\n",
    "```r\n",
    "> prices\n",
    " [1] 1525 1353  727 1457 1095  621 1899  897 1736 1526  823  857 1248 1899 1569  \n",
    "[16] 593 1709 1699 1776 1614  820 1415 1365 1170  897  901 1287  851 1613 1086\n",
    "```\n",
    "\n",
    "\n",
    "3) Distinguish the phones based on Aylin's budget. Give the output \"intb\" for those in the budget and \"notintb\" for the others. Assign these outputs to a new vector called **filtered**.\n",
    "\n",
    "```r\n",
    "> filtered\n",
    " [1] \"notintb\" \"notintb\" \"intb\"  \"notintb\" \"intb\" \"intb\" \"notintb\" \"intb\" \"notintb\" \n",
    "[10] \"notintb\" \"intb\"  \"intb\"    \"notintb\" \"notintb\"  \"notintb\" \"intb\"  \"notintb\"\n",
    "[18] \"notintb\" \"notintb\" \"notintb\" \"intb\"   \"notintb\"  \"notintb\" \"intb\" \"intb\" \n",
    "[26] \"intb\"  \"notintb\" \"intb\"  \"notintb\" \"intb\"   \n",
    "```\n",
    "\n",
    "\n",
    "4) Subset and sort the **prices** vector to show only the phone prices in the budget in ascending order and call this new vector **ascfilt**.\n",
    "\n",
    "```r\n",
    "> ascfilt\n",
    " [1]  593  621  727  820  823  851  857  897  897  901 1086 1095 1170\n",
    "```\n"
   ]
  },
  {
   "cell_type": "markdown",
   "metadata": {
    "tags": [
     "2019_2020_2",
     "decision_structures",
     "conditionals_inside_function",
     "medium",
     "berk"
    ]
   },
   "source": [
    "# INCOME GROUPS"
   ]
  },
  {
   "cell_type": "markdown",
   "metadata": {},
   "source": [
    "Each year World Bank classifies countries according to their income level. This is calculated with GNI per capita in dollars. Your company wants you to create a function in R that will return the income group of the country according to its income level.\n",
    "\n",
    "In the table below there are *thresholds* and *income in USD*:\n",
    "\n",
    "|Threshold|Income in $|\n",
    "|---|---|\n",
    "| Low income  |  < 1026 |\n",
    "| Lower-middle income  | 1027 - 3995  |\n",
    "|  Upper-middle income |  3996 - 12375 |\n",
    "| High income  | > 12376 |\n",
    "\n",
    "Here are the steps:\n",
    "\n",
    "1) Create a function named **incomecalc** with arguments **income** and **country**.\n",
    "\n",
    "Your function should return the income group of the country in a statement. Here is an example on how that statement should look:\n",
    "\n",
    "**\"Turkey is a(n) lower-middle income country\"**\n",
    "\n",
    "\n",
    "2) Try the function with USA having $11123 GNI per capita.\n",
    "\n",
    "The output should look as follows:\n",
    "\n",
    "```r\n",
    "> incomecalc(income = 13123, country = \"USA\")\n",
    "[1] \"USA is a(n) high income country\"\n",
    "```"
   ]
  },
  {
   "cell_type": "markdown",
   "metadata": {
    "tags": [
     "2019_2020_2",
     "tugrul",
     "decision_structures",
     "conditional_execution",
     "medium"
    ]
   },
   "source": [
    "# I HEARD YOU PAINT HOUSES"
   ]
  },
  {
   "cell_type": "markdown",
   "metadata": {},
   "source": [
    "Jimmy promised his workers living in the same street that their houses will be painted. He heard that Frank \n",
    "paints houses extremely well and hired him. Jimmy had already decided which numbers will be painted by which \n",
    "color and informed Frank as following:\n",
    "\n",
    "|Dye|House Numbers|\n",
    "|---|---|\n",
    "| Blood Red  |  1-29 |\n",
    "| Brick Red  | 30 - 59  |\n",
    "|  Amaranth Red |  60 - 89 |\n",
    "| Barn Red  | 90-101 |\n",
    "\n",
    "However, at the last moment Jimmy especially asked for the houses with odd numbers to be painted Crimson.\n",
    "\n",
    " 1) Write a function called **which_color** without a parameter which receives the house number from the user. \n",
    "  \n",
    "  *Hint*: You may use `readline()`and `as.integer()`.\n",
    "  \n",
    "  2) **which_color** should check the validity of the entered house number (it cannot be outside of the \\[1, 101\\] interval). Function should return **\"Invalid House Number\"** if house number is not valid.\n",
    "  \n",
    "  3) Write conditionals with respect to the colors and house numbers given in the table above. Do not forget about the last minute change Jimmy made.\n",
    "\n",
    "\n",
    "Now try 28, 47, 63, 95 and 110 values to check whether the houses are painted with the appropriate color.\n",
    "\n",
    "```r\n",
    "> which_color()\n",
    "Enter the house number: 28\n",
    "[1] \"Blood Red\"\n",
    "```"
   ]
  },
  {
   "cell_type": "markdown",
   "metadata": {
    "tags": [
     "2020-2021-1",
     "Doğa",
     "Medium",
     "Decision_Structures",
     "Multiple_inputs",
     "Vectorized_conditionals"
    ]
   },
   "source": [
    "# JUPYTER SCHOLARSHIPS"
   ]
  },
  {
   "cell_type": "markdown",
   "metadata": {},
   "source": [
    "Jupyter Scholarships is a scholarship program supported by Github which provides financial support for Boğaziçi University students who are taking the CMPE 140 course. In order to be eligible for application, a minimum GPA of 2.5 is required. There are 19 candidates for the program. \n",
    "\n",
    "Write a function which shows the eligibility of the candidates and -for the non eligible ones- calculates the points needed to satisfy the requirement.\n",
    "\n",
    "\n",
    " \n",
    " 1) Set the seed to 3448.\n",
    "    Create a vector called **GPAs** which contains uniformly distributed GPA scores of the candidates. GPA's must be between 0 and 4 and they must be rounded to the second decimal. \n",
    "\n",
    "\n",
    "```r\n",
    "> GPAs\n",
    " [1] 3.23 3.57 2.26 3.35 1.84 2.59 3.35 1.95 1.20 2.56 3.47 2.42 0.26 1.19 3.63 1.54\n",
    "[17] 0.48 3.48 0.63\n",
    "```\n",
    "\n",
    " 2) Create a function called **scholarship** which takes a GPA vector as argument. For every student, this function will return one of these statements:\n",
    "\n",
    " If the candidate's GPA is greater than or equal to 2.5: *Congrats, you are eligible to apply!* \n",
    " \n",
    " If the candidate's GPA is less than 2.5: *Sorry, work harder to get at least ... more points and try again next year!* \n",
    " \n",
    "Check the status of this year's candidates using your function.\n",
    " \n",
    "\n",
    "\n",
    "\n"
   ]
  },
  {
   "cell_type": "markdown",
   "metadata": {
    "tags": [
     "2020-2021-1",
     "elifnurtan",
     "decision_structures",
     "vectorize_with_vectorize",
     "medium"
    ]
   },
   "source": [
    "# OH MY! LOOK AT THOSE SHOES!"
   ]
  },
  {
   "cell_type": "markdown",
   "metadata": {},
   "source": [
    "Burcu loves shopping and goes to mall once in every week. She has a different shopping budget for every week. \n",
    "\n",
    "1) Write a function named **shopping** that takes the inputs **budget** and **amount_spent**. This function should return **\"budget surplus\"** and amount of budget surplus if Burcu spends less than her budget, **\"balanced budget\"** if the amount  she spends is exactly equal to her budget, and **\"budget deficit\"** and amount of budget deficit if she exceeds her budget. \n",
    "\n",
    "2) Suppose that this week Burcu has a budget of 100 ₺ and she spends 150 ₺ for a pair of new shiny shoes. Using the function **shopping**, find out her budget status.\n",
    "\n",
    "```r\n",
    "> shopping(100, 150)\n",
    "[1] \"budget deficit\" \"-50\" \n",
    "```\n",
    "\n",
    "3) Set seed to 11. Create a vector named **budget** containing 12 elements from a uniform distribution which has a minimum value of 45 and a maximum value of 360, representing the budget Burcu has for shopping for every week in the last 3 months. Create another vector named **amount_spent** containing 12 elements from an uniform distribution which has a minimum value of 40 and a maximum value of 450, representing the amount that Burcu spent on shopping for every week in the last 3 months. Both vectors' elements should be rounded to nearest integers. \n",
    "\n",
    "```r\n",
    "> budget\n",
    " [1] 132  45 206  49  65 346  72 136 322  84 100 184\n",
    " ```\n",
    "```r\n",
    "> amount_spent\n",
    " [1] 412 389 341 275 238 176 105 237 124 319 189 184\n",
    "```\n",
    "\n",
    "4) Modify **shopping** to work with a vector, and find out Burcu's budget status for every week in 3 months.\n",
    "\n",
    "```r\n",
    "shopping(budget, amount_spent)\n",
    "```"
   ]
  },
  {
   "cell_type": "markdown",
   "metadata": {
    "tags": [
     "2020-2021-1",
     "Anar",
     "Nested",
     "if-else",
     "statements",
     "Hard"
    ]
   },
   "source": [
    "# MASTERCHEF TURKEY"
   ]
  },
  {
   "cell_type": "markdown",
   "metadata": {},
   "source": [
    "In this week of Masterchef, the red team consists of 5 players: Serhat, Barbaros, Ebru, Ugur, Sefa, and each of them has to prepare one meal. If they win at least 3 of the meals against the blue team, then they are the winner of this night. Otherwise, they will play an individual game, and the chefs will choose one of them as a winner of this game. The winner, in turn, will send one of his teammates to the final elimination game of the week. As a foreknowledge, we know that, if the winner of the game is either Serhat or Barbaros, they will send Ugur. If not, then Barbaros will be sent to the elimination game.\n",
    "\n",
    "You should:\n",
    "\n",
    "1) Create a vector called **players** for players' names.\n",
    "\n",
    "```r\n",
    "> players\n",
    "[1] \"Serhat\"   \"Barbaros\" \"Ebru\"     \"Ugur\"     \"Sefa\" \n",
    "```\n",
    "\n",
    "2) Create a vector called **win_lose** that indicates which meals are winners/losers randomly. \n",
    "\n",
    "*Hint: You can use* ``sample()``, *and indicate winners with TRUE and losers with FALSE.* \n",
    "\n",
    "Then name this vector with the players' names.\n",
    "\n",
    "```r\n",
    "> win_lose\n",
    "  Serhat Barbaros     Ebru     Ugur     Sefa \n",
    "    TRUE     TRUE    FALSE     TRUE     TRUE \n",
    "```\n",
    "\n",
    "3) Construct an if-else code. If the red team wins, then you should print **\"The Red Team is the Winner!\"**.\n",
    "Otherwise, you should ask chefs to choose one player as winner, and then print \"*winner player's name* sent *related player* to elimination\". You should take input from the user for this step.\n",
    "\n",
    "*Hint: You can use* ``paste()`` *to combine the words together.*\n",
    "\n",
    "An example output if the red team loses:\n",
    "\n",
    "```The red team lost the game. But who won the individual game? Ugur\n",
    "[1] \"Ugur sent Barbaros to the elimination game!\"```"
   ]
  },
  {
   "cell_type": "markdown",
   "metadata": {
    "tags": [
     "2019_2020_2",
     "berk",
     "hard",
     "joint_conditions",
     "decision_structures"
    ]
   },
   "source": [
    "# GRADING"
   ]
  },
  {
   "cell_type": "markdown",
   "metadata": {},
   "source": [
    "In a class of four people, Professor Jackson assigned 10 homeworks to his students Michael, Scottie, Dennis, and Steve. If a student fails to turn a homework in until the deadline, he gets only the half of the points he would normally get. Also, 5 or more late homeworks means an automatic failure of the class. A student needs a minimum of 45 points to pass.\n",
    "\n",
    "\n",
    "Grades for each student are as follows:\n",
    "\n",
    "\n",
    "- **Michael**: (9, 10, 7, 8, 6, 7, 3, 8, 10, 7)\n",
    "- **Scottie**: (8, 1, 9, 4, 9, 0, 6, 9, 1, 8)\n",
    "- **Dennis**: (3, 1, 7, 2, 5, 10, 1, 10, 0, 9)\n",
    "- **Steve**: (10, 9, 0, 8, 8, 7, 4, 9, 8, 0)\n",
    "  \n",
    "Following are the boolean values that show late homeworks, which are assigned `True`:\n",
    "\n",
    "\n",
    "- **Michael**: (FALSE, TRUE, FALSE, FALSE, TRUE, FALSE, FALSE, FALSE, FALSE, FALSE)\n",
    "- **Scottie**: (TRUE, TRUE, TRUE, FALSE, FALSE, FALSE, TRUE, TRUE, FALSE, FALSE)\n",
    "- **Dennis**: (TRUE, TRUE, FALSE, TRUE, FALSE, TRUE, FALSE, FALSE, FALSE, FALSE)\n",
    "- **Steve**: (FALSE, FALSE, FALSE, FALSE, TRUE, TRUE, TRUE, FALSE, TRUE, FALSE)\n",
    "\n",
    "\n",
    "    \n",
    "1) Create vectors for grades of the students. Name them **michael_grad** for Michael, **scottie_grad** for Scottie, **dennis_grad** for Dennis, and **steve_grad** for Steve. \n",
    "\n",
    "```r\n",
    "    > michael_grad\n",
    "     [1]  9 10  7  8  6  7  3  8 10  7\n",
    "    > scottie_grad\n",
    "     [1] 8 1 9 4 9 0 6 9 1 8\n",
    "    > dennis_grad\n",
    "     [1]  3  1  7  2  5 10  1 10  0  9\n",
    "    > steve_grad\n",
    "     [1] 10  9  0  8  8  7  4  9  8  0\n",
    "```\n",
    "\n",
    "2) Create vectors for late homeworks of the students. Name them **michael_late** for Michael, **scottie_late** for Scottie, **dennis_late** for Dennis, and **steve_late** for Steve.\n",
    "\n",
    "```r\n",
    "    > michael_late\n",
    "     [1] FALSE  TRUE FALSE FALSE  TRUE FALSE FALSE FALSE FALSE FALSE\n",
    "    > scottie_late\n",
    "     [1]  TRUE  TRUE  TRUE FALSE FALSE FALSE  TRUE  TRUE FALSE FALSE\n",
    "    > dennis_late\n",
    "     [1]  TRUE  TRUE FALSE  TRUE FALSE  TRUE FALSE FALSE FALSE FALSE\n",
    "    > steve_late\n",
    "     [1] FALSE FALSE FALSE FALSE  TRUE  TRUE  TRUE FALSE  TRUE FALSE\n",
    "```\n",
    "\n",
    "3) Create a function called **pass_fail**. It should take 3 arguments: **\"name\"** for the name of a student as a string variable, **\"grades\"** for his grades, and **\"late\"** for the boolean values of his late homeworks. The function should return if a student passed or failed the class in the following form:\n",
    "\n",
    "```r\n",
    "    > pass_fail(\"Michael\", michael_grad, michael_late)\n",
    "    Michael has passed the class with 67 points. \n",
    "```\n",
    "```r\n",
    "    > pass_fail(\"Dennis\", dennis_grad, dennis_late)\n",
    "    Dennis has failed the class with 40 points and 4 late homeworks.\n",
    "```\n",
    "\n",
    "\n",
    "*Hint: Use `cat()` function to merge character values.* "
   ]
  },
  {
   "cell_type": "markdown",
   "metadata": {
    "tags": [
     "mevlüt",
     "2020-2021-1",
     "hard",
     "joint_conditions"
    ]
   },
   "source": [
    "# WAITING FOR GODOT"
   ]
  },
  {
   "cell_type": "markdown",
   "metadata": {},
   "source": [
    " Estragon and Vladimir are two friends who are waiting for Godot for a while, but they have no idea of how long it has been. They are running out of not only patience but also food. Therefore, they want to know whether Godot will come or not.\n",
    " \n",
    " Here is some information about their foods and daily eating habits:\n",
    " \n",
    " **-** They have 23 carrots and 50 turnips.\n",
    " \n",
    " **-** Estragon eats 2 carrots and 3 turnips a day.\n",
    " \n",
    " **-** Vladimir eats 1 carrot and 4 turnips a day.\n",
    "  \n",
    " Create;\n",
    " \n",
    " 1) a named vector called **bundle** with the initial numbers of carrots and turnips\n",
    " \n",
    " 2) two named vectors called **estragon** and **vladimir**  containing their daily eating habits\n",
    " \n",
    "\n",
    " \n",
    " as such:\n",
    "\n",
    "```r\n",
    "\n",
    "> bundle\n",
    "carrots turnips \n",
    "     23      50\n",
    "\n",
    "> estragon\n",
    "carrots turnips \n",
    "      2       3 \n",
    "\n",
    "> vladimir\n",
    "carrots turnips \n",
    "      1       4 \n",
    "\n",
    "\n",
    "```\n",
    "\n",
    "\n",
    "Godot will come only if both of the following conditions are met:\n",
    " \n",
    " \n",
    " **-** The day is Sunday.\n",
    " \n",
    " **-** There are at least two carrots and one turnip remaining.\n",
    " \n",
    " \n",
    " \n",
    " \n",
    " \n",
    "3) Create a function called **godot** which takes two parameters: **today** indicating which day of week today is and **days** representing how many days have passed since the initial day. \n",
    " \n",
    " \n",
    " If Godot comes, your function should return it in the following form:\n",
    " \n",
    " ```r\n",
    "> godot(\"Sunday\", 7)\n",
    "After the waiting of 7 days Godot has come and we have 2 carrots and 1 turnips remaining!\n",
    "\n",
    " ```\n",
    " If Godot does not come since it is not Sunday, it should return the following output:\n",
    " ```r\n",
    "> godot(\"Tuesday\", 5)\n",
    "Well, we have enough food yet Tuesday is not the blessed day.\n",
    "\n",
    " ```\n",
    "  If they run out of food, regardless of which day today is, the function should return the following output:\n",
    "  \n",
    "  ```r\n",
    "> godot(\"Sunday\", 8)\n",
    "Due to malnutrition Estragon and Vladimir have passed away. Now, did Godot has come or not? Who knows...\n",
    "\n",
    "  ```"
   ]
  }
 ],
 "metadata": {
  "celltoolbar": "Tags",
  "kernelspec": {
   "display_name": "R",
   "language": "R",
   "name": "ir"
  },
  "language_info": {
   "codemirror_mode": "r",
   "file_extension": ".r",
   "mimetype": "text/x-r-source",
   "name": "R",
   "pygments_lexer": "r",
   "version": "3.6.1"
  },
  "toc": {
   "base_numbering": 1,
   "nav_menu": {},
   "number_sections": true,
   "sideBar": true,
   "skip_h1_title": false,
   "title_cell": "Table of Contents",
   "title_sidebar": "Contents",
   "toc_cell": false,
   "toc_position": {},
   "toc_section_display": true,
   "toc_window_display": false
  }
 },
 "nbformat": 4,
 "nbformat_minor": 4
}
