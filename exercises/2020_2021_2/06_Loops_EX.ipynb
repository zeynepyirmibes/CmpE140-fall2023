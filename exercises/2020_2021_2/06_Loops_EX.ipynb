{
 "cells": [
  {
   "cell_type": "code",
   "execution_count": null,
   "metadata": {},
   "outputs": [],
   "source": [
    "options(jupyter.rich_display = F)"
   ]
  },
  {
   "cell_type": "markdown",
   "metadata": {
    "tags": [
     "2020-2021-1",
     "while_loop",
     "easy",
     "mevlut"
    ]
   },
   "source": [
    "# BLONDE REDHEAD"
   ]
  },
  {
   "cell_type": "markdown",
   "metadata": {},
   "source": [
    "Blonde Redhead is an American alternative rock band consisting of Kazu and twin brothers Simone and Amedeo. They will be on a tour in the following 7 days; therefore, they want to calculate their earnings for each day of the tour.\n",
    "\n",
    "Here is an important piece of information:\n",
    "\n",
    "    If the number of the day is an even number, ticket price is $25.5; if it is an odd number then price of a ticket is $33.\n",
    "\n",
    "1) Set the RNGversion to \"3.3.1\" and  seed to 23 as shown below:\n",
    "\n",
    "```r\n",
    "RNGversion(\"3.3.1\")\n",
    "set.seed(23)\n",
    "```\n",
    "\n",
    "2) Create a vector called  **audience** by randomly choosing 7 numbers between 100 and 1000 without replacement. This vector will represent the number of people who bought tickets on each day.\n",
    "    \n",
    "```r\n",
    "> audience\n",
    "[1] 619 300 398 738 835 479 962\n",
    "```\n",
    "\n",
    "3) Create a while loop that prints the revenue for each day of the tour.\n",
    "\n",
    "\n",
    "\n",
    "Your loop should return the following output: \n",
    "\n",
    "```r\n",
    "[1] 20427\n",
    "[1] 7650\n",
    "[1] 13134\n",
    "[1] 18819\n",
    "[1] 27555\n",
    "[1] 12214.5\n",
    "[1] 31746\n",
    "```"
   ]
  },
  {
   "cell_type": "markdown",
   "metadata": {
    "tags": [
     "2020-2021-1",
     "for_loop",
     "loops_with_conditionals",
     "easy",
     "anar"
    ]
   },
   "source": [
    "# PIZZA LOVER"
   ]
  },
  {
   "cell_type": "markdown",
   "metadata": {},
   "source": [
    "Ipek, who is a pizza lover, wants to calculate her satisfaction level after eating a pizza. We know that the first slice increases her satisfaction by 20 points and the satisfaction she receives from eating a slice decreases by 10% with each slice (For example, the second slice will increase the overall satisfaction by 18 points). Note that the highest satisfaction level is 100 points. \n",
    "\n",
    "Write a function called **satisfaction** that:\n",
    "\n",
    "  - Takes one input named **slice**, which is a non-negative integer that shows how many slices Ipek has eaten.\n",
    "\n",
    "  - Assigns beginning satisfaction level as 0 and returns finalized satisfaction level at the end.\n",
    "\n",
    "  - Returns 100 if the number hits 100 or more.\n",
    "  \n",
    "  - Returns 0 if the number of slices is 0.\n",
    "\n",
    "\n",
    "Your function should return outputs as follows:\n",
    " ```r \n",
    " > satisfaction(5)\n",
    "[1] 82\n",
    " > satisfaction(7)\n",
    "[1] 100\n",
    "\n",
    "``` \n",
    "\n",
    "*Hint: Round the output to the nearest integer inside your function.*"
   ]
  },
  {
   "cell_type": "markdown",
   "metadata": {
    "tags": [
     "2020-2021-1",
     "old_questions",
     "while_loop",
     "easy"
    ]
   },
   "source": [
    "# WEIGHT LOSS PROGRAM"
   ]
  },
  {
   "cell_type": "markdown",
   "metadata": {},
   "source": [
    "There is a weight loss program in the local gym that helps the attendees lose 6% of their weight each week. Once their weights hit below 65, the program stops.\n",
    "\n",
    "1) Write a function  called **weightlosscalculator** that takes the argument **weight**. This function should return how many weeks an attendee will join the program and what their weight will be once they stop. Your function should round the final weight to the second decimal.\n",
    "\n",
    "\n",
    "2) Burcin is one of the attendees and she is currently 92 kgs. Input Burcin's current weight into the **weightlosscalculator** and see how many weeks she will attend the program and her weight afterwards.\n",
    "\n",
    "```r\n",
    "> weightlosscalculator(92)\n",
    "\"Weight after the program: 63.47 Week: 6\"\n",
    "```\n",
    "\n",
    "3) Mustafa is another attendee and he is 132 kgs. Input his weight into your function, too.\n",
    "\n",
    "```r\n",
    "> weightlosscalculator(132)\n",
    "\"Weight after the program: 62.82 Week: 12\" \n",
    "```"
   ]
  },
  {
   "cell_type": "markdown",
   "metadata": {
    "tags": [
     "2020-2021-1",
     "old_questions",
     "while_loop",
     "medium"
    ]
   },
   "source": [
    "# DELETING UNWANTED ELEMENTS"
   ]
  },
  {
   "cell_type": "markdown",
   "metadata": {},
   "source": [
    "In the binary system, the word \"Hello\" is represented by 40 numbers consisted of 0's and 1's. \n",
    "\n",
    "However, in our vector there is some interference (numbers besides 0's and 1's) distorting the message.\n",
    "\n",
    "To fix the message, write a function called **correct** that takes a single argument **vec** and runs a while loop that removes the interference and returns the correct message.\n",
    "\n",
    "You should create **Hello** vector as following:\n",
    "\n",
    "\n",
    "```R\n",
    "Hello <- c(0, 2, 1, 0, 0, 1, 0, 3, 0, 0, 5, 0, 1, 1, 0, 6, 0, 1, 0, \n",
    "           1, 4, 0, 1, 1, 0, 2, 1, 1, 0, 0, 0, 1, 7, 1, 0, 1, 1, 2, \n",
    "           0, 0, 0, 1, 1, 0, 1, 1, 1, 1)\n",
    "\n",
    "```\n",
    "\n",
    "Now run your function with this input and get the correct message. Your function should return the output as below:\n",
    "\n",
    "\n",
    "```R\n",
    "> correct(vec = Hello)\n",
    " [1] 0 1 0 0 1 0 0 0 0 1 1 0 0 1 0 1 0 1 1 0 1 1 0 0 0 1 1 0 1 1 0 0 0 1 1 0 1 1\n",
    "[39] 1 1\n",
    "```"
   ]
  },
  {
   "cell_type": "markdown",
   "metadata": {
    "tags": [
     "2020-2021-1",
     "for_loop",
     "vectorization",
     "medium",
     "elif"
    ]
   },
   "source": [
    "# CMPE140 SESSION"
   ]
  },
  {
   "cell_type": "markdown",
   "metadata": {},
   "source": [
    "In the CMPE140 lesson, the teacher formed sequences and distributed them across the class until each student got one. He asked his students to generate the sequence they received by using R. The sequence that Ada got is given below:\n",
    "\n",
    "    2    12    42   132   402  1212  3642 \n",
    "\n",
    "1) Create the sequence above by using a for loop to help Ada and store it in a vector named **vec**.\n",
    "\n",
    "2) Now, Ada wants to develop her code further to impress her teacher. Write a function named **seq** which takes the inputs **first_element** and **how_long**. It should return a sequence that has the same rule with the one above, starting with **first_element**. Number of elements in the sequence must be equal to **how_long**.\n",
    "\n",
    "```R\n",
    "> seq(3, 4)\n",
    "[1] 3  15  51 159\n",
    "```"
   ]
  },
  {
   "cell_type": "markdown",
   "metadata": {
    "tags": [
     "2020-2021-1",
     "old_questions",
     "for_loop",
     "loops_with_conditionals",
     "medium"
    ]
   },
   "source": [
    "# FAIRPLAY BOARD GAME"
   ]
  },
  {
   "cell_type": "markdown",
   "metadata": {},
   "source": [
    "There are two groups of student who are going to play a board game. However, not all of them are highly experienced in that certain boardgame. So, they decided to pair up in a way that the most experienced one in one group will be with the least experienced one on the other group, the second most experienced will be with the second least experienced one, so on and so forth.\n",
    "\n",
    "1) Members of the first group are Berk, Ceren, Meryem, and Duygu. Members of the second group are Salih, Tuğrul, Selin, and Öykü. Create two vectors which store these names. Name the first vector as **group1** and the second vector as **group2**. These students are sorted from most experienced to least experienced, so do not change the order.\n",
    "\n",
    "```r\n",
    "   > group1\n",
    "   [1] \"berk\"   \"ceren\"  \"meryem\" \"duygu\"\n",
    "\n",
    "```\n",
    "\n",
    "```r\n",
    "   > group2\n",
    "   [1] \"salih\"  \"tugrul\" \"selin\"  \"oyku\" \n",
    "\n",
    "```\n",
    "\n",
    "2) Write a function called **pairup** which takes two vectors as arguments and returns the pairings as such:\n",
    "\n",
    "\n",
    "```r\n",
    "   > pairup(x = group1, y = group2)\n",
    "   [1] \"berk\"   \"oyku\"   \"ceren\"  \"selin\"  \"meryem\" \"tugrul\" \"duygu\"  \"salih\" \n",
    "```\n",
    "Your function return **\"group sizes do not match\"** if the arguments have different lengths.\n",
    "\n",
    "An example is shown below:\n",
    "\n",
    "```r\n",
    "   > group3 <- c(group1, \"koralp\")\n",
    "   > pairup(x = group3, y = group2)\n",
    "   [1] \"group sizes do not match\"\n",
    "```"
   ]
  },
  {
   "cell_type": "markdown",
   "metadata": {
    "tags": [
     "2020-2021-1",
     "for_loop",
     "nested_loops",
     "medium",
     "oyku"
    ]
   },
   "source": [
    "# WEEKLY REUNION"
   ]
  },
  {
   "cell_type": "markdown",
   "metadata": {},
   "source": [
    "Öykü wants to meet with her friends Ekin and Sena for their weekly reunion. Öykü is available for 6 days, Ekin is available for 3 days and Sena is available for only 2 days.\n",
    "\n",
    "1) First, use RNG version \"3.3.1\" and set seed to 346. \n",
    "\n",
    "\n",
    "2) Create a vector called **numbers** that stores the subsequent integers from 1 to 7. Names of this vector should be the names of the days in a week.\n",
    "\n",
    "```r\n",
    "> numbers\n",
    "   Monday   Tuesday Wednesday  Thursday    Friday  Saturday    Sunday \n",
    "        1         2         3         4         5         6         7\n",
    "```\n",
    "\n",
    "\n",
    "3) Create three vectors called **oyku**, **ekin** and **sena**. These vectors will each consist of a sorted sample from the days of the week. For the vector **oyku**, you should have a sample size of 6. For **ekin**, you should have a sample size of 3. For **sena**, you should have a sample size of 2.\n",
    "\n",
    "\n",
    "```r\n",
    "> ekin\n",
    "  Tuesday Wednesday  Saturday \n",
    "        2         3         6 \n",
    "```\n",
    "\n",
    "\n",
    "4) Create a function called **available_days** that will take three vectors as input. Your function should return first the phrase **'Öykü can see Ekin on:'** and then the days they can meet, and then the phrase **'Öykü can see Sena on:'** and then the days they can meet, and then the phrase **'Öykü can see everybody on:'** and then the days she can see both of her friends.\n",
    "\n",
    "\n",
    "5) Find out which days Öykü can meet with her friends with your function. Your output should be as such:\n",
    "\n",
    "\n",
    "```r\n",
    "> available_days(oyku,ekin,sena)\n",
    "                                                Wednesday                     Saturday \n",
    "     \"Öykü can see Ekin on:\"                          \"3\"                          \"6\" \n",
    "                                                 Thursday                     Saturday \n",
    "     \"Öykü can see Sena on:\"                          \"4\"                          \"6\" \n",
    "                                                 Saturday \n",
    "     \"Öykü can see everybody on:\"                     \"6\" \n",
    "```\n",
    "\n",
    "\n",
    "*Hint: You can use the function ``duplicated()`` to make sure that duplicated elements are eliminated and every day is printed only once. Here is an example:*\n",
    "\n",
    "```r\n",
    "vector[!duplicated(vector)]\n",
    "```"
   ]
  },
  {
   "cell_type": "markdown",
   "metadata": {
    "tags": [
     "2020-2021-1",
     "break_and_next_statements",
     "hard",
     "doga"
    ]
   },
   "source": [
    "# HIGH SCHOOL MUSICAL\n"
   ]
  },
  {
   "cell_type": "markdown",
   "metadata": {},
   "source": [
    "Ms. Darbus is East High's drama teacher and takes drama way too seriously. She accepts only a limited number of students to her classes and expects everyone to attend them. So she takes attendance in each session. Depending on the number of students missing, she decides whether to write the ones who are present or the ones who are absent. If there are more absentees than attendees, she writes the ones who are at class. While taking attendance, she calls out the names in the student list respectively and creates a list according to students' responses. \n",
    "However, this procedure takes her quite long and she does not want to waste her time doing this manually. Therefore, she decides to write an R code to do the job for her.\n",
    "\n",
    "1) Create two vectors called **students_list** and **inclass_list** which contain the names of the students who take the class and the ones who are present in the class respectively as such:\n",
    "\n",
    "```r \n",
    " > students_list\n",
    "\n",
    "[1] \"Troy\" \"Gabriella\" \"Sharpay\" \"Chad\" \"Ryan\"\n",
    "\n",
    " > inclass_list \n",
    "\n",
    "[1] \"Sharpay\" \"Troy\" \"Gabriella\"\n",
    "``` \n",
    "\n",
    "\n",
    "2) Create a function called **rollcall** which takes **students** and **inclass** as arguments. This function should return the names of the present students if number of absentees exceeds the number of attendees and it should return the names of the absent students if number of attendees exceeds the number of absentees. In the case of equality, it should return the name of the present students. Your function should also return the status of the listed students as such:\n",
    "\n",
    " ```r \n",
    " > rollcall(students_list, inclass_list)\n",
    "\n",
    " [1] \"Not in class\" \"Chad\" \"Ryan\" \n",
    "\n",
    "```   \n",
    "\n",
    "\n"
   ]
  },
  {
   "cell_type": "markdown",
   "metadata": {
    "tags": [
     "2020-2021-1",
     "old_questions",
     "nested_loops",
     "for_loop",
     "while_loop",
     "hard"
    ]
   },
   "source": [
    "# CONVERTING DECIMALS TO TERNARIES"
   ]
  },
  {
   "cell_type": "markdown",
   "metadata": {},
   "source": [
    "In our daily life, we use the Hindu-Arabic numeral system, also known as the decimal system. However, numeral systems are not limited to this one; for example, the binary system uses number 2 as its base. The ternary numeral system is similar to binaries, but uses number 3 as its base. \n",
    "\n",
    "In distant future, in a galaxy far far away, the Triclops race uses the ternary system. One day, they discover a blue planet which was called **Earth** by its former inhabitants and its scientific texts. However, they were all written in decimals and they should be converted to ternaries.\n",
    "\n",
    "1) First, set the RNG version to \"3.3.1\" in the beginning of your code and then set seed to 100. Create a vector called **decimals** and assign 10 different numbers between 15 and 100 without replacement.\n",
    "\n",
    "```r\n",
    "> decimals\n",
    "[1] 41 36 61 19 53 54 79 44 57 28\n",
    "```\n",
    "\n",
    "2) Create a function called **dec_to_tern** which takes a vector as its only argument **dec**. It should return the ternary equivalents of the decimal numbers.\n",
    "\n",
    "```r\n",
    "> dec_to_tern(decimals)\n",
    "[1] 1112 1100 2021 201 1222 2000 2221 1122 2010 1001\n",
    "```"
   ]
  }
 ],
 "metadata": {
  "celltoolbar": "Tags",
  "kernelspec": {
   "display_name": "R",
   "language": "R",
   "name": "ir"
  },
  "language_info": {
   "codemirror_mode": "r",
   "file_extension": ".r",
   "mimetype": "text/x-r-source",
   "name": "R",
   "pygments_lexer": "r",
   "version": "3.6.1"
  },
  "toc": {
   "base_numbering": 1,
   "nav_menu": {},
   "number_sections": true,
   "sideBar": true,
   "skip_h1_title": false,
   "title_cell": "Table of Contents",
   "title_sidebar": "Contents",
   "toc_cell": false,
   "toc_position": {
    "height": "calc(100% - 180px)",
    "left": "10px",
    "top": "150px",
    "width": "266.896px"
   },
   "toc_section_display": true,
   "toc_window_display": false
  },
  "varInspector": {
   "cols": {
    "lenName": 16,
    "lenType": 16,
    "lenVar": 40
   },
   "kernels_config": {
    "python": {
     "delete_cmd_postfix": "",
     "delete_cmd_prefix": "del ",
     "library": "var_list.py",
     "varRefreshCmd": "print(var_dic_list())"
    },
    "r": {
     "delete_cmd_postfix": ") ",
     "delete_cmd_prefix": "rm(",
     "library": "var_list.r",
     "varRefreshCmd": "cat(var_dic_list()) "
    }
   },
   "types_to_exclude": [
    "module",
    "function",
    "builtin_function_or_method",
    "instance",
    "_Feature"
   ],
   "window_display": false
  }
 },
 "nbformat": 4,
 "nbformat_minor": 4
}
