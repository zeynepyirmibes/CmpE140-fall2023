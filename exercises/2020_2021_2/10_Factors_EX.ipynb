{
 "cells": [
  {
   "cell_type": "markdown",
   "id": "33db064e",
   "metadata": {},
   "source": [
    "# CHICKEN WEIGHTS"
   ]
  },
  {
   "cell_type": "markdown",
   "id": "e8a8e324",
   "metadata": {},
   "source": [
    "## QUESTION"
   ]
  },
  {
   "cell_type": "markdown",
   "id": "7aedfdfd",
   "metadata": {},
   "source": [
    "A chicken farmer wants to categorize his chickens according to their weights so that he can know which chickens he should send to slaughterhouse first. He already has a data ***chickwts*** (which also exists in your R Studio) showing the weights of chickens and kind of feed given to them. \n",
    "\n",
    "1) Create a function named ***fatchicks*** which takes one argument ***dta*** that is set as ***chickwts*** as default. This function should assign  \"anorexic\", \"skinny\", \"medium\", and \"obese\" labels for chickens weighting \n",
    "between [0, 150], (150,300], (300,450], and (450,600] consecutively. The result should look like:\n",
    "\n",
    "\n",
    "```r\n",
    "[1] skinny skinny anorexic skinny skinny skinny anorexic anorexic anorexic anorexic medium skinny skinny anorexic skinny skinny anorexic skinny skinny skinny skinny skinny skinny skinny skinny medium medium skinny skinny skinny medium skinny skinny skinny skinny skinny medium medium medium medium medium skinny medium skinny medium medium skinny medium medium skinny medium medium medium skinny skinny skinny skinny medium skinny medium medium medium skinny medium medium medium medium skinny skinny skinny medium\n",
    " Levels:\n",
    "'anorexic' 'skinny' 'medium' 'obese'\n",
    "\n",
    "```"
   ]
  },
  {
   "cell_type": "markdown",
   "id": "4e2029e9",
   "metadata": {},
   "source": [
    "# JINGLE BELLS"
   ]
  },
  {
   "cell_type": "markdown",
   "id": "6d43a5ba",
   "metadata": {},
   "source": [
    "##  QUESTION"
   ]
  },
  {
   "cell_type": "markdown",
   "id": "6f8c413b",
   "metadata": {},
   "source": [
    "DecStore is looking forward to this year's New Year. Last year, as a store selling decorative products, DecStore started selling Christmas decorative products for the first time. This year, the store wants to offer its customers a special box that brings together the best selling products of last year at a discounted price. \n",
    "\n",
    "Run the following codes that include last year's sales data:\n",
    "\n",
    "```r\n",
    "RNGversion(\"3.3.1\")\n",
    "set.seed(1256)\n",
    "catalog_list <- c(\"bells\", \"reindeer\", \"candles\", \"candy canes\", \"wreaths\", \"snow globes\", \"angels\")\n",
    "size_list <- c(\"XS\", \"S\", \"M\", \"L\", \"XL\")\n",
    "color_list <- c(\"red\", \"green\", \"gold\", \"white\", \"silver\")\n",
    "price_list <- c(2.99, 19.99, 4.99, 3.49, 2.99, 8.99, 9.99)\n",
    "\n",
    "last_year_samp <- sample(catalog_list, 500, replace = TRUE)\n",
    "last_year_size <-  sample(size_list, 500, replace = TRUE)\n",
    "last_year_col<- sample(color_list, 500, replace = TRUE)\n",
    "last_year_units <- sample(1:5, 500, replace = TRUE)\n",
    "```\n",
    "\n",
    "1) To help Decstore for the construction of their special box, create a data frame named **last_years_sales** that consists of information from every sales recorded last year. In this data frame, columns that consist of string values must be taken as factors.  \n",
    "\n",
    "Your data frame should look as following: \n",
    "\n",
    "```r\n",
    "> head(last_years_sales)\n",
    "      Product Size  Color Units_Sold\n",
    "1    reindeer    L    red         3\n",
    "2       bells    S silver         2\n",
    "3 snow globes    S silver         5\n",
    "4       bells    M silver         1\n",
    "5 snow globes   XL silver         1\n",
    "6 snow globes    L  green         5\n",
    "```\n",
    "\n",
    "2) DecStore wants to put all product categories' most sold type in terms of color and size in the special box. Create a function named **creative_box** which takes a data frame as input and returns a list that includes the information of all products' most sold type in terms of size and color, and the average number of units sold in the last year. The list will be the content of the special box.\n",
    "\n",
    "Your function:\n",
    "   - should find the most liked color and size for all product categories.\n",
    "   - should calculate the average number of units sold for all product categories.\n",
    "   - should return the two points given above in a list format.\n",
    "   \n",
    "In your function:\n",
    "   - It is known that the product is always in the first column.\n",
    "   - It is also known that column names are consistent with the column names of **last_years_sales**.\n",
    "\n",
    "The first three elements of your function's output should be as follows: \n",
    "\n",
    "```r\n",
    "> creative_box(last_years_sales)\n",
    "$angels\n",
    "[1] \"M\"   \"red\" \"4\"  \n",
    "\n",
    "$bells\n",
    "[1] \"XS\"  \"red\" \"3\"  \n",
    "\n",
    "$candles\n",
    "[1] \"L\"    \"gold\" \"3\"   \n",
    "```\n",
    "*Hint: You should use* ``tapply()``*with*``list()``*for multiple grouping and* ``na.omit()`` *for omitting NA values resulted from grouping.*"
   ]
  },
  {
   "cell_type": "markdown",
   "id": "35d3e124",
   "metadata": {},
   "source": [
    "# SLEEPING DRUGS"
   ]
  },
  {
   "cell_type": "markdown",
   "id": "b39055ba",
   "metadata": {},
   "source": [
    "## QUESTION"
   ]
  },
  {
   "cell_type": "markdown",
   "id": "f4722119",
   "metadata": {},
   "source": [
    "There is a built-in data set in R called **sleep** which shows the effect of two sleeping drugs on the same group of 10 patients. \n",
    "\n",
    "```r\n",
    "> head(sleep)\n",
    "  extra group ID\n",
    "1   0.7     1  1\n",
    "2  -1.6     1  2\n",
    "3  -0.2     1  3\n",
    "4  -1.2     1  4\n",
    "5  -0.1     1  5\n",
    "6   3.4     1  6\n",
    "```\n",
    "- The variable **extra** is the increase in hours of sleep compared to control case.\n",
    "\n",
    "- The variable **group** gives the labels for which drug each patient took.\n",
    "\n",
    "- The variable **ID** indicates the patient ID.\n",
    "\n",
    "A researcher wants to see the number of patients sleeping at least one hour longer compared to their normal sleep duration for each drug.\n",
    "\n",
    "Create a function called **extra_sleep** which takes two arguments: **df** a dataset where **sleep** is default value and **n** a numeric value which determines number of extra sleeping hours. \n",
    "\n",
    "The function should:\n",
    "\n",
    "- name the drugs as **Drug1** and **Drug2** and\n",
    "- return how many patients' extra sleep hours due to drug usage is less than **n**  and how many patients' extra sleep hours due to drug usage is more than or equal to **n** for each drug. \n",
    "\n",
    "The researcher runs the function **extra_sleep** for one hour as such:\n",
    "\n",
    "```r\n",
    "> extra_sleep(n=1)\n",
    "       \n",
    "group          extra sleep less than 1 hour    extra sleep more than 1 hour\n",
    "  Drug1                             7                             3\n",
    "  Drug2                             3                             7\n",
    "```\n",
    "Keep in mind that the number of hour on column names should change when we change the value of **n**. So try the function for half an hour:\n",
    "\n",
    "```r\n",
    "> extra_sleep(n=0.5)\n",
    "       \n",
    "group          extra sleep less than 0.5 hour  extra sleep more than 0.5 hour\n",
    "  Drug1                               5                               5\n",
    "  Drug2                               2                               8\n",
    "```\n",
    "\n",
    "*Hint: Use the `table()` function.* "
   ]
  },
  {
   "cell_type": "markdown",
   "id": "51010f70",
   "metadata": {},
   "source": [
    "# FACTORIZED DATA FRAME"
   ]
  },
  {
   "cell_type": "markdown",
   "id": "83452abb",
   "metadata": {},
   "source": [
    "## QUESTION"
   ]
  },
  {
   "cell_type": "markdown",
   "id": "bdf1a5a0",
   "metadata": {},
   "source": [
    "|Name|Gender|Month of Birth|\n",
    "|:--:|:--:|:---:|\n",
    "|Can|Male|January|\n",
    "|Cem|Male|July|\n",
    "|Hande|Female|May|\n",
    "|Mehmet|Male|May|\n",
    "|Deniz|Female|February|\n",
    "|Kemal|Male|July|\n",
    "|Derya|Female|May|\n",
    "|Fatma|Female|April|\n",
    "\n",
    "1) Create a vector named **names** which consists of the names in the table.\n",
    "\n",
    "2) Now create **genders** vector with the information taken from these people.\n",
    "\n",
    "3) Convert the gender information to a factor (or a categorical variable) than change the levels of this factor as F and M for female and male respectively.\n",
    "\n",
    "4) Create a **birtday_months** vector using the month of birth information for everyone in the table and **months** vector consisting of all the months. Than convert it to a factor by **months** vector.\n",
    "\n",
    "5) Finally, create a data frame called **people** using factorized versions of **names**, **genders**, and **birthday_months** vectors. Summarize your data frame and examine factorization.\n",
    "\n",
    "\n",
    "\n",
    "```r\n",
    "> summary(people)\n",
    "     names   gender_fac   birthday_fac\n",
    " Can    :1   F:4        May     :3    \n",
    " Cem    :1   M:4        July    :2    \n",
    " Deniz  :1              January :1    \n",
    " Derya  :1              February:1    \n",
    " Fatma  :1              April   :1    \n",
    " Hande  :1              March   :0    \n",
    " (Other):2              (Other) :0 \n",
    "```\n"
   ]
  },
  {
   "cell_type": "markdown",
   "id": "c4f4b6ef",
   "metadata": {},
   "source": [
    "# AGE GROUPS"
   ]
  },
  {
   "cell_type": "markdown",
   "id": "ee0bcfb4",
   "metadata": {},
   "source": [
    "## QUESTION"
   ]
  },
  {
   "cell_type": "markdown",
   "id": "44698d6a",
   "metadata": {},
   "source": [
    "World DanceSport Federation defines some age categories for dancers. Three of these categories are listed below:\n",
    "\n",
    "|Categories|Age Range|\n",
    "|:-:|:-:|\n",
    "|Adult|18-35|\n",
    "|Senior1|35-45|\n",
    "|Senior2|45-50|\n",
    "\n",
    "Create a function named **partners** which takes 2 arguments:\n",
    "\n",
    "* **mls** : a vector which holds names and ages of male dancers\n",
    "* **fmls** : a vector which holds names and ages of female dancers\n",
    "\n",
    "Your function should do the following :\n",
    "\n",
    "* First, it will categorize the female and male dancers as \"Adult\", \"Senior1\", and \"Senior2\" according to their ages.\n",
    "   **Hint**: You can use the cut() function.\n",
    "\n",
    "* Then, it will sort the dancers which are in the \"Adult\" category by their ages in increasing order. (Males and females separately)\n",
    "\n",
    "* Finally, it will return a list of which the first element will be a couple consisting of the youngest adult male and youngest adult female, the second element will be the second youngest adult male and female and so on.\n",
    "\n",
    "Copy the code below and try your function with **mages** and **fages** samples.\n",
    "\n",
    "```r\n",
    "RNGversion(\"3.1.1\")\n",
    "set.seed(7) \n",
    "mages <- sample(18:50, 8)\n",
    "fages <- sample(18:50, 8)\n",
    "males <- c(\"Onur\", \"Ege\", \"Can\", \"Mehmet\", \"Ali\", \"Mustafa\", \"Mert\", \"Ahmet\")\n",
    "females <- c(\"Beste\", \"Merve\", \"Miray\", \"Sena\", \"Bilge\", \"Feyza\", \"Ceyda\", \"Deniz\")\n",
    "names(mages) <- males\n",
    "names(fages) <- females\n",
    "```\n",
    "\n",
    "The result should look like :\n",
    "\n",
    "```r\n",
    "partners(mls = mages, fmls = fages)\n",
    "[[1]]\n",
    "Mehmet  Feyza \n",
    "    20     20 \n",
    "\n",
    "[[2]]\n",
    "  Can Beste \n",
    "   21    23 \n",
    "\n",
    "[[3]]\n",
    " Ali Sena \n",
    "  25   24 \n",
    "\n",
    "[[4]]\n",
    " Mert Ceyda \n",
    "   27    30 \n",
    "\n",
    "[[5]]\n",
    "  Ege Merve \n",
    "   30    32 \n",
    "   ```"
   ]
  }
 ],
 "metadata": {
  "kernelspec": {
   "display_name": "R",
   "language": "R",
   "name": "ir"
  },
  "language_info": {
   "codemirror_mode": "r",
   "file_extension": ".r",
   "mimetype": "text/x-r-source",
   "name": "R",
   "pygments_lexer": "r",
   "version": "3.6.1"
  }
 },
 "nbformat": 4,
 "nbformat_minor": 5
}
