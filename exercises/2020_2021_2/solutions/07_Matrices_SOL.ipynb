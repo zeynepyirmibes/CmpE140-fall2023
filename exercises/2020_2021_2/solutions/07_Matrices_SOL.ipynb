{
 "cells": [
  {
   "cell_type": "code",
   "execution_count": null,
   "metadata": {},
   "outputs": [],
   "source": [
    "options(jupyter.rich_display = F)"
   ]
  },
  {
   "cell_type": "markdown",
   "metadata": {
    "tags": [
     "2020-2021-1",
     "matrices",
     "accessing_elements",
     "combining_matrices",
     "mathematical_operations",
     "easy",
     "oyku"
    ]
   },
   "source": [
    "# NORMAL DISTRIBUTION IN A MATRIX"
   ]
  },
  {
   "cell_type": "markdown",
   "metadata": {},
   "source": [
    "## QUESTION"
   ]
  },
  {
   "cell_type": "markdown",
   "metadata": {},
   "source": [
    "1) Write a function called **my_matrix_function** that will take three inputs: **n**, **mean** and **sd**. This function will initially generate a vector containing a normally distributed sample using **n** as the number of observations, **mean** as the mean, and **sd** as the standard deviation of this normal distribution. Then **my_matrix_function** should return a matrix consisting of 2 columns using the created vector.\n",
    "\n",
    "\n",
    "2) Set RNG version to \"3.3.1\" and seed to 141.\n",
    "\n",
    "\n",
    "3) Create two matrices using **my_matrix_function** and name them **first_m** and **second_m**. Both of these matrices will take inputs **n** = 10 and **mean** = 6. **first_m** will take a standard deviation of 3 while **second_m** takes a standard deviation of 2. \n",
    "\n",
    "Your outputs should be as such:\n",
    "\n",
    "```r\n",
    "> first_m\n",
    "         [,1]     [,2]\n",
    "[1,] 7.543079 3.494252\n",
    "[2,] 5.661668 3.975085\n",
    "[3,] 6.193020 5.490844\n",
    "[4,] 4.034266 7.477418\n",
    "[5,] 7.505173 4.950262\n",
    "\n",
    "> second_m\n",
    "         [,1]     [,2]\n",
    "[1,] 5.485198 4.704755\n",
    "[2,] 4.372475 7.113308\n",
    "[3,] 8.739153 6.496206\n",
    "[4,] 9.869930 4.328381\n",
    "[5,] 5.401457 6.032447\n",
    "```\n",
    "\n",
    "\n",
    "4) We will create another matrix named **final_m** which will take the second columns of both **first_m** and **second_m**, and then the difference between these columns. This matrix should have 3 columns and the columns should be named as follows. \n",
    "\n",
    "Your output should be as such:\n",
    "\n",
    "```r\n",
    "> final_m\n",
    "     First Matrix Second Matrix Difference\n",
    "[1,]     3.494252      4.704755  -1.210503\n",
    "[2,]     3.975085      7.113308  -3.138223\n",
    "[3,]     5.490844      6.496206  -1.005362\n",
    "[4,]     7.477418      4.328381   3.149037\n",
    "[5,]     4.950262      6.032447  -1.082184\n",
    "```"
   ]
  },
  {
   "cell_type": "markdown",
   "metadata": {},
   "source": [
    "## SOLUTION"
   ]
  },
  {
   "cell_type": "code",
   "execution_count": null,
   "metadata": {},
   "outputs": [],
   "source": [
    "#1\n",
    "my_matrix_function <- function(n, mean, sd)\n",
    "{\n",
    "  my_vector <- rnorm(n, mean, sd)\n",
    "  return(matrix(my_vector, ncol = 2))\n",
    "}\n",
    "\n",
    "#2\n",
    "RNGversion(\"3.3.1\")\n",
    "set.seed(141)\n",
    "\n",
    "#3\n",
    "first_m <- my_matrix_function(10, 6, 3)\n",
    "second_m <- my_matrix_function(10, 6, 2)\n",
    "first_m\n",
    "second_m\n",
    "\n",
    "#4\n",
    "final_m <- matrix(c(first_m[,2], second_m[,2], first_m[,2] - second_m[,2]), ncol = 3)\n",
    "colnames(final_m) <- c(\"First Matrix\", \"Second Matrix\", \"Difference\")\n",
    "final_m"
   ]
  },
  {
   "cell_type": "markdown",
   "metadata": {
    "tags": [
     "2020-2021-1",
     "matrices",
     "combining_elements",
     "rbind_cbind",
     "easy",
     "melike"
    ]
   },
   "source": [
    "# BASKET OF GOODS"
   ]
  },
  {
   "cell_type": "markdown",
   "metadata": {},
   "source": [
    "## QUESTION"
   ]
  },
  {
   "cell_type": "markdown",
   "metadata": {},
   "source": [
    "In order to deal with price changes in his regular shopping basket, Ali wants to create a matrix consisting of the prices of goods from different years. \n",
    "\n",
    "Here is the table of prices of goods in the basket for different years:\n",
    "\n",
    "\n",
    "||milk|chocolate|water|ice_cream|\n",
    "|---|---|---|---|---|\n",
    "|2017|2.5|1.5|0.50|3|\n",
    "|2018|3.9|1.6|0.75|4|\n",
    "|2019|4.1|2.1|1.00|6|\n",
    "\n",
    "\n",
    "  \n",
    "  \n",
    " 1) To create a matrix of the last 3 years' prices given in the table:\n",
    " \n",
    "  - Create a vector called **goods** with the names of the goods.\n",
    "  \n",
    "  - Create 4 vectors named **milk**, **chocolate**, **water**, and **iced_cream** that contain prices of goods for the last 3 years, respectively.\n",
    "  \n",
    "  - Create a vector called **years** with the last 3 years.\n",
    "  \n",
    "  - Then, create a matrix called **basket** which consists of the prices of each good in the last 3 years. \n",
    "  \n",
    "  - Name the rows of **basket** with **goods** and the columns of **basket** with the **years**.\n",
    "\n",
    "\n",
    "\n",
    "\n",
    " 2) Now, Ali wants to add the prices of 2020 to **basket**, and calculate the total price of the goods in the basket for each year:\n",
    " \n",
    " ||milk|chocolate|water|ice_cream|total_basket|\n",
    "|---|---|---|---|---|---|\n",
    "|2017|2.5|1.5|0.50|3|7.50|\n",
    "|2018|3.9|1.6|0.75|4|10.25|\n",
    "|2019|4.1|2.1|1.00|6|13.20|\n",
    "|2020|4.6|3.0|1.50|7|16.10|\n",
    " \n",
    "  - Add a new row to **basket** that shows the prices for 2020.\n",
    "  \n",
    "  - Add a new column to **basket** called **\"total_basket\"** that calculates the total basket amount for each year.\n",
    "  \n",
    "  \n",
    "\n",
    "\n",
    "*Hint*: *You can use* ``cbind()`` *and* ``rbind()`` *functions for adding new columns and rows*. *Also, you can use* ``rowSums()``*function  to determine the total basket amount for each year*.\n",
    "\n"
   ]
  },
  {
   "cell_type": "markdown",
   "metadata": {},
   "source": [
    "## SOLUTION"
   ]
  },
  {
   "cell_type": "code",
   "execution_count": null,
   "metadata": {},
   "outputs": [],
   "source": [
    "#1.1\n",
    "goods <- c(\"milk\", \"chocolate\", \"water\", \"ice_cream\")\n",
    "goods\n",
    "\n",
    "#1.2\n",
    "milk <- c(2.50,3.90,4.10)\n",
    "chocolate <- c(1.50,1.60,2.10)\n",
    "water <- c(0.50,0.75,1)\n",
    "ice_cream <- c(3,4,6)\n",
    "milk\n",
    "chocolate\n",
    "water\n",
    "ice_cream\n",
    "\n",
    "#1.3\n",
    "years <- c(2017,2018,2019)\n",
    "years\n",
    "\n",
    "#1.4\n",
    "basket <- cbind(milk, chocolate, water, ice_cream) #Creating matrix\n",
    "\n",
    "#1.5\n",
    "rownames(basket) <- years\n",
    "colnames(basket) <- goods\n",
    "basket\n",
    "\n",
    "\n",
    "#2.1\n",
    "basket <- rbind(basket,\"2020\"=c(4.60,3,1.50,7)) #Adding 2020 row\n",
    "\n",
    "#2.2\n",
    "basket <- cbind(basket,\"total_basket\"=rowSums(basket)) #Adding total basket column\n",
    "basket"
   ]
  },
  {
   "cell_type": "markdown",
   "metadata": {
    "tags": [
     "2020-2021-1",
     "old_questions",
     "matrices",
     "matrix_subsetting_with_indices",
     "easy"
    ]
   },
   "source": [
    "# MATRIX SUBSETTING"
   ]
  },
  {
   "cell_type": "markdown",
   "metadata": {},
   "source": [
    "## QUESTION"
   ]
  },
  {
   "cell_type": "markdown",
   "metadata": {},
   "source": [
    "1) Create a function named **msubset** which takes two arguments; **mat** as a matrix and **n** as an integer. For a given matrix, this function should return another matrix by getting rid of the last **n** number of rows and columns of that matrix.\n",
    "\n",
    "2) Create a matrix named **mat1** which consists of numbers from 1 to 9 with 3 rows and 3 columns.\n",
    "\n",
    "3) Get rid of the last row and column of **mat1** using **msubset**. \n",
    "\n",
    "Your function should return an output as below: \n",
    "\n",
    "```r\n",
    "> msubset(mat1, 1)\n",
    "     [,1] [,2]\n",
    "[1,]    1    4\n",
    "[2,]    2    5\n",
    "```\n",
    "4) Create a matrix named **mat2** which consists of 24 letters from a to x with 4 rows and 6 columns. You may use ``letters`` vector built into R to easily create this matrix.\n",
    "\n",
    "5) Get rid of the last 2 rows and columns of **mat2** by using **msubset**.\n",
    "\n",
    "Your function should return an output as below:\n",
    "\n",
    "```r\n",
    "> msubset(mat2, 2)\n",
    "     [,1] [,2] [,3] [,4]\n",
    "[1,] \"a\"  \"e\"  \"i\"  \"m\" \n",
    "[2,] \"b\"  \"f\"  \"j\"  \"n\"\n",
    "```"
   ]
  },
  {
   "cell_type": "markdown",
   "metadata": {},
   "source": [
    "## SOLUTION"
   ]
  },
  {
   "cell_type": "code",
   "execution_count": null,
   "metadata": {},
   "outputs": [],
   "source": [
    "#1 Create The Function\n",
    "msubset <- function(mat, n) #take two inputs, a matrix and an integer\n",
    "{\n",
    "    a <- nrow(mat) #number of rows\n",
    "    b <- ncol(mat) #number of columns\n",
    "    return(mat[1:(a - n), 1:(b - n)]) #index the matrix by subtracting num from the total number of rows and columns\n",
    "}\n",
    "\n",
    "#2\n",
    "mat1 <- matrix(c(1:9), nrow =3) \n",
    "\n",
    "#3\n",
    "msubset(mat1, 1)\n",
    "\n",
    "#4\n",
    "mat2 <- matrix(letters[1:24], nrow = 4, ncol = 6) \n",
    "\n",
    "#5\n",
    "msubset(mat2, 2)"
   ]
  },
  {
   "cell_type": "markdown",
   "metadata": {
    "tags": [
     "2020-2021",
     "matrices",
     "matrix_operations",
     "matrix_inversion",
     "medium",
     "berk"
    ]
   },
   "source": [
    "# SOLVING A SYSTEM OF LINEAR EQUATIONS"
   ]
  },
  {
   "cell_type": "markdown",
   "metadata": {},
   "source": [
    "## QUESTION"
   ]
  },
  {
   "cell_type": "markdown",
   "metadata": {},
   "source": [
    "Before starting this question, install the package **matlib** as such:\n",
    "\n",
    "```r\n",
    "install.packages(\"matlib\")\n",
    "```\n",
    "\n",
    "**Note:** You need to load the packages you want to use every time you start a new session as such:\n",
    "\n",
    "```r\n",
    "library(matlib)\n",
    "```\n",
    "\n",
    "This semester, Öykü has decided to take MATH 201 course. However, she did not attend any lectures so far. There will be an exam in the next two days, but she does not know how to solve any matrix problems. So, she decides to cheat on the exam by creating a matrix calculator in R that solves the question correctly for whatever linear equation she puts.\n",
    "\n",
    "Here are the linear equations we will solve:  \n",
    "\n",
    "```\n",
    "5x + 15y + 56z = 35\n",
    "-4x - 11y - 41z = -26\n",
    "-x - 3y - 11z = -7\n",
    "```\n",
    "\n",
    "\n",
    "1) Create a matrix named **coef** that is composed of your linear functions' coefficients. \n",
    "\n",
    "Your matrix should look like this:\n",
    "\n",
    "```r\n",
    "> coef\n",
    "     [,1] [,2] [,3]\n",
    "[1,]  5    15   56 \n",
    "[2,] -4   -11  -41 \n",
    "[3,] -1    -3  -11 \n",
    "```\n",
    "\n",
    "\n",
    "2) Create a one dimensional matrix called **ans** that contains the answers on the right hand side of equations.\n",
    "\n",
    "```r\n",
    "> ans\n",
    "     [,1]\n",
    "[1,]  35 \n",
    "[2,] -26 \n",
    "[3,]  -7 \n",
    "```\n",
    "\n",
    "3) Create a function called **linear_equation_solver** that solves the equation you put in. Your function should take two inputs: the coefficient matrix and the answers. Your function should work with any number of equations and unknowns. If your matrix is not invertible, your function must return **\"Your matrix is not invertible, try another system of equations\".**\n",
    "\n",
    "Your function should return the following output:\n",
    "\n",
    "```r\n",
    "    >linear_equation_solver(coef,ans)\n",
    "     [,1]\n",
    "[1,] 1   \n",
    "[2,] 2   \n",
    "[3,] 0 \n",
    "```\n",
    "So we can conclude that x = 1, y = 2, z = 0.\n",
    "\n",
    "\n",
    "4) Try your function with the linear equations below:\n",
    "\n",
    "```\n",
    "4x + 2y = 8\n",
    "5x + 3y = 9\n",
    "```\n",
    "\n",
    "```r\n",
    "> linear_equation_solver(coef_2,ans_2)\n",
    "     [,1]\n",
    "[1,]    3\n",
    "[2,]   -2\n",
    "```\n",
    "\n",
    "*Hint:* \n",
    "\n",
    "*- Your matrix should be invertible, thus its determinant should not be 0. Start constructing your function with an* ``if`` *statement*. *You may use* ``det()``  *function find the determinant.*\n",
    "\n",
    "*-* ``inv()`` *function takes the inverse of the matrix you put in.* *Solving a linear equation by matrix inversion is done as shown below:*\n",
    "\n",
    "*Ax = b*\n",
    "\n",
    "*- **A** is the coeffient matrix, **x** is our unknown vector that holds the unknowns and **b** is the numbers that are on the right hand side of the equations. You can find **x** by taking the inverse of the matrix **A** and multiplying it with **b**.*\n",
    "\n",
    "*x = A^-1 * b*\n",
    "\n",
    "*- Matrix multiplication is done with this operator :* ``%*%``"
   ]
  },
  {
   "cell_type": "markdown",
   "metadata": {},
   "source": [
    "## SOLUTION"
   ]
  },
  {
   "cell_type": "code",
   "execution_count": null,
   "metadata": {},
   "outputs": [],
   "source": [
    "#1\n",
    "install.packages(\"matlib\")\n",
    "library(matlib)\n",
    "\n",
    "coef <- rbind( c(5, 15, 56) ,\n",
    "              c(-4, -11, -41) ,\n",
    "              c(-1, -3, -11))\n",
    "\n",
    "coef\n",
    "#2\n",
    "ans <- cbind(c(35,-26,-7))\n",
    "ans\n",
    "\n",
    "#3\n",
    "linear_equation_solver <- function(coef,ans)\n",
    "{\n",
    "  if(det(coef) ==0)\n",
    "  {\n",
    "    print(\"Your matrix is not invertible, try another system of equations\")\n",
    "  }\n",
    "    \n",
    "  else\n",
    "  {\n",
    "    result <-inv(coef) %*% ans\n",
    "  }\n",
    "  return(result)\n",
    "}\n",
    "\n",
    "#4\n",
    "linear_equation_solver(coef,ans)\n",
    "\n",
    "\n",
    "\n",
    "#second equation\n",
    "coef_2 <- rbind(c(4,2),\n",
    "             c(5,3))\n",
    "ans_2 <- rbind(8,9)\n",
    "linear_equation_solver(coef_2,ans_2)\n"
   ]
  },
  {
   "cell_type": "markdown",
   "metadata": {
    "tags": [
     "2020-2021-1",
     "matrices",
     "assign_values_to_sub_matrice",
     "medium",
     "ahmet"
    ]
   },
   "source": [
    "# STORAGE PROBLEM"
   ]
  },
  {
   "cell_type": "markdown",
   "metadata": {},
   "source": [
    "## QUESTION"
   ]
  },
  {
   "cell_type": "markdown",
   "metadata": {},
   "source": [
    "A company manufactures four kinds of products and keeps unsold products in inventory at the end of each month. There are four different warehouses where the company can store its inventories. Management of the company wants to choose the lowest costly warehouse for each product in order to minimize the storage costs.\n",
    "\n",
    "1) Set the seed to 1212. Create a sample of size 16 from a normal distribution with mean 20 and standard deviation 5. Then round the numbers of the sample into the closest integer as follows:\n",
    "\n",
    " ```r\n",
    ">samp\n",
    " [1] 17 29 22 13 23 20 10 22  9 30 22 18 27 28 21 15\n",
    "```\n",
    "\n",
    "2) Create a matrice called **warehouses** using the sample above with four rows. This matrix represents the storage costs of each product, depending on the warehouse. Name the rows as **p1, p2, p3, p4** for products and columns as **w1, w2, w3, w4** for warehouses accordingly.\n",
    "\n",
    " ```r\n",
    " > warehouses\n",
    "   w1 w2 w3 w4\n",
    "p1 17 23  9 27\n",
    "p2 29 20 30 28\n",
    "p3 22 10 22 21\n",
    "p4 13 22 18 15\n",
    " ```\n",
    "3) Create a function named **low_cost** which takes a matrix as an argument. Management of the company will use this function  to find the lowest cost warehouse for each product as such:\n",
    "\n",
    " ```r\n",
    " > low_cost(warehouses)\n",
    "  p1   p2   p3   p4 \n",
    " \"w3\" \"w2\" \"w2\" \"w1\"\n",
    " ```\n",
    " \n",
    "*Hint: You may use* ``order()`` *function to find the position of the minimum argument in a given set.* \n",
    " \n",
    "4) Due to some alterations, cost of storing products 2 and 3 in the second warehouse increased by 50%. Update your **warehouses** matrix accordingly.\n",
    "\n",
    "\n",
    "```r\n",
    " > warehouses\n",
    "   w1 w2 w3 w4\n",
    "p1 17 23  9 27\n",
    "p2 29 30 30 28\n",
    "p3 22 15 22 21\n",
    "p4 13 22 18 15\n",
    " ```\n",
    " \n",
    "5) Now try the function **low_cost** to find the lowest cost warehouse for each product.\n",
    "\n",
    "```r\n",
    "> low_cost(warehouses)\n",
    "  p1   p2   p3   p4 \n",
    "\"w3\" \"w4\" \"w2\" \"w1\" \n",
    " ```\n",
    " \n",
    "6) The management wants to calculate their total storage costs. \n",
    "\n",
    "- First, set the seed to 1234 and create a normally distributed sample of size 4 with mean 100 and standard deviation 10. Round these random observations to the nearest integer and call it **stock**. These represent the amount of stock for each product at the end of the month. \n",
    "\n",
    "```r\n",
    "> stock\n",
    "[1]  88 103 111  77\n",
    "```\n",
    "\n",
    "- Then write a function called **total_cost** that assigns each product to the warehouse with minimum cost and calculates the total storage cost of the company. Your function should take 2 inputs: a vector called **stock_amount** and a matrix called **storage_cost**. You can assume warehouses have infinite capacity.\n",
    "\n",
    "**Note:** Your function should work with any number of products and warehouses as soon as the number of products in **stock_amount** and in **storage_cost** match. \n",
    "\n",
    "7) Try your function with the **stock** vector and the **warehouses** matrix.\n",
    "\n",
    "```r\n",
    "> total_cost(stock, warehouses)\n",
    "[1] 6342\n",
    "```\n"
   ]
  },
  {
   "cell_type": "markdown",
   "metadata": {},
   "source": [
    "## SOLUTION"
   ]
  },
  {
   "cell_type": "code",
   "execution_count": null,
   "metadata": {},
   "outputs": [],
   "source": [
    "#1 \n",
    "set.seed(1212)\n",
    "samp <- rnorm(16, 20, 5)\n",
    "samp <- round(samp)\n",
    "samp\n",
    "\n",
    "#2\n",
    "warehouses <- matrix(samp, nrow = 4)\n",
    "row.names(warehouses) <- c(\"p1\", \"p2\", \"p3\", \"p4\")\n",
    "colnames(warehouses) <- c(\"w1\", \"w2\", \"w3\", \"w4\")\n",
    "warehouses\n",
    "\n",
    "#3\n",
    "low_cost <- function(x)\n",
    "{\n",
    "  w <- c()\n",
    "  for (i in 1:dim(x)[1])\n",
    "  {\n",
    "    w <- c(w, order(x[i,])[1]) \n",
    "  }\n",
    "  wh <- colnames(x)[w]\n",
    "  names(wh) <- rownames(x)\n",
    "  return(wh)\n",
    "}\n",
    "\n",
    "low_cost(warehouses)\n",
    "\n",
    "#4\n",
    "warehouses[c(2,3), 2] <- warehouses[c(2,3), 2] * 1.5\n",
    "warehouses\n",
    "\n",
    "#5\n",
    "low_cost(warehouses)\n",
    "\n",
    "#6\n",
    "set.seed(1234)\n",
    "stock <- round(rnorm(4, 100, 10))\n",
    "stock\n",
    "\n",
    "#7\n",
    "total_cost <- function(stock_amount, storage_cost)\n",
    "{\n",
    " cost <- 0  \n",
    " for (i in 1:dim(storage_cost)[1]) \n",
    " {\n",
    "     cost <- cost + min(storage_cost[i,]*stock_amount[i])  \n",
    " }\n",
    " return(cost)   \n",
    "}\n",
    "\n",
    "total_cost(stock, warehouses)\n"
   ]
  },
  {
   "cell_type": "markdown",
   "metadata": {
    "tags": [
     "2020-2021-1",
     "old_questions",
     "matrices",
     "matrices_with_loops",
     "medium"
    ]
   },
   "source": [
    "# MATRIX WITH ZERO ONE"
   ]
  },
  {
   "cell_type": "markdown",
   "metadata": {},
   "source": [
    "## QUESTION"
   ]
  },
  {
   "cell_type": "markdown",
   "metadata": {},
   "source": [
    "Write a function named **my_func** that takes two integers **n** and **m** as inputs and returns a **n** x **m** matrix such that if sum of the element's indices is even, the element should be 1; if it's odd, the element should be 0.\n",
    "\n",
    "For example:\n",
    "\n",
    "```r\n",
    "> my_func(4,5)\n",
    "      [,1] [,2] [,3] [,4] [,5]\n",
    "[1,]    1    0    1    0    1\n",
    "[2,]    0    1    0    1    0\n",
    "[3,]    1    0    1    0    1\n",
    "[4,]    0    1    0    1    0\n",
    "```\n",
    "\n"
   ]
  },
  {
   "cell_type": "markdown",
   "metadata": {},
   "source": [
    "## SOLUTION"
   ]
  },
  {
   "cell_type": "code",
   "execution_count": null,
   "metadata": {},
   "outputs": [],
   "source": [
    "my_func <- function(n, m)\n",
    "    {\n",
    "    my_mat <- matrix(nrow = n, ncol = m)\n",
    "    for (i in 1:n)\n",
    "        {\n",
    "        for(j in 1:m)\n",
    "            {\n",
    "            if((i+j)%%2 == 0)\n",
    "                {\n",
    "                my_mat[i, j] <- 1\n",
    "            } else {\n",
    "                my_mat[i, j] <- 0\n",
    "            }\n",
    "        }\n",
    "    }\n",
    "    return(my_mat)\n",
    "}\n",
    "\n",
    "my_func(4,5)\n",
    "\n",
    "#or\n",
    "\n",
    "my_func <- function(n, m)\n",
    "    {\n",
    "    my_mat <- matrix(1, nrow = n, ncol = m)\n",
    "    my_mat[(row(my_mat) + col(my_mat)) %% 2 == 1] <- 0 \n",
    "    return(my_mat)\n",
    "}\n",
    "\n",
    "my_func(4,5)"
   ]
  },
  {
   "cell_type": "markdown",
   "metadata": {
    "tags": [
     "2020-2021-1",
     "old_questions",
     "matrices",
     "matrix_operations",
     "medium"
    ]
   },
   "source": [
    "# WHICH OPERATION"
   ]
  },
  {
   "cell_type": "markdown",
   "metadata": {},
   "source": [
    "## QUESTION"
   ]
  },
  {
   "cell_type": "markdown",
   "metadata": {},
   "source": [
    "1) Create a function named **mat_ops** which takes two arguments. The first argument **mat** is a matrix and the second argument is **unknown**. We do not know what unknown is. The function should do the following:\n",
    "\n",
    "- If the class of **unknown** is matrix, do matrix multiplication with **unknown** and **mat**.\n",
    "- If **unknown** is a scalar, do scalar multiplication with **unknown** and **mat**.\n",
    "- If **unknown** does not fit any of these cases, transpose **mat**.\n",
    "\n",
    "2) You are a student who wishes to try out some of the matrix operations you have just learned. Create a matrix with 2 rows named **mat_test** with numbers from 1 to 4 to test your function with the cases below.\n",
    "\n",
    "Here is **mat_test**:\n",
    "```r\n",
    "> mat_test\n",
    "     [,1] [,2]\n",
    "[1,]    1    3\n",
    "[2,]    2    4\n",
    "```\n",
    "\n",
    "- First case: **unknown** is the same as **mat_test**.\n",
    "\n",
    "```r\n",
    "> mat_ops(mat_test, mat_test)\n",
    "     [,1] [,2]\n",
    "[1,]    7   15\n",
    "[2,]   10   22\n",
    "```\n",
    "- Second case: **unknown** is 3.\n",
    "\n",
    "```r\n",
    "> mat_ops(mat_test, 3)\n",
    "     [,1] [,2]\n",
    "[1,]    3    9\n",
    "[2,]    6   12\n",
    "```\n",
    "- Third case: **unknown** is a vector with one character element as **\"Ahmet\"**.\n",
    "\n",
    "```r\n",
    "> mat_ops(mat_test, c(\"Ahmet\"))\n",
    "     [,1] [,2]\n",
    "[1,]    1    2\n",
    "[2,]    3    4\n",
    "```"
   ]
  },
  {
   "cell_type": "markdown",
   "metadata": {},
   "source": [
    "## SOLUTION"
   ]
  },
  {
   "cell_type": "code",
   "execution_count": null,
   "metadata": {},
   "outputs": [],
   "source": [
    "#1\n",
    "mat_ops <- function(mat, unknown) #function takes two inputs\n",
    "{\n",
    "    if(class(unknown) == \"matrix\") #check if it's a matrix\n",
    "    {\n",
    "        return(mat %*% unknown) #if it is a matrix, do matrix multiplication\n",
    "    }\n",
    "    else if(class(unknown) == \"numeric\") #check if it's numeric \n",
    "    {\n",
    "        return(unknown * mat) #if it is numeric, do scalar multiplication\n",
    "    }\n",
    "    else #if it is neither a matrix nor a numeric value\n",
    "    {\n",
    "        return(t(mat)) #transpose mat\n",
    "    }\n",
    "}\n",
    "\n",
    "#2\n",
    "mat_test <- matrix(c(1:4), nrow = 2, ncol= 2) \n",
    "mat_test\n",
    "\n",
    "#first_case\n",
    "mat_ops(mat_test, mat_test)\n",
    "\n",
    "#second_case\n",
    "mat_ops(mat_test, 3)\n",
    "\n",
    "#third_case\n",
    "mat_ops(mat_test, c(\"Ahmet\"))"
   ]
  },
  {
   "cell_type": "markdown",
   "metadata": {
    "tags": [
     "2020-2021-1",
     "matrices",
     "apply",
     "hard",
     "mevlut"
    ]
   },
   "source": [
    "# THE NEW YORK TIMES"
   ]
  },
  {
   "cell_type": "markdown",
   "metadata": {},
   "source": [
    "## QUESTION"
   ]
  },
  {
   "attachments": {
    "Ekran%20Al%C4%B1nt%C4%B1s%C4%B1.JPG": {
     "image/jpeg": "[encoded data removed]"
    }
   },
   "cell_type": "markdown",
   "metadata": {},
   "source": [
    "The New York Times is an American daily newspaper based in New York City with a worldwide influence and readership. Frank Bruni, a NYT columnist, wants to publish the distribution of US expenditure historically. To do so, he will be using a built-in data set in R: **USPersonalExpenditure**\n",
    " \n",
    " \n",
    " 1) Take a look at the data set.\n",
    " \n",
    "```r\n",
    "> USPersonalExpenditure\n",
    "                          1940   1945  1950 1955  1960\n",
    "    Food and Tobacco    22.200 44.500 59.60 73.2 86.80\n",
    "    Household Operation 10.500 15.500 29.00 36.5 46.20\n",
    "    Medical and Health   3.530  5.760  9.71 14.0 21.10\n",
    "    Personal Care        1.040  1.980  2.45  3.4  5.40\n",
    "    Private Education    0.341  0.974  1.80  2.6  3.64\n",
    "```\n",
    "\n",
    " 2) Create a function called **new_func** that takes one argument **the_matrix** as a matrix. This function should return two outputs:\n",
    "    \n",
    "-  Firstly, it should plot each column of the given matrix in a pie chart. Colors of pie charts should be assigned with the built-in function ``rainbow()``. Titles of the pie charts should be **Distribution of Expenditure in \"...\"**. You should put the year between the quotation marks.  \n",
    "\n",
    "*Hint: You may use ``colnames()`` to extract the column names and ``paste()`` for constructing the titles.* \n",
    "\n",
    "\n",
    "-  Then, it should print the total expenditure for every year.\n",
    "\n",
    "*Hint: Use ``cat()`` function to merge character values and ``\"\\n\"`` to separate the lines.* \n",
    "\n",
    "- Lastly, since the function can only show the last plot, you should ask the user which pie chart he/she would like to see and print that pie chart.\n",
    "\n",
    "*Hint: Store the pie charts in a list and return the chart that was requested by the user.* \n",
    "\n",
    "An example output is given below:\n",
    "\n",
    "```r\n",
    "> new_func(USPersonalExpenditure)\n",
    "In the year of 1940 (pie chart 1), total expenditure is 37.611 billons of dollars.\n",
    "\n",
    "In the year of 1945 (pie chart 2), total expenditure is 68.714 billons of dollars.\n",
    "\n",
    "In the year of 1950 (pie chart 3), total expenditure is 102.56 billons of dollars.\n",
    "\n",
    "In the year of 1955 (pie chart 4), total expenditure is 129.7 billons of dollars.\n",
    "\n",
    "In the year of 1960 (pie chart 5), total expenditure is 163.14 billons of dollars.\n",
    "\n",
    "[1] \"Which pie chart would you like to see?\"\n",
    "Input: 4\n",
    "```\n",
    "\n",
    "![Ekran%20Al%C4%B1nt%C4%B1s%C4%B1.JPG](attachment:Ekran%20Al%C4%B1nt%C4%B1s%C4%B1.JPG)"
   ]
  },
  {
   "cell_type": "markdown",
   "metadata": {},
   "source": [
    "## SOLUTION"
   ]
  },
  {
   "cell_type": "code",
   "execution_count": null,
   "metadata": {},
   "outputs": [],
   "source": [
    "USPersonalExpenditure\n",
    "\n",
    "new_func <- function(the_matrix)\n",
    "{\n",
    "    \n",
    "values <- apply(the_matrix, 2, sum)\n",
    "    \n",
    "plots <- list()\n",
    "    \n",
    "for(i in 1:dim(the_matrix)[2])\n",
    "{\n",
    " \n",
    "plot.new()\n",
    "pie(the_matrix[,i], main = paste(\"Distribution of Expenditure in\", \n",
    "colnames(the_matrix)[i]), col = rainbow(dim(the_matrix)[2]))    \n",
    "plots[[i]] <- recordPlot()   \n",
    "}\n",
    "\n",
    "\n",
    "for(i in 1:dim(the_matrix)[2]){\n",
    "    \n",
    "    cat(\"In the year of \",\n",
    "        colnames(the_matrix)[i],\n",
    "        \" (pie chart \",\n",
    "              i,\n",
    "              \"), \",\n",
    "        \"total expenditure is \",\n",
    "        values[i],\n",
    "        \" billons of dollars.\\n\\n\",\n",
    "        sep = \"\") \n",
    "  }\n",
    "  \n",
    "print(\"Which pie chart would you like to see?\")\n",
    "chart_number <- as.numeric(readline(\"Input: \"))\n",
    "    \n",
    "for(i in 1:dim(the_matrix)[2])\n",
    "{\n",
    "if(chart_number == i)\n",
    "return(plots[[i]])  \n",
    "}\n",
    "}\n",
    "\n",
    "new_func(USPersonalExpenditure)"
   ]
  },
  {
   "cell_type": "markdown",
   "metadata": {
    "tags": [
     "2020-2021-1",
     "matrices",
     "filtering_matrices",
     "hard",
     "anar"
    ]
   },
   "source": [
    "# WORLD CHESS CHAMPIONSHIP"
   ]
  },
  {
   "cell_type": "markdown",
   "metadata": {},
   "source": [
    "## QUESTION"
   ]
  },
  {
   "cell_type": "markdown",
   "metadata": {},
   "source": [
    "In the World Chess Championship 2020, 4 grandmasters; Teimour Radjabov, Magnus Carlsen, Anish Giri, and Hikaru Nakamura played against each other in 3 time controls: blitz, rapid, and classical. Their scores and ratings before the tournament are given as such:\n",
    "\n",
    "|Players|Blitz|Rapid|Classical|Rating|\n",
    "|:---:|:---:|:---:|:---:|:---:|\n",
    "|Radjabov, T.|3.5|6.5|4.5|2765|\n",
    "|Carlsen, M.|6|4|5|2862|\n",
    "|Giri, A.|4.5|3|6|2764|\n",
    "|Nakamura, H.|4|4.5|2.5|2736|\n",
    "\n",
    "The player who has the highest score in a time control will be the champion of that time control (For example, Anish Giri in classical matches). Additionally, the players who have a total score of 14 or more will add 20 points to their ratings whereas the players who don't have that amount of score will lose 10 points. \n",
    "\n",
    "1) We want to present the champions and their new ratings. To do so:\n",
    "\n",
    "- Create a matrix named **chess** which contains scores and ratings as shown above.\n",
    "\n",
    "- Create two vectors named **players** for players' names and **categories** for time controls and rating.\n",
    "\n",
    "- Name columns of the matrix with the categories and rows with the players' names.\n",
    "\n",
    "The resulting matrix should look as such:\n",
    "\n",
    "```r\n",
    "> chess\n",
    "             Blitz Rapid Classical Rating\n",
    "Radjabov, T.   3.5   6.5       4.5   2765\n",
    "Carlsen, M.    6.0   4.0       5.0   2862\n",
    "Giri, A.       4.5   3.0       6.0   2764\n",
    "Nakamura, H.   4.0   4.5       2.5   2736\n",
    "```\n",
    "\n",
    "2) Create a function named **champions** which:\n",
    "\n",
    " - Takes a matrix in the shown form as an argument.\n",
    " \n",
    " - Calculates and updates players' ratings on that matrix.\n",
    " \n",
    " - Pastes the champion of each time control with his rating.\n",
    "\n",
    "*Hint: You can use* ``which.max()`` *to select the best scores.*\n",
    "\n",
    "The expected output of your function is as below:\n",
    " \n",
    "```r\n",
    "> champions(chess)\n",
    "[1] \"World Blitz Champion: Carlsen, M. , 2882\" \n",
    "[2] \"World Rapid Champion: Radjabov, T. , 2785\"\n",
    "[3] \"World Classic Champion: Giri, A. , 2754\" \n",
    "```\n"
   ]
  },
  {
   "cell_type": "markdown",
   "metadata": {},
   "source": [
    "## SOLUTION"
   ]
  },
  {
   "cell_type": "code",
   "execution_count": null,
   "metadata": {},
   "outputs": [],
   "source": [
    "#1.1\n",
    "chess <- matrix(c(3.5, 6, 4.5, 4, 6.5, 4, 3, 4.5, \n",
    "                  4.5, 5, 6, 2.5, 2765, 2862, 2764, 2736),\n",
    "                nrow = 4, ncol = 4)\n",
    "chess\n",
    "\n",
    "#1.2\n",
    "players <- c(\"Radjabov, T.\", \"Carlsen, M.\", \"Giri, A.\", \"Nakamura, H.\")\n",
    "categories <- c(\"Blitz\", \"Rapid\", \"Classical\", \"Rating\")\n",
    "players\n",
    "categories\n",
    "\n",
    "#1.3\n",
    "row.names(chess) <- players\n",
    "colnames(chess) <- categories\n",
    "chess\n",
    "\n",
    "#2\n",
    "champions <- function(mat)\n",
    "{\n",
    "    text <- c()\n",
    "    for(i in 1:dim(mat)[1])\n",
    "    {\n",
    "        if(sum(mat[i, 1:3]) >= 14)\n",
    "        {\n",
    "            mat[i, 4] <- mat[i, 4] + 20\n",
    "        } \n",
    "        else\n",
    "        {\n",
    "            mat[i, 4] <- mat[i, 4] - 10\n",
    "        }\n",
    "    }\n",
    "    for(d in 1:(dim(mat)[2] - 1))\n",
    "    {\n",
    "        champ <- names(which.max(mat[ ,d]))\n",
    "        text <- c(text, paste(\"World\", colnames(mat)[d], \"Champion:\", champ, \",\", mat[champ, 4]))\n",
    "    }\n",
    "    return(text)\n",
    "}\n",
    "champions(chess)"
   ]
  },
  {
   "cell_type": "markdown",
   "metadata": {
    "tags": [
     "2020-2021-1",
     "old_questions",
     "matrices",
     "matrices_with_loops",
     "hard"
    ]
   },
   "source": [
    "# FINDING NICKNAMES"
   ]
  },
  {
   "cell_type": "markdown",
   "metadata": {},
   "source": [
    "## QUESTION"
   ]
  },
  {
   "cell_type": "markdown",
   "metadata": {},
   "source": [
    "Mehmet wants to find interesting nicknames to use in his favorite games. He has prepared a table including his nickname ideas for those games as such:\n",
    "\n",
    "|PUBG|COD|CSGO|LOL|\n",
    "|:--|:--|:--|:--|\n",
    "|DincSavasci|minikmemo7|AWPsevdalisi|Pentasiz1i|\n",
    "|dropavcisiTR|cilginhamsi61|ratata11|Oldun_CiKxd|\n",
    "|SonKalan|FazeMeMoCaN|61Memo61|MidSal61|\n",
    "|KopruYilani|droNesaVaR|YaRgiCMehMeT|6AyYildiz1|\n",
    "\n",
    "But later, he learns that each game has a character limit for nicknames so he wants to know which ideas can be used for the games they were designed for. Character limits of each game are as follows:\n",
    "\n",
    "- PUBG: Less than 9 characters\n",
    "- COD: Less than 12 characters\n",
    "- CSGO: Less than 9 characters\n",
    "- LOL: Less than 11 characters\n",
    "\n",
    "1) Create a matrix called **mehmet_ideas** that contains Mehmet's nickname ideas.\n",
    "\n",
    "Your matrix should look like this:\n",
    "\n",
    "```r \n",
    "mehmet_ideas\n",
    "     [,1]           [,2]            [,3]           [,4]         \n",
    "[1,] \"DincSavasci\"  \"minikmemo7\"    \"AWPsevdalisi\" \"Pentasiz1i\" \n",
    "[2,] \"dropavcisiTR\" \"cilginhamsi61\" \"ratata11\"     \"Oldun_CiKxd\"\n",
    "[3,] \"SonKalan\"     \"FazeMeMoCaN\"   \"61Memo61\"     \"MidSal61\"   \n",
    "[4,] \"KopruYilani\"  \"droNesaVaR\"    \"YaRgiCMehMeT\" \"6AyYildiz1\" \n",
    "```\n",
    "\n",
    "2) Create a vector called **game_names** and assign it to **mehmet_ideas** as column names.\n",
    "\n",
    "\n",
    "3) Create a function called **nick_check** that takes a matrix of nicknames as its argument and checks if a name can be used for the game in that column and return a new matrix as such:\n",
    "\n",
    "```r      \n",
    "nick_check(mehmet_ideas)\n",
    "\n",
    "        PUBG      COD         CSGO      LOL        \n",
    "[1,] cant use minikmemo7  cant use Pentasiz1i \n",
    "[2,] cant use cant use   ratata11  Oldun_CiKxd\n",
    "[3,] SonKalan  FazeMeMoCaN 61Memo61  MidSal61   \n",
    "[4,] cant use droNesaVaR  cant use 6AyYildiz1 \n",
    "```\n",
    "\n",
    "*Hint: You can use ``nchar()`` function to find how many characters a nickname has. Your function should also create a vector of character limits to compare with the matrix.*\n",
    "\n"
   ]
  },
  {
   "cell_type": "markdown",
   "metadata": {},
   "source": [
    "## SOLUTION"
   ]
  },
  {
   "cell_type": "code",
   "execution_count": null,
   "metadata": {},
   "outputs": [],
   "source": [
    "#1\n",
    "mehmet_ideas <- matrix(c(\"DincSavasci\", \"minikmemo7\", \"AWPsevdalisi\", \"Pentasiz1i\",\n",
    "                         \"dropavcisiTR\", \"cilginhamsi61\", \"ratata11\", \"Oldun_CiKxd\",\n",
    "                         \"SonKalan\", \"FazeMeMoCaN\", \"61Memo61\", \"MidSal61\",\n",
    "                         \"KopruYilani\", \"droNesaVaR\", \"YaRgiCMehMeT\", \"6AyYildiz1\"), nrow=4, byrow=T)\n",
    "\n",
    "#2\n",
    "game_names <- c(\"PUBG\", \"COD\", \"CSGO\", \"LOL\")\n",
    "colnames(mehmet_ideas) <- game_names\n",
    "\n",
    "#3\n",
    "nick_check <- function(nick_mat)\n",
    "{\n",
    "    char_lim <- c(9, 12, 9, 11)\n",
    "    for (i in 1:NROW(nick_mat))\n",
    "    {\n",
    "       for(j in 1:NCOL(nick_mat))\n",
    "       {\n",
    "          if(nchar(nick_mat[i,j]) > char_lim[j]) \n",
    "            {\n",
    "             nick_mat[i,j] <- \"cant use\"\n",
    "            }\n",
    "       }\n",
    "    } \n",
    " return(nick_mat)\n",
    "}\n",
    "      \n",
    "nick_check(mehmet_ideas)"
   ]
  }
 ],
 "metadata": {
  "celltoolbar": "Tags",
  "kernelspec": {
   "display_name": "R",
   "language": "R",
   "name": "ir"
  },
  "language_info": {
   "codemirror_mode": "r",
   "file_extension": ".r",
   "mimetype": "text/x-r-source",
   "name": "R",
   "pygments_lexer": "r",
   "version": "3.6.1"
  },
  "toc": {
   "base_numbering": 1,
   "nav_menu": {},
   "number_sections": true,
   "sideBar": true,
   "skip_h1_title": false,
   "title_cell": "Table of Contents",
   "title_sidebar": "Contents",
   "toc_cell": false,
   "toc_position": {},
   "toc_section_display": true,
   "toc_window_display": false
  },
  "varInspector": {
   "cols": {
    "lenName": 16,
    "lenType": 16,
    "lenVar": 40
   },
   "kernels_config": {
    "python": {
     "delete_cmd_postfix": "",
     "delete_cmd_prefix": "del ",
     "library": "var_list.py",
     "varRefreshCmd": "print(var_dic_list())"
    },
    "r": {
     "delete_cmd_postfix": ") ",
     "delete_cmd_prefix": "rm(",
     "library": "var_list.r",
     "varRefreshCmd": "cat(var_dic_list()) "
    }
   },
   "types_to_exclude": [
    "module",
    "function",
    "builtin_function_or_method",
    "instance",
    "_Feature"
   ],
   "window_display": false
  }
 },
 "nbformat": 4,
 "nbformat_minor": 4
}
