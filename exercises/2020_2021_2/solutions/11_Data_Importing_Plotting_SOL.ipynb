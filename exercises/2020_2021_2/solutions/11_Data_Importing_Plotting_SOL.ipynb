{
 "cells": [
  {
   "cell_type": "markdown",
   "id": "2ae139d9",
   "metadata": {},
   "source": [
    "#  HOT AND COLD"
   ]
  },
  {
   "cell_type": "markdown",
   "id": "2e6e4dea",
   "metadata": {},
   "source": [
    "##  QUESTION"
   ]
  },
  {
   "attachments": {
    "Ekran%20Al%C4%B1nt%C4%B1s%C4%B1.PNG": {
     "image/png": "[encoded data removed]"
    }
   },
   "cell_type": "markdown",
   "id": "faee2610",
   "metadata": {},
   "source": [
    "R has a built-in data set named **CO2**, which contains data of CO2 uptake of 3 different plants, cultivated in Quebec and Mississipi, treated with cold or hot air. There are 12 different entities: Qc1, Qc2, Qc3, Qn1, Qn2, Qn3, Mc1, Mc2, Mc3, Mn1, Mn2, Mn3. The first letter symbolizes the place where the plant was cultivated, the second letter symbolizes treatment (chilled or non-chilled), and the number symbolizes the plant.\n",
    "\n",
    "1) Let's view the summary of our data set:\n",
    "\n",
    "```r\n",
    "> summary(CO2)\n",
    "     Plant             Type         Treatment       conc          uptake     \n",
    " Qn1    : 7   Quebec     :42   nonchilled:42   Min.   :  95   Min.   : 7.70  \n",
    " Qn2    : 7   Mississippi:42   chilled   :42   1st Qu.: 175   1st Qu.:17.90  \n",
    " Qn3    : 7                                    Median : 350   Median :28.30  \n",
    " Qc1    : 7                                    Mean   : 435   Mean   :27.21  \n",
    " Qc3    : 7                                    3rd Qu.: 675   3rd Qu.:37.12  \n",
    " Qc2    : 7                                    Max.   :1000   Max.   :45.50  \n",
    " (Other):42                                                              \n",
    "```\n",
    "\n",
    "2) Create a single histogram for both treatments: chilled and non-chilled. Its title should be \"CO2 Uptakes of Chilled and Non-Chilled Plants\", the x-axis label should be \"CO2 Uptake\", and the color for non-chilled plants should be blue. For chilled plants, use `col = rgb(1,0,0,0.5)`.\n",
    "\n",
    "![Ekran%20Al%C4%B1nt%C4%B1s%C4%B1.PNG](attachment:Ekran%20Al%C4%B1nt%C4%B1s%C4%B1.PNG)"
   ]
  },
  {
   "cell_type": "markdown",
   "id": "44359ee5",
   "metadata": {},
   "source": [
    "## SOLUTION"
   ]
  },
  {
   "cell_type": "code",
   "execution_count": null,
   "id": "dde11d27",
   "metadata": {},
   "outputs": [],
   "source": [
    "#1\n",
    "summary(CO2)\n",
    "\n",
    "#2 Plotting two histograms together\n",
    "hist(CO2$uptake[which(CO2[, \"Treatment\"] == \"chilled\")], \n",
    "     col = \"blue\", \n",
    "     main = \"CO2 Uptakes of Chilled and Non-Chilled Plants\", \n",
    "     xlab = \"CO2 Uptake\")\n",
    "hist(CO2$uptake[which(CO2[, \"Treatment\"] == \"nonchilled\")], add= T, col = rgb(1,0,0,0.5))"
   ]
  },
  {
   "cell_type": "markdown",
   "id": "b06131a8",
   "metadata": {},
   "source": [
    "# DOUBLE MAJOR"
   ]
  },
  {
   "cell_type": "markdown",
   "id": "522de6c3",
   "metadata": {},
   "source": [
    "##  QUESTION"
   ]
  },
  {
   "cell_type": "markdown",
   "id": "eda566ce",
   "metadata": {},
   "source": [
    "The psychology department of a university accepts students for its double major programme after eliminating the applicants in four steps :\n",
    " * In the first step, students who are not from Sociology department are eliminated.\n",
    " * In the second step, students with a GPA lower than 3.5 are eliminated.\n",
    " * In the third step, students with a GPA lower than the mean of GPA's of the students who had made it to this step are eliminated.\n",
    " * In the forth step , there will be an interview with the remaining students.\n",
    "\n",
    "```r\n",
    "RNGversion(\"3.3.1\")\n",
    "```\n",
    " \n",
    "1) Copy the line above. Set seed to 3. Create 2 vectors named **gpas** which holds the GPAs of 40 applicants and **departments** which holds the departments of the applicants. GPAs are uniformly distributed 40 numbers between 3.30 and 4.00. Use two digits after decimal points. Departments are a sample choosen from three departments : \"Sociology\", \"History\", \"Economics\". (Do not change the order.)\n",
    "\n",
    "```r\n",
    "> gpas\n",
    "\n",
    "[1] 3.42 3.87 3.57 3.53 3.72 3.72 3.39 3.51 3.70 3.74 3.66 3.65 3.67 3.69 3.91 3.88 3.38 3.79 3.93\n",
    "[20] 3.50 3.46 3.31 3.39 3.37 3.47 3.85 3.72 3.94 3.69 3.83 3.57 3.56 3.42 3.62 3.48 3.54 3.92 3.44\n",
    "[39] 3.71 3.45\n",
    "\n",
    "> departments\n",
    " [1] \"Sociology\" \"Economics\" \"Sociology\" \"History\"   \"History\"   \"Sociology\" \"Sociology\"\n",
    " [8] \"Sociology\" \"Sociology\" \"Economics\" \"Sociology\" \"Sociology\" \"Economics\" \"Economics\"\n",
    "[15] \"Economics\" \"Economics\" \"History\"   \"Sociology\" \"Sociology\" \"Sociology\" \"Economics\"\n",
    "[22] \"Sociology\" \"Economics\" \"Sociology\" \"Economics\" \"Sociology\" \"Economics\" \"History\"  \n",
    "[29] \"History\"   \"Sociology\" \"Economics\" \"Economics\" \"Economics\" \"Economics\" \"History\"  \n",
    "[36] \"History\"   \"Sociology\" \"Sociology\" \"Economics\" \"Economics\"\n",
    "```\n",
    "\n",
    "\n",
    "\n",
    "2) Create a data frame named **applicants** with **gpas** and **departments** as such :\n",
    " \n",
    "```r\n",
    "> applicants\n",
    "            GPA Department\n",
    "Student 1  3.42  Sociology\n",
    "Student 2  3.87  Economics\n",
    "Student 3  3.57  Sociology\n",
    ".\n",
    ".\n",
    ".\n",
    "Student 39 3.71  Economics\n",
    "Student 40 3.45  Economics\n",
    "\n",
    "```\n",
    "\n",
    "3) Create a function named **dbl_mjr** with one argument **dta** which has **applicants** as its default value. The function should do the following:\n",
    "  * First, it will decide which applicants should pass the first step. Then it will create a global object named **first_step** which is a table (use `table()`) which shows the number of rejected students in the first step and the number of students which made it to the second step.\n",
    "  * It will do the same thing for the second and third steps while creating global objects **second_step** and **third_step**.\n",
    "  * It will return a data frame which holds information about the students which made it to the interview step. As such:\n",
    " \n",
    " ```r\n",
    ">  dbl_mjr(dta = applicants) \n",
    "            GPA Department    Result\n",
    "Student 18 3.79  Sociology Interview\n",
    "Student 19 3.93  Sociology Interview\n",
    "Student 26 3.85  Sociology Interview\n",
    "Student 30 3.83  Sociology Interview\n",
    "Student 37 3.92  Sociology Interview\n",
    " ```\n",
    " ```r\n",
    ">  first_step\n",
    "Result\n",
    "   Rejected Second Step \n",
    "         23          17 \n",
    ">  second_step\n",
    "Result\n",
    "  Rejected Third Step \n",
    "         6         11 \n",
    ">  third_step\n",
    "Result\n",
    " Rejected Interview \n",
    "        6         5 \n",
    "```\n",
    "\n",
    "*Hint: You can use the operator ``<<-`` for defining global objects in a local environment.*\n",
    "\n",
    "4) Create another function named **general** with one argument **dta** which has **applicants** as its default value. The function should return a table which holds the number of eliminated students in each steps and number of students which made it to the interviews. \n",
    "\n",
    "**Rejected(1)** indicates that the student is eliminated in step 1. **Rejected(2)** in step 2 and so on. **Interview** indicates that the student made it to the final step. \n",
    "   \n",
    "```r\n",
    "> general(dta = applicants)\n",
    "General Result\n",
    "  Interview Rejected(1) Rejected(2) Rejected(3) \n",
    "          5          23           6           6\n",
    "```\n",
    "\n",
    "5) Plot 4 pie charts in the same image. First pie chart should show the information of the **first_step** and so on. Forth pie chart should show the general result which you can find using the **general** function.\n",
    "\n",
    "Your charts should look like this:"
   ]
  },
  {
   "attachments": {
    "Ekran%20Al%C4%B1nt%C4%B1s%C4%B1.PNG": {
     "image/png": "[encoded data removed]"
    }
   },
   "cell_type": "markdown",
   "id": "74468af7",
   "metadata": {},
   "source": [
    "![Ekran%20Al%C4%B1nt%C4%B1s%C4%B1.PNG](attachment:Ekran%20Al%C4%B1nt%C4%B1s%C4%B1.PNG)"
   ]
  },
  {
   "cell_type": "markdown",
   "id": "e4ae06bf",
   "metadata": {},
   "source": [
    "## SOLUTION"
   ]
  },
  {
   "cell_type": "code",
   "execution_count": null,
   "id": "ae394756",
   "metadata": {},
   "outputs": [],
   "source": [
    "#1\n",
    "RNGversion(\"3.3.1\")\n",
    "set.seed(3)\n",
    "gpas <- round(runif(40, min = 3.3, max = 4),digit = 2)\n",
    "departments <- sample(size = 40, c(\"Sociology\", \"History\", \"Economics\"), replace = T)\n",
    "gpas\n",
    "departments\n",
    "\n",
    "#2\n",
    "st_num <- paste(\"Student\", 1:40) #Creating the vector which holds the row names of the data frame\n",
    "applicants <- data.frame(\"GPA\" = gpas,\"Department\" = departments)\n",
    "rownames(applicants) <- st_num\n",
    "applicants\n",
    "\n",
    "#3\n",
    "dbl_mjr <- function(dta = applicants)\n",
    "{\n",
    "  scnd <- c()\n",
    "  for(i in 1:nrow(dta))\n",
    "  {\n",
    "    if(dta[i,2] == \"Sociology\")\n",
    "    f <- \"Second Step\"\n",
    "    else f <-\"Rejected\"\n",
    "    scnd <- c(scnd, f) # scnd is a vector indicating whether the applicant rejected or not.\n",
    "  }\n",
    "  \n",
    "  first_step <<- table(\"Result\" = scnd) # Creating the table. \"<<-\" makes it global.\n",
    "  dta1 <- cbind(dta,\"Result\" = scnd)\n",
    "  dta2 <- dta1[dta1[,3 ] == \"Second Step\",] #Eliminating the rejected students in the first step and continuing with other students.\n",
    "  \n",
    "  thrd <- cut(dta2$GPA,breaks = c(-Inf,3.5,+Inf),labels = c(\"Rejected\",\"Third Step\")) #Creating the a factor object thrd which has the similar duty with scnd.\n",
    "  second_step <<- table(\"Result\" = thrd)\n",
    "  dta3 <- cbind(dta2[,-3],\"Result\" = thrd)\n",
    "  dta4 <- dta3[dta3[,3] == \"Third Step\",]\n",
    "  \n",
    "\n",
    "  mns <- mean(dta4$GPA) #Calculating the mean of GPAs of remaining students.\n",
    "  \n",
    "  intr <- cut(dta4$GPA, breaks = c(-Inf, mns, +Inf), labels = c(\"Rejected\", \"Interview\"))\n",
    "  third_step <<- table(\"Result\" = intr)\n",
    "  dta5 <- cbind(dta4[,-3], \"Result\" = intr)\n",
    "  dta6 <- dta5[dta5[,3] == \"Interview\",] #dta6 holds only the students which made it to the interview step.\n",
    "  \n",
    "  \n",
    "  return(dta6)\n",
    "  \n",
    "}\n",
    "\n",
    "\n",
    " dbl_mjr(dta = applicants) \n",
    " first_step #first_step is a global object, so we can run this code outside of the function.\n",
    " second_step\n",
    " third_step\n",
    "\n",
    "#4\n",
    "general <- function(dta = applicants)\n",
    "{\n",
    "  \n",
    "      dta_3rd <- dta[dta$GPA > 3.5 & dta$Department == \"Sociology\",] \n",
    "      mm <- mean(dta_3rd$GPA) #The mean of the students in the third step. \n",
    "      xx <-c()\n",
    "      for(i in 1:nrow(dta)) # xx vectors holds the results of each student respectively.\n",
    "      {\n",
    "        if(dta[i,2] != \"Sociology\")\n",
    "          xx <- c(xx, \"Rejected(1)\")\n",
    "        else if(dta[i,1] <= 3.5)\n",
    "          xx <- c(xx, \"Rejected(2)\")\n",
    "        else if(dta[i,1] <= mm)\n",
    "          xx <- c(xx, \"Rejected(3)\")\n",
    "        else xx <- c(xx, \"Interview\")\n",
    "      }\n",
    "     \n",
    "  return(table(\"General Result\" = xx))\n",
    "}\n",
    "general(dta = applicants)\n",
    "\n",
    "#5\n",
    "par(mfrow = c(2,2)) #Using par() to show several graphs in one image. \n",
    "pie(first_step, main = \"First Step\", col = rainbow(2))\n",
    "pie(second_step, main = \"Second Step\",col = rainbow(2))\n",
    "pie(third_step, main = \"Third Step\", col = rainbow(2))\n",
    "pie(general(applicants), main = \"General Result\", col = rainbow(4))    "
   ]
  },
  {
   "cell_type": "markdown",
   "id": "394c2c49",
   "metadata": {},
   "source": [
    "# FACTOR GRAPHER"
   ]
  },
  {
   "cell_type": "markdown",
   "id": "6d6bb0fc",
   "metadata": {},
   "source": [
    "##  QUESTION"
   ]
  },
  {
   "attachments": {},
   "cell_type": "markdown",
   "id": "e6b82180",
   "metadata": {},
   "source": [
    "Burak's professor announced that she is going to give a homework but did not give specifics. Since Burak's schedule is extremely busy, he wants to do the homework beforehand. He is guessing that his professor would want him to plot some data, so he creates a function called **factor_grapher** that can plot whatever data he puts in it.\n",
    "\n",
    "His function should take 3 inputs: the first plot's data called **data1**, the second plot's data called **data2**, and a categorical variable called **factor_column**.\n",
    "\n",
    "- The function should ask whether Burak wants a plot of sums or means.\n",
    "\n",
    "- If Burak wants a plot of sums, it should return a barplot that shows the sums of each category; if Burak wants a plot of means, it should return a line plot that shows the means of each category.\n",
    "\n",
    "- After deciding on the operation, the function should ask the names of the plots.\n",
    "\n",
    "*Hint: Data sets such as **iris** and **airquality** are built into R. You can check the built-in datasets of R with `data()`.*\n",
    "\n",
    "*Hint: data sets may have NAs, get rid of them inside `tapply()`.*\n",
    "\n",
    "Here are some example outputs:\n",
    "\n",
    "```r\n",
    "factor_grapher(data1 = iris$Sepal.Length, data2 = iris$Sepal.Width, factor_column = iris$Species)\n",
    "     Do you want to plot sums or means? :means\n",
    "     What do you want to name your plot 1 : sepal length\n",
    "     What do you want to name your plot 2 : sepal width\n",
    "```"
   ]
  },
  {
   "attachments": {
    "Ekran%20Al%C4%B1nt%C4%B1s%C4%B1.PNG": {
     "image/png": "[encoded data removed]"
    }
   },
   "cell_type": "markdown",
   "id": "fb1739dc",
   "metadata": {},
   "source": [
    "![Ekran%20Al%C4%B1nt%C4%B1s%C4%B1.PNG](attachment:Ekran%20Al%C4%B1nt%C4%B1s%C4%B1.PNG)"
   ]
  },
  {
   "cell_type": "markdown",
   "id": "4351a472",
   "metadata": {},
   "source": [
    "```r\n",
    "airq <- airquality\n",
    "label_vek<-c(\"May\", \"June\", \"July\", \"August\", \"September\")\n",
    "airq$Month <- factor(airq$Month,labels = label_vek)\n",
    "factor_grapher(airq$Wind,airq$Solar.R,airq$Month)\n",
    "     Do you want to plot sums or means? :sums\n",
    "     What do you want to name your plot 1 : wind\n",
    "     What do you want to name your plot 2 : solar rays\n",
    "```"
   ]
  },
  {
   "attachments": {
    "Ekran%20Al%C4%B1nt%C4%B1s%C4%B1.PNG": {
     "image/png": "[encoded data removed]"
    }
   },
   "cell_type": "markdown",
   "id": "e924b9c5",
   "metadata": {},
   "source": [
    "![Ekran%20Al%C4%B1nt%C4%B1s%C4%B1.PNG](attachment:Ekran%20Al%C4%B1nt%C4%B1s%C4%B1.PNG)"
   ]
  },
  {
   "cell_type": "markdown",
   "id": "d67c4a8e",
   "metadata": {},
   "source": [
    "## SOLUTION"
   ]
  },
  {
   "cell_type": "code",
   "execution_count": null,
   "id": "804e01a5",
   "metadata": {},
   "outputs": [],
   "source": [
    "factor_grapher <- function(data1,data2,factor_column)\n",
    "{\n",
    "    factor_column <- factor(factor_column)    \n",
    "    condition<- readline(\"Do you want to plot sums or means? :\")\n",
    "    if(substr(condition,1,1)==\"s\")\n",
    "    {    \n",
    "        firstdata<-tapply(data1[complete.cases(data1)], factor_column[complete.cases(data1)], sum) \n",
    "        seconddata<- tapply(data2[complete.cases(data2)], factor_column[complete.cases(data2)], sum) \n",
    "        first_plot <- readline(\"What do you want to name your plot 1 : \")\n",
    "        second_plot <- readline(\"What do you want to name your plot 2 : \")\n",
    "        par(mfrow=c(1,2))\n",
    "        barplot(firstdata, main = paste(\"Sums of \",first_plot),ylab=\"sums\")\n",
    "        barplot(seconddata,main = paste(\"Sums of \",second_plot),ylab=\"sums\")\n",
    "    }\n",
    "    else if (substr(condition,1,1)==\"m\")\n",
    "    {  \n",
    "        firstdata<-tapply(data1[complete.cases(data1)], factor_column[complete.cases(data1)], mean)  \n",
    "        seconddata<- tapply(data2[complete.cases(data2)], factor_column[complete.cases(data2)], mean) \n",
    "        first_plot <- readline(\"What do you want to name your plot 1 : \") \n",
    "        second_plot <- readline(\"What do you want to name your plot 2 : \") \n",
    "        par(mfrow=c(1,2))\n",
    "        plot(firstdata,type = \"b\",xaxt = \"n\",col=\"blue\",main = paste(\"Means of \",first_plot),ylab=\"means\")\n",
    "        axis(1 , at = 1:length(unique(factor_column)) , label = levels(factor_column) )\n",
    "        plot(seconddata,type = \"b\",xaxt = \"n\",col=\"red\",main = paste(\"Means of \",second_plot),ylab=\"means\")\n",
    "        axis(1 , at = 1:length(unique(factor_column)) , label = levels(factor_column) )\n",
    "    }\n",
    "}\n",
    "factor_grapher(iris$Sepal.Length,iris$Sepal.Width,iris$Species)\n",
    "\n",
    "# Since levels are not given in airquality data, we are adding mannualy (this is optional)\n",
    "airq <- airquality\n",
    "label_vek<-c(\"May\", \"June\", \"July\", \"August\", \"September\")\n",
    "airq$Month <- factor(airq$Month,labels = label_vek)\n",
    "factor_grapher(airq$Wind,airq$Solar.R,airq$Month)"
   ]
  },
  {
   "cell_type": "markdown",
   "id": "7d5c3d77",
   "metadata": {},
   "source": [
    "# PLOT MATRIX"
   ]
  },
  {
   "cell_type": "markdown",
   "id": "c86e28b1",
   "metadata": {},
   "source": [
    "##  QUESTION"
   ]
  },
  {
   "attachments": {
    "Ekran%20Al%C4%B1nt%C4%B1s%C4%B1.PNG": {
     "image/png": "[encoded data removed]"
    }
   },
   "cell_type": "markdown",
   "id": "2e5f9b48",
   "metadata": {},
   "source": [
    "Sometimes understanding how functions are related is crucial for data analysis, and the best way to do that is visualising those functions together. To achieve this, we want to create a function that shows the relationship between those functions in a matrix-like format, where every row and column represent a function.\n",
    "\n",
    "Create a function named **plot_matrix** with 4 arguments:\n",
    "  - **first_f, second_f, third_f**: functions that we want to visualize\n",
    "  - **range**: range of values that the functions will take, with a default value of `seq(from = 0, to = 2*pi, length.out = 200)`\n",
    "    \n",
    "**plot_matrix** should be able to display 9 plots at the same time (with 3 rows and 3 columns). These plots should be over the **range** such that:\n",
    "\n",
    "  - y-axis of every plot in the first row and x-axis of every plot in the first column is **first_f**\n",
    "  - y-axis of every plot in the second row and x-axis of every plot in the second column is **second_f**\n",
    "  - y-axis of every plot in the third row and x-axis of every plot in the third column is **third_f**\n",
    "    \n",
    "**Example:**\n",
    "```r\n",
    "> plot_matrix(sin, sqrt, cos)\n",
    "```\n",
    "\n",
    "![Ekran%20Al%C4%B1nt%C4%B1s%C4%B1.PNG](attachment:Ekran%20Al%C4%B1nt%C4%B1s%C4%B1.PNG)"
   ]
  },
  {
   "cell_type": "markdown",
   "id": "c4b68865",
   "metadata": {},
   "source": [
    "## SOLUTION"
   ]
  },
  {
   "cell_type": "code",
   "execution_count": null,
   "id": "f6eb461f",
   "metadata": {},
   "outputs": [],
   "source": [
    "#1\n",
    "plot_matrix <- function(first_f, second_f, third_f, range = seq(from = 0, to = 2*pi, length.out = 200))\n",
    "{\n",
    "    par(mfcol = c(3,3))\n",
    "    \n",
    "    plot(first_f(range), first_f(range), type = \"l\", ylab = \"First Function\", xlab = \" \", main = \"First Function\")\n",
    "    plot(first_f(range), second_f(range), type = \"l\", ylab = \"Second Function\", xlab = \" \")\n",
    "    plot(first_f(range), third_f(range), type = \"l\", ylab = \"Third Function\", xlab = \" \")\n",
    "    \n",
    "    plot(second_f(range), first_f(range), type = \"l\", ylab = \"\", xlab = \" \", main = \"Second Function\")\n",
    "    plot(second_f(range), second_f(range), type = \"l\", ylab = \" \", xlab = \" \")\n",
    "    plot(second_f(range), third_f(range), type = \"l\", ylab = \" \", xlab = \" \")\n",
    "    \n",
    "    plot(third_f(range), first_f(range), type = \"l\", ylab = \"\", xlab = \" \", main = \"Third Function\")\n",
    "    plot(third_f(range), second_f(range), type = \"l\", ylab = \" \", xlab = \" \")\n",
    "    plot(third_f(range), third_f(range), type = \"l\", ylab = \" \", xlab = \" \")   \n",
    "}\n",
    "plot_matrix(sin, sqrt, cos)"
   ]
  },
  {
   "cell_type": "markdown",
   "id": "118955ce",
   "metadata": {},
   "source": [
    "# PIA'S EXPERIMENT"
   ]
  },
  {
   "cell_type": "markdown",
   "id": "8c24d5bf",
   "metadata": {},
   "source": [
    "##  QUESTION"
   ]
  },
  {
   "attachments": {
    "Ekran%20Al%C4%B1nt%C4%B1s%C4%B1.PNG": {
     "image/png": "[encoded data removed]"
    }
   },
   "cell_type": "markdown",
   "id": "425e4072",
   "metadata": {},
   "source": [
    "Pia wants to do an experiment in the chemistry lab. There are 100 liquid chemicals in 100 different Erlenmeyer flasks. We do not know the names of the chemicals. They are labeled as \"Chemical 1\", \"Chemical 2\", etc.\n",
    "\n",
    "Copy the lines below before solving the question:\n",
    "```r\n",
    "RNGversion(\"3.3.1\")\n",
    "set.seed(1)\n",
    "```\n",
    "\n",
    "1) In the first step of the experiment, Pia will measure the pH values of the chemicals and record them. The pH values are chosen from a uniformly distributed set between 0 and 14 (use 1 digit after the decimal point). Create a data frame named **chemicals** which holds the labels and the pH values of each chemical as such :\n",
    "\n",
    "```r\n",
    "> chemicals\n",
    "              pHvalue\n",
    "Chemical 1        3.7\n",
    "Chemical 2        5.2\n",
    "Chemical 3        8.0\n",
    "Chemical 4       12.7\n",
    "Chemical 5        2.8\n",
    ".\n",
    ".\n",
    ".\n",
    "Chemical 99      11.4\n",
    "Chemical 100      8.5\n",
    "```\n",
    "2) In the second step of the experiment, Pia will decide whether the chemicals are acidic, basic, or neutral. If the pH value is lower than 7, it is asidic; if it is equal to 7, it is neutral and if it is higher than 7, it is basic. Create a function named **anb** with one argument **df** that takes **chemicals** as its default value and does the following :\n",
    "   \n",
    "   - It will create a factor object named **lbls** by using the given information. Its levels will be *Acid*, *Base* and *Neutral*. **lbls** should be created within the function but it should be defined globally.\n",
    "  \n",
    "   - It will modify **df** by adding **lbls** as a new column named **Acid_or_Base**.\n",
    "\n",
    " Try your function with **chemicals** and store the result in **final_df**:\n",
    " \n",
    " ```r\n",
    "> final_df\n",
    "                  pHvalue     Acid_or_Base\n",
    "Chemical 1        3.7         Acid\n",
    "Chemical 2        5.2         Acid\n",
    "Chemical 3        8.0         Base\n",
    "Chemical 4       12.7         Base\n",
    "Chemical 5        2.8         Acid\n",
    ".\n",
    ".\n",
    ".\n",
    "Chemical 99      11.4         Base\n",
    "Chemical 100      8.5         Base\n",
    "```\n",
    "\n",
    "*Hint: To define or modify a local variable in the global environment, use the operator ``<<-``.*\n",
    " \n",
    "3) Plot the factor object **lbls** that you defined in the second question. Add a legend to your plot that shows the number of acidic, basic and neutral chemicals as such: \n",
    "\n",
    "![Ekran%20Al%C4%B1nt%C4%B1s%C4%B1.PNG](attachment:Ekran%20Al%C4%B1nt%C4%B1s%C4%B1.PNG)\n",
    "\n",
    "4) If an acid and a base react, this reaction is called neutralization. Create a function named **neutralization** with one argument **df** which has **final_df** as its default value. The function should do the following :\n",
    "     \n",
    "   - It will randomly select two chemicals and store their names(labels) in **chm**.\n",
    "   - It will create a variable named **result**. When we mix up those two chemicals, if neutralization occurs (if one of the chemicals is acidic and the other one is basic or vice versa), **result** will be \"*Neutralization*\" otherwise it will be \"*No Reaction*\".\n",
    "   - It will return a list which has **chm** and **result** as its components.\n",
    "   \n",
    "Here are some example outputs:\n",
    "       \n",
    "```r\n",
    "> set.seed(1)\n",
    "> neutralization(df = final_df)\n",
    "$Chemicals\n",
    "[1] \"Chemical 27\" \"Chemical 37\"\n",
    "\n",
    "$Result\n",
    "[1] \"Neutralization\"\n",
    "\n",
    "```\n",
    "\n",
    "```r\n",
    "\n",
    "> set.seed(10)\n",
    "> neutralization(df = final_df)\n",
    "$Chemicals\n",
    "[1] \"Chemical 51\" \"Chemical 31\"\n",
    "\n",
    "$Result\n",
    "[1] \"No Reaction\"\n",
    "```"
   ]
  },
  {
   "cell_type": "markdown",
   "id": "5aa865a5",
   "metadata": {},
   "source": [
    "## SOLUTION"
   ]
  },
  {
   "cell_type": "code",
   "execution_count": null,
   "id": "54fad580",
   "metadata": {},
   "outputs": [],
   "source": [
    "RNGversion(\"3.3.1\")\n",
    "set.seed(1)\n",
    "\n",
    "#1\n",
    "names <- paste(\"Chemical\", 1:100)\n",
    "names\n",
    "lqd <- round(runif(n = 100, max = 14, min = 0), digit = 1)\n",
    "names(lqd) <- names\n",
    "lqd\n",
    "chemicals <- data.frame(\"pHvalue\" = lqd)\n",
    "chemicals\n",
    "\n",
    "#2\n",
    "anb <- function(df = chemicals)\n",
    "{\n",
    "    \n",
    "    lbls <<- cut(df$pHvalue,breaks = c(0,7,14), right = F, include.lowest = T, labels = c(\"Acid\",\"Base\")) #Creating the factor object by using cut().lbls is globally defined when we use double arrows.\n",
    "    levels(lbls) <<- c(levels(lbls),\"Neutral\")\n",
    "    for(i in 1:length(df$pHvalue))\n",
    "    {\n",
    "        if(df[,1][i] == 7.0)\n",
    "        { \n",
    "            lbls[i] <<- \"Neutral\"\n",
    "        }\n",
    "    }\n",
    "    df <- data.frame(df,\"Acid_or_Base\" = lbls) #Creating the data frame.\n",
    "    return(df)\n",
    "}\n",
    "final_df <- anb(df = chemicals)\n",
    "final_df\n",
    "\n",
    "#3\n",
    "lvls <- levels(lbls)\n",
    "lgnd <- c() #This for loop creates a vector with the numbers of acidic basic and neutral chemicals. lgnd will be used in legend of the plot.\n",
    "for(i in 1: length(lvls))\n",
    "{\n",
    "    nmbr <- length(lbls[lbls == lvls[i]])\n",
    "    lgnd <- c(lgnd,nmbr)\n",
    "}\n",
    "plot(lbls) \n",
    "legend(\"topright\", legend = c(paste(\"Acid\",lgnd[1]),paste(\"Base\",lgnd[2]),paste(\"Neutral\",lgnd[3]))) #Creating the legend.\n",
    "\n",
    "#4\n",
    "neutralization <- function(df)\n",
    "{\n",
    "\n",
    "    chm <- sample(rownames(final_df),2,replace = F) #choosing two chemicals randomly\n",
    "    chm\n",
    "    if(df[chm[1],][2] == \"Acid\" && df[chm[2],][2] == \"Base\" | df[chm[2],][2] == \"Acid\" && df[chm[1],][2] == \"Base\") result <- \"Neutralization \"\n",
    "    else result <- \"No Reaction\" #If one of the chemicals is acidic and the other one is basic,neutralization occurs.Else, no reaction. \n",
    "    rslt <- list(\"Chemicals\" = chm,\"Result\" = result) #Creating the resulting list.\n",
    "    return(rslt)   \n",
    "}\n",
    "\n",
    "set.seed(1)\n",
    "neutralization(final_df)\n",
    "set.seed(10)\n",
    "neutralization(final_df)"
   ]
  }
 ],
 "metadata": {
  "kernelspec": {
   "display_name": "R",
   "language": "R",
   "name": "ir"
  },
  "language_info": {
   "codemirror_mode": "r",
   "file_extension": ".r",
   "mimetype": "text/x-r-source",
   "name": "R",
   "pygments_lexer": "r",
   "version": "3.6.1"
  }
 },
 "nbformat": 4,
 "nbformat_minor": 5
}
