{
 "cells": [
  {
   "cell_type": "markdown",
   "id": "b7a45232",
   "metadata": {},
   "source": [
    "# Final Exam"
   ]
  },
  {
   "cell_type": "markdown",
   "id": "6a17d64e",
   "metadata": {},
   "source": [
    "## Question 1"
   ]
  },
  {
   "cell_type": "markdown",
   "id": "bc738b8d",
   "metadata": {},
   "source": [
    "There is a bookshelf with a certain width and a list of books to be placed on the bookshelf. Books on the list will be placed on the bookshelf one by one preserving the ordering on the list. Some books may be left out if the bookshelf is not wide enough to fit all books on the list. \n",
    "\n",
    "Write a function called ``bookshelf`` whose inputs are as follows:\n",
    "\n",
    "- A numeric vector containing the thickness of the books in cm's\n",
    "- Width of the bookshelf in cm's\n",
    "\n",
    "``bookshelf`` should put as many books as possible on the bookshelf, starting from the first book and moving down the list one by one. It should return the number of books placed on the bookshelf, as well as the empty space left on the bookshelf as a named vector in the following manner:\n",
    "\n",
    "```r\n",
    "bookshelf(c(7,5,10,6,8,5,9,11),50)\n",
    "\n",
    "Number of books Remaining space \n",
    "              7               0 \n",
    "```\n",
    "\n",
    "Here's two more examples:\n",
    "\n",
    "```r\n",
    "bookshelf(c(6,8,5,5,12),40)\n",
    "\n",
    "Number of books Remaining space \n",
    "              5               4 \n",
    "\n",
    "\n",
    "bookshelf(c(7,5,10,6,8,5,9,11),50)\n",
    "\n",
    "Number of books Remaining space \n",
    "              7               0 \n",
    "```\n"
   ]
  },
  {
   "cell_type": "code",
   "execution_count": 1,
   "id": "2e254099",
   "metadata": {},
   "outputs": [],
   "source": [
    "a = 5"
   ]
  },
  {
   "cell_type": "code",
   "execution_count": 1,
   "id": "87061621",
   "metadata": {},
   "outputs": [
    {
     "data": {
      "text/html": [
       "<dl class=dl-horizontal>\n",
       "\t<dt>Number of books</dt>\n",
       "\t\t<dd>5</dd>\n",
       "\t<dt>Remaining space</dt>\n",
       "\t\t<dd>1</dd>\n",
       "</dl>\n"
      ],
      "text/latex": [
       "\\begin{description*}\n",
       "\\item[Number of books] 5\n",
       "\\item[Remaining space] 1\n",
       "\\end{description*}\n"
      ],
      "text/markdown": [
       "Number of books\n",
       ":   5Remaining space\n",
       ":   1\n",
       "\n"
      ],
      "text/plain": [
       "Number of books Remaining space \n",
       "              5               1 "
      ]
     },
     "metadata": {},
     "output_type": "display_data"
    },
    {
     "data": {
      "text/html": [
       "<dl class=dl-horizontal>\n",
       "\t<dt>Number of books</dt>\n",
       "\t\t<dd>5</dd>\n",
       "\t<dt>Remaining space</dt>\n",
       "\t\t<dd>4</dd>\n",
       "</dl>\n"
      ],
      "text/latex": [
       "\\begin{description*}\n",
       "\\item[Number of books] 5\n",
       "\\item[Remaining space] 4\n",
       "\\end{description*}\n"
      ],
      "text/markdown": [
       "Number of books\n",
       ":   5Remaining space\n",
       ":   4\n",
       "\n"
      ],
      "text/plain": [
       "Number of books Remaining space \n",
       "              5               4 "
      ]
     },
     "metadata": {},
     "output_type": "display_data"
    },
    {
     "data": {
      "text/html": [
       "<dl class=dl-horizontal>\n",
       "\t<dt>Number of books</dt>\n",
       "\t\t<dd>7</dd>\n",
       "\t<dt>Remaining space</dt>\n",
       "\t\t<dd>0</dd>\n",
       "</dl>\n"
      ],
      "text/latex": [
       "\\begin{description*}\n",
       "\\item[Number of books] 7\n",
       "\\item[Remaining space] 0\n",
       "\\end{description*}\n"
      ],
      "text/markdown": [
       "Number of books\n",
       ":   7Remaining space\n",
       ":   0\n",
       "\n"
      ],
      "text/plain": [
       "Number of books Remaining space \n",
       "              7               0 "
      ]
     },
     "metadata": {},
     "output_type": "display_data"
    },
    {
     "data": {
      "text/html": [
       "<dl class=dl-horizontal>\n",
       "\t<dt>Number of books</dt>\n",
       "\t\t<dd>7</dd>\n",
       "\t<dt>Remaining space</dt>\n",
       "\t\t<dd>6</dd>\n",
       "</dl>\n"
      ],
      "text/latex": [
       "\\begin{description*}\n",
       "\\item[Number of books] 7\n",
       "\\item[Remaining space] 6\n",
       "\\end{description*}\n"
      ],
      "text/markdown": [
       "Number of books\n",
       ":   7Remaining space\n",
       ":   6\n",
       "\n"
      ],
      "text/plain": [
       "Number of books Remaining space \n",
       "              7               6 "
      ]
     },
     "metadata": {},
     "output_type": "display_data"
    },
    {
     "data": {
      "text/html": [
       "<dl class=dl-horizontal>\n",
       "\t<dt>Number of books</dt>\n",
       "\t\t<dd>7</dd>\n",
       "\t<dt>Remaining space</dt>\n",
       "\t\t<dd>1</dd>\n",
       "</dl>\n"
      ],
      "text/latex": [
       "\\begin{description*}\n",
       "\\item[Number of books] 7\n",
       "\\item[Remaining space] 1\n",
       "\\end{description*}\n"
      ],
      "text/markdown": [
       "Number of books\n",
       ":   7Remaining space\n",
       ":   1\n",
       "\n"
      ],
      "text/plain": [
       "Number of books Remaining space \n",
       "              7               1 "
      ]
     },
     "metadata": {},
     "output_type": "display_data"
    },
    {
     "data": {
      "text/html": [
       "<dl class=dl-horizontal>\n",
       "\t<dt>Number of books</dt>\n",
       "\t\t<dd>6</dd>\n",
       "\t<dt>Remaining space</dt>\n",
       "\t\t<dd>0</dd>\n",
       "</dl>\n"
      ],
      "text/latex": [
       "\\begin{description*}\n",
       "\\item[Number of books] 6\n",
       "\\item[Remaining space] 0\n",
       "\\end{description*}\n"
      ],
      "text/markdown": [
       "Number of books\n",
       ":   6Remaining space\n",
       ":   0\n",
       "\n"
      ],
      "text/plain": [
       "Number of books Remaining space \n",
       "              6               0 "
      ]
     },
     "metadata": {},
     "output_type": "display_data"
    },
    {
     "data": {
      "text/html": [
       "<dl class=dl-horizontal>\n",
       "\t<dt>Number of books</dt>\n",
       "\t\t<dd>6</dd>\n",
       "\t<dt>Remaining space</dt>\n",
       "\t\t<dd>3</dd>\n",
       "</dl>\n"
      ],
      "text/latex": [
       "\\begin{description*}\n",
       "\\item[Number of books] 6\n",
       "\\item[Remaining space] 3\n",
       "\\end{description*}\n"
      ],
      "text/markdown": [
       "Number of books\n",
       ":   6Remaining space\n",
       ":   3\n",
       "\n"
      ],
      "text/plain": [
       "Number of books Remaining space \n",
       "              6               3 "
      ]
     },
     "metadata": {},
     "output_type": "display_data"
    }
   ],
   "source": [
    "# solution\n",
    "bookshelf = function(books,width)\n",
    "{\n",
    "   thickness = 0\n",
    "   book_count = 0\n",
    "   while (thickness <= width)\n",
    "   {\n",
    "     if (book_count == length(books)) break \n",
    "     if (thickness + books[book_count + 1] > width) break\n",
    "     book_count = book_count + 1\n",
    "     thickness = thickness +  books[book_count]\n",
    "   }\n",
    "   output = c(book_count,width-thickness)\n",
    "   names(output) = c(\"Number of books\",\"Remaining space\")\n",
    "   return(output) \n",
    "}\n",
    "\n",
    "# examples\n",
    "bookshelf(c(4,7,5,8,5,9),30)\n",
    "bookshelf(c(6,8,5,5,12),40)\n",
    "bookshelf(c(7,5,10,6,8,5,9,11),50)\n",
    "\n",
    "# test cases\n",
    "bookshelf(c(8,6,11,15,4,7,3,12,9),60)\n",
    "bookshelf(c(10,8,6,7,8,4,6),50)\n",
    "bookshelf(c(5,9,4,6,11,5),40)\n",
    "bookshelf(c(7,8,12,10,6,4,8,5),50)"
   ]
  },
  {
   "cell_type": "markdown",
   "id": "dada56e3",
   "metadata": {},
   "source": [
    "## Question 2"
   ]
  },
  {
   "cell_type": "markdown",
   "id": "f7080237",
   "metadata": {},
   "source": [
    "Write a function called 'compare_lists' that compares the elements within two lists and produces a numeric vector as the output. This function is should have the following inputs and outputs:\n",
    "\n",
    "- **Input:** two lists, where each list comprises elements that can be numeric, character, or logical vectors\n",
    "- **Output (return):** a numeric vector (should have the same length as the length of the two lists)\n",
    "\n",
    "Assuming that the two lists will have the same length: for each element in the lists, the function will assign values of 0, 1, or 2 based on the outcome of the comparisons:\n",
    "\n",
    "- If the corresponding elements in the input lists share the same type and length, the output vector element is assigned the value 2.\n",
    "\n",
    "- In cases where the corresponding elements in the input lists have the same type but differ in length, or if they possess the same length but differ in types, the output vector element takes the value 1.\n",
    "\n",
    "- If none of the aforementioned conditions are satisfied, the output vector element assumes the value 0.\n",
    "\n",
    "Keep in mind that the function is expected to handle lists of variable lengths, ranging from 1 to infinity. The length of the first list and the second list will always be equal, and will be the same as the length of the output numeric vector. \n",
    "\n",
    "\n"
   ]
  },
  {
   "cell_type": "code",
   "execution_count": 7,
   "id": "b66ef1f9",
   "metadata": {},
   "outputs": [],
   "source": [
    "# Solution\n",
    "compare_lists <- function(list1, list2) {\n",
    "comp11 <- sapply(list1, length)\n",
    "comp12 <- sapply(list2, length)\n",
    "comp21 <- sapply(list1, \"class\")\n",
    "comp22 <- sapply(list2, class)\n",
    "\n",
    "res1 <- comp11 == comp12  \n",
    "res2 <- comp21 == comp22\n",
    "return(res1 + res2)\n",
    "}"
   ]
  },
  {
   "cell_type": "code",
   "execution_count": 16,
   "id": "096b1110",
   "metadata": {},
   "outputs": [
    {
     "data": {
      "text/html": [
       "<ol class=list-inline>\n",
       "\t<li>1</li>\n",
       "\t<li>2</li>\n",
       "\t<li>2</li>\n",
       "</ol>\n"
      ],
      "text/latex": [
       "\\begin{enumerate*}\n",
       "\\item 1\n",
       "\\item 2\n",
       "\\item 2\n",
       "\\end{enumerate*}\n"
      ],
      "text/markdown": [
       "1. 1\n",
       "2. 2\n",
       "3. 2\n",
       "\n",
       "\n"
      ],
      "text/plain": [
       "[1] 1 2 2"
      ]
     },
     "metadata": {},
     "output_type": "display_data"
    },
    {
     "data": {
      "text/html": [
       "<ol class=list-inline>\n",
       "\t<li>0</li>\n",
       "\t<li>1</li>\n",
       "\t<li>2</li>\n",
       "\t<li>1</li>\n",
       "</ol>\n"
      ],
      "text/latex": [
       "\\begin{enumerate*}\n",
       "\\item 0\n",
       "\\item 1\n",
       "\\item 2\n",
       "\\item 1\n",
       "\\end{enumerate*}\n"
      ],
      "text/markdown": [
       "1. 0\n",
       "2. 1\n",
       "3. 2\n",
       "4. 1\n",
       "\n",
       "\n"
      ],
      "text/plain": [
       "[1] 0 1 2 1"
      ]
     },
     "metadata": {},
     "output_type": "display_data"
    }
   ],
   "source": [
    "#### Examples\n",
    "\n",
    "\n",
    "list1_case1 <- list(c(1, 2), \"pencil\", TRUE)\n",
    "list2_case2 <- list(c(1, 2, 3), \"book\", TRUE)\n",
    "compare_lists(list1_case1,list2_case2)\n",
    "\n",
    "list1 <- list(c(1, 2), c(\"pencil\",\"book\"), c(TRUE,FALSE,TRUE), \"nineteen\")\n",
    "list2 <- list(c(\"a\", \"b\", \"c\"), \"pencil\", c(TRUE,T,T), 19)\n",
    "compare_lists(list1, list2)"
   ]
  },
  {
   "cell_type": "code",
   "execution_count": 15,
   "id": "b1bbb74d",
   "metadata": {},
   "outputs": [
    {
     "data": {
      "text/html": [
       "<ol class=list-inline>\n",
       "\t<li>1</li>\n",
       "\t<li>1</li>\n",
       "\t<li>2</li>\n",
       "\t<li>0</li>\n",
       "\t<li>1</li>\n",
       "</ol>\n"
      ],
      "text/latex": [
       "\\begin{enumerate*}\n",
       "\\item 1\n",
       "\\item 1\n",
       "\\item 2\n",
       "\\item 0\n",
       "\\item 1\n",
       "\\end{enumerate*}\n"
      ],
      "text/markdown": [
       "1. 1\n",
       "2. 1\n",
       "3. 2\n",
       "4. 0\n",
       "5. 1\n",
       "\n",
       "\n"
      ],
      "text/plain": [
       "[1] 1 1 2 0 1"
      ]
     },
     "metadata": {},
     "output_type": "display_data"
    },
    {
     "data": {
      "text/html": [
       "<ol class=list-inline>\n",
       "\t<li>1</li>\n",
       "\t<li>2</li>\n",
       "\t<li>0</li>\n",
       "</ol>\n"
      ],
      "text/latex": [
       "\\begin{enumerate*}\n",
       "\\item 1\n",
       "\\item 2\n",
       "\\item 0\n",
       "\\end{enumerate*}\n"
      ],
      "text/markdown": [
       "1. 1\n",
       "2. 2\n",
       "3. 0\n",
       "\n",
       "\n"
      ],
      "text/plain": [
       "[1] 1 2 0"
      ]
     },
     "metadata": {},
     "output_type": "display_data"
    },
    {
     "data": {
      "text/html": [
       "<ol class=list-inline>\n",
       "\t<li>2</li>\n",
       "\t<li>1</li>\n",
       "\t<li>0</li>\n",
       "\t<li>1</li>\n",
       "</ol>\n"
      ],
      "text/latex": [
       "\\begin{enumerate*}\n",
       "\\item 2\n",
       "\\item 1\n",
       "\\item 0\n",
       "\\item 1\n",
       "\\end{enumerate*}\n"
      ],
      "text/markdown": [
       "1. 2\n",
       "2. 1\n",
       "3. 0\n",
       "4. 1\n",
       "\n",
       "\n"
      ],
      "text/plain": [
       "[1] 2 1 0 1"
      ]
     },
     "metadata": {},
     "output_type": "display_data"
    }
   ],
   "source": [
    "# Test cases\n",
    "\n",
    "list1 <- list(c(\"a\", \"b\", \"c\"), 1, FALSE, c(1, 2, 3), \"book\")\n",
    "list2 <- list(c(1, 2, 3), \"book\", TRUE, c(FALSE, TRUE), 16)\n",
    "compare_lists(list1,list2)\n",
    "\n",
    "list1 <- list(c(1, 2, 3), \"book\", c(1,2))\n",
    "list2 <- list(c(\"a\", \"b\", \"c\"), \"pencil\", c(TRUE,T,T))\n",
    "compare_lists(list1, list2)\n",
    "\n",
    "list1 <- list(32, TRUE, 1, c(1,2))\n",
    "list2 <- list(3, c(TRUE,T,T), c(FALSE, TRUE), 16)\n",
    "compare_lists(list1, list2)"
   ]
  },
  {
   "cell_type": "markdown",
   "id": "8b1d77f1",
   "metadata": {},
   "source": [
    "## Question 3\n",
    "\n",
    "Define a function called *numeric_ranges* that calculates the range of each numeric column in a data frame. The function should:\n",
    "\n",
    "- accept a data frame (df) as input\n",
    "- return a data frame \n",
    "\n",
    "The function should operate exclusively on the numeric columns of the data frame. Its purpose is to compute the range, defined as the difference between the maximum and minimum values, for each numeric column. The function will then provide a summarized data frame containing this information.\n",
    "\n",
    "The data frame returned from the function is expected to contain two columns with the names: \"column_name\" and \"range.\" The \"column_name\" denotes the names of the numeric columns from the original data frame, while the \"range\" column represents the calculated range of values for each respective column.\n",
    "\n",
    "For instance, if df contained three numeric columns (“height”, “weight”, “age”) with ranges 20, 30, and 40\n",
    "respectively, the output would be:\n",
    "\n",
    "| column_name | range |\n",
    "|-------------|-------|\n",
    "| age         | 40    |\n",
    "| weight      | 30    |\n",
    "| height      | 20    |\n",
    "\n",
    "Notes:\n",
    "- The function should return a data frame even if there's only one numeric column in the input data frame.\n",
    "\n",
    "- For determining if a column is numeric, you can use the function on is.numeric()."
   ]
  },
  {
   "cell_type": "code",
   "execution_count": 2,
   "id": "76596a4c",
   "metadata": {},
   "outputs": [],
   "source": [
    "# Solution\n",
    "numeric_ranges <- function(df) {\n",
    "  range_frame <- data.frame(column_name = character(0), range = integer(0))\n",
    "  column <- colnames(df)\n",
    "  for (col in column) {\n",
    "    if (is.numeric(df[, col])) {\n",
    "      range1 <- max(df[, col]) - min(df[, col])\n",
    "      range_frame <- rbind(range_frame, data.frame(column_name = col, range = range1))\n",
    "    }\n",
    "  }\n",
    "  return(range_frame)\n",
    "}"
   ]
  },
  {
   "cell_type": "code",
   "execution_count": 17,
   "id": "c3dc6cab",
   "metadata": {},
   "outputs": [
    {
     "data": {
      "text/html": [
       "<table>\n",
       "<thead><tr><th scope=col>column_name</th><th scope=col>range</th></tr></thead>\n",
       "<tbody>\n",
       "\t<tr><td>Sepal.Length</td><td>3.6         </td></tr>\n",
       "\t<tr><td>Sepal.Width </td><td>2.4         </td></tr>\n",
       "\t<tr><td>Petal.Length</td><td>5.9         </td></tr>\n",
       "\t<tr><td>Petal.Width </td><td>2.4         </td></tr>\n",
       "</tbody>\n",
       "</table>\n"
      ],
      "text/latex": [
       "\\begin{tabular}{r|ll}\n",
       " column\\_name & range\\\\\n",
       "\\hline\n",
       "\t Sepal.Length & 3.6         \\\\\n",
       "\t Sepal.Width  & 2.4         \\\\\n",
       "\t Petal.Length & 5.9         \\\\\n",
       "\t Petal.Width  & 2.4         \\\\\n",
       "\\end{tabular}\n"
      ],
      "text/markdown": [
       "\n",
       "| column_name | range |\n",
       "|---|---|\n",
       "| Sepal.Length | 3.6          |\n",
       "| Sepal.Width  | 2.4          |\n",
       "| Petal.Length | 5.9          |\n",
       "| Petal.Width  | 2.4          |\n",
       "\n"
      ],
      "text/plain": [
       "  column_name  range\n",
       "1 Sepal.Length 3.6  \n",
       "2 Sepal.Width  2.4  \n",
       "3 Petal.Length 5.9  \n",
       "4 Petal.Width  2.4  "
      ]
     },
     "metadata": {},
     "output_type": "display_data"
    }
   ],
   "source": [
    "# Examples\n",
    "numeric_ranges(iris)"
   ]
  },
  {
   "cell_type": "code",
   "execution_count": 4,
   "id": "154075ae",
   "metadata": {},
   "outputs": [
    {
     "data": {
      "text/html": [
       "<table>\n",
       "<thead><tr><th scope=col>column_name</th><th scope=col>range</th></tr></thead>\n",
       "<tbody>\n",
       "\t<tr><td>weight</td><td>338   </td></tr>\n",
       "\t<tr><td>Time  </td><td> 21   </td></tr>\n",
       "</tbody>\n",
       "</table>\n"
      ],
      "text/latex": [
       "\\begin{tabular}{r|ll}\n",
       " column\\_name & range\\\\\n",
       "\\hline\n",
       "\t weight & 338   \\\\\n",
       "\t Time   &  21   \\\\\n",
       "\\end{tabular}\n"
      ],
      "text/markdown": [
       "\n",
       "| column_name | range |\n",
       "|---|---|\n",
       "| weight | 338    |\n",
       "| Time   |  21    |\n",
       "\n"
      ],
      "text/plain": [
       "  column_name range\n",
       "1 weight      338  \n",
       "2 Time         21  "
      ]
     },
     "metadata": {},
     "output_type": "display_data"
    }
   ],
   "source": [
    "numeric_ranges(ChickWeight)"
   ]
  },
  {
   "cell_type": "code",
   "execution_count": 3,
   "id": "fb509277",
   "metadata": {},
   "outputs": [
    {
     "data": {
      "text/html": [
       "<table>\n",
       "<thead><tr><th scope=col>column_name</th><th scope=col>range</th></tr></thead>\n",
       "<tbody>\n",
       "\t<tr><td>mpg    </td><td> 23.500</td></tr>\n",
       "\t<tr><td>cyl    </td><td>  4.000</td></tr>\n",
       "\t<tr><td>disp   </td><td>400.900</td></tr>\n",
       "\t<tr><td>hp     </td><td>283.000</td></tr>\n",
       "\t<tr><td>drat   </td><td>  2.170</td></tr>\n",
       "\t<tr><td>wt     </td><td>  3.911</td></tr>\n",
       "\t<tr><td>qsec   </td><td>  8.400</td></tr>\n",
       "\t<tr><td>vs     </td><td>  1.000</td></tr>\n",
       "\t<tr><td>am     </td><td>  1.000</td></tr>\n",
       "\t<tr><td>gear   </td><td>  2.000</td></tr>\n",
       "\t<tr><td>carb   </td><td>  7.000</td></tr>\n",
       "</tbody>\n",
       "</table>\n"
      ],
      "text/latex": [
       "\\begin{tabular}{r|ll}\n",
       " column\\_name & range\\\\\n",
       "\\hline\n",
       "\t mpg     &  23.500\\\\\n",
       "\t cyl     &   4.000\\\\\n",
       "\t disp    & 400.900\\\\\n",
       "\t hp      & 283.000\\\\\n",
       "\t drat    &   2.170\\\\\n",
       "\t wt      &   3.911\\\\\n",
       "\t qsec    &   8.400\\\\\n",
       "\t vs      &   1.000\\\\\n",
       "\t am      &   1.000\\\\\n",
       "\t gear    &   2.000\\\\\n",
       "\t carb    &   7.000\\\\\n",
       "\\end{tabular}\n"
      ],
      "text/markdown": [
       "\n",
       "| column_name | range |\n",
       "|---|---|\n",
       "| mpg     |  23.500 |\n",
       "| cyl     |   4.000 |\n",
       "| disp    | 400.900 |\n",
       "| hp      | 283.000 |\n",
       "| drat    |   2.170 |\n",
       "| wt      |   3.911 |\n",
       "| qsec    |   8.400 |\n",
       "| vs      |   1.000 |\n",
       "| am      |   1.000 |\n",
       "| gear    |   2.000 |\n",
       "| carb    |   7.000 |\n",
       "\n"
      ],
      "text/plain": [
       "   column_name range  \n",
       "1  mpg          23.500\n",
       "2  cyl           4.000\n",
       "3  disp        400.900\n",
       "4  hp          283.000\n",
       "5  drat          2.170\n",
       "6  wt            3.911\n",
       "7  qsec          8.400\n",
       "8  vs            1.000\n",
       "9  am            1.000\n",
       "10 gear          2.000\n",
       "11 carb          7.000"
      ]
     },
     "metadata": {},
     "output_type": "display_data"
    }
   ],
   "source": [
    "numeric_ranges(mtcars)"
   ]
  },
  {
   "cell_type": "code",
   "execution_count": 23,
   "id": "8d928da5",
   "metadata": {},
   "outputs": [
    {
     "data": {
      "text/html": [
       "<table>\n",
       "<thead><tr><th scope=col>column_name</th><th scope=col>range</th></tr></thead>\n",
       "<tbody>\n",
       "\t<tr><td>weight</td><td>2.72  </td></tr>\n",
       "</tbody>\n",
       "</table>\n"
      ],
      "text/latex": [
       "\\begin{tabular}{r|ll}\n",
       " column\\_name & range\\\\\n",
       "\\hline\n",
       "\t weight & 2.72  \\\\\n",
       "\\end{tabular}\n"
      ],
      "text/markdown": [
       "\n",
       "| column_name | range |\n",
       "|---|---|\n",
       "| weight | 2.72   |\n",
       "\n"
      ],
      "text/plain": [
       "  column_name range\n",
       "1 weight      2.72 "
      ]
     },
     "metadata": {},
     "output_type": "display_data"
    }
   ],
   "source": [
    "numeric_ranges(PlantGrowth)"
   ]
  },
  {
   "cell_type": "code",
   "execution_count": 4,
   "id": "7c3ad3a0",
   "metadata": {},
   "outputs": [
    {
     "data": {
      "text/html": [
       "<table>\n",
       "<thead><tr><th scope=col>column_name</th><th scope=col>range</th></tr></thead>\n",
       "<tbody>\n",
       "\t<tr><td>len </td><td>29.7</td></tr>\n",
       "\t<tr><td>dose</td><td> 1.5</td></tr>\n",
       "</tbody>\n",
       "</table>\n"
      ],
      "text/latex": [
       "\\begin{tabular}{r|ll}\n",
       " column\\_name & range\\\\\n",
       "\\hline\n",
       "\t len  & 29.7\\\\\n",
       "\t dose &  1.5\\\\\n",
       "\\end{tabular}\n"
      ],
      "text/markdown": [
       "\n",
       "| column_name | range |\n",
       "|---|---|\n",
       "| len  | 29.7 |\n",
       "| dose |  1.5 |\n",
       "\n"
      ],
      "text/plain": [
       "  column_name range\n",
       "1 len         29.7 \n",
       "2 dose         1.5 "
      ]
     },
     "metadata": {},
     "output_type": "display_data"
    }
   ],
   "source": [
    "numeric_ranges(ToothGrowth)"
   ]
  },
  {
   "cell_type": "code",
   "execution_count": null,
   "id": "8265c329",
   "metadata": {},
   "outputs": [],
   "source": []
  }
 ],
 "metadata": {
  "kernelspec": {
   "display_name": "R",
   "language": "R",
   "name": "ir"
  },
  "language_info": {
   "codemirror_mode": "r",
   "file_extension": ".r",
   "mimetype": "text/x-r-source",
   "name": "R",
   "pygments_lexer": "r",
   "version": "3.6.1"
  }
 },
 "nbformat": 4,
 "nbformat_minor": 5
}
