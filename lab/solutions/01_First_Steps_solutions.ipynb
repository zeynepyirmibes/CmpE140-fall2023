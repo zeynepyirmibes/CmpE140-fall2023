{
 "cells": [
  {
   "cell_type": "markdown",
   "metadata": {},
   "source": [
    "# First steps in R"
   ]
  },
  {
   "cell_type": "markdown",
   "metadata": {
    "slideshow": {
     "slide_type": "slide"
    }
   },
   "source": [
    "### Lab Exercise 1\n",
    "\n",
    "Given the variables\n",
    "\n",
    "    A <- 13\n",
    "    B <- 27\n",
    "    C <- 14\n",
    "\n",
    "find the sum, mean and product of the three numbers. "
   ]
  },
  {
   "cell_type": "code",
   "execution_count": 5,
   "metadata": {},
   "outputs": [],
   "source": [
    "A <- 13\n",
    "B <- 27\n",
    "C <- 14"
   ]
  },
  {
   "cell_type": "code",
   "execution_count": 14,
   "metadata": {},
   "outputs": [
    {
     "data": {
      "text/html": [
       "54"
      ],
      "text/latex": [
       "54"
      ],
      "text/markdown": [
       "54"
      ],
      "text/plain": [
       "[1] 54"
      ]
     },
     "metadata": {},
     "output_type": "display_data"
    },
    {
     "data": {
      "text/html": [
       "18"
      ],
      "text/latex": [
       "18"
      ],
      "text/markdown": [
       "18"
      ],
      "text/plain": [
       "[1] 18"
      ]
     },
     "metadata": {},
     "output_type": "display_data"
    },
    {
     "data": {
      "text/html": [
       "4914"
      ],
      "text/latex": [
       "4914"
      ],
      "text/markdown": [
       "4914"
      ],
      "text/plain": [
       "[1] 4914"
      ]
     },
     "metadata": {},
     "output_type": "display_data"
    }
   ],
   "source": [
    "sum <- A + B + C\n",
    "mean <- sum / 3\n",
    "product <- A * B * C\n",
    "\n",
    "sum\n",
    "mean\n",
    "product"
   ]
  },
  {
   "cell_type": "markdown",
   "metadata": {},
   "source": [
    "### Lab Exercise 2\n",
    "\n",
    "Given the variables\n",
    "\n",
    "    num1 <- 13\n",
    "    num2 <- 5\n",
    "\n",
    "find the difference, power and remainder of the two numbers. "
   ]
  },
  {
   "cell_type": "code",
   "execution_count": 19,
   "metadata": {},
   "outputs": [
    {
     "data": {
      "text/html": [
       "8"
      ],
      "text/latex": [
       "8"
      ],
      "text/markdown": [
       "8"
      ],
      "text/plain": [
       "[1] 8"
      ]
     },
     "metadata": {},
     "output_type": "display_data"
    },
    {
     "data": {
      "text/html": [
       "371293"
      ],
      "text/latex": [
       "371293"
      ],
      "text/markdown": [
       "371293"
      ],
      "text/plain": [
       "[1] 371293"
      ]
     },
     "metadata": {},
     "output_type": "display_data"
    },
    {
     "data": {
      "text/html": [
       "3"
      ],
      "text/latex": [
       "3"
      ],
      "text/markdown": [
       "3"
      ],
      "text/plain": [
       "[1] 3"
      ]
     },
     "metadata": {},
     "output_type": "display_data"
    }
   ],
   "source": [
    "num1 <- 13\n",
    "num2 <- 5\n",
    "\n",
    "num1 - num2\n",
    "num1 ^ num2\n",
    "num1 %% num2"
   ]
  },
  {
   "cell_type": "code",
   "execution_count": 21,
   "metadata": {},
   "outputs": [
    {
     "data": {
      "text/html": [
       "0"
      ],
      "text/latex": [
       "0"
      ],
      "text/markdown": [
       "0"
      ],
      "text/plain": [
       "[1] 0"
      ]
     },
     "metadata": {},
     "output_type": "display_data"
    }
   ],
   "source": [
    "5 %% 5"
   ]
  },
  {
   "cell_type": "markdown",
   "metadata": {},
   "source": [
    "### Lab Exercise 3\n",
    "\n",
    "Using the formula below of compound interest, take the principal amount (A), interest rate (i) (per month) and duration (n) (months) and print the final amount.\n",
    "\n",
    "<img src=\"https://render.githubusercontent.com/render/math?math=\\large S = A * (1 %2B i/100)^{n}\">\n",
    "\n",
    "| Input     | Output  |\n",
    "| --------- | ------- |\n",
    "| 1000 12 5 | 1762.34 |\n",
    "| 500 12 5  | 881.17  |"
   ]
  },
  {
   "cell_type": "code",
   "execution_count": 25,
   "metadata": {},
   "outputs": [
    {
     "data": {
      "text/html": [
       "881.1708416"
      ],
      "text/latex": [
       "881.1708416"
      ],
      "text/markdown": [
       "881.1708416"
      ],
      "text/plain": [
       "[1] 881.1708"
      ]
     },
     "metadata": {},
     "output_type": "display_data"
    }
   ],
   "source": [
    "A <- 500\n",
    "i <- 12\n",
    "n <- 5\n",
    "\n",
    "S <- A * (1 + i / 100) ^ n\n",
    "S"
   ]
  },
  {
   "cell_type": "markdown",
   "metadata": {},
   "source": [
    "### Lab Exercise 4\n",
    "\n",
    "How many seconds are there in 5 years, 2 months, 4 days, 3 hours and 2 minutes?\n",
    "\n",
    "* 1 year = 365 days\n",
    "* 1 month = 30 days"
   ]
  },
  {
   "cell_type": "code",
   "execution_count": null,
   "metadata": {},
   "outputs": [],
   "source": []
  },
  {
   "cell_type": "code",
   "execution_count": 4,
   "metadata": {},
   "outputs": [
    {
     "data": {
      "text/html": [
       "1469.3280768"
      ],
      "text/latex": [
       "1469.3280768"
      ],
      "text/markdown": [
       "1469.3280768"
      ],
      "text/plain": [
       "[1] 1469.328"
      ]
     },
     "metadata": {},
     "output_type": "display_data"
    }
   ],
   "source": [
    "PV <- 1000\n",
    "FV <- PV * (1 + 0.08)^5\n",
    "FV"
   ]
  },
  {
   "cell_type": "code",
   "execution_count": 6,
   "metadata": {},
   "outputs": [
    {
     "data": {
      "text/html": [
       "6630"
      ],
      "text/latex": [
       "6630"
      ],
      "text/markdown": [
       "6630"
      ],
      "text/plain": [
       "[1] 6630"
      ]
     },
     "metadata": {},
     "output_type": "display_data"
    },
    {
     "data": {
      "text/html": [
       "1.84"
      ],
      "text/latex": [
       "1.84"
      ],
      "text/markdown": [
       "1.84"
      ],
      "text/plain": [
       "[1] 1.84"
      ]
     },
     "metadata": {},
     "output_type": "display_data"
    },
    {
     "data": {
      "text/html": [
       "TRUE"
      ],
      "text/latex": [
       "TRUE"
      ],
      "text/markdown": [
       "TRUE"
      ],
      "text/plain": [
       "[1] TRUE"
      ]
     },
     "metadata": {},
     "output_type": "display_data"
    }
   ],
   "source": [
    "Short_songs <- (3*60+30)*6\n",
    "Medium_songs<-5*60*6\n",
    "Long_songs <- (8*60+30)*6\n",
    "Breaks<-17*30\n",
    "\n",
    "\n",
    "Total_song_length_in_seconds<-Short_songs+Medium_songs+Long_songs+Breaks\n",
    "\n",
    "Total_song_length_in_hours<-Total_song_length_in_seconds / 3600\n",
    "rounded<-round(Total_song_length_in_hours,2)\n",
    "compare<- 2 >rounded\n",
    "\n",
    "Total_song_length_in_seconds\n",
    "rounded\n",
    "compare"
   ]
  },
  {
   "cell_type": "code",
   "execution_count": 3,
   "metadata": {},
   "outputs": [
    {
     "data": {
      "text/html": [
       "1.90657142857143"
      ],
      "text/latex": [
       "1.90657142857143"
      ],
      "text/markdown": [
       "1.90657142857143"
      ],
      "text/plain": [
       "[1] 1.906571"
      ]
     },
     "metadata": {},
     "output_type": "display_data"
    },
    {
     "data": {
      "text/html": [
       "1.907"
      ],
      "text/latex": [
       "1.907"
      ],
      "text/markdown": [
       "1.907"
      ],
      "text/plain": [
       "[1] 1.907"
      ]
     },
     "metadata": {},
     "output_type": "display_data"
    }
   ],
   "source": [
    "weekly_sum <- 0.895 + 3.101 + 1.708 + 1.800 + 1.543 + 1.707 + 2.592\n",
    "weekly_rate <- weekly_sum / 7\n",
    "weekly_rate\n",
    "round(weekly_rate, 3)"
   ]
  },
  {
   "cell_type": "code",
   "execution_count": 7,
   "metadata": {},
   "outputs": [
    {
     "data": {
      "text/html": [
       "2930.34375"
      ],
      "text/latex": [
       "2930.34375"
      ],
      "text/markdown": [
       "2930.34375"
      ],
      "text/plain": [
       "[1] 2930.344"
      ]
     },
     "metadata": {},
     "output_type": "display_data"
    },
    {
     "data": {
      "text/html": [
       "1666.8"
      ],
      "text/latex": [
       "1666.8"
      ],
      "text/markdown": [
       "1666.8"
      ],
      "text/plain": [
       "[1] 1666.8"
      ]
     },
     "metadata": {},
     "output_type": "display_data"
    }
   ],
   "source": [
    "w <- 80\n",
    "h <- 175\n",
    "a <- 40\n",
    "\n",
    "bmr_1 <- (10 * w) + (6.25 * h) - (5 * a) + 5 \n",
    "daily_calorie_intake_1 <- bmr_1 * 1.725\n",
    "daily_calorie_intake_1\n",
    "\n",
    "w <- 63\n",
    "h <- 168\n",
    "a <- 26\n",
    "\n",
    "bmr_2 <- (10 * w) + (6.25 * h) - (5 * a) - 161\n",
    "daily_calorie_intake_2 <- bmr_2 * 1.2\n",
    "daily_calorie_intake_2"
   ]
  },
  {
   "cell_type": "code",
   "execution_count": 8,
   "metadata": {},
   "outputs": [
    {
     "data": {
      "text/html": [
       "<ol class=list-inline>\n",
       "\t<li>176.3696</li>\n",
       "\t<li>205.02966</li>\n",
       "\t<li>324.07914</li>\n",
       "\t<li>116.84486</li>\n",
       "\t<li>156.52802</li>\n",
       "\t<li>39.68316</li>\n",
       "\t<li>308.6468</li>\n",
       "</ol>\n"
      ],
      "text/latex": [
       "\\begin{enumerate*}\n",
       "\\item 176.3696\n",
       "\\item 205.02966\n",
       "\\item 324.07914\n",
       "\\item 116.84486\n",
       "\\item 156.52802\n",
       "\\item 39.68316\n",
       "\\item 308.6468\n",
       "\\end{enumerate*}\n"
      ],
      "text/markdown": [
       "1. 176.3696\n",
       "2. 205.02966\n",
       "3. 324.07914\n",
       "4. 116.84486\n",
       "5. 156.52802\n",
       "6. 39.68316\n",
       "7. 308.6468\n",
       "\n",
       "\n"
      ],
      "text/plain": [
       "[1] 176.36960 205.02966 324.07914 116.84486 156.52802  39.68316 308.64680"
      ]
     },
     "metadata": {},
     "output_type": "display_data"
    }
   ],
   "source": [
    "kilograms <- c(80, 93, 147, 53, 71, 18, 140)\n",
    "pounds <- kilograms * 2.20462\n",
    "pounds"
   ]
  },
  {
   "cell_type": "code",
   "execution_count": 12,
   "metadata": {},
   "outputs": [
    {
     "data": {
      "text/html": [
       "<dl class=dl-horizontal>\n",
       "\t<dt>Jason</dt>\n",
       "\t\t<dd>46</dd>\n",
       "\t<dt>Lydia</dt>\n",
       "\t\t<dd>98</dd>\n",
       "\t<dt>Scott</dt>\n",
       "\t\t<dd>51</dd>\n",
       "\t<dt>Stiles</dt>\n",
       "\t\t<dd>84</dd>\n",
       "\t<dt>Allison</dt>\n",
       "\t\t<dd>76</dd>\n",
       "</dl>\n"
      ],
      "text/latex": [
       "\\begin{description*}\n",
       "\\item[Jason] 46\n",
       "\\item[Lydia] 98\n",
       "\\item[Scott] 51\n",
       "\\item[Stiles] 84\n",
       "\\item[Allison] 76\n",
       "\\end{description*}\n"
      ],
      "text/markdown": [
       "Jason\n",
       ":   46Lydia\n",
       ":   98Scott\n",
       ":   51Stiles\n",
       ":   84Allison\n",
       ":   76\n",
       "\n"
      ],
      "text/plain": [
       "  Jason   Lydia   Scott  Stiles Allison \n",
       "     46      98      51      84      76 "
      ]
     },
     "metadata": {},
     "output_type": "display_data"
    },
    {
     "data": {
      "text/html": [
       "<dl class=dl-horizontal>\n",
       "\t<dt>Jason</dt>\n",
       "\t\t<dd>1000</dd>\n",
       "\t<dt>Lydia</dt>\n",
       "\t\t<dd>1001</dd>\n",
       "\t<dt>Scott</dt>\n",
       "\t\t<dd>1002</dd>\n",
       "\t<dt>Stiles</dt>\n",
       "\t\t<dd>1003</dd>\n",
       "\t<dt>Allison</dt>\n",
       "\t\t<dd>1004</dd>\n",
       "</dl>\n"
      ],
      "text/latex": [
       "\\begin{description*}\n",
       "\\item[Jason] 1000\n",
       "\\item[Lydia] 1001\n",
       "\\item[Scott] 1002\n",
       "\\item[Stiles] 1003\n",
       "\\item[Allison] 1004\n",
       "\\end{description*}\n"
      ],
      "text/markdown": [
       "Jason\n",
       ":   1000Lydia\n",
       ":   1001Scott\n",
       ":   1002Stiles\n",
       ":   1003Allison\n",
       ":   1004\n",
       "\n"
      ],
      "text/plain": [
       "  Jason   Lydia   Scott  Stiles Allison \n",
       "   1000    1001    1002    1003    1004 "
      ]
     },
     "metadata": {},
     "output_type": "display_data"
    }
   ],
   "source": [
    "student_grades <- c(Jason=46, Lydia=98, Scott=51, Stiles=84, Allison=76)\n",
    "student_grades\n",
    "\n",
    "student_ids <- seq(from=1000, to=1004, by=1)\n",
    "names(student_ids) <- names(student_grades)\n",
    "student_ids"
   ]
  },
  {
   "cell_type": "code",
   "execution_count": 14,
   "metadata": {},
   "outputs": [
    {
     "data": {
      "text/html": [
       "<dl class=dl-horizontal>\n",
       "\t<dt>Sunday</dt>\n",
       "\t\t<dd>15</dd>\n",
       "\t<dt>Monday</dt>\n",
       "\t\t<dd>16</dd>\n",
       "\t<dt>Tuesday</dt>\n",
       "\t\t<dd>17</dd>\n",
       "\t<dt>Wednesday</dt>\n",
       "\t\t<dd>15</dd>\n",
       "\t<dt>Thursday</dt>\n",
       "\t\t<dd>14</dd>\n",
       "\t<dt>Friday</dt>\n",
       "\t\t<dd>14</dd>\n",
       "\t<dt>Saturday</dt>\n",
       "\t\t<dd>17</dd>\n",
       "</dl>\n"
      ],
      "text/latex": [
       "\\begin{description*}\n",
       "\\item[Sunday] 15\n",
       "\\item[Monday] 16\n",
       "\\item[Tuesday] 17\n",
       "\\item[Wednesday] 15\n",
       "\\item[Thursday] 14\n",
       "\\item[Friday] 14\n",
       "\\item[Saturday] 17\n",
       "\\end{description*}\n"
      ],
      "text/markdown": [
       "Sunday\n",
       ":   15Monday\n",
       ":   16Tuesday\n",
       ":   17Wednesday\n",
       ":   15Thursday\n",
       ":   14Friday\n",
       ":   14Saturday\n",
       ":   17\n",
       "\n"
      ],
      "text/plain": [
       "   Sunday    Monday   Tuesday Wednesday  Thursday    Friday  Saturday \n",
       "       15        16        17        15        14        14        17 "
      ]
     },
     "metadata": {},
     "output_type": "display_data"
    },
    {
     "data": {
      "text/html": [
       "-1.57142857142857"
      ],
      "text/latex": [
       "-1.57142857142857"
      ],
      "text/markdown": [
       "-1.57142857142857"
      ],
      "text/plain": [
       "[1] -1.571429"
      ]
     },
     "metadata": {},
     "output_type": "display_data"
    },
    {
     "data": {
      "text/html": [
       "<dl class=dl-horizontal>\n",
       "\t<dt>Tuesday</dt>\n",
       "\t\t<dd>17</dd>\n",
       "\t<dt>Saturday</dt>\n",
       "\t\t<dd>17</dd>\n",
       "</dl>\n"
      ],
      "text/latex": [
       "\\begin{description*}\n",
       "\\item[Tuesday] 17\n",
       "\\item[Saturday] 17\n",
       "\\end{description*}\n"
      ],
      "text/markdown": [
       "Tuesday\n",
       ":   17Saturday\n",
       ":   17\n",
       "\n"
      ],
      "text/plain": [
       " Tuesday Saturday \n",
       "      17       17 "
      ]
     },
     "metadata": {},
     "output_type": "display_data"
    }
   ],
   "source": [
    "estimations <- c(Sunday=15, Monday=16, Tuesday=17, Wednesday=15, Thursday=14, Friday=14, Saturday=17)\n",
    "estimations\n",
    "mean_error <- mean(estimations - 17)\n",
    "mean_error\n",
    "estimations[estimations-17 == 0]"
   ]
  }
 ],
 "metadata": {
  "kernelspec": {
   "display_name": "R",
   "language": "R",
   "name": "ir"
  },
  "language_info": {
   "codemirror_mode": "r",
   "file_extension": ".r",
   "mimetype": "text/x-r-source",
   "name": "R",
   "pygments_lexer": "r",
   "version": "3.6.1"
  }
 },
 "nbformat": 4,
 "nbformat_minor": 4
}
