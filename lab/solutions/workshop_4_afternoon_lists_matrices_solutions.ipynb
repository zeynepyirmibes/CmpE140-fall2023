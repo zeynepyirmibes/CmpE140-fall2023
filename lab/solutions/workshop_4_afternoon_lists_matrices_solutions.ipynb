{
 "cells": [
  {
   "cell_type": "markdown",
   "id": "1b9a38be",
   "metadata": {},
   "source": [
    "# CMPE 140 Workshop 4 (Fall 23-24)\n",
    "\n",
    "# Afternoon Session \n",
    "\n",
    "## Question 1\n",
    "\n",
    "The nth percentile of an observation variable is the value that cuts off the first n percent of the data values when it is sorted in ascending order.\n",
    "\n",
    "Write a function called *quant_calculator* that takes a vector of numbers as input. It should return $0^{th}$ (also known as the minimum), $25^{th}$, $50^{th}$, $75^{th}$ and $100_{th}$ (also known as the maximum) percentiles as a list. Your output should look like this:\n",
    "\n",
    "```r\n",
    "quant_calculator(c(15,6,12,28,35,9,11,22,30,26))\n",
    "\n",
    "[[1]]\n",
    "0% \n",
    " 6 \n",
    "\n",
    "[[2]]\n",
    "  25% \n",
    "11.25 \n",
    "\n",
    "[[3]]\n",
    " 50% \n",
    "18.5 \n",
    "\n",
    "[[4]]\n",
    " 75% \n",
    "27.5 \n",
    "\n",
    "[[5]]\n",
    "10% \n",
    "8.7 \n",
    "```\n",
    "*Hint: You may use the function ``quantile()`` when calculating percentiles.*"
   ]
  },
  {
   "cell_type": "markdown",
   "id": "49ac7d0f",
   "metadata": {},
   "source": [
    "## Solution 1"
   ]
  },
  {
   "cell_type": "code",
   "execution_count": null,
   "id": "8238c72d",
   "metadata": {},
   "outputs": [],
   "source": [
    "quant_calculator <- function(x) {\n",
    "  quant_list <- list(quantile(x,0),quantile(x,0.25),\n",
    "    quantile(x,0.5),quantile(x,0.75),quantile(x,0.1))\n",
    "  return(quant_list)\n",
    "}\n",
    "\n",
    "quant_calculator(c(15,6,12,28,35,9,11,22,30,26))"
   ]
  },
  {
   "cell_type": "markdown",
   "id": "b1a6a705",
   "metadata": {},
   "source": [
    "## Question 2\n",
    "\n",
    "Create a function named *matching_lists*. This function should take two lists as input, where each list consists of vectors that can be numeric, character, or logical. The goal of the function is to compare the elements of the two lists and generate a numeric vector as output. The output vector should have the same length as the input lists. It will contain values of 0, 1, or 2 based on the comparison results. Here’s how the values are determined: \n",
    "\n",
    "1. If the corresponding elements in the input lists have the same type, and same length then the output vector element takes the value 2. \n",
    "2. If the corresponding elements in the input lists have the same type but different lengths, or if they have the same length but different types, then the output vector element takes the value 1. \n",
    "3. If none of the above conditions are met, the output vector element takes the value 0.\n",
    "\n",
    "Your output should look like this:\n",
    "\n",
    "```r\n",
    "list1 <- list(c(1, 2), c(\"apple\",\"orange\"), c(TRUE,FALSE,TRUE))\n",
    "list2 <- list(c(\"a\", \"b\", \"c\"), \"orange\", c(TRUE,TRUE,TRUE))\n",
    "\n",
    "matching_lists(list1, list2)\n",
    "\n",
    "[1] 0 1 2\n",
    "```\n",
    "\n",
    "*Hint: You can use ``sapply()`` or ``lapply()`` to iterate over and apply a function to each element of a list.*"
   ]
  },
  {
   "cell_type": "markdown",
   "id": "3311390d",
   "metadata": {},
   "source": [
    "## Solution 2"
   ]
  },
  {
   "cell_type": "code",
   "execution_count": null,
   "id": "b4f98d89",
   "metadata": {},
   "outputs": [],
   "source": [
    "matching_lists <- function(list1, list2) {\n",
    "  length_1 <- sapply(list1, length)\n",
    "  length_2  <- sapply(list2, length)\n",
    "  class_1 <- sapply(list1, class)\n",
    "  class_2 <- sapply(list2, class)\n",
    "  \n",
    "  res1 <- length_1 == length_2  \n",
    "  res2 <- class_1 == class_2\n",
    "  return(res1 + res2)\n",
    "}\n",
    "\n",
    "list1 <- list(c(1, 2), c(\"apple\",\"orange\"), c(TRUE,FALSE,TRUE))\n",
    "list2 <- list(c(\"a\", \"b\", \"c\"), \"orange\", c(TRUE,TRUE,TRUE))\n",
    "matching_lists(list1, list2)\n"
   ]
  },
  {
   "cell_type": "markdown",
   "id": "bdb4624d",
   "metadata": {},
   "source": [
    "## Question 3\n",
    "\n",
    "First, set the seed to 1.\n",
    "\n",
    "Now, write a function called **new_field** that takes two inputs, **size** and **density** and creates a square matrix of the given size. The created matrix represents a minefield. The cells should take only two values: if the value is 1, it means there is a mine there and If the value is 0, it means there is no mine. The default values of **size** and **density** should be 5 and 0.2 respectively.\n",
    "\n",
    "The function should fill the matrix according to **density** which represents the proportion of the cells with mines. When filling the cells, you should use **density** as the probability of any cell containing a mine.\n",
    "\n",
    "Your function should give the following output:\n",
    "\n",
    "```R\n",
    "field1 <- new_field()\n",
    "field1\n",
    "```\n",
    "```\n",
    "0    1    0    0    1\n",
    "0    1    0    0    0\n",
    "0    0    0    1    0\n",
    "1    0    0    0    0\n",
    "0    0    0    0    0\n",
    "\n",
    "```\n",
    "\n",
    "*Hint: You can use the ``sample()`` function when filling the cells.*"
   ]
  },
  {
   "cell_type": "markdown",
   "id": "82631d86",
   "metadata": {},
   "source": [
    "## Solution 3"
   ]
  },
  {
   "cell_type": "code",
   "execution_count": null,
   "id": "26432ded",
   "metadata": {},
   "outputs": [],
   "source": [
    "set.seed(1)\n",
    "\n",
    "new_field <- function(size = 5, density = 0.2)\n",
    "{\n",
    "    vec <- sample(1:0,\n",
    "                  size^2,\n",
    "                  replace = T,\n",
    "                  prob = c(density, 1 - density))\n",
    "    mat <- matrix(vec, nrow = size)\n",
    "    return(mat)\n",
    "}\n",
    "\n",
    "field1 <- new_field()\n",
    "field1"
   ]
  }
 ],
 "metadata": {
  "kernelspec": {
   "display_name": "R",
   "language": "R",
   "name": "ir"
  },
  "language_info": {
   "codemirror_mode": "r",
   "file_extension": ".r",
   "mimetype": "text/x-r-source",
   "name": "R",
   "pygments_lexer": "r",
   "version": "3.6.1"
  }
 },
 "nbformat": 4,
 "nbformat_minor": 5
}
