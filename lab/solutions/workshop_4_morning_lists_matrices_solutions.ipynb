{
 "cells": [
  {
   "cell_type": "markdown",
   "id": "636f25cd",
   "metadata": {},
   "source": [
    "# CMPE 140 Workshop 4 (Fall 23-24)\n",
    "\n",
    "# Morning Session \n",
    "\n",
    "## Question 1\n",
    "\n",
    "Write a function called *stats_calculator* that takes a vector of numbers as input. It should return count, average, sum and standart deviation of the vector as a list. Your output should look like this:\n",
    "\n",
    "```r\n",
    "stats_calculator(c(1, 7, 1, 8, 4, 6, 2, 10, 5))\n",
    "\n",
    "$Count\n",
    "[1] 9\n",
    "\n",
    "$Average\n",
    "[1] 4.888889\n",
    "\n",
    "$Sum\n",
    "[1] 44\n",
    "\n",
    "$StandardDeviation\n",
    "[1] 3.179797\n",
    "```"
   ]
  },
  {
   "cell_type": "markdown",
   "id": "95b3b3a9",
   "metadata": {},
   "source": [
    "## Solution 1"
   ]
  },
  {
   "cell_type": "code",
   "execution_count": 1,
   "id": "9d29f014",
   "metadata": {},
   "outputs": [
    {
     "data": {
      "text/html": [
       "<dl>\n",
       "\t<dt>$Count</dt>\n",
       "\t\t<dd>9</dd>\n",
       "\t<dt>$Average</dt>\n",
       "\t\t<dd>4.88888888888889</dd>\n",
       "\t<dt>$Sum</dt>\n",
       "\t\t<dd>44</dd>\n",
       "\t<dt>$StandardDeviation</dt>\n",
       "\t\t<dd>3.17979733805649</dd>\n",
       "</dl>\n"
      ],
      "text/latex": [
       "\\begin{description}\n",
       "\\item[\\$Count] 9\n",
       "\\item[\\$Average] 4.88888888888889\n",
       "\\item[\\$Sum] 44\n",
       "\\item[\\$StandardDeviation] 3.17979733805649\n",
       "\\end{description}\n"
      ],
      "text/markdown": [
       "$Count\n",
       ":   9\n",
       "$Average\n",
       ":   4.88888888888889\n",
       "$Sum\n",
       ":   44\n",
       "$StandardDeviation\n",
       ":   3.17979733805649\n",
       "\n",
       "\n"
      ],
      "text/plain": [
       "$Count\n",
       "[1] 9\n",
       "\n",
       "$Average\n",
       "[1] 4.888889\n",
       "\n",
       "$Sum\n",
       "[1] 44\n",
       "\n",
       "$StandardDeviation\n",
       "[1] 3.179797\n"
      ]
     },
     "metadata": {},
     "output_type": "display_data"
    }
   ],
   "source": [
    "stats_calculator <- function(x) {\n",
    "  stats_list <- list(\n",
    "    Count = length(x),\n",
    "    Average = mean(x),\n",
    "    Sum = sum(x),\n",
    "    StandardDeviation = sd(x)\n",
    "  )\n",
    "  \n",
    "  return(stats_list)\n",
    "}\n",
    "\n",
    "a <- stats_calculator(c(1, 7, 1, 8, 4, 6, 2, 10, 5))"
   ]
  },
  {
   "cell_type": "markdown",
   "id": "0a22869d",
   "metadata": {},
   "source": [
    "## Question 2\n",
    "\n",
    "Alper, a sophomore majoring in Data Science, is working on a project to analyze student performance data. He has collected three vectors: one representing student names, one representing their midterm exam scores, and one representing their final exam scores.\n",
    "\n",
    "Task: Write an R function called *analyze_student_performance* that takes three vectors as input: student names, midterm exam scores, and final exam scores. The function should perform the following tasks:\n",
    "\n",
    "1. Calculate and return the average midterm exam score. \n",
    "2. Identify and return the names of students who scored higher on the final exam than the midterm exam. \n",
    "3. Determine and return the student with the highest final exam score. \n",
    "4. Calculate and return the overall average exam score (average of midterm and final exam scores) for each student. \n",
    "\n",
    "The function should return a list with named elements containing the results of each task as such:\n",
    "\n",
    "```r\n",
    "students <- c(\"Alice\", \"Bob\", \"Charlie\", \"David\")\n",
    "midterm_scores <- c(75, 80, 65, 90)\n",
    "final_scores <- c(85, 78, 60, 92)\n",
    "analyze_student_performance(students, midterm_scores, final_scores)\n",
    "\n",
    "$`Average Midterm Score`\n",
    "[1] 77.5\n",
    "\n",
    "$`Students with Higher Final Scores`\n",
    "[1] \"Alice\" \"David\"\n",
    "\n",
    "$`Student with Highest Final Score`\n",
    "[1] \"David\"\n",
    "\n",
    "$`Overall Average Exam Scores`\n",
    "$`Overall Average Exam Scores`$Alice\n",
    "[1] 80\n",
    "\n",
    "$`Overall Average Exam Scores`$Bob\n",
    "[1] 79\n",
    "\n",
    "$`Overall Average Exam Scores`$Charlie\n",
    "[1] 62.5\n",
    "\n",
    "$`Overall Average Exam Scores`$David\n",
    "[1] 91\n",
    "```"
   ]
  },
  {
   "cell_type": "markdown",
   "id": "67765b8a",
   "metadata": {},
   "source": [
    "## Solution 2"
   ]
  },
  {
   "cell_type": "code",
   "execution_count": null,
   "id": "85ad1083",
   "metadata": {},
   "outputs": [],
   "source": [
    "analyze_student_performance <- function(student_names, midterm_scores, final_scores) {\n",
    "  \n",
    "  average_midterm <- mean(midterm_scores)\n",
    "  higher_final_students <- character(0)\n",
    "  highest_final_score <- max(final_scores)\n",
    "  overall_avg_scores <- list()\n",
    "  \n",
    "  for (i in seq_along(student_names)) {\n",
    "    \n",
    "    if (final_scores[i] > midterm_scores[i]) {\n",
    "      higher_final_students <- c(higher_final_students, student_names[i])\n",
    "    }\n",
    "    overall_avg <- (midterm_scores[i] + final_scores[i]) / 2\n",
    "    overall_avg_scores[[student_names[i]]] <- overall_avg\n",
    "  }\n",
    "  \n",
    "  result_list <- list(\n",
    "    \"Average Midterm Score\" = average_midterm,\n",
    "    \"Students with Higher Final Scores\" = higher_final_students,\n",
    "    \"Student with Highest Final Score\" = student_names[which.max(final_scores)],\n",
    "    \"Overall Average Exam Scores\" = overall_avg_scores\n",
    "  )\n",
    "  return(result_list)\n",
    "}\n",
    "\n",
    "students <- c(\"Alice\", \"Bob\", \"Charlie\", \"David\")\n",
    "midterm_scores <- c(75, 80, 65, 90)\n",
    "final_scores <- c(85, 78, 60, 92)\n",
    "\n",
    "analyze_student_performance(students, midterm_scores, final_scores)"
   ]
  },
  {
   "cell_type": "markdown",
   "id": "61529124",
   "metadata": {},
   "source": [
    "## Question 3\n",
    "\n",
    "You are supposed to write a function named **square_donut** that takes two arguments **n** and **x** and does the following:\n",
    "\n",
    "- It should create a square matrix of size n.\n",
    "- The outer x by x squares of the matrix should be filled with 1's, while the square hole in the middle should be all zeros.\n",
    "- If **x** is greater than or equal to the half of **n**, it should return **\"edge too wide\"** and stop.\n",
    "\n",
    "For example:\n",
    "```R\n",
    "square_donut(7, 2)\n",
    "```\n",
    "returns\n",
    "```\n",
    "1\t1\t1\t1\t1\t1\t1\n",
    "1\t1\t1\t1\t1\t1\t1\n",
    "1\t1\t0\t0\t0\t1\t1\n",
    "1\t1\t0\t0\t0\t1\t1\n",
    "1\t1\t0\t0\t0\t1\t1\n",
    "1\t1\t1\t1\t1\t1\t1\n",
    "1\t1\t1\t1\t1\t1\t1\n",
    "```\n",
    "and\n",
    "\n",
    "```R\n",
    "square_donut(6, 3)\n",
    "```\n",
    "returns\n",
    "```\n",
    "'edge too wide'\n",
    "```"
   ]
  },
  {
   "cell_type": "markdown",
   "id": "737640fa",
   "metadata": {},
   "source": [
    "## Solution 3"
   ]
  },
  {
   "cell_type": "code",
   "execution_count": null,
   "id": "ecb6d0b2",
   "metadata": {},
   "outputs": [],
   "source": [
    "square_donut <- function(n, x)\n",
    "{\n",
    "    if (x >= n / 2)\n",
    "    {\n",
    "        return(\"edge too wide\")\n",
    "    }\n",
    "    \n",
    "    mat1 <- matrix(1, nrow = n, ncol = n) # create matrix of 1's\n",
    "    startx <- x + 1 # start index of 0's\n",
    "    endx <- n - x # end index of 0's\n",
    "    mat1[startx:endx, startx:endx] <- 0 # create the hole of 0's\n",
    "    \n",
    "    return(mat1)\n",
    "}\n",
    "\n",
    "square_donut(7, 2)\n",
    "square_donut(6, 3)"
   ]
  }
 ],
 "metadata": {
  "kernelspec": {
   "display_name": "R",
   "language": "R",
   "name": "ir"
  },
  "language_info": {
   "codemirror_mode": "r",
   "file_extension": ".r",
   "mimetype": "text/x-r-source",
   "name": "R",
   "pygments_lexer": "r",
   "version": "3.6.1"
  }
 },
 "nbformat": 4,
 "nbformat_minor": 5
}
