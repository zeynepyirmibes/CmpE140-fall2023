{
 "cells": [
  {
   "cell_type": "markdown",
   "id": "312e3b1f",
   "metadata": {},
   "source": [
    "# CMPE 140 - Workshop 5 (Fall 23-24)\n",
    "\n",
    "# Morning Session\n",
    "\n",
    "## Question 1\n",
    "\n",
    "You are going to analyze walker kill count of The Walking Dead characters. Characters and kill counts are given below:\n",
    "\n",
    "```r\n",
    "walkers_killed <- data.frame(\n",
    "  FirstName = c(\"Rick\", \"Daryl\", \"Glenn\", \"Maggie\", \"Negan\"),\n",
    "  LastName = c(\"Grimes\", \"Dixon\", \"Rhee\", \"Greene\", \"Smith\"),\n",
    "  KillCount = c(175, 120, 62, 70, 100)\n",
    ")\n",
    "```\n",
    "\n",
    "Write a function called ``walkers_killed`` which calculates the average kill count. It should also display the performance of each character on a new column called *Performance*. If the kill count of a character is below (average-20), performance should be \"Below Average\". If it is above (average-20) and below the average, performance should be \"Average\". If it is above the average and below the (average+20), performance should be \"Good\". If it is above (average+20), performance should be \"Excellent\"\n",
    "\n",
    "Your output should be:\n",
    "\n",
    "```r\n",
    "analyze_count(walkers_killed)\n",
    "\n",
    "$`Average Walker Kill Count`\n",
    "[1] 105.4\n",
    "\n",
    "$`Performance of TWD characters`\n",
    "  FirstName LastName KillCount   Performance\n",
    "1      Rick   Grimes       175     Excellent\n",
    "2     Daryl    Dixon       120          Good\n",
    "3     Glenn     Rhee        62 Below Average\n",
    "4    Maggie   Greene        70 Below Average\n",
    "5     Negan    Smith       100       Average\n",
    "```"
   ]
  },
  {
   "cell_type": "markdown",
   "id": "ba02877a",
   "metadata": {},
   "source": [
    "## Solution 1"
   ]
  },
  {
   "cell_type": "code",
   "execution_count": 5,
   "id": "d2a7a8b7",
   "metadata": {},
   "outputs": [],
   "source": [
    "?write.table"
   ]
  },
  {
   "cell_type": "code",
   "execution_count": 1,
   "id": "bd99807d",
   "metadata": {},
   "outputs": [
    {
     "data": {
      "text/html": [
       "<dl>\n",
       "\t<dt>$`Average Walker Kill Count`</dt>\n",
       "\t\t<dd>105.4</dd>\n",
       "\t<dt>$`Performance of TWD characters`</dt>\n",
       "\t\t<dd><table>\n",
       "<thead><tr><th scope=col>FirstName</th><th scope=col>LastName</th><th scope=col>KillCount</th><th scope=col>Performance</th></tr></thead>\n",
       "<tbody>\n",
       "\t<tr><td>Rick         </td><td>Grimes       </td><td>175          </td><td>Excellent    </td></tr>\n",
       "\t<tr><td>Daryl        </td><td>Dixon        </td><td>120          </td><td>Good         </td></tr>\n",
       "\t<tr><td>Glenn        </td><td>Rhee         </td><td> 62          </td><td>Below Average</td></tr>\n",
       "\t<tr><td>Maggie       </td><td>Greene       </td><td> 70          </td><td>Below Average</td></tr>\n",
       "\t<tr><td>Negan        </td><td>Smith        </td><td>100          </td><td>Average      </td></tr>\n",
       "</tbody>\n",
       "</table>\n",
       "</dd>\n",
       "</dl>\n"
      ],
      "text/latex": [
       "\\begin{description}\n",
       "\\item[\\$`Average Walker Kill Count`] 105.4\n",
       "\\item[\\$`Performance of TWD characters`] \\begin{tabular}{r|llll}\n",
       " FirstName & LastName & KillCount & Performance\\\\\n",
       "\\hline\n",
       "\t Rick          & Grimes        & 175           & Excellent    \\\\\n",
       "\t Daryl         & Dixon         & 120           & Good         \\\\\n",
       "\t Glenn         & Rhee          &  62           & Below Average\\\\\n",
       "\t Maggie        & Greene        &  70           & Below Average\\\\\n",
       "\t Negan         & Smith         & 100           & Average      \\\\\n",
       "\\end{tabular}\n",
       "\n",
       "\\end{description}\n"
      ],
      "text/markdown": [
       "$`Average Walker Kill Count`\n",
       ":   105.4\n",
       "$`Performance of TWD characters`\n",
       ":   \n",
       "| FirstName | LastName | KillCount | Performance |\n",
       "|---|---|---|---|\n",
       "| Rick          | Grimes        | 175           | Excellent     |\n",
       "| Daryl         | Dixon         | 120           | Good          |\n",
       "| Glenn         | Rhee          |  62           | Below Average |\n",
       "| Maggie        | Greene        |  70           | Below Average |\n",
       "| Negan         | Smith         | 100           | Average       |\n",
       "\n",
       "\n",
       "\n",
       "\n"
      ],
      "text/plain": [
       "$`Average Walker Kill Count`\n",
       "[1] 105.4\n",
       "\n",
       "$`Performance of TWD characters`\n",
       "  FirstName LastName KillCount   Performance\n",
       "1      Rick   Grimes       175     Excellent\n",
       "2     Daryl    Dixon       120          Good\n",
       "3     Glenn     Rhee        62 Below Average\n",
       "4    Maggie   Greene        70 Below Average\n",
       "5     Negan    Smith       100       Average\n"
      ]
     },
     "metadata": {},
     "output_type": "display_data"
    }
   ],
   "source": [
    "walkers_killed <- data.frame(\n",
    "  FirstName = c(\"Rick\", \"Daryl\", \"Glenn\", \"Maggie\", \"Negan\"),\n",
    "  LastName = c(\"Grimes\", \"Dixon\", \"Rhee\", \"Greene\", \"Smith\"),\n",
    "  KillCount = c(175, 120, 62, 70, 100)\n",
    ")\n",
    "\n",
    "analyze_count <- function(data) {\n",
    "  avg_kill_count <- mean(data$KillCount)\n",
    "  data$Performance <- cut(\n",
    "    data$KillCount,\n",
    "    breaks = c(-Inf, avg_kill_count - 20, avg_kill_count, avg_kill_count + 20, Inf),\n",
    "    labels = c(\"Below Average\", \"Average\", \"Good\", \"Excellent\"),\n",
    "    include.lowest = TRUE\n",
    "  )\n",
    "  return(list(\"Average Walker Kill Count\" = avg_kill_count, \"Performance of TWD characters\" = data))\n",
    "}\n",
    "\n",
    "analyze_count(walkers_killed)"
   ]
  },
  {
   "cell_type": "markdown",
   "id": "8b9765f2",
   "metadata": {},
   "source": [
    "## Question 2\n",
    "\n",
    "Alper is managing an online store that sells clothing items. He has collected data on customer reviews for different products, and he wants to analyze the sentiment of the reviews. Each review is labeled as \"Positive,\" \"Neutral,\" or \"Negative.\"\n",
    "\n",
    "Write an R function called ``analyze_reviews`` that takes a vector of customer reviews as input. The reviews are currently stored as character strings, and Alper wants to convert them into a factor variable with levels \"Positive,\" \"Neutral,\" and \"Negative.\" Additionally, he wants to count the frequency of each sentiment level and provide a summary.\n",
    "\n",
    "Inside the function, use the factor function to convert the reviews into a factor variable with appropriate levels.\n",
    "\n",
    "Your output should be :\n",
    "\n",
    "```r\n",
    "example_reviews <- c(\"Positive\", \"Neutral\", \"Positive\", \"Negative\", \"Positive\", \"Neutral\", \"Negative\", \"Positive\", \"Negative\")\n",
    " \n",
    "analyze_reviews(example_reviews)\n",
    "\n",
    "$`Reviews as Factor`\n",
    "[1] Positive Neutral  Positive Negative Positive Neutral  Negative Positive Negative\n",
    "Levels: Negative Neutral Positive\n",
    "\n",
    "$`Sentiment Frequency`\n",
    "reviews_factor\n",
    "Negative  Neutral Positive \n",
    "       3        2        4 \n",
    "```"
   ]
  },
  {
   "cell_type": "markdown",
   "id": "7b3cd7ee",
   "metadata": {},
   "source": [
    "## Solution 2"
   ]
  },
  {
   "cell_type": "code",
   "execution_count": 2,
   "id": "f3349ac6",
   "metadata": {},
   "outputs": [
    {
     "data": {
      "text/plain": [
       "$`Reviews as Factor`\n",
       "[1] Positive Neutral  Positive Negative Positive Neutral  Negative Positive\n",
       "[9] Negative\n",
       "Levels: Negative Neutral Positive\n",
       "\n",
       "$`Sentiment Frequency`\n",
       "reviews_factor\n",
       "Negative  Neutral Positive \n",
       "       3        2        4 \n"
      ]
     },
     "metadata": {},
     "output_type": "display_data"
    }
   ],
   "source": [
    "analyze_reviews <- function(customer_reviews) {\n",
    "  \n",
    "  sentiment_levels <- c(\"Negative\", \"Neutral\", \"Positive\")\n",
    "  reviews_factor <- factor(customer_reviews, levels = sentiment_levels)\n",
    "  \n",
    " \n",
    "  sentiment_counts <- table(reviews_factor)\n",
    "  \n",
    "  \n",
    "  result_list <- list(\n",
    "    \"Reviews as Factor\" = reviews_factor,\n",
    "    \"Sentiment Frequency\" = sentiment_counts\n",
    "  )\n",
    "  \n",
    "  return(result_list)\n",
    "}\n",
    "\n",
    "\n",
    "example_reviews <- c(\"Positive\", \"Neutral\", \"Positive\", \"Negative\", \"Positive\", \"Neutral\", \"Negative\", \"Positive\", \"Negative\")\n",
    "\n",
    "analyze_reviews(example_reviews)"
   ]
  },
  {
   "cell_type": "markdown",
   "id": "330b33b3",
   "metadata": {},
   "source": [
    "## Question 3\n",
    "\n",
    "Write an R function named ``analyze_exam_scores`` that handles student exam scores.\n",
    "\n",
    "Your function should do these:\n",
    "\n",
    "1. Accept a dataframe with columns: Student_ID, Exam_Score, and Grade.\n",
    "2. Utilize the ``cut`` function to categorize exam scores into different score ranges (e.g., Poor, Average, Good, Excellent).  \n",
    "\n",
    "      - Between 0 and 50 is “Poor”\n",
    "      - Between 50 and 70 is “Average”\n",
    "      - Between 70 and 90 is “Good”\n",
    "      - Between 90 and 100 is “Excellent”\n",
    "      \n",
    "3. Create a summary table using the table function to display the frequency of each grade category.\n",
    "4. Identify and return the grade category with the highest frequency.\n",
    "\n",
    "*Hint: To show both the table and the line \"Top Performing Grade Category: Good\", you can put the character value and the table inside a list before using ``return``.*\n",
    "\n",
    "The example exam_data is: \n",
    "\n",
    "```r\n",
    "exam_data <- data.frame(\n",
    "  Student_ID = c(\"ID001\", \"ID002\", \"ID003\", \"ID004\", \"ID005\", \"ID006\", \"ID007\", \"ID008\", \"ID009\", \"ID010\"),\n",
    "  Exam_Score = c(78, 92, 65, 45, 87, 60, 75, 88, 95, 70)\n",
    ")\n",
    "```\n",
    "\n",
    "Your output should be :\n",
    "\n",
    "```r\n",
    "analyze_exam_scores(exam_data)\n",
    "\n",
    "[[1]]\n",
    "[1] \"Top Performing Grade Category: Good\"\n",
    "\n",
    "[[2]]\n",
    "      Grade Frequency\n",
    "1      Poor         1\n",
    "2   Average         3\n",
    "3      Good         4\n",
    "4 Excellent         2\n",
    "```"
   ]
  },
  {
   "cell_type": "markdown",
   "id": "acabc558",
   "metadata": {},
   "source": [
    "## Solution 3"
   ]
  },
  {
   "cell_type": "code",
   "execution_count": 6,
   "id": "92c13511",
   "metadata": {},
   "outputs": [
    {
     "data": {
      "text/html": [
       "<ol>\n",
       "\t<li>'Top Performing Grade Category: Good'</li>\n",
       "\t<li><table>\n",
       "<thead><tr><th scope=col>Grade</th><th scope=col>Frequency</th></tr></thead>\n",
       "<tbody>\n",
       "\t<tr><td>Poor     </td><td>1        </td></tr>\n",
       "\t<tr><td>Average  </td><td>3        </td></tr>\n",
       "\t<tr><td>Good     </td><td>4        </td></tr>\n",
       "\t<tr><td>Excellent</td><td>2        </td></tr>\n",
       "</tbody>\n",
       "</table>\n",
       "</li>\n",
       "</ol>\n"
      ],
      "text/latex": [
       "\\begin{enumerate}\n",
       "\\item 'Top Performing Grade Category: Good'\n",
       "\\item \\begin{tabular}{r|ll}\n",
       " Grade & Frequency\\\\\n",
       "\\hline\n",
       "\t Poor      & 1        \\\\\n",
       "\t Average   & 3        \\\\\n",
       "\t Good      & 4        \\\\\n",
       "\t Excellent & 2        \\\\\n",
       "\\end{tabular}\n",
       "\n",
       "\\end{enumerate}\n"
      ],
      "text/markdown": [
       "1. 'Top Performing Grade Category: Good'\n",
       "2. \n",
       "| Grade | Frequency |\n",
       "|---|---|\n",
       "| Poor      | 1         |\n",
       "| Average   | 3         |\n",
       "| Good      | 4         |\n",
       "| Excellent | 2         |\n",
       "\n",
       "\n",
       "\n",
       "\n"
      ],
      "text/plain": [
       "[[1]]\n",
       "[1] \"Top Performing Grade Category: Good\"\n",
       "\n",
       "[[2]]\n",
       "      Grade Frequency\n",
       "1      Poor         1\n",
       "2   Average         3\n",
       "3      Good         4\n",
       "4 Excellent         2\n"
      ]
     },
     "metadata": {},
     "output_type": "display_data"
    }
   ],
   "source": [
    "analyze_exam_scores <- function(exam_data) {\n",
    "  \n",
    "  score_ranges <- cut(exam_data$Exam_Score, breaks = c(0, 50, 70, 90, 100), labels = c(\"Poor\", \"Average\", \"Good\", \"Excellent\"))\n",
    "  \n",
    "  grade_frequency_table <- table(score_ranges)\n",
    "  \n",
    "  top_performing_grade <- names(grade_frequency_table)[which.max(grade_frequency_table)]\n",
    "  \n",
    "  summary_table <- data.frame(\n",
    "    Grade = names(grade_frequency_table),\n",
    "    Frequency = as.vector(grade_frequency_table)\n",
    "  )\n",
    "  \n",
    "  str <- paste(\"Top Performing Grade Category:\", top_performing_grade)\n",
    "  return(list(str, summary_table))\n",
    "}\n",
    "\n",
    "exam_data <- data.frame(\n",
    "  Student_ID = c(\"ID001\", \"ID002\", \"ID003\", \"ID004\", \"ID005\", \"ID006\", \"ID007\", \"ID008\", \"ID009\", \"ID010\"),\n",
    "  Exam_Score = c(78, 92, 65, 45, 87, 60, 75, 88, 95, 70)\n",
    ")\n",
    "\n",
    "analyze_exam_scores(exam_data)"
   ]
  }
 ],
 "metadata": {
  "kernelspec": {
   "display_name": "R",
   "language": "R",
   "name": "ir"
  },
  "language_info": {
   "codemirror_mode": "r",
   "file_extension": ".r",
   "mimetype": "text/x-r-source",
   "name": "R",
   "pygments_lexer": "r",
   "version": "3.6.1"
  }
 },
 "nbformat": 4,
 "nbformat_minor": 5
}
