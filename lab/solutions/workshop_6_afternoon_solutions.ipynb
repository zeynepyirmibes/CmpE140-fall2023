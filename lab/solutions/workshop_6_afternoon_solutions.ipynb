{
 "cells": [
  {
   "cell_type": "markdown",
   "id": "d6ff6795",
   "metadata": {},
   "source": [
    "# Question \n",
    "\n",
    "Create a function named secure_password that takes a password as input and determines strength of it based on several conditions.\n",
    "* It should have a length longer that 10 characters.\n",
    "* It should have at least one upper case letter and one of these special characters: ```c(\"*\", \"?\", \"!\", \".\")```.\n",
    "If the password provides all of the conditions above function should return \"strong\", if not \"weak\".\n",
    "Your output should be :\n",
    "\n",
    "```r\n",
    "x <- \"weakPassword123\"\n",
    "split_password <- strsplit(x,\"\")[[1]] # splits the password into characters and returns a vector\n",
    "secure_password(split_password)\n",
    "\n",
    "[1] \"weak\"\n",
    "\n",
    "x <- \"StrongPasword?\"\n",
    "split_password <- strsplit(x,\"\")[[1]]  # splits the password into characters and returns a vector\n",
    "secure_password(split_password)\n",
    "\n",
    "[1] \"strong\"\n",
    "\n",
    "```"
   ]
  },
  {
   "cell_type": "code",
   "execution_count": 1,
   "id": "1289cbe1",
   "metadata": {},
   "outputs": [],
   "source": [
    "secure_password <- function(x) {\n",
    "    point <- 0\n",
    "    special_chars <- c(\"*\", \"?\", \"!\", \".\")\n",
    "    if(length(x) > 10) {\n",
    "        point <- point + 1\n",
    "    } \n",
    "    \n",
    "    for (numbers in x) {\n",
    "        if(numbers %in% special_chars) {\n",
    "            point <- point + 1\n",
    "            break\n",
    "        }\n",
    "    }\n",
    "    \n",
    "    for (harf in x) {\n",
    "        if(harf %in% LETTERS) {\n",
    "            point <- point + 1\n",
    "            break\n",
    "        }\n",
    "    }\n",
    "    \n",
    "    print(point)\n",
    "if(point==3){return(\"strong\")} \n",
    "    else{return(\"weak\")}\n",
    "}"
   ]
  },
  {
   "cell_type": "code",
   "execution_count": 2,
   "id": "e1c43897",
   "metadata": {},
   "outputs": [
    {
     "name": "stdout",
     "output_type": "stream",
     "text": [
      "[1] 2\n"
     ]
    },
    {
     "data": {
      "text/html": [
       "'weak'"
      ],
      "text/latex": [
       "'weak'"
      ],
      "text/markdown": [
       "'weak'"
      ],
      "text/plain": [
       "[1] \"weak\""
      ]
     },
     "metadata": {},
     "output_type": "display_data"
    }
   ],
   "source": [
    "x <- \"weakPassword123\"\n",
    "split_password <- strsplit(x,\"\")[[1]] # splits the password into characters and returns a vector\n",
    "secure_password(split_password)"
   ]
  },
  {
   "cell_type": "code",
   "execution_count": 3,
   "id": "3a7e2fd9",
   "metadata": {},
   "outputs": [
    {
     "name": "stdout",
     "output_type": "stream",
     "text": [
      "[1] 3\n"
     ]
    },
    {
     "data": {
      "text/html": [
       "'strong'"
      ],
      "text/latex": [
       "'strong'"
      ],
      "text/markdown": [
       "'strong'"
      ],
      "text/plain": [
       "[1] \"strong\""
      ]
     },
     "metadata": {},
     "output_type": "display_data"
    }
   ],
   "source": [
    "# Examples\n",
    "\n",
    "x <- \"StrongPasword?\"\n",
    "split_password <- strsplit(x,\"\")[[1]]  # splits the password into characters and returns a vector\n",
    "secure_password(split_password)\n"
   ]
  },
  {
   "cell_type": "code",
   "execution_count": 6,
   "id": "0477c81f",
   "metadata": {},
   "outputs": [
    {
     "name": "stdout",
     "output_type": "stream",
     "text": [
      "[1] 3\n"
     ]
    },
    {
     "data": {
      "text/html": [
       "'strong'"
      ],
      "text/latex": [
       "'strong'"
      ],
      "text/markdown": [
       "'strong'"
      ],
      "text/plain": [
       "[1] \"strong\""
      ]
     },
     "metadata": {},
     "output_type": "display_data"
    },
    {
     "name": "stdout",
     "output_type": "stream",
     "text": [
      "[1] 1\n"
     ]
    },
    {
     "data": {
      "text/html": [
       "'weak'"
      ],
      "text/latex": [
       "'weak'"
      ],
      "text/markdown": [
       "'weak'"
      ],
      "text/plain": [
       "[1] \"weak\""
      ]
     },
     "metadata": {},
     "output_type": "display_data"
    }
   ],
   "source": [
    "# Test cases\n",
    "\n",
    "x <- \"passwordisOk.\"\n",
    "split_password <- strsplit(x,\"\")[[1]]  # splits the password into characters and returns a vector\n",
    "secure_password(split_password)\n",
    "\n",
    "x <- \"pasntOk2\"\n",
    "split_password <- strsplit(x,\"\")[[1]]  # splits the password into characters and returns a vector\n",
    "secure_password(split_password)"
   ]
  }
 ],
 "metadata": {
  "kernelspec": {
   "display_name": "R",
   "language": "R",
   "name": "ir"
  },
  "language_info": {
   "codemirror_mode": "r",
   "file_extension": ".r",
   "mimetype": "text/x-r-source",
   "name": "R",
   "pygments_lexer": "r",
   "version": "3.6.1"
  }
 },
 "nbformat": 4,
 "nbformat_minor": 5
}
