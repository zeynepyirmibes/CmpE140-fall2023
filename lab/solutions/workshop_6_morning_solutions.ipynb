{
 "cells": [
  {
   "cell_type": "markdown",
   "id": "06b9f4ef",
   "metadata": {},
   "source": [
    "# Question \n",
    "\n",
    "Create a function named secure_password that takes a password as input and determines strength of it based on several conditions.\n",
    "* It should have a length longer that 8 characters.\n",
    "* It should have at least one lower case letter and one number.\n",
    "If the password provides all of the conditions above function should return \"Strong\", if not \"Weak\".\n",
    "Your output should be :\n",
    "\n",
    "```r\n",
    "x <- \"StrongPassword123\"\n",
    "split_password <- strsplit(x,\"\")[[1]] # splits the password into characters and returns a vector\n",
    "secure_password(split_password)\n",
    "\n",
    "[1] \"strong\"\n",
    "\n",
    "x <- \"weakPasword\"\n",
    "split_password <- strsplit(x,\"\")[[1]]  # splits the password into characters and returns a vector\n",
    "secure_password(split_password)\n",
    "\n",
    "[1] \"weak\"\n",
    "\n",
    "```"
   ]
  },
  {
   "cell_type": "code",
   "execution_count": 36,
   "id": "685b5157",
   "metadata": {},
   "outputs": [],
   "source": [
    "secure_password <- function(x) {\n",
    "    point <- 0\n",
    "    numeros <- c(\"0\",\"1\",\"2\",\"3\",\"4\",\"5\",\"6\",\"7\",\"8\",\"9\")\n",
    "    if(length(x) > 8) {\n",
    "        point <- point + 1\n",
    "    } \n",
    "    \n",
    "    for (numbers in x) {\n",
    "        if(numbers %in% c(numeros)) {\n",
    "            point <- point + 1\n",
    "            break\n",
    "        }\n",
    "    }\n",
    "    \n",
    "    for (kucukharf in x) {\n",
    "        if(kucukharf %in% c(letters)) {\n",
    "            point <- point + 1\n",
    "            break\n",
    "        }\n",
    "    }\n",
    "    \n",
    "if(point==3){return(\"strong\")} \n",
    "    else{return(\"weak\")}\n",
    "}"
   ]
  },
  {
   "cell_type": "code",
   "execution_count": 37,
   "id": "5ed8c5dd",
   "metadata": {},
   "outputs": [
    {
     "data": {
      "text/html": [
       "'strong'"
      ],
      "text/latex": [
       "'strong'"
      ],
      "text/markdown": [
       "'strong'"
      ],
      "text/plain": [
       "[1] \"strong\""
      ]
     },
     "metadata": {},
     "output_type": "display_data"
    }
   ],
   "source": [
    "x <- \"StrongPassword123\"\n",
    "split_password <- strsplit(x,\"\")[[1]] # splits the password into characters and returns a vector\n",
    "secure_password(split_password)"
   ]
  },
  {
   "cell_type": "code",
   "execution_count": 38,
   "id": "a773403a",
   "metadata": {},
   "outputs": [
    {
     "data": {
      "text/html": [
       "'weak'"
      ],
      "text/latex": [
       "'weak'"
      ],
      "text/markdown": [
       "'weak'"
      ],
      "text/plain": [
       "[1] \"weak\""
      ]
     },
     "metadata": {},
     "output_type": "display_data"
    }
   ],
   "source": [
    "# Examples\n",
    "\n",
    "x <- \"weakPasword\"\n",
    "split_password <- strsplit(x,\"\")[[1]]  # splits the password into characters and returns a vector\n",
    "secure_password(split_password)\n"
   ]
  },
  {
   "cell_type": "code",
   "execution_count": 40,
   "id": "66310461",
   "metadata": {},
   "outputs": [
    {
     "data": {
      "text/html": [
       "'strong'"
      ],
      "text/latex": [
       "'strong'"
      ],
      "text/markdown": [
       "'strong'"
      ],
      "text/plain": [
       "[1] \"strong\""
      ]
     },
     "metadata": {},
     "output_type": "display_data"
    },
    {
     "data": {
      "text/html": [
       "'weak'"
      ],
      "text/latex": [
       "'weak'"
      ],
      "text/markdown": [
       "'weak'"
      ],
      "text/plain": [
       "[1] \"weak\""
      ]
     },
     "metadata": {},
     "output_type": "display_data"
    }
   ],
   "source": [
    "# Test cases\n",
    "\n",
    "x <- \"passwordisOk2\"\n",
    "split_password <- strsplit(x,\"\")[[1]]  # splits the password into characters and returns a vector\n",
    "secure_password(split_password)\n",
    "\n",
    "x <- \"pasntOk2\"\n",
    "split_password <- strsplit(x,\"\")[[1]]  # splits the password into characters and returns a vector\n",
    "secure_password(split_password)"
   ]
  },
  {
   "cell_type": "code",
   "execution_count": null,
   "id": "0f272875",
   "metadata": {},
   "outputs": [],
   "source": []
  }
 ],
 "metadata": {
  "kernelspec": {
   "display_name": "R",
   "language": "R",
   "name": "ir"
  },
  "language_info": {
   "codemirror_mode": "r",
   "file_extension": ".r",
   "mimetype": "text/x-r-source",
   "name": "R",
   "pygments_lexer": "r",
   "version": "3.6.1"
  }
 },
 "nbformat": 4,
 "nbformat_minor": 5
}
