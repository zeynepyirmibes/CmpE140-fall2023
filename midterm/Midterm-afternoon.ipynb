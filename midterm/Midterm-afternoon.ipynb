{
 "cells": [
  {
   "cell_type": "markdown",
   "id": "aceb11a1",
   "metadata": {},
   "source": [
    "# CMPE 140 MIDTERM EXAM (FALL 23-24)"
   ]
  },
  {
   "cell_type": "markdown",
   "id": "c6c5c619",
   "metadata": {},
   "source": [
    "## Question 1\n",
    "\n",
    "A handy-man asked you to write a program that notifies him about the average temperature of the rooms in a hostel, in Celsius, so that he can fix the air conditioner in hot rooms.\n",
    "\n",
    "To help him, you will write a function:\n",
    "* with the name **handyman(temps)**\n",
    "* that takes as input a vector that contains the temperatures of the rooms in _Fahrenheit_ as numeric values (**temps**). \n",
    "* that converts the _Fahrenheit_ temperatures inside **temps**, and convert them into _Celsius_ with this formula: \n",
    "\n",
    "$ Celsius (°C) = (Fahrenheit (°F) - 32) * 5/9 $\n",
    "\n",
    "* The function should afterward compute and **return the average (mean) of the Celsius temperatures, rounded to 2 decimal numbers**. \n",
    "\n",
    "**Example with Explanation:**\n",
    "\n",
    "```\n",
    "temperatures <- c(87, 89, 101, 91, 86, 71, 76)\n",
    "```\n",
    "\n",
    "The temperatures are in Fahrenheit. When converted to Celsius, the vector becomes: \n",
    "\n",
    "```\n",
    "c(30.5555555555556, 31.6666666666667, 38.3333333333333, 32.7777777777778, 30, 21.6666666666667, 24.4444444444444)\n",
    "```\n",
    "\n",
    "The average of this vector is: 29.9206349206349\n",
    "\n",
    "The function should return the average, rounded to 2 decimal places: 29.92\n",
    "\n",
    "The function **should not print** the intermediate steps. \n",
    "\n",
    "It should **print NOTHING**. \n",
    "\n",
    "The function should **only return the average, rounded to 2 decimal places.**\n",
    "\n",
    "```\n",
    "> handyman(c(87, 89, 101, 91, 86, 71, 76))\n",
    "29.92\n",
    "```\n"
   ]
  },
  {
   "cell_type": "code",
   "execution_count": 1,
   "id": "b3353e6a",
   "metadata": {},
   "outputs": [],
   "source": [
    "handyman <- function(temps){\n",
    "    celcius <- (temps - 32 ) / 1.8\n",
    "    \n",
    "    return(round(mean(celcius), 2))\n",
    "}"
   ]
  },
  {
   "cell_type": "code",
   "execution_count": 2,
   "id": "81ef2a8e",
   "metadata": {},
   "outputs": [
    {
     "data": {
      "text/html": [
       "29.92"
      ],
      "text/latex": [
       "29.92"
      ],
      "text/markdown": [
       "29.92"
      ],
      "text/plain": [
       "[1] 29.92"
      ]
     },
     "metadata": {},
     "output_type": "display_data"
    },
    {
     "data": {
      "text/html": [
       "37.78"
      ],
      "text/latex": [
       "37.78"
      ],
      "text/markdown": [
       "37.78"
      ],
      "text/plain": [
       "[1] 37.78"
      ]
     },
     "metadata": {},
     "output_type": "display_data"
    },
    {
     "data": {
      "text/html": [
       "37.22"
      ],
      "text/latex": [
       "37.22"
      ],
      "text/markdown": [
       "37.22"
      ],
      "text/plain": [
       "[1] 37.22"
      ]
     },
     "metadata": {},
     "output_type": "display_data"
    }
   ],
   "source": [
    "# Examples\n",
    "handyman(c(87, 89, 101, 91, 86, 71, 76))\n",
    "handyman(c(100))\n",
    "handyman(c(100, 101, 120, 98, 76))"
   ]
  },
  {
   "cell_type": "code",
   "execution_count": 3,
   "id": "1635a71f",
   "metadata": {},
   "outputs": [
    {
     "data": {
      "text/html": [
       "32.71"
      ],
      "text/latex": [
       "32.71"
      ],
      "text/markdown": [
       "32.71"
      ],
      "text/plain": [
       "[1] 32.71"
      ]
     },
     "metadata": {},
     "output_type": "display_data"
    },
    {
     "data": {
      "text/html": [
       "31.56"
      ],
      "text/latex": [
       "31.56"
      ],
      "text/markdown": [
       "31.56"
      ],
      "text/plain": [
       "[1] 31.56"
      ]
     },
     "metadata": {},
     "output_type": "display_data"
    },
    {
     "data": {
      "text/html": [
       "23.56"
      ],
      "text/latex": [
       "23.56"
      ],
      "text/markdown": [
       "23.56"
      ],
      "text/plain": [
       "[1] 23.56"
      ]
     },
     "metadata": {},
     "output_type": "display_data"
    },
    {
     "data": {
      "text/html": [
       "16.67"
      ],
      "text/latex": [
       "16.67"
      ],
      "text/markdown": [
       "16.67"
      ],
      "text/plain": [
       "[1] 16.67"
      ]
     },
     "metadata": {},
     "output_type": "display_data"
    }
   ],
   "source": [
    "# Test cases\n",
    "handyman(c(87, 95, 101, 91, 80, 71, 70, 132))\n",
    "handyman(c(91, 80, 71, 70, 132))\n",
    "handyman(c(62, 80, 95, 70, 65))\n",
    "handyman(c(62))"
   ]
  },
  {
   "cell_type": "markdown",
   "id": "33008ba3",
   "metadata": {},
   "source": [
    "## Question 2\n",
    "\n",
    "A military school accepts applicants only if their BMI (Body-mass index) is within a certain range. Write a function that takes the heights and weights of the applicants as well as the accepted range, and returns whether or not each applicant is eligible to attend. \n",
    "\n",
    "The formula for BMI is as follows:\n",
    "\n",
    "$BMI = \\frac{Weight}{Height^2}$\n",
    "\n",
    "The function **bmi(range,weight,height)** will take 3 inputs:\n",
    "\n",
    "1. Accepted range (a numeric vector of two values)\n",
    "2. Weight in kilograms (a numeric vector)\n",
    "3. Height in meters (a numeric vector)\n",
    "\n",
    "First element of the accepted range represents the minimum BMI, whereas the second element represents the maximum BMI. If the BMI of an applicant is inside the given range, they are \"ELIGIBLE\". If not, they are \"INELIGIBLE\".\n",
    "\n",
    "All BMI values must be rounded to 2 decimal places.The function should calculate the BMI of each individual and **return a vector** that shows whether each applicant is eligible or not, as such:\n",
    "\n",
    "```r\n",
    "\n",
    "> bmi(c(15,25),c(82,65,74,58,92),c(1.75,1.82,1.67,1.70,1.88))\n",
    "\n",
    "INELIGIBLE   ELIGIBLE INELIGIBLE   ELIGIBLE INELIGIBLE \n",
    "     26.78      19.62      26.53      20.07      26.03 \n",
    "```\n",
    "\n",
    "**Note:** The values in the returned vector are BMI values (rounded), and the names of the values are either \"ELIGIBLE\", or \"INELIGIBLE\". "
   ]
  },
  {
   "cell_type": "markdown",
   "id": "ab73d524",
   "metadata": {},
   "source": [
    "# Solution 2"
   ]
  },
  {
   "cell_type": "code",
   "execution_count": 6,
   "id": "eb6f2c7e",
   "metadata": {},
   "outputs": [],
   "source": [
    "bmi = function(range,weight,height)\n",
    "{\n",
    "  bmi = round(weight/height^2,2)\n",
    "  lower_threshold = bmi > range[1]\n",
    "  upper_threshold = bmi < range[2]\n",
    "  eligibility = c()\n",
    "  for (i in 1:length(weight))\n",
    "  {\n",
    "    if(lower_threshold[i] == TRUE && upper_threshold[i] == TRUE)\n",
    "    {\n",
    "      eligibility[i] = \"ELIGIBLE\"\n",
    "    } else\n",
    "    {\n",
    "      eligibility[i] = \"INELIGIBLE\"\n",
    "    }\n",
    "  }\n",
    "  names(bmi) = eligibility\n",
    "  return(bmi)\n",
    "}"
   ]
  },
  {
   "cell_type": "code",
   "execution_count": 13,
   "id": "45a8922d",
   "metadata": {},
   "outputs": [
    {
     "data": {
      "text/html": [
       "<dl class=dl-horizontal>\n",
       "\t<dt>INELIGIBLE</dt>\n",
       "\t\t<dd>26.78</dd>\n",
       "\t<dt>ELIGIBLE</dt>\n",
       "\t\t<dd>19.62</dd>\n",
       "\t<dt>INELIGIBLE</dt>\n",
       "\t\t<dd>26.53</dd>\n",
       "\t<dt>ELIGIBLE</dt>\n",
       "\t\t<dd>20.07</dd>\n",
       "\t<dt>INELIGIBLE</dt>\n",
       "\t\t<dd>26.03</dd>\n",
       "</dl>\n"
      ],
      "text/latex": [
       "\\begin{description*}\n",
       "\\item[INELIGIBLE] 26.78\n",
       "\\item[ELIGIBLE] 19.62\n",
       "\\item[INELIGIBLE] 26.53\n",
       "\\item[ELIGIBLE] 20.07\n",
       "\\item[INELIGIBLE] 26.03\n",
       "\\end{description*}\n"
      ],
      "text/markdown": [
       "INELIGIBLE\n",
       ":   26.78ELIGIBLE\n",
       ":   19.62INELIGIBLE\n",
       ":   26.53ELIGIBLE\n",
       ":   20.07INELIGIBLE\n",
       ":   26.03\n",
       "\n"
      ],
      "text/plain": [
       "INELIGIBLE   ELIGIBLE INELIGIBLE   ELIGIBLE INELIGIBLE \n",
       "     26.78      19.62      26.53      20.07      26.03 "
      ]
     },
     "metadata": {},
     "output_type": "display_data"
    },
    {
     "data": {
      "text/html": [
       "<dl class=dl-horizontal>\n",
       "\t<dt>ELIGIBLE</dt>\n",
       "\t\t<dd>22.86</dd>\n",
       "\t<dt>ELIGIBLE</dt>\n",
       "\t\t<dd>19.03</dd>\n",
       "\t<dt>INELIGIBLE</dt>\n",
       "\t\t<dd>27.47</dd>\n",
       "</dl>\n"
      ],
      "text/latex": [
       "\\begin{description*}\n",
       "\\item[ELIGIBLE] 22.86\n",
       "\\item[ELIGIBLE] 19.03\n",
       "\\item[INELIGIBLE] 27.47\n",
       "\\end{description*}\n"
      ],
      "text/markdown": [
       "ELIGIBLE\n",
       ":   22.86ELIGIBLE\n",
       ":   19.03INELIGIBLE\n",
       ":   27.47\n",
       "\n"
      ],
      "text/plain": [
       "  ELIGIBLE   ELIGIBLE INELIGIBLE \n",
       "     22.86      19.03      27.47 "
      ]
     },
     "metadata": {},
     "output_type": "display_data"
    },
    {
     "data": {
      "text/html": [
       "<dl class=dl-horizontal>\n",
       "\t<dt>INELIGIBLE</dt>\n",
       "\t\t<dd>26.99</dd>\n",
       "\t<dt>ELIGIBLE</dt>\n",
       "\t\t<dd>18.73</dd>\n",
       "\t<dt>INELIGIBLE</dt>\n",
       "\t\t<dd>29.72</dd>\n",
       "\t<dt>ELIGIBLE</dt>\n",
       "\t\t<dd>20.76</dd>\n",
       "\t<dt>INELIGIBLE</dt>\n",
       "\t\t<dd>26.16</dd>\n",
       "\t<dt>INELIGIBLE</dt>\n",
       "\t\t<dd>27.47</dd>\n",
       "</dl>\n"
      ],
      "text/latex": [
       "\\begin{description*}\n",
       "\\item[INELIGIBLE] 26.99\n",
       "\\item[ELIGIBLE] 18.73\n",
       "\\item[INELIGIBLE] 29.72\n",
       "\\item[ELIGIBLE] 20.76\n",
       "\\item[INELIGIBLE] 26.16\n",
       "\\item[INELIGIBLE] 27.47\n",
       "\\end{description*}\n"
      ],
      "text/markdown": [
       "INELIGIBLE\n",
       ":   26.99ELIGIBLE\n",
       ":   18.73INELIGIBLE\n",
       ":   29.72ELIGIBLE\n",
       ":   20.76INELIGIBLE\n",
       ":   26.16INELIGIBLE\n",
       ":   27.47\n",
       "\n"
      ],
      "text/plain": [
       "INELIGIBLE   ELIGIBLE INELIGIBLE   ELIGIBLE INELIGIBLE INELIGIBLE \n",
       "     26.99      18.73      29.72      20.76      26.16      27.47 "
      ]
     },
     "metadata": {},
     "output_type": "display_data"
    }
   ],
   "source": [
    "# Examples \n",
    "bmi(c(15, 25),c(82, 65, 74, 58, 92),c(1.75, 1.82, 1.67, 1.70, 1.88))\n",
    "bmi(c(19, 25),c(60, 55, 89),c(1.62, 1.70, 1.80))\n",
    "bmi(c(18, 26),c(78, 45, 78, 60, 55, 89),c(1.70, 1.55, 1.62, 1.70, 1.45, 1.80))"
   ]
  },
  {
   "cell_type": "code",
   "execution_count": 8,
   "id": "c8aef21f",
   "metadata": {},
   "outputs": [
    {
     "data": {
      "text/html": [
       "<dl class=dl-horizontal>\n",
       "\t<dt>ELIGIBLE</dt>\n",
       "\t\t<dd>19.26</dd>\n",
       "\t<dt>INELIGIBLE</dt>\n",
       "\t\t<dd>22.31</dd>\n",
       "\t<dt>INELIGIBLE</dt>\n",
       "\t\t<dd>23.78</dd>\n",
       "</dl>\n"
      ],
      "text/latex": [
       "\\begin{description*}\n",
       "\\item[ELIGIBLE] 19.26\n",
       "\\item[INELIGIBLE] 22.31\n",
       "\\item[INELIGIBLE] 23.78\n",
       "\\end{description*}\n"
      ],
      "text/markdown": [
       "ELIGIBLE\n",
       ":   19.26INELIGIBLE\n",
       ":   22.31INELIGIBLE\n",
       ":   23.78\n",
       "\n"
      ],
      "text/plain": [
       "  ELIGIBLE INELIGIBLE INELIGIBLE \n",
       "     19.26      22.31      23.78 "
      ]
     },
     "metadata": {},
     "output_type": "display_data"
    },
    {
     "data": {
      "text/html": [
       "<dl class=dl-horizontal>\n",
       "\t<dt>INELIGIBLE</dt>\n",
       "\t\t<dd>30.04</dd>\n",
       "\t<dt>ELIGIBLE</dt>\n",
       "\t\t<dd>25.64</dd>\n",
       "\t<dt>ELIGIBLE</dt>\n",
       "\t\t<dd>28.31</dd>\n",
       "</dl>\n"
      ],
      "text/latex": [
       "\\begin{description*}\n",
       "\\item[INELIGIBLE] 30.04\n",
       "\\item[ELIGIBLE] 25.64\n",
       "\\item[ELIGIBLE] 28.31\n",
       "\\end{description*}\n"
      ],
      "text/markdown": [
       "INELIGIBLE\n",
       ":   30.04ELIGIBLE\n",
       ":   25.64ELIGIBLE\n",
       ":   28.31\n",
       "\n"
      ],
      "text/plain": [
       "INELIGIBLE   ELIGIBLE   ELIGIBLE \n",
       "     30.04      25.64      28.31 "
      ]
     },
     "metadata": {},
     "output_type": "display_data"
    },
    {
     "data": {
      "text/html": [
       "<dl class=dl-horizontal>\n",
       "\t<dt>INELIGIBLE</dt>\n",
       "\t\t<dd>26.3</dd>\n",
       "\t<dt>ELIGIBLE</dt>\n",
       "\t\t<dd>24.73</dd>\n",
       "\t<dt>INELIGIBLE</dt>\n",
       "\t\t<dd>26.78</dd>\n",
       "\t<dt>ELIGIBLE</dt>\n",
       "\t\t<dd>22.65</dd>\n",
       "</dl>\n"
      ],
      "text/latex": [
       "\\begin{description*}\n",
       "\\item[INELIGIBLE] 26.3\n",
       "\\item[ELIGIBLE] 24.73\n",
       "\\item[INELIGIBLE] 26.78\n",
       "\\item[ELIGIBLE] 22.65\n",
       "\\end{description*}\n"
      ],
      "text/markdown": [
       "INELIGIBLE\n",
       ":   26.3ELIGIBLE\n",
       ":   24.73INELIGIBLE\n",
       ":   26.78ELIGIBLE\n",
       ":   22.65\n",
       "\n"
      ],
      "text/plain": [
       "INELIGIBLE   ELIGIBLE INELIGIBLE   ELIGIBLE \n",
       "     26.30      24.73      26.78      22.65 "
      ]
     },
     "metadata": {},
     "output_type": "display_data"
    },
    {
     "data": {
      "text/html": [
       "<dl class=dl-horizontal>\n",
       "\t<dt>ELIGIBLE</dt>\n",
       "\t\t<dd>20.94</dd>\n",
       "\t<dt>INELIGIBLE</dt>\n",
       "\t\t<dd>26.03</dd>\n",
       "\t<dt>ELIGIBLE</dt>\n",
       "\t\t<dd>22.35</dd>\n",
       "\t<dt>ELIGIBLE</dt>\n",
       "\t\t<dd>20.96</dd>\n",
       "\t<dt>INELIGIBLE</dt>\n",
       "\t\t<dd>25.91</dd>\n",
       "</dl>\n"
      ],
      "text/latex": [
       "\\begin{description*}\n",
       "\\item[ELIGIBLE] 20.94\n",
       "\\item[INELIGIBLE] 26.03\n",
       "\\item[ELIGIBLE] 22.35\n",
       "\\item[ELIGIBLE] 20.96\n",
       "\\item[INELIGIBLE] 25.91\n",
       "\\end{description*}\n"
      ],
      "text/markdown": [
       "ELIGIBLE\n",
       ":   20.94INELIGIBLE\n",
       ":   26.03ELIGIBLE\n",
       ":   22.35ELIGIBLE\n",
       ":   20.96INELIGIBLE\n",
       ":   25.91\n",
       "\n"
      ],
      "text/plain": [
       "  ELIGIBLE INELIGIBLE   ELIGIBLE   ELIGIBLE INELIGIBLE \n",
       "     20.94      26.03      22.35      20.96      25.91 "
      ]
     },
     "metadata": {},
     "output_type": "display_data"
    }
   ],
   "source": [
    "# Test cases\n",
    "\n",
    "bmi(c(10,20),c(55,78,72),c(1.69,1.87,1.74))\n",
    "bmi(c(20,30),c(92,64,78),c(1.75,1.58,1.66))\n",
    "bmi(c(10,25),c(76,95,82,67),c(1.70,1.96,1.75,1.72))\n",
    "bmi(c(15,25),c(74,70,85,62,68),c(1.88,1.64,1.95,1.72,1.62))"
   ]
  },
  {
   "cell_type": "markdown",
   "id": "bc40c443",
   "metadata": {},
   "source": [
    "## Question 3\n",
    "\n",
    "A portfolio can be defined as a collection of financial securities. Each of these financial securities has a weight in the portfolio and the summation of these weights must be 1. For example, if a portfolio has been formed with 2 securities x and y, with weights 0.2 and 0.8 respectively, this means 20 percent of the initial capital has been invested in x and 80 percent of it has been invested in y.\n",
    "\n",
    "Every financial security has at least two parameters: expected return and volatility. The expected return and volatility of a portfolio consisting of two securities (a and b) can be calculated using the following formulas:\n",
    "\n",
    "$$\n",
    "E[r_{p}] = w_{a}E[r_{a}] + w_{b}E[r_{b}] \\\\\n",
    "\\sigma_{p} = \\sqrt{w_{a}^{2}\\sigma_{a}^{2} + w_{b}^{2}\\sigma_{b}^{2} + 2w_{a}w_{b}\\rho\\sigma_{a}\\sigma_{b}}\n",
    "$$\n",
    "\n",
    "where \n",
    "\n",
    "* $w$ = weights\n",
    "* $\\sigma$ = volatilities \n",
    "* $\\rho$ = correlation coefficient \n",
    "* $E[r_{a}]$ = expected return (of a)\n",
    "\n",
    "Write a function called **portfolio(returns,volatilities,weights,cor)** which takes the following inputs for 2 securities:\n",
    "\n",
    "1. **returns**: Expected returns (a numeric vector)\n",
    "2. **volatilities**: Volatilities (a numeric vector)\n",
    "3. **weights**: Weights (a numeric vector)\n",
    "4. **cor**: Correlation coefficient (a numeric value)\n",
    "\n",
    "and returns the expected return ($E[r_{p}]$) and volatility ($\\sigma_{p}$) of the resulting portfolio inside a vector as such:\n",
    "\n",
    "```r\n",
    "> portfolio(c(12.5,8.2),c(5.4,2.8),c(0.4,0.6), 0.2)\n",
    "\n",
    "Expected Return      Volatility \n",
    "           9.92            2.99 \n",
    "```\n",
    "\n",
    "**Note** The function should **return a vector with two values**: expected return ($E[r_{p}]$) and volatility ($\\sigma_{p}$) of the portfolio. The names of the values should be **\"Expected Return\"** and **\"Volatility\"**. They should be in the same order (**\"Expected Return\"** , **\"Volatility\"**) as the examples. \n",
    "\n",
    "\n",
    "**Note:** Expected return and volatility of the portfolio must be rounded to 2 decimal places."
   ]
  },
  {
   "cell_type": "markdown",
   "id": "4fe5eeb4",
   "metadata": {},
   "source": [
    "## Solution 3"
   ]
  },
  {
   "cell_type": "code",
   "execution_count": 15,
   "id": "82cd2f4d",
   "metadata": {},
   "outputs": [],
   "source": [
    "portfolio = function(returns,volatilities,weights,cor)\n",
    "{\n",
    "  mean_return = weights[1]*returns[1] + weights[2]*returns[2]\n",
    "  std_dev = sqrt(weights[1]^2*volatilities[1]^2+weights[2]^2*volatilities[2]^2+\n",
    "                 2*weights[1]*weights[2]*cor*volatilities[1]*volatilities[2])\n",
    "  output = c(round(mean_return,2),round(std_dev,2))\n",
    "  names(output) = c(\"Expected Return\",\"Volatility\")\n",
    "  return(output)\n",
    "}\n"
   ]
  },
  {
   "cell_type": "code",
   "execution_count": 16,
   "id": "d1044e45",
   "metadata": {},
   "outputs": [
    {
     "data": {
      "text/html": [
       "<dl class=dl-horizontal>\n",
       "\t<dt>Expected Return</dt>\n",
       "\t\t<dd>9.92</dd>\n",
       "\t<dt>Volatility</dt>\n",
       "\t\t<dd>2.99</dd>\n",
       "</dl>\n"
      ],
      "text/latex": [
       "\\begin{description*}\n",
       "\\item[Expected Return] 9.92\n",
       "\\item[Volatility] 2.99\n",
       "\\end{description*}\n"
      ],
      "text/markdown": [
       "Expected Return\n",
       ":   9.92Volatility\n",
       ":   2.99\n",
       "\n"
      ],
      "text/plain": [
       "Expected Return      Volatility \n",
       "           9.92            2.99 "
      ]
     },
     "metadata": {},
     "output_type": "display_data"
    },
    {
     "data": {
      "text/html": [
       "<dl class=dl-horizontal>\n",
       "\t<dt>Expected Return</dt>\n",
       "\t\t<dd>6.96</dd>\n",
       "\t<dt>Volatility</dt>\n",
       "\t\t<dd>1.53</dd>\n",
       "</dl>\n"
      ],
      "text/latex": [
       "\\begin{description*}\n",
       "\\item[Expected Return] 6.96\n",
       "\\item[Volatility] 1.53\n",
       "\\end{description*}\n"
      ],
      "text/markdown": [
       "Expected Return\n",
       ":   6.96Volatility\n",
       ":   1.53\n",
       "\n"
      ],
      "text/plain": [
       "Expected Return      Volatility \n",
       "           6.96            1.53 "
      ]
     },
     "metadata": {},
     "output_type": "display_data"
    },
    {
     "data": {
      "text/html": [
       "<dl class=dl-horizontal>\n",
       "\t<dt>Expected Return</dt>\n",
       "\t\t<dd>10.4</dd>\n",
       "\t<dt>Volatility</dt>\n",
       "\t\t<dd>2.73</dd>\n",
       "</dl>\n"
      ],
      "text/latex": [
       "\\begin{description*}\n",
       "\\item[Expected Return] 10.4\n",
       "\\item[Volatility] 2.73\n",
       "\\end{description*}\n"
      ],
      "text/markdown": [
       "Expected Return\n",
       ":   10.4Volatility\n",
       ":   2.73\n",
       "\n"
      ],
      "text/plain": [
       "Expected Return      Volatility \n",
       "          10.40            2.73 "
      ]
     },
     "metadata": {},
     "output_type": "display_data"
    }
   ],
   "source": [
    "# Examples\n",
    "portfolio(c(12.5,8.2),c(5.4,2.8),c(0.4,0.6), 0.2)\n",
    "portfolio(c(5.7,7.5),c(5.8,2.4),c(0.3,0.7), -0.6)\n",
    "portfolio(c(10,12),c(1.7,8.6),c(0.8,0.2), 0.57)"
   ]
  },
  {
   "cell_type": "code",
   "execution_count": 17,
   "id": "77ff347e",
   "metadata": {},
   "outputs": [
    {
     "data": {
      "text/html": [
       "<dl class=dl-horizontal>\n",
       "\t<dt>Expected Return</dt>\n",
       "\t\t<dd>6.55</dd>\n",
       "\t<dt>Volatility</dt>\n",
       "\t\t<dd>1.34</dd>\n",
       "</dl>\n"
      ],
      "text/latex": [
       "\\begin{description*}\n",
       "\\item[Expected Return] 6.55\n",
       "\\item[Volatility] 1.34\n",
       "\\end{description*}\n"
      ],
      "text/markdown": [
       "Expected Return\n",
       ":   6.55Volatility\n",
       ":   1.34\n",
       "\n"
      ],
      "text/plain": [
       "Expected Return      Volatility \n",
       "           6.55            1.34 "
      ]
     },
     "metadata": {},
     "output_type": "display_data"
    },
    {
     "data": {
      "text/html": [
       "<dl class=dl-horizontal>\n",
       "\t<dt>Expected Return</dt>\n",
       "\t\t<dd>15.62</dd>\n",
       "\t<dt>Volatility</dt>\n",
       "\t\t<dd>6.66</dd>\n",
       "</dl>\n"
      ],
      "text/latex": [
       "\\begin{description*}\n",
       "\\item[Expected Return] 15.62\n",
       "\\item[Volatility] 6.66\n",
       "\\end{description*}\n"
      ],
      "text/markdown": [
       "Expected Return\n",
       ":   15.62Volatility\n",
       ":   6.66\n",
       "\n"
      ],
      "text/plain": [
       "Expected Return      Volatility \n",
       "          15.62            6.66 "
      ]
     },
     "metadata": {},
     "output_type": "display_data"
    },
    {
     "data": {
      "text/html": [
       "<dl class=dl-horizontal>\n",
       "\t<dt>Expected Return</dt>\n",
       "\t\t<dd>9.33</dd>\n",
       "\t<dt>Volatility</dt>\n",
       "\t\t<dd>4.66</dd>\n",
       "</dl>\n"
      ],
      "text/latex": [
       "\\begin{description*}\n",
       "\\item[Expected Return] 9.33\n",
       "\\item[Volatility] 4.66\n",
       "\\end{description*}\n"
      ],
      "text/markdown": [
       "Expected Return\n",
       ":   9.33Volatility\n",
       ":   4.66\n",
       "\n"
      ],
      "text/plain": [
       "Expected Return      Volatility \n",
       "           9.33            4.66 "
      ]
     },
     "metadata": {},
     "output_type": "display_data"
    },
    {
     "data": {
      "text/html": [
       "<dl class=dl-horizontal>\n",
       "\t<dt>Expected Return</dt>\n",
       "\t\t<dd>12.52</dd>\n",
       "\t<dt>Volatility</dt>\n",
       "\t\t<dd>2.61</dd>\n",
       "</dl>\n"
      ],
      "text/latex": [
       "\\begin{description*}\n",
       "\\item[Expected Return] 12.52\n",
       "\\item[Volatility] 2.61\n",
       "\\end{description*}\n"
      ],
      "text/markdown": [
       "Expected Return\n",
       ":   12.52Volatility\n",
       ":   2.61\n",
       "\n"
      ],
      "text/plain": [
       "Expected Return      Volatility \n",
       "          12.52            2.61 "
      ]
     },
     "metadata": {},
     "output_type": "display_data"
    }
   ],
   "source": [
    "# Test cases\n",
    "portfolio(c(5.3,7.8),c(1.4,3.1),c(0.5,0.5), -0.5)\n",
    "portfolio(c(16.4,8.6),c(7.2,3.5),c(0.9,0.1), 0.5)\n",
    "portfolio(c(3.8,11.7),c(1.5,6.4),c(0.3,0.7), 0.35)\n",
    "portfolio(c(13.8,12.2),c(5.6,4),c(0.2,0.8), -0.65)"
   ]
  }
 ],
 "metadata": {
  "kernelspec": {
   "display_name": "R",
   "language": "R",
   "name": "ir"
  },
  "language_info": {
   "codemirror_mode": "r",
   "file_extension": ".r",
   "mimetype": "text/x-r-source",
   "name": "R",
   "pygments_lexer": "r",
   "version": "3.6.1"
  }
 },
 "nbformat": 4,
 "nbformat_minor": 5
}
