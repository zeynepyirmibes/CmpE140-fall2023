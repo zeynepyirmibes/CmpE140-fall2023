{
 "cells": [
  {
   "cell_type": "markdown",
   "id": "c205d34c",
   "metadata": {},
   "source": [
    "# CMPE 140 MIDTERM EXAM (FALL 23-24)"
   ]
  },
  {
   "cell_type": "markdown",
   "id": "f11b71df",
   "metadata": {},
   "source": [
    "## Question 1\n",
    "\n",
    "A clockmaker asked you to write a program that finds the range of the circumferences of the clocks inside his store. \n",
    "\n",
    "To help her, you will write a function:\n",
    "* with the name **clockmaker(radiuses)**\n",
    "* that takes as input a vector that contains the radiuses of the clocks in her store as numeric values (**radiuses**). \n",
    "* that calculates the circumference of each clock with the following formula: \n",
    "\n",
    "$ Circumference = 2 \\pi r $\n",
    "\n",
    "$ \\pi = 3.14 $\n",
    "\n",
    "* The function should afterward find the clock with the minimum and maximum circumference, and **return the range** (difference between minimum and maximum, rounded to 2 decimal places:\n",
    "\n",
    "$ Range = (Maximum \\;Circumference) - (Minimum \\;Circumference) $\n",
    "\n",
    "\n",
    "**Example with Explanation:**\n",
    "\n",
    "```\n",
    "rs <- c(87, 89, 101, 91, 86, 71, 76)\n",
    "```\n",
    "\n",
    "The circumferences of the clocks are computed as:  \n",
    "\n",
    "```\n",
    "546.36 558.92 634.28 571.48 540.08 445.88 477.28\n",
    "```\n",
    "\n",
    "The minimum of this vector is: 445.88\n",
    "\n",
    "The maximum of this vector is: 634.28\n",
    "\n",
    "The function should return the difference, rounded to 2 decimal places: 634.28 - 445.88 = **188.4**\n",
    "\n",
    "* The function **should not print** the intermediate steps. \n",
    "* It should **print NOTHING**. \n",
    "* The function should **only return the range, rounded to 2 decimal places.**\n",
    "\n",
    "```\n",
    "> clockmaker(c(87, 89, 101, 91, 86, 71, 76))\n",
    "188.4\n",
    "```\n"
   ]
  },
  {
   "cell_type": "code",
   "execution_count": 4,
   "id": "4cf98754",
   "metadata": {},
   "outputs": [
    {
     "data": {
      "text/html": [
       "188.4"
      ],
      "text/latex": [
       "188.4"
      ],
      "text/markdown": [
       "188.4"
      ],
      "text/plain": [
       "[1] 188.4"
      ]
     },
     "metadata": {},
     "output_type": "display_data"
    }
   ],
   "source": [
    "clockmaker <- function(radiuses){\n",
    "    circumferences <- 2 * 3.14 * radiuses\n",
    "    circumferences\n",
    "    return(max(circumferences) - min(circumferences))\n",
    "}\n"
   ]
  },
  {
   "cell_type": "code",
   "execution_count": 5,
   "id": "a6c9d9c5",
   "metadata": {},
   "outputs": [
    {
     "data": {
      "text/html": [
       "188.4"
      ],
      "text/latex": [
       "188.4"
      ],
      "text/markdown": [
       "188.4"
      ],
      "text/plain": [
       "[1] 188.4"
      ]
     },
     "metadata": {},
     "output_type": "display_data"
    },
    {
     "data": {
      "text/html": [
       "125.6"
      ],
      "text/latex": [
       "125.6"
      ],
      "text/markdown": [
       "125.6"
      ],
      "text/plain": [
       "[1] 125.6"
      ]
     },
     "metadata": {},
     "output_type": "display_data"
    },
    {
     "data": {
      "text/html": [
       "395.64"
      ],
      "text/latex": [
       "395.64"
      ],
      "text/markdown": [
       "395.64"
      ],
      "text/plain": [
       "[1] 395.64"
      ]
     },
     "metadata": {},
     "output_type": "display_data"
    }
   ],
   "source": [
    "# Examples\n",
    "\n",
    "clockmaker(c(87, 89, 101, 91, 86, 71, 76))\n",
    "clockmaker(c(10, 20, 30))\n",
    "clockmaker(c(52, 34, 78, 15, 22))"
   ]
  },
  {
   "cell_type": "code",
   "execution_count": 10,
   "id": "c8ee7ed1",
   "metadata": {},
   "outputs": [
    {
     "data": {
      "text/html": [
       "464.72"
      ],
      "text/latex": [
       "464.72"
      ],
      "text/markdown": [
       "464.72"
      ],
      "text/plain": [
       "[1] 464.72"
      ]
     },
     "metadata": {},
     "output_type": "display_data"
    },
    {
     "data": {
      "text/html": [
       "408.2"
      ],
      "text/latex": [
       "408.2"
      ],
      "text/markdown": [
       "408.2"
      ],
      "text/plain": [
       "[1] 408.2"
      ]
     },
     "metadata": {},
     "output_type": "display_data"
    },
    {
     "data": {
      "text/html": [
       "602.88"
      ],
      "text/latex": [
       "602.88"
      ],
      "text/markdown": [
       "602.88"
      ],
      "text/plain": [
       "[1] 602.88"
      ]
     },
     "metadata": {},
     "output_type": "display_data"
    },
    {
     "data": {
      "text/html": [
       "533.8"
      ],
      "text/latex": [
       "533.8"
      ],
      "text/markdown": [
       "533.8"
      ],
      "text/plain": [
       "[1] 533.8"
      ]
     },
     "metadata": {},
     "output_type": "display_data"
    }
   ],
   "source": [
    "# Test cases\n",
    "clockmaker(c(105, 62, 110, 45, 36))\n",
    "clockmaker(c(134, 135, 136, 91, 86, 75, 71))\n",
    "clockmaker(c(30, 89, 16, 2, 98, 7, 67))\n",
    "clockmaker(c(30, 89, 16, 4))"
   ]
  },
  {
   "cell_type": "markdown",
   "id": "d087eafb",
   "metadata": {},
   "source": [
    "## Question 2\n",
    "\n",
    "A math teacher wants to write an R function to evaluate the grades of his students. If a student's grade is higher than or equal to 50, he will pass. If his grade is lower than 50, he will fail.\n",
    "\n",
    "The function **pass_or_fail(grades)** will take a vector of grades as input (**grades**) and return a vector that contains the pass/fail status of each student as such:\n",
    "\n",
    "```r\n",
    "> pass_or_fail(c(52,65,48,94,87,36,45,72,75,68))\n",
    " [1] \"PASS\" \"PASS\" \"FAIL\" \"PASS\" \"PASS\" \"FAIL\" \"FAIL\" \"PASS\" \"PASS\" \"PASS\"\n",
    "```\n",
    "\n",
    "**Note:** The values in the returned vector should either be \"PASS\" or \"FAIL\". "
   ]
  },
  {
   "cell_type": "markdown",
   "id": "7797b5af",
   "metadata": {},
   "source": [
    "## Solution 2"
   ]
  },
  {
   "cell_type": "code",
   "execution_count": 2,
   "id": "528b8129",
   "metadata": {},
   "outputs": [],
   "source": [
    "pass_or_fail = function (grades)\n",
    "{\n",
    "  output = c()\n",
    "  for (i in 1:length(grades))\n",
    "  {\n",
    "    if (grades[i] >= 50)\n",
    "    {\n",
    "      output[i] = \"PASS\"\n",
    "    }\n",
    "    else\n",
    "    {\n",
    "      output[i] = \"FAIL\"\n",
    "    }\n",
    "  }\n",
    "  return(output)\n",
    "}\n"
   ]
  },
  {
   "cell_type": "code",
   "execution_count": 15,
   "id": "b2bec261",
   "metadata": {},
   "outputs": [
    {
     "data": {
      "text/html": [
       "<ol class=list-inline>\n",
       "\t<li>'PASS'</li>\n",
       "\t<li>'PASS'</li>\n",
       "\t<li>'FAIL'</li>\n",
       "\t<li>'PASS'</li>\n",
       "\t<li>'PASS'</li>\n",
       "\t<li>'FAIL'</li>\n",
       "\t<li>'FAIL'</li>\n",
       "\t<li>'PASS'</li>\n",
       "\t<li>'PASS'</li>\n",
       "\t<li>'PASS'</li>\n",
       "</ol>\n"
      ],
      "text/latex": [
       "\\begin{enumerate*}\n",
       "\\item 'PASS'\n",
       "\\item 'PASS'\n",
       "\\item 'FAIL'\n",
       "\\item 'PASS'\n",
       "\\item 'PASS'\n",
       "\\item 'FAIL'\n",
       "\\item 'FAIL'\n",
       "\\item 'PASS'\n",
       "\\item 'PASS'\n",
       "\\item 'PASS'\n",
       "\\end{enumerate*}\n"
      ],
      "text/markdown": [
       "1. 'PASS'\n",
       "2. 'PASS'\n",
       "3. 'FAIL'\n",
       "4. 'PASS'\n",
       "5. 'PASS'\n",
       "6. 'FAIL'\n",
       "7. 'FAIL'\n",
       "8. 'PASS'\n",
       "9. 'PASS'\n",
       "10. 'PASS'\n",
       "\n",
       "\n"
      ],
      "text/plain": [
       " [1] \"PASS\" \"PASS\" \"FAIL\" \"PASS\" \"PASS\" \"FAIL\" \"FAIL\" \"PASS\" \"PASS\" \"PASS\""
      ]
     },
     "metadata": {},
     "output_type": "display_data"
    },
    {
     "data": {
      "text/html": [
       "<ol class=list-inline>\n",
       "\t<li>'FAIL'</li>\n",
       "\t<li>'PASS'</li>\n",
       "\t<li>'PASS'</li>\n",
       "\t<li>'PASS'</li>\n",
       "</ol>\n"
      ],
      "text/latex": [
       "\\begin{enumerate*}\n",
       "\\item 'FAIL'\n",
       "\\item 'PASS'\n",
       "\\item 'PASS'\n",
       "\\item 'PASS'\n",
       "\\end{enumerate*}\n"
      ],
      "text/markdown": [
       "1. 'FAIL'\n",
       "2. 'PASS'\n",
       "3. 'PASS'\n",
       "4. 'PASS'\n",
       "\n",
       "\n"
      ],
      "text/plain": [
       "[1] \"FAIL\" \"PASS\" \"PASS\" \"PASS\""
      ]
     },
     "metadata": {},
     "output_type": "display_data"
    },
    {
     "data": {
      "text/html": [
       "<ol class=list-inline>\n",
       "\t<li>'PASS'</li>\n",
       "\t<li>'PASS'</li>\n",
       "\t<li>'PASS'</li>\n",
       "\t<li>'FAIL'</li>\n",
       "\t<li>'PASS'</li>\n",
       "</ol>\n"
      ],
      "text/latex": [
       "\\begin{enumerate*}\n",
       "\\item 'PASS'\n",
       "\\item 'PASS'\n",
       "\\item 'PASS'\n",
       "\\item 'FAIL'\n",
       "\\item 'PASS'\n",
       "\\end{enumerate*}\n"
      ],
      "text/markdown": [
       "1. 'PASS'\n",
       "2. 'PASS'\n",
       "3. 'PASS'\n",
       "4. 'FAIL'\n",
       "5. 'PASS'\n",
       "\n",
       "\n"
      ],
      "text/plain": [
       "[1] \"PASS\" \"PASS\" \"PASS\" \"FAIL\" \"PASS\""
      ]
     },
     "metadata": {},
     "output_type": "display_data"
    }
   ],
   "source": [
    "# Examples\n",
    "pass_or_fail(c(52,65,48,94,87,36,45,72,75,68))\n",
    "pass_or_fail(c(17, 65, 89, 100))\n",
    "pass_or_fail(c(70, 50, 51, 49, 87))"
   ]
  },
  {
   "cell_type": "code",
   "execution_count": 4,
   "id": "14aa04d4",
   "metadata": {},
   "outputs": [
    {
     "data": {
      "text/html": [
       "<ol class=list-inline>\n",
       "\t<li>'FAIL'</li>\n",
       "\t<li>'PASS'</li>\n",
       "\t<li>'PASS'</li>\n",
       "</ol>\n"
      ],
      "text/latex": [
       "\\begin{enumerate*}\n",
       "\\item 'FAIL'\n",
       "\\item 'PASS'\n",
       "\\item 'PASS'\n",
       "\\end{enumerate*}\n"
      ],
      "text/markdown": [
       "1. 'FAIL'\n",
       "2. 'PASS'\n",
       "3. 'PASS'\n",
       "\n",
       "\n"
      ],
      "text/plain": [
       "[1] \"FAIL\" \"PASS\" \"PASS\""
      ]
     },
     "metadata": {},
     "output_type": "display_data"
    },
    {
     "data": {
      "text/html": [
       "<ol class=list-inline>\n",
       "\t<li>'PASS'</li>\n",
       "\t<li>'FAIL'</li>\n",
       "\t<li>'FAIL'</li>\n",
       "\t<li>'PASS'</li>\n",
       "\t<li>'PASS'</li>\n",
       "</ol>\n"
      ],
      "text/latex": [
       "\\begin{enumerate*}\n",
       "\\item 'PASS'\n",
       "\\item 'FAIL'\n",
       "\\item 'FAIL'\n",
       "\\item 'PASS'\n",
       "\\item 'PASS'\n",
       "\\end{enumerate*}\n"
      ],
      "text/markdown": [
       "1. 'PASS'\n",
       "2. 'FAIL'\n",
       "3. 'FAIL'\n",
       "4. 'PASS'\n",
       "5. 'PASS'\n",
       "\n",
       "\n"
      ],
      "text/plain": [
       "[1] \"PASS\" \"FAIL\" \"FAIL\" \"PASS\" \"PASS\""
      ]
     },
     "metadata": {},
     "output_type": "display_data"
    },
    {
     "data": {
      "text/html": [
       "<ol class=list-inline>\n",
       "\t<li>'FAIL'</li>\n",
       "\t<li>'PASS'</li>\n",
       "\t<li>'PASS'</li>\n",
       "\t<li>'PASS'</li>\n",
       "\t<li>'FAIL'</li>\n",
       "\t<li>'PASS'</li>\n",
       "</ol>\n"
      ],
      "text/latex": [
       "\\begin{enumerate*}\n",
       "\\item 'FAIL'\n",
       "\\item 'PASS'\n",
       "\\item 'PASS'\n",
       "\\item 'PASS'\n",
       "\\item 'FAIL'\n",
       "\\item 'PASS'\n",
       "\\end{enumerate*}\n"
      ],
      "text/markdown": [
       "1. 'FAIL'\n",
       "2. 'PASS'\n",
       "3. 'PASS'\n",
       "4. 'PASS'\n",
       "5. 'FAIL'\n",
       "6. 'PASS'\n",
       "\n",
       "\n"
      ],
      "text/plain": [
       "[1] \"FAIL\" \"PASS\" \"PASS\" \"PASS\" \"FAIL\" \"PASS\""
      ]
     },
     "metadata": {},
     "output_type": "display_data"
    },
    {
     "data": {
      "text/html": [
       "<ol class=list-inline>\n",
       "\t<li>'PASS'</li>\n",
       "\t<li>'PASS'</li>\n",
       "\t<li>'FAIL'</li>\n",
       "\t<li>'PASS'</li>\n",
       "\t<li>'PASS'</li>\n",
       "\t<li>'PASS'</li>\n",
       "\t<li>'FAIL'</li>\n",
       "\t<li>'FAIL'</li>\n",
       "\t<li>'PASS'</li>\n",
       "</ol>\n"
      ],
      "text/latex": [
       "\\begin{enumerate*}\n",
       "\\item 'PASS'\n",
       "\\item 'PASS'\n",
       "\\item 'FAIL'\n",
       "\\item 'PASS'\n",
       "\\item 'PASS'\n",
       "\\item 'PASS'\n",
       "\\item 'FAIL'\n",
       "\\item 'FAIL'\n",
       "\\item 'PASS'\n",
       "\\end{enumerate*}\n"
      ],
      "text/markdown": [
       "1. 'PASS'\n",
       "2. 'PASS'\n",
       "3. 'FAIL'\n",
       "4. 'PASS'\n",
       "5. 'PASS'\n",
       "6. 'PASS'\n",
       "7. 'FAIL'\n",
       "8. 'FAIL'\n",
       "9. 'PASS'\n",
       "\n",
       "\n"
      ],
      "text/plain": [
       "[1] \"PASS\" \"PASS\" \"FAIL\" \"PASS\" \"PASS\" \"PASS\" \"FAIL\" \"FAIL\" \"PASS\""
      ]
     },
     "metadata": {},
     "output_type": "display_data"
    }
   ],
   "source": [
    "# Test cases\n",
    "pass_or_fail(c(35,62,76))\n",
    "pass_or_fail(c(98,47,40,56,75))\n",
    "pass_or_fail(c(45, 50,85,74,43,69))\n",
    "pass_or_fail(c(64,51,49,82,90,97,23,45,67))"
   ]
  },
  {
   "cell_type": "markdown",
   "id": "415a7de9",
   "metadata": {},
   "source": [
    "## Question 3\n",
    "\n",
    "Break-even point is an important concept in business. It refers to the point at which sales revenue equals costs. There are 2 types of costs: variable cost and fixed cost. Variable cost is the extra cost of producing one unit of a good whereas fixed cost is the cost incurred by the company regardless of how many units it produces. \n",
    "\n",
    "The formula for the break-even point is the following:\n",
    "\n",
    "$$\n",
    "  \\text{BEP}=\\frac{\\text{fixed cost}}{\\text{price - variable cost}}\n",
    "$$\n",
    "\n",
    "If the sales (in units) of a company is higher than the break-even point, it starts to turn a profit. If sales (in units) is lower than the break-even point, it means the company is losing money. \n",
    "\n",
    "Write a function called **break_even(sales,variable_cost,fixed_cost,price)** which takes these inputs:\n",
    "\n",
    "1. A vector of sales\n",
    "2. A vector of variable costs\n",
    "3. A vector of fixed costs\n",
    "4. A vector of prices\n",
    "\n",
    "**break_even()** should calculate the break-even point for each company and return a vector that shows the gap between the current sales and break-even point. If the sales of a company is higher than its break-even point, it should have the value **\"SUCCESS\"**. If lower or equal, it should be the difference between its sales and break-even point, as such:\n",
    "\n",
    "```r\n",
    "> break_even(c(400,800,600),c(2,3,4),c(1500,1000,2000),c(5,7,8))\n",
    "[1] \"100\"     \"SUCCESS\" \"SUCCESS\"\n",
    "```\n",
    "\n",
    "**Explanation:** \n",
    "\n",
    "For the example: _break_even(c(400,800,600),c(2,3,4),c(1500,1000,2000),c(5,7,8))_\n",
    "\n",
    "The break-even point of the three companies are: _c(500, 250, 500)_\n",
    "\n",
    "The first company has lower sales than its break-even point. Then, the gap between the current sales and break-even point is: 500 - 400 = 100\n",
    "\n",
    "The second and third companies have higher sales that their break-even point: \"SUCCESS\"\n",
    "\n",
    "The function should return: \n",
    "\n",
    "```r\n",
    "> break_even(c(400,800,600),c(2,3,4),c(1500,1000,2000),c(5,7,8))\n",
    "[1] \"100\"     \"SUCCESS\" \"SUCCESS\"\n",
    "```"
   ]
  },
  {
   "cell_type": "markdown",
   "id": "6b61143d",
   "metadata": {},
   "source": [
    "## Solution 3"
   ]
  },
  {
   "cell_type": "code",
   "execution_count": 19,
   "id": "e4c88d61",
   "metadata": {},
   "outputs": [],
   "source": [
    "break_even = function(sales,variable_cost,fixed_cost,price)\n",
    "{\n",
    "  break_point = fixed_cost/(price-variable_cost)\n",
    "  dist_to_break = break_point-sales\n",
    "  \n",
    "  for (i in 1:length(sales))\n",
    "  {\n",
    "    if(dist_to_break[i] < 0)\n",
    "    {\n",
    "      dist_to_break[i] = \"SUCCESS\"\n",
    "    }\n",
    "  }\n",
    "  return(dist_to_break)\n",
    "}\n"
   ]
  },
  {
   "cell_type": "code",
   "execution_count": 28,
   "id": "0577c8cd",
   "metadata": {},
   "outputs": [
    {
     "data": {
      "text/html": [
       "<ol class=list-inline>\n",
       "\t<li>'100'</li>\n",
       "\t<li>'SUCCESS'</li>\n",
       "\t<li>'SUCCESS'</li>\n",
       "</ol>\n"
      ],
      "text/latex": [
       "\\begin{enumerate*}\n",
       "\\item '100'\n",
       "\\item 'SUCCESS'\n",
       "\\item 'SUCCESS'\n",
       "\\end{enumerate*}\n"
      ],
      "text/markdown": [
       "1. '100'\n",
       "2. 'SUCCESS'\n",
       "3. 'SUCCESS'\n",
       "\n",
       "\n"
      ],
      "text/plain": [
       "[1] \"100\"     \"SUCCESS\" \"SUCCESS\""
      ]
     },
     "metadata": {},
     "output_type": "display_data"
    },
    {
     "data": {
      "text/html": [
       "<ol class=list-inline>\n",
       "\t<li>'SUCCESS'</li>\n",
       "\t<li>'SUCCESS'</li>\n",
       "\t<li>'700'</li>\n",
       "\t<li>'2500'</li>\n",
       "</ol>\n"
      ],
      "text/latex": [
       "\\begin{enumerate*}\n",
       "\\item 'SUCCESS'\n",
       "\\item 'SUCCESS'\n",
       "\\item '700'\n",
       "\\item '2500'\n",
       "\\end{enumerate*}\n"
      ],
      "text/markdown": [
       "1. 'SUCCESS'\n",
       "2. 'SUCCESS'\n",
       "3. '700'\n",
       "4. '2500'\n",
       "\n",
       "\n"
      ],
      "text/plain": [
       "[1] \"SUCCESS\" \"SUCCESS\" \"700\"     \"2500\"   "
      ]
     },
     "metadata": {},
     "output_type": "display_data"
    },
    {
     "data": {
      "text/html": [
       "<ol class=list-inline>\n",
       "\t<li>'SUCCESS'</li>\n",
       "\t<li>'23.3333333333333'</li>\n",
       "</ol>\n"
      ],
      "text/latex": [
       "\\begin{enumerate*}\n",
       "\\item 'SUCCESS'\n",
       "\\item '23.3333333333333'\n",
       "\\end{enumerate*}\n"
      ],
      "text/markdown": [
       "1. 'SUCCESS'\n",
       "2. '23.3333333333333'\n",
       "\n",
       "\n"
      ],
      "text/plain": [
       "[1] \"SUCCESS\"          \"23.3333333333333\""
      ]
     },
     "metadata": {},
     "output_type": "display_data"
    }
   ],
   "source": [
    "# Examples\n",
    "\n",
    "break_even(c(400,800,600),c(2,3,4),c(1500,1000,2000),c(5,7,8))\n",
    "break_even(c(300,200,500,1000),c(6,5,6,8),c(1000,2000,1200,3500),c(4,3,7,9))\n",
    "break_even(c(700,10),c(7,5),c(500,100),c(1,8))"
   ]
  },
  {
   "cell_type": "code",
   "execution_count": 21,
   "id": "24798f75",
   "metadata": {},
   "outputs": [
    {
     "data": {
      "text/html": [
       "<ol class=list-inline>\n",
       "\t<li>'SUCCESS'</li>\n",
       "\t<li>'SUCCESS'</li>\n",
       "\t<li>'SUCCESS'</li>\n",
       "</ol>\n"
      ],
      "text/latex": [
       "\\begin{enumerate*}\n",
       "\\item 'SUCCESS'\n",
       "\\item 'SUCCESS'\n",
       "\\item 'SUCCESS'\n",
       "\\end{enumerate*}\n"
      ],
      "text/markdown": [
       "1. 'SUCCESS'\n",
       "2. 'SUCCESS'\n",
       "3. 'SUCCESS'\n",
       "\n",
       "\n"
      ],
      "text/plain": [
       "[1] \"SUCCESS\" \"SUCCESS\" \"SUCCESS\""
      ]
     },
     "metadata": {},
     "output_type": "display_data"
    },
    {
     "data": {
      "text/html": [
       "<ol class=list-inline>\n",
       "\t<li>100</li>\n",
       "\t<li>100</li>\n",
       "\t<li>500</li>\n",
       "\t<li>0</li>\n",
       "</ol>\n"
      ],
      "text/latex": [
       "\\begin{enumerate*}\n",
       "\\item 100\n",
       "\\item 100\n",
       "\\item 500\n",
       "\\item 0\n",
       "\\end{enumerate*}\n"
      ],
      "text/markdown": [
       "1. 100\n",
       "2. 100\n",
       "3. 500\n",
       "4. 0\n",
       "\n",
       "\n"
      ],
      "text/plain": [
       "[1] 100 100 500   0"
      ]
     },
     "metadata": {},
     "output_type": "display_data"
    },
    {
     "data": {
      "text/html": [
       "<ol class=list-inline>\n",
       "\t<li>'SUCCESS'</li>\n",
       "\t<li>'7000'</li>\n",
       "\t<li>'10000'</li>\n",
       "</ol>\n"
      ],
      "text/latex": [
       "\\begin{enumerate*}\n",
       "\\item 'SUCCESS'\n",
       "\\item '7000'\n",
       "\\item '10000'\n",
       "\\end{enumerate*}\n"
      ],
      "text/markdown": [
       "1. 'SUCCESS'\n",
       "2. '7000'\n",
       "3. '10000'\n",
       "\n",
       "\n"
      ],
      "text/plain": [
       "[1] \"SUCCESS\" \"7000\"    \"10000\"  "
      ]
     },
     "metadata": {},
     "output_type": "display_data"
    },
    {
     "data": {
      "text/html": [
       "<ol class=list-inline>\n",
       "\t<li>'50'</li>\n",
       "\t<li>'SUCCESS'</li>\n",
       "</ol>\n"
      ],
      "text/latex": [
       "\\begin{enumerate*}\n",
       "\\item '50'\n",
       "\\item 'SUCCESS'\n",
       "\\end{enumerate*}\n"
      ],
      "text/markdown": [
       "1. '50'\n",
       "2. 'SUCCESS'\n",
       "\n",
       "\n"
      ],
      "text/plain": [
       "[1] \"50\"      \"SUCCESS\""
      ]
     },
     "metadata": {},
     "output_type": "display_data"
    }
   ],
   "source": [
    "# Test cases\n",
    "break_even(c(100,150,200),c(10,15,20),c(250,150,300),c(20,30,50))\n",
    "break_even(c(300,400,250,100),c(12,8,10, 9),c(1200,1000,1500,1000),c(15,10,12, 19))\n",
    "break_even(c(7000,8000,10000),c(3,4,5),c(10000,15000,20000),c(5,5,6))\n",
    "break_even(c(150,500),c(5,10),c(1000,750),c(10,12))"
   ]
  }
 ],
 "metadata": {
  "kernelspec": {
   "display_name": "R",
   "language": "R",
   "name": "ir"
  },
  "language_info": {
   "codemirror_mode": "r",
   "file_extension": ".r",
   "mimetype": "text/x-r-source",
   "name": "R",
   "pygments_lexer": "r",
   "version": "3.6.1"
  }
 },
 "nbformat": 4,
 "nbformat_minor": 5
}
