{
 "cells": [
  {
   "cell_type": "markdown",
   "id": "9f436dda-4a5d-42fb-b1ff-e571a6c97335",
   "metadata": {},
   "source": [
    "# RECURSION AND DYNAMIC PROGRAMMING\n",
    "\n",
    "**by Serhat Çevikel**"
   ]
  },
  {
   "cell_type": "markdown",
   "id": "d75b0f4f-f6fa-4ad5-940a-ccc659b50979",
   "metadata": {},
   "source": [
    "**Note: The informative versions of the functions are longer and more complex. They are intended to show how recursion and memoization work with printed messages about the state of the recursion. Don't bother if you have difficulty in understanding the code in those versions. Understanding the printed information from those function calls are more important**"
   ]
  },
  {
   "cell_type": "markdown",
   "id": "3bc9a09d-d14a-41d2-beeb-8de4eed79fd7",
   "metadata": {},
   "source": [
    "## RECURSION"
   ]
  },
  {
   "cell_type": "markdown",
   "id": "d1e9fec0-c6b8-4787-84f1-9d22b531d306",
   "metadata": {},
   "source": [
    "In computer science, recursion is a method of solving a computational problem where the solution depends on solutions to smaller instances of the same problem\n",
    "\n",
    "Recursion solves such recursive problems by using functions that call themselves from within their own code."
   ]
  },
  {
   "cell_type": "markdown",
   "id": "0afb0b7b-944b-432a-a0f9-49a136960177",
   "metadata": {},
   "source": [
    "It is just like Dr. Evil calling a smaller clone of himself \"Mini Me\" in the movie series Austin Powers:"
   ]
  },
  {
   "cell_type": "code",
   "execution_count": null,
   "id": "bec3db00-ea24-41bc-9175-7b93658d4fd6",
   "metadata": {},
   "outputs": [],
   "source": [
    "IRdisplay::display_html('<iframe width=\"560\" height=\"315\" src=\"https://www.youtube.com/embed/PDt_Nblc_mo\" title=\"YouTube video player\" frameborder=\"0\" allow=\"accelerometer; autoplay; clipboard-write; encrypted-media; gyroscope; picture-in-picture\" allowfullscreen></iframe>')"
   ]
  },
  {
   "cell_type": "markdown",
   "id": "338c4308-3728-41a8-b89e-97cbcc5f256f",
   "metadata": {},
   "source": [
    "### Factorial with recursion"
   ]
  },
  {
   "cell_type": "markdown",
   "id": "e7feeecd-d108-48f5-b135-562a7b7c4b52",
   "metadata": {},
   "source": [
    "In mathematics, the factorial of a non-negative integer n, denoted by n!, is the product of all positive integers less than or equal to n.\n",
    "\n",
    "The factorial of n also equals the product of n with the next smaller factorial:"
   ]
  },
  {
   "cell_type": "markdown",
   "id": "180a42b7-6532-4249-b196-bb7434778bd7",
   "metadata": {},
   "source": [
    "${\\displaystyle {\\begin{aligned}n!&=n\\times (n-1)\\times (n-2)\\times (n-3)\\times \\cdots \\times 3\\times 2\\times 1\\\\&=n\\times (n-1)!\\\\\\end{aligned}}}$"
   ]
  },
  {
   "cell_type": "markdown",
   "id": "42bd3324-a743-4462-b5f4-710b6e0d2a68",
   "metadata": {},
   "source": [
    "Recursive function to calculate n!.\n",
    "\n",
    "Note that, in a recursive algorithm, there should be a base case where no further recursion is required (n = 1 in this example):"
   ]
  },
  {
   "cell_type": "code",
   "execution_count": null,
   "id": "6d77bbc6-2014-4ab2-a794-8416d67d6e91",
   "metadata": {},
   "outputs": [],
   "source": [
    "factorial_rec <- function(n = 5)\n",
    "{\n",
    "    if (n == 1) # that's the base case which needs no further recursion\n",
    "    {\n",
    "        return(1)\n",
    "    }\n",
    "    else\n",
    "    {\n",
    "        return(n * factorial_rec(n - 1)) # that's where the function calls itself with a smaller value\n",
    "    }\n",
    "}"
   ]
  },
  {
   "cell_type": "markdown",
   "id": "c5ed1d32-06f6-48ee-963b-3166a5d4b38d",
   "metadata": {},
   "source": [
    "Let's calculate multiple values:"
   ]
  },
  {
   "cell_type": "code",
   "execution_count": null,
   "id": "9b354028-8eda-4be7-8b5f-c34b3c45432f",
   "metadata": {},
   "outputs": [],
   "source": [
    "sapply(1:10, factorial_rec)"
   ]
  },
  {
   "cell_type": "markdown",
   "id": "750cc5b6-ebe7-4516-8aed-4316c9ce6148",
   "metadata": {},
   "source": [
    "Now let's make the function more informative so that each call to function factorial_rec2 prints:\n",
    "\n",
    "- Recursion depth level and n at the beginning\n",
    "- Recursion depth level, n and the value before return, including additional info for the base case\n",
    "\n",
    "The messages are also indented properly to show the depth level:"
   ]
  },
  {
   "cell_type": "code",
   "execution_count": null,
   "id": "055f9a30-4cef-4a77-bb94-6c82e364971c",
   "metadata": {},
   "outputs": [],
   "source": [
    "factorial_rec2 <- function(n = 5, depth = 1)\n",
    "{\n",
    "    indent <- paste(rep(\"   \", depth - 1), collapse = \"\") # that sets the width of the indent\n",
    "    depthx <- depth # create a copy of the variable so as not to create a confusion of variable and argument names in the recursive call\n",
    "    cat(sprintf(\"%senters depth %s for n = %s\\n\", indent, depthx, n))\n",
    "    \n",
    "    if (n == 1)\n",
    "    {\n",
    "        cat(sprintf(\"%sexits depth %s for n = %s with a base case value of 1\\n\", indent, depthx, n))        \n",
    "        return(1)\n",
    "    }\n",
    "    else\n",
    "    {\n",
    "        newx <- n * factorial_rec2(n - 1, depth + 1)\n",
    "        cat(sprintf(\"%sexits depth %s for n = %s with a value of %s\\n\", indent, depthx, n, newx))\n",
    "        return(newx)\n",
    "    }\n",
    "}"
   ]
  },
  {
   "cell_type": "code",
   "execution_count": null,
   "id": "6b8eb03c-d92b-46dd-9b50-3ae75823c5ef",
   "metadata": {},
   "outputs": [],
   "source": [
    "factorial_rec2(4)"
   ]
  },
  {
   "cell_type": "markdown",
   "id": "441bf9a3-2a42-4e31-b432-d8cb20fe5ed6",
   "metadata": {},
   "source": [
    "You can see how the recursion dives 4 levels deep (including the original call at level 1) and then returns back and collects values until the first call is returned "
   ]
  },
  {
   "cell_type": "markdown",
   "id": "8f2f791e-320f-4bbc-8211-c058277c21e5",
   "metadata": {},
   "source": [
    "### Fibonacci with recursion"
   ]
  },
  {
   "cell_type": "markdown",
   "id": "9c22670e-0623-4d7e-8739-5411d5069fc3",
   "metadata": {},
   "source": [
    "In mathematics, the Fibonacci sequence is a sequence in which each number is the sum of the two preceding ones.\n",
    "\n",
    "Numbers that are part of the Fibonacci sequence are known as Fibonacci numbers, commonly denoted Fn .\n",
    "\n",
    "The sequence starts from 1 and 1:\n",
    "\n",
    "1, 1, 2, 3, 5, 8, 13, 21, 34, 55, 89, 144,"
   ]
  },
  {
   "cell_type": "markdown",
   "id": "3e84cd50-31cd-4e3f-9232-b811391c0629",
   "metadata": {},
   "source": [
    "The Fibonacci numbers may be defined by the recurrence relation:\n",
    "\n",
    "${\\displaystyle F_{0}=0,\\quad F_{1}=1,}$\n",
    "\n",
    "and\n",
    "\n",
    "${\\displaystyle F_{n}=F_{n-1}+F_{n-2}}$"
   ]
  },
  {
   "cell_type": "markdown",
   "id": "2ff7bdcf-b763-464e-b1e2-5affc39fc9be",
   "metadata": {},
   "source": [
    "Recursive function to calculate F(n):\n",
    "\n",
    "Note that the base case is for n = 1 and n = 2:"
   ]
  },
  {
   "cell_type": "code",
   "execution_count": null,
   "id": "4d12e6fc-3fdd-4389-b6af-52acd08c8016",
   "metadata": {},
   "outputs": [],
   "source": [
    "fibo_rec <- function(n = 5)\n",
    "{\n",
    "    if (n <= 2) # that's for the base cases to stop further recursions\n",
    "    {\n",
    "        return(1)\n",
    "    }\n",
    "        else\n",
    "    {\n",
    "        return(fibo_rec(n - 1) + fibo_rec(n - 2)) # that's the recursive call to last two terms\n",
    "    }\n",
    "}"
   ]
  },
  {
   "cell_type": "markdown",
   "id": "20469786-22c4-4674-8e49-c624f5ef3065",
   "metadata": {},
   "source": [
    "Let's calculate multiple values:"
   ]
  },
  {
   "cell_type": "code",
   "execution_count": null,
   "id": "32d99791-33dc-4c44-8e67-8374de1f5424",
   "metadata": {},
   "outputs": [],
   "source": [
    "sapply(1:19, fibo_rec)"
   ]
  },
  {
   "cell_type": "markdown",
   "id": "9f8ed4ff-a616-4200-a0bb-2e3de2dbeb01",
   "metadata": {},
   "source": [
    "Let's check how much time we need to calculate each of the first 32 terms:"
   ]
  },
  {
   "cell_type": "code",
   "execution_count": null,
   "id": "2d286943-53d6-47f6-aa32-28a76b8f312f",
   "metadata": {},
   "outputs": [],
   "source": [
    "st_simple <- sapply(1:32, function(x) system.time(fibo_rec(x))[1])"
   ]
  },
  {
   "cell_type": "code",
   "execution_count": null,
   "id": "55f66efb-63c1-4caa-a470-22adeb5a753c",
   "metadata": {},
   "outputs": [],
   "source": [
    "unname(round(st_simple, 3))"
   ]
  },
  {
   "cell_type": "markdown",
   "id": "18627ae5-da87-4528-8380-3264c35e282e",
   "metadata": {},
   "source": [
    "See how computing time increases by n:"
   ]
  },
  {
   "cell_type": "code",
   "execution_count": null,
   "id": "95725f90-84d2-4fe0-85d2-509ea6e0df2b",
   "metadata": {},
   "outputs": [],
   "source": [
    "plot(st_simple, type = \"l\")"
   ]
  },
  {
   "cell_type": "markdown",
   "id": "1d31b7f6-d905-44d6-9bdc-939f1435c6f6",
   "metadata": {},
   "source": [
    "Why do you think the performance deteriorates?\n",
    "\n",
    "Can you spot the redundancy in these calculations?"
   ]
  },
  {
   "cell_type": "markdown",
   "id": "7ccb03db-e2cb-4eee-9cc1-e38757a9f28b",
   "metadata": {},
   "source": [
    "A similar kind of redundancy exists in the lyrics of the song by industrial metal band Rammstein:\n",
    "\n",
    "Du\n",
    "\n",
    "Du hast\n",
    "\n",
    "Du hast mich\n",
    "\n",
    "Du hast mich gefragt\n",
    "\n",
    "Du hast mich gefragt und ich hab nichts gesagt"
   ]
  },
  {
   "cell_type": "markdown",
   "id": "912f92cb-5e28-49f6-8d95-b5e562206590",
   "metadata": {},
   "source": [
    "That song appeared in the soundtrack to The Matrix movie in 1999:"
   ]
  },
  {
   "cell_type": "code",
   "execution_count": null,
   "id": "04fc54e9-e7fd-43dd-8934-bd747f5718c7",
   "metadata": {},
   "outputs": [],
   "source": [
    "IRdisplay::display_html('<iframe width=\"560\" height=\"315\" src=\"https://www.youtube.com/embed/TCJ5eNQ1c2s\" title=\"YouTube video player\" frameborder=\"0\" allow=\"accelerometer; autoplay; clipboard-write; encrypted-media; gyroscope; picture-in-picture\" allowfullscreen></iframe>')"
   ]
  },
  {
   "cell_type": "markdown",
   "id": "adf4e946-96b0-481b-990f-1690647c5ed9",
   "metadata": {},
   "source": [
    "Necati and Saykolar recorded a mesh-up of Du Hast with Ferdi Tayfur's \"Merak Etme Sen\" - a personal favorite of mine:"
   ]
  },
  {
   "cell_type": "code",
   "execution_count": null,
   "id": "205ecd7c-dee9-4642-9a7d-43221adc3e79",
   "metadata": {},
   "outputs": [],
   "source": [
    "IRdisplay::display_html('<iframe width=\"560\" height=\"315\" src=\"https://www.youtube.com/embed/kAHHkYmXdOQ\" title=\"YouTube video player\" frameborder=\"0\" allow=\"accelerometer; autoplay; clipboard-write; encrypted-media; gyroscope; picture-in-picture\" allowfullscreen></iframe>')"
   ]
  },
  {
   "cell_type": "markdown",
   "id": "e0d4ece9-4ebb-4957-9b42-4ce0f99bf032",
   "metadata": {},
   "source": [
    "Again we write a more informative version to show how the recursion dives into the stack and pops up again.\n",
    "\n",
    "A counter to identify the order of the calls are also added to see how many calls are made.\n",
    "\n",
    "Also since each calculation needs two previous terms, labelled as left (l) and right (r), the position of each recursive call along the tree of all recursions are also added.\n",
    "\n",
    "The original call we make is labelled as \"/\" or root call.\n",
    "\n",
    "Note that superassignment operator `<<-` is for modifying global objects - the call counter `callx` in this case:"
   ]
  },
  {
   "cell_type": "code",
   "execution_count": null,
   "id": "55a63993-adb1-43b2-951b-734ddbc4c5a9",
   "metadata": {},
   "outputs": [],
   "source": [
    "fibo_rec2 <- function(n = 5, depth = 1, term = \"/\")\n",
    "{\n",
    "    if (term == \"/\") # at the initial call, the counter as a global variable is reset\n",
    "    {\n",
    "        callx <<- 1\n",
    "    }\n",
    "    else\n",
    "    {\n",
    "        callx <<- callx + 1 # else increment the call\n",
    "    }\n",
    "    callx2 <- callx\n",
    "        \n",
    "    indent <- paste(rep(\"   \", depth - 1), collapse = \"\") # set the width of indent\n",
    "    depthx <- depth\n",
    "    termx <- term\n",
    "    cat(sprintf(\"%senters depth %s for term %s and n = %s at call %s\\n\", indent, depthx, termx, n, callx2))\n",
    "\n",
    "    if (n <= 2) # the  base cases\n",
    "    {\n",
    "        cat(sprintf(\"%sexits depth %s for term %s and n = %s with a base case value of 1 at call %s\\n\", indent, depthx, termx, n, callx2))        \n",
    "        return(1)\n",
    "    }\n",
    "        else\n",
    "    {\n",
    "        # recursive call\n",
    "        newx <- fibo_rec2(n - 1, depthx + 1, paste(termx, \"l\", sep = \"\")) + fibo_rec2(n - 2, depthx + 1, paste(termx, \"r\", sep = \"\"))\n",
    "        cat(sprintf(\"%sexits depth %s for term %s and n = %s with a value of %s at call %s\\n\", indent, depthx, termx, n, newx, callx2))\n",
    "        return(newx)\n",
    "    }\n",
    "}"
   ]
  },
  {
   "cell_type": "code",
   "execution_count": null,
   "id": "4fe37d02-ff6e-4949-a4e6-d9fb8fc5ff1c",
   "metadata": {},
   "outputs": [],
   "source": [
    "fibo_rec2(6)"
   ]
  },
  {
   "cell_type": "code",
   "execution_count": null,
   "id": "8445ea5e-de2f-4ab8-a682-1619fd78bc10",
   "metadata": {},
   "outputs": [],
   "source": [
    "callx"
   ]
  },
  {
   "cell_type": "markdown",
   "id": "2c93765a-ff86-460c-9fa7-3bb8343c5447",
   "metadata": {},
   "source": [
    "A total of 15 calls to fibo_rec2 function are made.\n",
    "\n",
    "Note that F(n) values for n = 3 and n = 4 are calculated more than once - that may be an answer to the redundancy question above."
   ]
  },
  {
   "cell_type": "markdown",
   "id": "a2d4623a-4fef-498f-a86b-59ce12f8b2d4",
   "metadata": {},
   "source": [
    "To understand in which order the recursive function calls traverses through the F(n) values, you can watch the below video that shows depth first traversal of a recursive tree.\n",
    "\n",
    "The nodes' positions in the tree are in line with our coding for the term (like /lllr, etc) and the height of the stack to the left is parallel to the depth we are tracking:"
   ]
  },
  {
   "cell_type": "code",
   "execution_count": null,
   "id": "bde33ba1-a0c7-4ff0-9f2d-ffb713b218b4",
   "metadata": {},
   "outputs": [],
   "source": [
    "IRdisplay::display_html('<iframe width=\"560\" height=\"315\" src=\"https://www.youtube.com/embed/a-xc8DO2FJo\" title=\"YouTube video player\" frameborder=\"0\" allow=\"accelerometer; autoplay; clipboard-write; encrypted-media; gyroscope; picture-in-picture\" allowfullscreen></iframe>')"
   ]
  },
  {
   "cell_type": "markdown",
   "id": "4708804d-aef4-4613-94d6-0c10599dfa05",
   "metadata": {},
   "source": [
    "So the algorithm follows the left path (for n-1) first to reach the base case (\"leaf\" in graph terminology) every time, and then traverses to the right path (for n-2) after the left part of the tree below is traversed (because our code adds the F(n-1) and F(n-2) terms in that order)"
   ]
  },
  {
   "cell_type": "markdown",
   "id": "4bab46cf-81cb-49d8-b1ef-8d75e0186bdf",
   "metadata": {},
   "source": [
    "## DYNAMIC PROGRAMMING (OPTIONAL)"
   ]
  },
  {
   "cell_type": "markdown",
   "id": "df19a6e0-5558-40eb-9a92-d8c5f788b612",
   "metadata": {},
   "source": [
    "There are two key attributes that a problem must have in order for dynamic programming to be applicable:\n",
    "- Optimal substructure: Optimal substructure means that the solution to a given optimization problem can be obtained by the combination of optimal solutions to its sub-problems. Such optimal substructures are usually described by means of recursion.\n",
    "\n",
    "- Overlapping sub-problems: Overlapping sub-problems means that the space of sub-problems must be small, that is, any recursive algorithm solving the problem should solve the same sub-problems over and over, rather than generating new sub-problems."
   ]
  },
  {
   "cell_type": "markdown",
   "id": "447f70d6-4256-407e-94c1-53aa8cbb3e8c",
   "metadata": {},
   "source": [
    "This can be achieved in either of two ways:\n",
    "\n",
    "- Top-down approach: This is the direct fall-out of the recursive formulation of any problem. If the solution to any problem can be formulated recursively using the solution to its sub-problems, and if its sub-problems are overlapping, then one can easily memoize or store the solutions to the sub-problems in a table. Whenever we attempt to solve a new sub-problem, we first check the table to see if it is already solved. If a solution has been recorded, we can use it directly, otherwise we solve the sub-problem and add its solution to the table.\n",
    "\n",
    "- Bottom-up approach: Once we formulate the solution to a problem recursively as in terms of its sub-problems, we can try reformulating the problem in a bottom-up fashion: try solving the sub-problems first and use their solutions to build-on and arrive at solutions to bigger sub-problems. This is also usually done in a tabular form by iteratively generating solutions to bigger and bigger sub-problems by using the solutions to small sub-problems. For example, if we already know the values of F41 and F40, we can directly calculate the value of F42."
   ]
  },
  {
   "cell_type": "markdown",
   "id": "96984de0-ac48-42b6-a5ba-c01c0ceafcf3",
   "metadata": {},
   "source": [
    "In computing, memoization or memoisation is an optimization technique used primarily to speed up computer programs by storing the results of expensive function calls to pure functions and returning the cached result when the same inputs occur again."
   ]
  },
  {
   "cell_type": "markdown",
   "id": "e24fbb83-777e-42fa-8df5-fdac93c40ce4",
   "metadata": {},
   "source": [
    "### Fibonacci with dynamic programming"
   ]
  },
  {
   "cell_type": "markdown",
   "id": "af1dd852-c1f9-4750-bfdd-9e7463c1a20b",
   "metadata": {},
   "source": [
    "Let's implement the fibonacci algorithm so that earlier solutions are collected and retrieved if exists when needed (memoization).\n",
    "\n",
    "A global vector \"memo\" is created if it doesn't exist yet:"
   ]
  },
  {
   "cell_type": "code",
   "execution_count": null,
   "id": "5f5911be-5e51-4de4-b629-bfe24bfd9505",
   "metadata": {},
   "outputs": [],
   "source": [
    "fibo_rec_dp <- function(n = 5)\n",
    "{\n",
    "    if (!exists(\"memo\")) memo <<- integer(0) # if the global lookup vector does not exist, initiate an empty one\n",
    "    \n",
    "    if (!is.na(memo[n])) return(memo[n]) # if F(n) was already calculated, retrieve from the lookup vector\n",
    "    \n",
    "    if (n <= 2) # base cases\n",
    "    {\n",
    "        return(1)\n",
    "    }\n",
    "        else\n",
    "    {\n",
    "        # calculate n-1 term\n",
    "        if (!is.na(memo[n-1])) # if F(n-1) was already calculated, retrieve from the lookup vector\n",
    "        {\n",
    "            term1 <- memo[n-1]\n",
    "        }\n",
    "        else\n",
    "        {\n",
    "            term1 <- fibo_rec_dp(n - 1) # else recursively calculate it\n",
    "        }\n",
    "\n",
    "        # repeat above steps for n-2 term                          \n",
    "        if (!is.na(memo[n-2]))\n",
    "        {\n",
    "            term2 <- memo[n-2]\n",
    "        }\n",
    "        else\n",
    "        {\n",
    "            term2 <- fibo_rec_dp(n - 2)\n",
    "        }\n",
    "        \n",
    "        termnew <- term1 + term2\n",
    "            \n",
    "        memo[n] <<- termnew # memoise the newly calculated F(n) so that retrieve that value in subsequent calls\n",
    "            \n",
    "        return(termnew)\n",
    "    }\n",
    "}"
   ]
  },
  {
   "cell_type": "markdown",
   "id": "63683017-f062-4ab7-add3-43bd8819efa4",
   "metadata": {},
   "source": [
    "Let's see how fast it is for the first 32 numbers:"
   ]
  },
  {
   "cell_type": "code",
   "execution_count": null,
   "id": "933e534c-b706-42ef-a1b8-56de915911be",
   "metadata": {},
   "outputs": [],
   "source": [
    "rm(memo)\n",
    "st_dp <- sapply(1:32, function(x) system.time(fibo_rec_dp(x))[1])"
   ]
  },
  {
   "cell_type": "code",
   "execution_count": null,
   "id": "703d4ffa-56e7-40ad-863d-6b592335ce79",
   "metadata": {},
   "outputs": [],
   "source": [
    "rm(memo)\n",
    "fibos <- sapply(1:32, fibo_rec_dp)"
   ]
  },
  {
   "cell_type": "code",
   "execution_count": null,
   "id": "15009116-65a3-4754-a413-c4bbc2916c12",
   "metadata": {},
   "outputs": [],
   "source": [
    "fibos"
   ]
  },
  {
   "cell_type": "markdown",
   "id": "270cde6d-b1bd-4139-ac0d-1bb76d2e0521",
   "metadata": {},
   "source": [
    "This is the lookup vector that we populated with memoized values. Once a term is calculated, it can just be looked up:"
   ]
  },
  {
   "cell_type": "code",
   "execution_count": null,
   "id": "ca5b497b-a8b3-4129-bc08-88bbb4f113c2",
   "metadata": {},
   "outputs": [],
   "source": [
    "memo"
   ]
  },
  {
   "cell_type": "code",
   "execution_count": null,
   "id": "40fc5ae5-744d-4b6b-ab17-bebfaf8c0d6a",
   "metadata": {},
   "outputs": [],
   "source": [
    "unname(round(st_dp, 3))"
   ]
  },
  {
   "cell_type": "markdown",
   "id": "3f954f1e-9fd3-4e25-a8bc-5a8c91023b39",
   "metadata": {},
   "source": [
    "See how computing time increases by n:"
   ]
  },
  {
   "cell_type": "code",
   "execution_count": null,
   "id": "4b1619a2-3988-4e10-8dcc-e48ef8a1777f",
   "metadata": {},
   "outputs": [],
   "source": [
    "plot(st_dp, type = \"l\", ylim = c(0, max(st_simple)))"
   ]
  },
  {
   "cell_type": "markdown",
   "id": "0ad85e10-50b7-43fa-92fc-beb9d47ad64e",
   "metadata": {},
   "source": [
    "No deterioration in performance, scales well!"
   ]
  },
  {
   "cell_type": "markdown",
   "id": "31179d02-9543-4db2-aa7a-6baa7a5c4eac",
   "metadata": {},
   "source": [
    "See how various types of calls have extremely different performances:"
   ]
  },
  {
   "cell_type": "code",
   "execution_count": null,
   "id": "98d4bce7-cb81-486a-ab41-85c1a35d37a7",
   "metadata": {},
   "outputs": [],
   "source": [
    "system.time(for(i in 1:1e6) fibo_rec(1))"
   ]
  },
  {
   "cell_type": "markdown",
   "id": "8443e5ef-9065-4d41-9ec8-aaed0874fdb0",
   "metadata": {},
   "source": [
    "A simple vector subset is much faster than the call to the function we created even for the base case (that's why memoization is much faster, apart from removing the redundant re-calculations):"
   ]
  },
  {
   "cell_type": "code",
   "execution_count": null,
   "id": "343a50a9-aead-42e7-94c5-33cdc6fd18fc",
   "metadata": {},
   "outputs": [],
   "source": [
    "system.time(for(i in 1:1e6) memo[1])"
   ]
  },
  {
   "cell_type": "markdown",
   "id": "9823f3a3-a27d-487c-8dd3-7788512ad910",
   "metadata": {},
   "source": [
    "And just returning the value for the base case - without a call to the wrapper function - is extremely fast (that's why we don't have to memoize the base case, returning \"1\" is much faster than subsetting the lookup vector for that value):"
   ]
  },
  {
   "cell_type": "code",
   "execution_count": null,
   "id": "672a9356-8a49-41f9-a6de-e9e6c5dea7cd",
   "metadata": {},
   "outputs": [],
   "source": [
    "system.time(for(i in 1:1e6) return(1))"
   ]
  },
  {
   "cell_type": "markdown",
   "id": "03015781-7cd4-4ae1-91cf-0336f7158bb4",
   "metadata": {},
   "source": [
    "Let's try a more demanding calculation up to the 200th F(n):"
   ]
  },
  {
   "cell_type": "code",
   "execution_count": null,
   "id": "15268a94-2ec3-4d8f-9107-68f2dc55a0fd",
   "metadata": {},
   "outputs": [],
   "source": [
    "rm(memo)\n",
    "st_dp2 <- sapply(1:200, function(x) system.time(fibo_rec_dp(x))[1])"
   ]
  },
  {
   "cell_type": "code",
   "execution_count": null,
   "id": "df432a59-e97f-4b5f-89f5-e3c533f95351",
   "metadata": {},
   "outputs": [],
   "source": [
    "unname(round(st_dp2, 3))"
   ]
  },
  {
   "cell_type": "code",
   "execution_count": null,
   "id": "1a40cefb-8f26-4f30-9ad4-c1ed384c603e",
   "metadata": {},
   "outputs": [],
   "source": [
    "plot(st_dp2, type = \"l\", ylim = c(0, max(st_simple)))"
   ]
  },
  {
   "cell_type": "markdown",
   "id": "98926baf-acb1-43ce-b925-f2cb3f8d5a55",
   "metadata": {},
   "source": [
    "It can scale very well!"
   ]
  },
  {
   "cell_type": "markdown",
   "id": "8b646dd4-fedd-4141-a51d-bbfeaacbb270",
   "metadata": {},
   "source": [
    "And see the memoized values:"
   ]
  },
  {
   "cell_type": "code",
   "execution_count": null,
   "id": "afc8a64e-b9e8-495e-abe2-9b32977adf5d",
   "metadata": {},
   "outputs": [],
   "source": [
    "memo"
   ]
  },
  {
   "cell_type": "markdown",
   "id": "61d28c27-3e89-4c57-a873-e577b15dcf2f",
   "metadata": {},
   "source": [
    "Now let's create again a more informative version including the depth level, call number and the position of the call in the tree of recursive calls.\n",
    "\n",
    "We also print information when any of the n, n-1 or n-2 terms already exists in the lookup vector and just retrieved without any further calculations.\n",
    "\n",
    "When any F(n) term is first calculated and memoized, an information is also printed"
   ]
  },
  {
   "cell_type": "code",
   "execution_count": null,
   "id": "5fa2baa8-8674-428b-9a89-7f518935863d",
   "metadata": {},
   "outputs": [],
   "source": [
    "fibo_rec_dp2 <- function(n = 5, depth = 1, term = \"/\")\n",
    "{\n",
    "    if (term == \"/\")\n",
    "    {\n",
    "        callx <<- 1\n",
    "    }\n",
    "    else\n",
    "    {\n",
    "        callx <<- callx + 1\n",
    "    }\n",
    "    callx2 <- callx\n",
    "        \n",
    "    indent <- paste(rep(\"   \", depth - 1), collapse = \"\")\n",
    "    depthx <- depth\n",
    "    termx <- term\n",
    "    cat(sprintf(\"%senters depth %s for term %s and n = %s at call %s\\n\", indent, depthx, termx, n, callx2))\n",
    "\n",
    "    if (!exists(\"memo\")) memo <<- integer(0)\n",
    "    \n",
    "    if (!is.na(memo[n]))\n",
    "    {\n",
    "        newx <- memo[n]\n",
    "        cat(sprintf(\"%sexits depth %s for term %s and n = %s with a value of %s from lookup at call %s\\n\", indent, depthx, termx, n, newx, callx2))\n",
    "        return(newx)\n",
    "    }\n",
    "        \n",
    "    if (n <= 2)\n",
    "    {\n",
    "        cat(sprintf(\"%sexits depth %s for term %s and n = %s with a base case value of 1 at call %s\\n\", indent, depthx, termx, n, callx2))                \n",
    "        return(1)\n",
    "    }\n",
    "        else\n",
    "    {\n",
    "        if (!is.na(memo[n-1]))\n",
    "        {\n",
    "            depthx2 <- depthx + 1\n",
    "            indent2 <- paste(rep(\"   \", depthx2 - 1), collapse = \"\")\n",
    "            termx2 <- paste(termx, \"l\", sep = \"\")            \n",
    "            term1 <- memo[n-1]\n",
    "            cat(sprintf(\"%sskips depth %s for term %s and n = %s with a value of %s from lookup\\n\", indent2, depthx2, termx2, n-1, term1))\n",
    "        }\n",
    "        else\n",
    "        {\n",
    "            term1 <- fibo_rec_dp2(n - 1, depthx + 1, paste(termx, \"l\", sep = \"\"))\n",
    "        }\n",
    "\n",
    "                          \n",
    "        if (!is.na(memo[n-2]))\n",
    "        {\n",
    "            depthx2 <- depthx + 1\n",
    "            indent2 <- paste(rep(\"   \", depthx2 - 1), collapse = \"\")\n",
    "            termx3 <- paste(termx, \"r\", sep = \"\")            \n",
    "            term2 <- memo[n-2]\n",
    "            cat(sprintf(\"%sskips depth %s for term %s and n = %s with a value of %s from lookup\\n\", indent2, depthx2, termx3, n-2, term2))            \n",
    "        }\n",
    "        else\n",
    "        {\n",
    "            term2 <- fibo_rec_dp2(n - 2, depthx + 1, paste(termx, \"r\", sep = \"\"))\n",
    "        }\n",
    "        \n",
    "        termnew <- term1 + term2\n",
    "            \n",
    "        memo[n] <<- termnew \n",
    "        cat(sprintf(\"%sexits depth %s for term %s and n = %s with a value of %s and memoizes the value at call %s\\n\", indent, depthx, termx, n, termnew, callx2))            \n",
    "        return(termnew)\n",
    "    }\n",
    "}"
   ]
  },
  {
   "cell_type": "markdown",
   "id": "f3ef8970-479d-4e35-833c-edce3e1b41bf",
   "metadata": {},
   "source": [
    "First, the previous simple recursive version for F(6):"
   ]
  },
  {
   "cell_type": "code",
   "execution_count": null,
   "id": "c50f2206-c7f4-4e79-b4f6-f5890ab25edc",
   "metadata": {},
   "outputs": [],
   "source": [
    "fibo_rec2(6)"
   ]
  },
  {
   "cell_type": "code",
   "execution_count": null,
   "id": "78bb5db4-17ce-4f27-841b-1093b8058351",
   "metadata": {},
   "outputs": [],
   "source": [
    "callx"
   ]
  },
  {
   "cell_type": "markdown",
   "id": "e76054f3-b930-4875-ac5f-fbb730b60e57",
   "metadata": {},
   "source": [
    "And now the dynamic programming version:"
   ]
  },
  {
   "cell_type": "code",
   "execution_count": null,
   "id": "38ab17ab-e785-4fef-aa26-2d94f93042d7",
   "metadata": {},
   "outputs": [],
   "source": [
    "rm(memo)\n",
    "fibo_rec_dp2(6)"
   ]
  },
  {
   "cell_type": "code",
   "execution_count": null,
   "id": "a5c80333-c4a5-408f-80c8-b93d73f68d89",
   "metadata": {},
   "outputs": [],
   "source": [
    "callx"
   ]
  },
  {
   "cell_type": "markdown",
   "id": "66c51322-5715-40d0-bb4e-e0f5477abe78",
   "metadata": {},
   "source": [
    "See that, for the same F(6), the dynamic programming version needs only 7 calls while the simple recursive version needed 15 calls.\n",
    "\n",
    "Why? In the dynamic programming version, already memoized values are just looked up and returned in subsequent visits, without the need for recalculation and respective recursive calls"
   ]
  }
 ],
 "metadata": {
  "kernelspec": {
   "display_name": "R",
   "language": "R",
   "name": "ir"
  },
  "language_info": {
   "codemirror_mode": "r",
   "file_extension": ".r",
   "mimetype": "text/x-r-source",
   "name": "R",
   "pygments_lexer": "r",
   "version": "4.3.2"
  },
  "toc-autonumbering": true
 },
 "nbformat": 4,
 "nbformat_minor": 5
}
