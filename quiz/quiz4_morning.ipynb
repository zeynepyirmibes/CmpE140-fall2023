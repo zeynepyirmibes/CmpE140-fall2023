{
 "cells": [
  {
   "cell_type": "markdown",
   "id": "b67a2db8",
   "metadata": {},
   "source": [
    "# Quiz 4 (Morning)"
   ]
  },
  {
   "cell_type": "markdown",
   "id": "168fe754",
   "metadata": {},
   "source": [
    "## Question 1 \n",
    "\n",
    "Write a function called ``mat(r, c)`` that creates a matrix named NEO which has ``r`` rows and ``c`` columns. Each cell should have its row number (1, 2, 3, 4...) assigned to it and each column should have a number (1, 2, 3, 4...) assigned to it as such: row1col1, etc.\n",
    "\n",
    "Hint : You can use a \"double for loop\".\n",
    "\n",
    "Your output should be:\n",
    "\n",
    "```r\n",
    "> mat(6, 5)\n",
    "\n",
    "     [,1]       [,2]       [,3]       [,4]       [,5]      \n",
    "[1,] \"row1col1\" \"row1col2\" \"row1col3\" \"row1col4\" \"row1col5\"\n",
    "[2,] \"row2col1\" \"row2col2\" \"row2col3\" \"row2col4\" \"row2col5\"\n",
    "[3,] \"row3col1\" \"row3col2\" \"row3col3\" \"row3col4\" \"row3col5\"\n",
    "[4,] \"row4col1\" \"row4col2\" \"row4col3\" \"row4col4\" \"row4col5\"\n",
    "[5,] \"row5col1\" \"row5col2\" \"row5col3\" \"row5col4\" \"row5col5\"\n",
    "[6,] \"row6col1\" \"row6col2\" \"row6col3\" \"row6col4\" \"row6col5\"\n",
    "```"
   ]
  },
  {
   "cell_type": "code",
   "execution_count": null,
   "id": "b4ca6471",
   "metadata": {},
   "outputs": [],
   "source": []
  },
  {
   "cell_type": "markdown",
   "id": "c120a2e7",
   "metadata": {},
   "source": [
    "## Question 2\n",
    "\n",
    "Using the \"mtcars\" data set in R, compute the average horsepower (hp) for each transmission type in the dataset.\n",
    "\n",
    "Hint : Use the aggregate() function.\n",
    "\n",
    "Your output should be :\n",
    "```\n",
    "   am       hp\n",
    "1  0 160.2632\n",
    "2  1 126.8462\n",
    "\n",
    "```"
   ]
  },
  {
   "cell_type": "code",
   "execution_count": null,
   "id": "c0ae734e",
   "metadata": {},
   "outputs": [],
   "source": []
  },
  {
   "cell_type": "markdown",
   "id": "a21d75a5",
   "metadata": {},
   "source": [
    "# Question 3\n",
    "Answer the following questions using the \"mtcars\" dataset.\n",
    "\n",
    "1. View the first 6 rows of the mtcars data set.\n",
    "\n",
    "2. In the mtcars dataset, create a new data frame containing vehicles with an engine displacement (disp) greater than 200 and display the first 5 rows of this new data frame.\n",
    "\n",
    "3. Add a new column named Weight_KG to the mtcars dataset. This column should show the weight of the vehicles in kilograms (1 lb = 0.453592 kg). View the updated top 5 lines of mtcars.\n",
    "\n",
    "4. Calculate and print average mpg values for each cyl (number of cylinders) value.\n",
    "\n",
    "Your output should be :\n",
    "\n",
    "```\n",
    "[1]\n",
    "                   mpg cyl disp  hp drat    wt  qsec vs am gear carb\n",
    "Mazda RX4         21.0   6  160 110 3.90 2.620 16.46  0  1    4    4\n",
    "Mazda RX4 Wag     21.0   6  160 110 3.90 2.875 17.02  0  1    4    4\n",
    "Datsun 710        22.8   4  108  93 3.85 2.320 18.61  1  1    4    1\n",
    "Hornet 4 Drive    21.4   6  258 110 3.08 3.215 19.44  1  0    3    1\n",
    "Hornet Sportabout 18.7   8  360 175 3.15 3.440 17.02  0  0    3    2\n",
    "Valiant           18.1   6  225 105 2.76 3.460 20.22  1  0    3    1\n",
    "\n",
    "[2]\n",
    "                   mpg cyl  disp  hp drat    wt  qsec vs am gear carb\n",
    "Hornet 4 Drive    21.4   6 258.0 110 3.08 3.215 19.44  1  0    3    1\n",
    "Hornet Sportabout 18.7   8 360.0 175 3.15 3.440 17.02  0  0    3    2\n",
    "Valiant           18.1   6 225.0 105 2.76 3.460 20.22  1  0    3    1\n",
    "Duster 360        14.3   8 360.0 245 3.21 3.570 15.84  0  0    3    4\n",
    "Merc 450SE        16.4   8 275.8 180 3.07 4.070 17.40  0  0    3    3\n",
    "\n",
    "[3]\n",
    "\n",
    "                  mpg cyl disp  hp drat    wt  qsec vs am gear carb Weight_KG\n",
    "Mazda RX4         21.0   6  160 110 3.90 2.620 16.46  0  1    4    4  1.188411\n",
    "Mazda RX4 Wag     21.0   6  160 110 3.90 2.875 17.02  0  1    4    4  1.304077\n",
    "Datsun 710        22.8   4  108  93 3.85 2.320 18.61  1  1    4    1  1.052333\n",
    "Hornet 4 Drive    21.4   6  258 110 3.08 3.215 19.44  1  0    3    1  1.458298\n",
    "Hornet Sportabout 18.7   8  360 175 3.15 3.440 17.02  0  0    3    2  1.560356\n",
    "\n",
    "\n",
    "[4]\n",
    "  cyl      mpg\n",
    "1   4 26.66364\n",
    "2   6 19.74286\n",
    "3   8 15.10000\n",
    "```"
   ]
  },
  {
   "cell_type": "code",
   "execution_count": null,
   "id": "e3ad6ba7",
   "metadata": {},
   "outputs": [],
   "source": []
  }
 ],
 "metadata": {
  "kernelspec": {
   "display_name": "R",
   "language": "R",
   "name": "ir"
  },
  "language_info": {
   "codemirror_mode": "r",
   "file_extension": ".r",
   "mimetype": "text/x-r-source",
   "name": "R",
   "pygments_lexer": "r",
   "version": "3.6.1"
  }
 },
 "nbformat": 4,
 "nbformat_minor": 5
}
