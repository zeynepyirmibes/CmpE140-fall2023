{
 "cells": [
  {
   "cell_type": "markdown",
   "id": "fa272f03",
   "metadata": {},
   "source": [
    "# Quiz 1 - Vectors\n",
    "\n",
    "## Question 1\n",
    "\n",
    "In order to convert a weight from kilograms to pounds, you need to use a conversion factor of 2.20462. This factor is used because there are approximately 2.20462 pounds in one kilogram.\n",
    "\n",
    "Convert the following measurements to pounds."
   ]
  },
  {
   "cell_type": "code",
   "execution_count": null,
   "id": "81fc0c09",
   "metadata": {},
   "outputs": [],
   "source": [
    "kilograms <- c(80, 93, 147, 53, 71, 18, 140)"
   ]
  },
  {
   "cell_type": "markdown",
   "id": "b7f5b7bc",
   "metadata": {},
   "source": [
    "Your output should be:"
   ]
  },
  {
   "cell_type": "code",
   "execution_count": null,
   "id": "6b99b729",
   "metadata": {},
   "outputs": [],
   "source": [
    "176.36960 205.02966 324.07914 116.84486 156.52802  39.68316 308.64680"
   ]
  },
  {
   "cell_type": "markdown",
   "id": "6e8b8b07",
   "metadata": {},
   "source": [
    "## Question 2\n",
    "\n",
    "Ali, Hilal, Yunus, Ayten, Yasin and Azra applied for an internship position. The company will invite three candidates with the highest GPA for an interview. GPA's of candidates are given below:\n",
    "\n",
    "3.92, 2.78, 3.84, 3.11, 2.97, 3.55\n",
    "\n",
    "Find out which students the company will select and the students' GPA.\n",
    "\n",
    "The answer is:"
   ]
  },
  {
   "cell_type": "code",
   "execution_count": null,
   "id": "48600769",
   "metadata": {},
   "outputs": [],
   "source": [
    "Ali Yunus  Azra \n",
    "3.92  3.84  3.55 "
   ]
  },
  {
   "cell_type": "markdown",
   "id": "3e2bf29a",
   "metadata": {},
   "source": [
    "## Question 3\n",
    "\n",
    "Murat and Ayşe are planning to move to another country. Their goal is to move to a country with the highest possible HDI (Human Development Index) value. However, it is usually more difficult to obtain a visa from highly developed countries. Murat and Ayşe narrowed their options to 12 countries. HDI value for those countries are given below:\n",
    "\n",
    "|Country|HDI|\n",
    "|------|------|\n",
    "|Russia|42|\n",
    "|United States|63|\n",
    "|China|30|                                    \n",
    "|Brazil|37|               \n",
    "|Australia|73|\n",
    "|India|18|\n",
    "|Turkey|45|\n",
    "|France|78|\n",
    "|Japan|85|\n",
    "|Venezuela|25|\n",
    "|Argentina|33|\n",
    "|Norway|91|\n",
    "\n",
    "Murat thinks they should choose a country with an HDI value of at least 40 while Ayşe thinks they shouldn't apply to a country whose HDI is higher than 70 because they will be rejected.\n",
    "\n",
    "To help them come to a decision, show which countries meet the standards put forth by both Murat and Ayşe.\n",
    "\n",
    "Your output should be:"
   ]
  },
  {
   "cell_type": "code",
   "execution_count": null,
   "id": "7c561c98",
   "metadata": {},
   "outputs": [],
   "source": [
    "Russia Turkey \n",
    "    42     45 "
   ]
  },
  {
   "cell_type": "markdown",
   "id": "7e77bd9e",
   "metadata": {},
   "source": [
    "## Question 4\n",
    "\n",
    "Consider the following data:\n",
    "\n",
    "|Country|Area|Population|\n",
    "|------|------|------|\n",
    "|Russia|17,098,242|142,257,519|\n",
    "|United States|9,833,517|326,625,791|\n",
    "|China|9,596,960|1,379,302,771|                                    \n",
    "|Brazil|8,515,770|207,353,391|                \n",
    "|Australia|7,741,220|23,232,413|\n",
    "|India|3,287,263|1,281,935,911|\n",
    "|Turkey|783,562|80,845,215|\n",
    "|France|643,801|67,106,161|\n",
    "|Japan|377,915|126,451,398|\n",
    "|United Kingdom|243,610|65,648,100|\n",
    "\n",
    "1. Create a vector called **density** that holds the population density of the countries.\n",
    "\n",
    "2. Print the names of countries sorted by population density, in descending order.\n",
    "\n",
    "Your outputs should look like this:"
   ]
  },
  {
   "cell_type": "code",
   "execution_count": null,
   "id": "c060e2d4",
   "metadata": {},
   "outputs": [],
   "source": [
    "    Russia         US      China     Brazil  Australia      India     Turkey      Japan         UK \n",
    "  8.320009  33.215562 143.722884  24.349341   3.001131 389.970596 103.176539 334.602749 269.480317 \n",
    "\n",
    "\"India\"     \"Japan\"     \"UK\"        \"China\"     \"Turkey\"    \"US\"        \"Brazil\"    \"Russia\"    \"Australia\""
   ]
  }
 ],
 "metadata": {
  "kernelspec": {
   "display_name": "R",
   "language": "R",
   "name": "ir"
  },
  "language_info": {
   "codemirror_mode": "r",
   "file_extension": ".r",
   "mimetype": "text/x-r-source",
   "name": "R",
   "pygments_lexer": "r",
   "version": "3.6.1"
  }
 },
 "nbformat": 4,
 "nbformat_minor": 5
}
