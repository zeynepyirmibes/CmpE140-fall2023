{
 "cells": [
  {
   "cell_type": "markdown",
   "id": "26166090",
   "metadata": {},
   "source": [
    "# Quiz 1 - Vectors\n",
    "\n",
    "## Question 1\n",
    "\n",
    "Suppose you have two vectors x and y with the following data:"
   ]
  },
  {
   "cell_type": "code",
   "execution_count": 4,
   "id": "9a67fdf4",
   "metadata": {},
   "outputs": [],
   "source": [
    "x <- c(1, 2, 3, 4, 5)\n",
    "y <- c(2, 3, 5, 6, 7)"
   ]
  },
  {
   "cell_type": "code",
   "execution_count": 6,
   "id": "6326c5f0",
   "metadata": {},
   "outputs": [
    {
     "data": {
      "text/html": [
       "82"
      ],
      "text/latex": [
       "82"
      ],
      "text/markdown": [
       "82"
      ],
      "text/plain": [
       "[1] 82"
      ]
     },
     "metadata": {},
     "output_type": "display_data"
    }
   ],
   "source": [
    "sum(x * y)"
   ]
  },
  {
   "cell_type": "markdown",
   "id": "737bf6e9",
   "metadata": {},
   "source": [
    "What is the dot product of x and y?\n",
    "\n",
    "The answer should be:"
   ]
  },
  {
   "cell_type": "code",
   "execution_count": null,
   "id": "290f6bef",
   "metadata": {},
   "outputs": [],
   "source": [
    "82"
   ]
  },
  {
   "cell_type": "markdown",
   "id": "52446a09",
   "metadata": {},
   "source": [
    "## Question 2\n",
    "\n",
    "MGM's one week weather estimations are respectively 15,16,13,15,14,14,17 C° from Sunday to Saturday. Measured temperatures for that week are 17 C° for each day. \n",
    "\n",
    "1. Find the average difference between estimations and real values and round it to 2 decimal places. \n",
    "2. Which forecasts coincide with the actual temperature?\n",
    "\n",
    "Your outputs should be:"
   ]
  },
  {
   "cell_type": "code",
   "execution_count": null,
   "id": "d2145d7b",
   "metadata": {},
   "outputs": [],
   "source": [
    "-2.14\n",
    "\n",
    "Saturday \n",
    "      17 "
   ]
  },
  {
   "cell_type": "code",
   "execution_count": 18,
   "id": "218576fd",
   "metadata": {},
   "outputs": [
    {
     "data": {
      "text/html": [
       "-2.14"
      ],
      "text/latex": [
       "-2.14"
      ],
      "text/markdown": [
       "-2.14"
      ],
      "text/plain": [
       "[1] -2.14"
      ]
     },
     "metadata": {},
     "output_type": "display_data"
    },
    {
     "data": {
      "text/html": [
       "<dl class=dl-horizontal>\n",
       "\t<dt>Monday</dt>\n",
       "\t\t<dd>16</dd>\n",
       "\t<dt>Saturday</dt>\n",
       "\t\t<dd>17</dd>\n",
       "</dl>\n"
      ],
      "text/latex": [
       "\\begin{description*}\n",
       "\\item[Monday] 16\n",
       "\\item[Saturday] 17\n",
       "\\end{description*}\n"
      ],
      "text/markdown": [
       "Monday\n",
       ":   16Saturday\n",
       ":   17\n",
       "\n"
      ],
      "text/plain": [
       "  Monday Saturday \n",
       "      16       17 "
      ]
     },
     "metadata": {},
     "output_type": "display_data"
    }
   ],
   "source": [
    "estimations <- c(Sunday=15, Monday=16, Tuesday=13, Wednesday=15, Thursday=14, Friday=14, Saturday=17)\n",
    "round(mean(estimations) - 17, 2)\n",
    "\n",
    "estimations[estimations > 15]"
   ]
  },
  {
   "cell_type": "code",
   "execution_count": 19,
   "id": "de866fe9",
   "metadata": {},
   "outputs": [
    {
     "data": {
      "text/html": [
       "<dl class=dl-horizontal>\n",
       "\t<dt>Sunday</dt>\n",
       "\t\t<dd>FALSE</dd>\n",
       "\t<dt>Monday</dt>\n",
       "\t\t<dd>TRUE</dd>\n",
       "\t<dt>Tuesday</dt>\n",
       "\t\t<dd>FALSE</dd>\n",
       "\t<dt>Wednesday</dt>\n",
       "\t\t<dd>FALSE</dd>\n",
       "\t<dt>Thursday</dt>\n",
       "\t\t<dd>FALSE</dd>\n",
       "\t<dt>Friday</dt>\n",
       "\t\t<dd>FALSE</dd>\n",
       "\t<dt>Saturday</dt>\n",
       "\t\t<dd>TRUE</dd>\n",
       "</dl>\n"
      ],
      "text/latex": [
       "\\begin{description*}\n",
       "\\item[Sunday] FALSE\n",
       "\\item[Monday] TRUE\n",
       "\\item[Tuesday] FALSE\n",
       "\\item[Wednesday] FALSE\n",
       "\\item[Thursday] FALSE\n",
       "\\item[Friday] FALSE\n",
       "\\item[Saturday] TRUE\n",
       "\\end{description*}\n"
      ],
      "text/markdown": [
       "Sunday\n",
       ":   FALSEMonday\n",
       ":   TRUETuesday\n",
       ":   FALSEWednesday\n",
       ":   FALSEThursday\n",
       ":   FALSEFriday\n",
       ":   FALSESaturday\n",
       ":   TRUE\n",
       "\n"
      ],
      "text/plain": [
       "   Sunday    Monday   Tuesday Wednesday  Thursday    Friday  Saturday \n",
       "    FALSE      TRUE     FALSE     FALSE     FALSE     FALSE      TRUE "
      ]
     },
     "metadata": {},
     "output_type": "display_data"
    }
   ],
   "source": [
    "estimations > 15"
   ]
  },
  {
   "cell_type": "markdown",
   "id": "54d4d3b5",
   "metadata": {},
   "source": [
    "## Question 3\n",
    "\n",
    "Elif and Berkay are students of economics in Boğaziçi University. They are conducting a research about developing countries in their EC208 class. They have a dataset, given below; about some countries' exchange rate vs US Dollars and the subcontinents they are on. The teacher asks Elif to present the exchange rates of all Asian countries on the list in ascending order whereas he asks Berkay to present the exchange rates of all European countries on the list in descending order. \n",
    "\n",
    "\n",
    "|Country|Exchange Rate|Region|\n",
    "|------|------|------|\n",
    "|Singapore|1.4|Southeast Asia|\n",
    "|Albania|113|Eastern Europe|\n",
    "|Argentina|130.6|South America|                                \n",
    "|Hong Kong|7.8|East Asia|               \n",
    "|Portugal|0.9|Southern Europe|\n",
    "|Korea|1291.4|East Africa|\n",
    "|Madagascar|4096.1|East Africa|\n",
    "|Morocco|10.2|North Africa|\n",
    "|Indonesia|14849.9|Southeast Asia|\n",
    "|Saudi Arabia|3.8|Middle East Asia|\n",
    "|Slovakia|72.5|Eastern Europe|\n",
    "\n",
    "\n",
    "Your output should be:"
   ]
  },
  {
   "cell_type": "code",
   "execution_count": null,
   "id": "4cfeae7a",
   "metadata": {},
   "outputs": [],
   "source": [
    "Singapore Saudi Arabia    Hong Kong   Korea      Indonesia \n",
    "  1.4          3.8          7.8       1291.4      14849.9 \n",
    "\n",
    "Albania Slovakia Portugal \n",
    "   113.0   72.5    0.9 "
   ]
  },
  {
   "cell_type": "code",
   "execution_count": 28,
   "id": "a059b908",
   "metadata": {},
   "outputs": [
    {
     "data": {
      "text/html": [
       "<dl class=dl-horizontal>\n",
       "\t<dt>Singapore</dt>\n",
       "\t\t<dd>1.4</dd>\n",
       "\t<dt>Saudi Arabia</dt>\n",
       "\t\t<dd>3.8</dd>\n",
       "\t<dt>Hong Kong</dt>\n",
       "\t\t<dd>7.8</dd>\n",
       "\t<dt>Indonesia</dt>\n",
       "\t\t<dd>14849.9</dd>\n",
       "</dl>\n"
      ],
      "text/latex": [
       "\\begin{description*}\n",
       "\\item[Singapore] 1.4\n",
       "\\item[Saudi Arabia] 3.8\n",
       "\\item[Hong Kong] 7.8\n",
       "\\item[Indonesia] 14849.9\n",
       "\\end{description*}\n"
      ],
      "text/markdown": [
       "Singapore\n",
       ":   1.4Saudi Arabia\n",
       ":   3.8Hong Kong\n",
       ":   7.8Indonesia\n",
       ":   14849.9\n",
       "\n"
      ],
      "text/plain": [
       "   Singapore Saudi Arabia    Hong Kong    Indonesia \n",
       "         1.4          3.8          7.8      14849.9 "
      ]
     },
     "metadata": {},
     "output_type": "display_data"
    },
    {
     "data": {
      "text/html": [
       "<dl class=dl-horizontal>\n",
       "\t<dt>Albania</dt>\n",
       "\t\t<dd>113</dd>\n",
       "\t<dt>Slovakia</dt>\n",
       "\t\t<dd>72.5</dd>\n",
       "\t<dt>Portugal</dt>\n",
       "\t\t<dd>0.9</dd>\n",
       "</dl>\n"
      ],
      "text/latex": [
       "\\begin{description*}\n",
       "\\item[Albania] 113\n",
       "\\item[Slovakia] 72.5\n",
       "\\item[Portugal] 0.9\n",
       "\\end{description*}\n"
      ],
      "text/markdown": [
       "Albania\n",
       ":   113Slovakia\n",
       ":   72.5Portugal\n",
       ":   0.9\n",
       "\n"
      ],
      "text/plain": [
       " Albania Slovakia Portugal \n",
       "   113.0     72.5      0.9 "
      ]
     },
     "metadata": {},
     "output_type": "display_data"
    }
   ],
   "source": [
    "exchange_rates <- c(1.4, 113, 130.6, 7.8, 0.9, 1291.4, 4096.1, 10.2, 14849.9, 3.8, 72.5)\n",
    "names(exchange_rates) <- c(\"Singapore\", \"Albania\", \"Argentina\", \"Hong Kong\", \"Portugal\", \"Korea\", \"Madagascar\", \n",
    "                           \"Morocco\", \"Indonesia\", \"Saudi Arabia\", \"Slovakia\")\n",
    "\n",
    "sort(exchange_rates[c(1, 4, 9, 10)])\n",
    "sort(exchange_rates[c(\"Albania\", \"Portugal\", \"Slovakia\")], decreasing=T)"
   ]
  },
  {
   "cell_type": "code",
   "execution_count": 27,
   "id": "799b6108",
   "metadata": {},
   "outputs": [
    {
     "name": "stderr",
     "output_type": "stream",
     "text": [
      "Warning message in file(out, \"wt\"):\n",
      "\"cannot open file 'C:\\Users\\zeppy\\AppData\\Local\\Temp\\Rtmp4S7N2S\\file3eb436fa7348': No such file or directory\"Warning message in file(con, \"r\"):\n",
      "\"cannot open file 'C:\\Users\\zeppy\\AppData\\Local\\Temp\\Rtmp4S7N2S\\file3eb436fa7348': No such file or directory\"ERROR while rich displaying an object: Error in file(con, \"r\"): cannot open the connection\n",
      "\n",
      "Traceback:\n",
      "1. FUN(X[[i]], ...)\n",
      "2. tryCatch(withCallingHandlers({\n",
      " .     if (!mime %in% names(repr::mime2repr)) \n",
      " .         stop(\"No repr_* for mimetype \", mime, \" in repr::mime2repr\")\n",
      " .     rpr <- repr::mime2repr[[mime]](obj)\n",
      " .     if (is.null(rpr)) \n",
      " .         return(NULL)\n",
      " .     prepare_content(is.raw(rpr), rpr)\n",
      " . }, error = error_handler), error = outer_handler)\n",
      "3. tryCatchList(expr, classes, parentenv, handlers)\n",
      "4. tryCatchOne(expr, names, parentenv, handlers[[1L]])\n",
      "5. doTryCatch(return(expr), name, parentenv, handler)\n",
      "6. withCallingHandlers({\n",
      " .     if (!mime %in% names(repr::mime2repr)) \n",
      " .         stop(\"No repr_* for mimetype \", mime, \" in repr::mime2repr\")\n",
      " .     rpr <- repr::mime2repr[[mime]](obj)\n",
      " .     if (is.null(rpr)) \n",
      " .         return(NULL)\n",
      " .     prepare_content(is.raw(rpr), rpr)\n",
      " . }, error = error_handler)\n",
      "7. repr::mime2repr[[mime]](obj)\n",
      "8. repr_latex.help_files_with_topic(obj)\n",
      "9. repr_help_files_with_topic_generic(obj, Rd2latex)\n",
      "10. capture.output(Rd2_(rd, package = pkgname, outputEncoding = \"UTF-8\"))\n",
      "11. evalVis(expr)\n",
      "12. withVisible(eval(expr, pf))\n",
      "13. eval(expr, pf)\n",
      "14. eval(expr, pf)\n",
      "15. Rd2_(rd, package = pkgname, outputEncoding = \"UTF-8\")\n",
      "16. .Rd_get_latex(.Rd_get_section(Rd, \"title\"))\n",
      "17. readLines(tf, warn = FALSE, encoding = \"UTF-8\")\n",
      "18. file(con, \"r\")\n"
     ]
    }
   ],
   "source": [
    "?sort"
   ]
  },
  {
   "cell_type": "markdown",
   "id": "de562f96",
   "metadata": {},
   "source": [
    "## Question 4\n",
    "\n",
    "You are working as an analyst for The Hollywood Reporter. Your company is making a preliminary analysis of the financial performance of the major production studios to create an annual report for the industry. Given the information on the Worldwide Box Office Grosses (mln $), find the following indicators for the report:\n",
    "\n",
    "<table>\n",
    "  <tr>\n",
    "    <th></th>\n",
    "    <th>2010</th>\n",
    "    <th>2011</th>\n",
    "    <th>2012</th>\n",
    "    <th>2013</th>\n",
    "    <th>2014</th>\n",
    "    <th>2015</th>\n",
    "  </tr>\n",
    "  <tr>\n",
    "    <td>Disney</td>\n",
    "    <td>4167</td>\n",
    "    <td>3140</td>\n",
    "    <td>3587</td>\n",
    "    <td>5043</td>\n",
    "    <td>3917</td>\n",
    "    <td>4901</td>\n",
    "  </tr>\n",
    "  <tr>\n",
    "    <td>20th Century Fox</td>\n",
    "    <td>2965</td>\n",
    "    <td>2838</td>\n",
    "    <td>3350</td>\n",
    "    <td>3231</td>\n",
    "    <td>5796</td>\n",
    "    <td>3554</td>\n",
    "  </tr>\n",
    "  <tr>\n",
    "    <td>Paramount</td>\n",
    "    <td>2079</td>\n",
    "    <td>3122</td>\n",
    "    <td>1271</td>\n",
    "    <td>2429</td>\n",
    "    <td>3248</td>\n",
    "    <td>1793</td>\n",
    "  </tr>\n",
    "</table>\n",
    "\n",
    "1. Find and print the highest revenue for each studio.\n",
    "2. Find and print the best year for each studio.\n",
    "\n",
    "Your outputs should look like this:"
   ]
  },
  {
   "cell_type": "code",
   "execution_count": null,
   "id": "f2d2af66",
   "metadata": {},
   "outputs": [],
   "source": [
    "> max_gross\n",
    "          Disney 20th Century Fox        Paramount \n",
    "            5043             5796             3248 \n",
    "\n",
    "> best_years\n",
    "          Disney 20th Century Fox        Paramount \n",
    "            2013             2014             2014 "
   ]
  },
  {
   "cell_type": "code",
   "execution_count": 29,
   "id": "5f15ab52",
   "metadata": {},
   "outputs": [],
   "source": [
    "years <- c(2010, 2011, 2012, 2013, 2014, 2015)\n",
    "disney <- c(4167, 3140,\t3587,\t5043,\t3917,\t4901)\n",
    "tc_fox <- c(2965, 2838,\t3350,\t3231,\t5796,\t3554)\n",
    "paramount <- c(2079, 3122,\t1271,\t2429,\t3248,\t1793)"
   ]
  },
  {
   "cell_type": "code",
   "execution_count": 33,
   "id": "34905ddd",
   "metadata": {},
   "outputs": [
    {
     "data": {
      "text/html": [
       "<dl class=dl-horizontal>\n",
       "\t<dt> Disney</dt>\n",
       "\t\t<dd>5043</dd>\n",
       "\t<dt>20th Century Fox</dt>\n",
       "\t\t<dd>5796</dd>\n",
       "\t<dt>Paramount</dt>\n",
       "\t\t<dd>3248</dd>\n",
       "</dl>\n"
      ],
      "text/latex": [
       "\\begin{description*}\n",
       "\\item[ Disney] 5043\n",
       "\\item[20th Century Fox] 5796\n",
       "\\item[Paramount] 3248\n",
       "\\end{description*}\n"
      ],
      "text/markdown": [
       " Disney\n",
       ":   504320th Century Fox\n",
       ":   5796Paramount\n",
       ":   3248\n",
       "\n"
      ],
      "text/plain": [
       "          Disney 20th Century Fox        Paramount \n",
       "            5043             5796             3248 "
      ]
     },
     "metadata": {},
     "output_type": "display_data"
    }
   ],
   "source": [
    "best_years <- c(max(disney), max(tc_fox), max(paramount))\n",
    "names(best_years) <- c(\" Disney\", \"20th Century Fox\",        \"Paramount\")\n",
    "best_years"
   ]
  },
  {
   "cell_type": "code",
   "execution_count": 39,
   "id": "d28ccf14",
   "metadata": {},
   "outputs": [
    {
     "data": {
      "text/html": [
       "2013"
      ],
      "text/latex": [
       "2013"
      ],
      "text/markdown": [
       "2013"
      ],
      "text/plain": [
       "[1] 2013"
      ]
     },
     "metadata": {},
     "output_type": "display_data"
    },
    {
     "data": {
      "text/html": [
       "2014"
      ],
      "text/latex": [
       "2014"
      ],
      "text/markdown": [
       "2014"
      ],
      "text/plain": [
       "[1] 2014"
      ]
     },
     "metadata": {},
     "output_type": "display_data"
    }
   ],
   "source": [
    "years[order(disney)[length(disney)]]\n",
    "years[order(tc_fox)[length(tc_fox)]]"
   ]
  },
  {
   "cell_type": "code",
   "execution_count": null,
   "id": "d9dc56be",
   "metadata": {},
   "outputs": [],
   "source": [
    "years"
   ]
  }
 ],
 "metadata": {
  "kernelspec": {
   "display_name": "R",
   "language": "R",
   "name": "ir"
  },
  "language_info": {
   "codemirror_mode": "r",
   "file_extension": ".r",
   "mimetype": "text/x-r-source",
   "name": "R",
   "pygments_lexer": "r",
   "version": "3.6.1"
  }
 },
 "nbformat": 4,
 "nbformat_minor": 5
}
