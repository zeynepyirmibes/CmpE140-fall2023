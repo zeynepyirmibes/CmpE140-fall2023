{
 "cells": [
  {
   "cell_type": "markdown",
   "id": "2b742f77",
   "metadata": {},
   "source": [
    "# Quiz 2 (Afternoon)"
   ]
  },
  {
   "cell_type": "markdown",
   "id": "02250ecd",
   "metadata": {},
   "source": [
    "## Question 1\n",
    "\n",
    "\n",
    "**a)** Create a sequence of 50 values with starting value 100 and steps of 5 and save it to seq_1 as such:\n",
    "\n",
    "```\n",
    "100 105 110 115 120 125 130 135 140 145 150 155 160 165 170 175 180 185 190 195 200 205 210 215 220 225 230 235 240 245 250 255 260 265 270 275 280 285 290 295 300 305 310 315 320 325 330 335 340 345\n",
    "\n",
    "```\n",
    "\n",
    "**b)** Print the values larger than or equal to 160. \n",
    "\n",
    "```\n",
    "160 165 170 175 180 185 190 195 200 205 210 215 220 225 230 235 240 245 250 255 260 265 270 275 280 285 290 295 300 305 310 315 320 325 330 335 340 345\n",
    "\n",
    "```"
   ]
  },
  {
   "cell_type": "code",
   "execution_count": null,
   "id": "8ab00d3d",
   "metadata": {},
   "outputs": [],
   "source": []
  },
  {
   "attachments": {
    "male_growth.png": {
     "image/png": "[encoded data removed]"
    }
   },
   "cell_type": "markdown",
   "id": "6a257e27",
   "metadata": {},
   "source": [
    "## Question 2\n",
    "\n",
    "In a 2005 study, researchers tried to figure out possible muscular growth differences between individuals who performed the same exercises. Total of 243 males and 342 females have been examined. Let's try to replicate the research on R. \n",
    "\n",
    "Steps:\n",
    "1. Set RNGversion to \"3.3.1\" and seed to 1234\n",
    "2. Create a **histogram** for males, which consists of 243 normally distibuted numbers with a mean of 20 and standard deviation of 10. (The name of the histogram should be \"Male Muscular Growth\", the name of the x axis should be \"CSA Change (%)\", and the name of the y axis should be \"Subjects\")\n",
    "3. Create a **histogram** for females, which consists of 342 normally distibuted numbers with a mean of 10 and standard deviation of 7. (The name of the histogram should be \"Female Muscular Growth\", the name of the x axis should be \"CSA Change (%)\", and the name of the y axis should be \"Subjects\")\n",
    "\n",
    "* **Hint:** Use the function rnorm() to generate the normally distibuted numbers. \n",
    "* **Hint:** Use the function hist() to generate the histogram. \n",
    "\n",
    "\n",
    "Your output should look like this:<br>\n",
    "<br>\n",
    "![male_growth.png](attachment:male_growth.png)"
   ]
  },
  {
   "attachments": {
    "female_growth.png": {
     "image/png": "[encoded data removed]"
    }
   },
   "cell_type": "markdown",
   "id": "a3382a54",
   "metadata": {},
   "source": [
    "![female_growth.png](attachment:female_growth.png)"
   ]
  },
  {
   "cell_type": "code",
   "execution_count": null,
   "id": "91c9121e",
   "metadata": {},
   "outputs": [],
   "source": [
    "RNGversion(\"3.3.1\")\n",
    "set.seed(1234)"
   ]
  },
  {
   "cell_type": "markdown",
   "id": "c6c07bea",
   "metadata": {},
   "source": [
    "## Question 3\n",
    "\n",
    "Write a function called \"least_veg(vegetables)\" that takes a named vector of vegetables and their values in Kg. The function should:\n",
    "\n",
    "1-Calculate and print the average weight of the vegetables \n",
    "\n",
    "2-Calculate and print the median weight.\n",
    "\n",
    "3-Print the name of the vegetable with the smallest amount.\n",
    "\n",
    "4-Print the name of the vegetable with the largest amount.\n",
    "\n",
    "\n",
    "* **Hint:** To display the solutions as in the example, you can use the paste() function inside the print() function.\n",
    "\n",
    "Example usage:\n",
    "\n",
    "```\n",
    "print(paste(\"Average Weight:\", 10))\n",
    "```\n",
    "\n",
    "Your output should be:\n",
    "```\n",
    "\n",
    "least_veg(c(carrots=25.5,broccoli=40.2,spinach=10.7,tomatoes=55.1,cucumbers=8.9))\n",
    "\n",
    "[1] \"Average Weight: 28.08\"\n",
    "[1] \"Median Weight: 25.5\"\n",
    "[1] \"Smallest Vegetable: cucumbers\"\n",
    "[1] \"Largest Vegetable: tomatoes\"\n",
    "\n",
    "least_veg(c(carrots=5.5,broccoli=4.2,spinach=7,celery=78,tomatoes=55.1,cucumbers=9, eggplant=2.3))\n",
    "\n",
    "[1] \"Average Weight: 23.0142857142857\"\n",
    "[1] \"Median Weight: 7\"\n",
    "[1] \"Smallest Vegetable: eggplant\"\n",
    "[1] \"Largest Vegetable: celery\"\n",
    "```"
   ]
  },
  {
   "cell_type": "code",
   "execution_count": null,
   "id": "2ea73417",
   "metadata": {},
   "outputs": [],
   "source": [
    "least_veg <- function(vegetables) {\n",
    "\n",
    "}"
   ]
  },
  {
   "cell_type": "code",
   "execution_count": null,
   "id": "225f1820",
   "metadata": {},
   "outputs": [],
   "source": [
    "least_veg(c(carrots=25.5,broccoli=40.2,spinach=10.7,tomatoes=55.1,cucumbers=8.9))"
   ]
  },
  {
   "cell_type": "code",
   "execution_count": null,
   "id": "4050fa70",
   "metadata": {
    "scrolled": true
   },
   "outputs": [],
   "source": [
    "least_veg(c(carrots=5.5,broccoli=4.2,spinach=7,celery=78,tomatoes=55.1,cucumbers=9, eggplant=2.3))"
   ]
  }
 ],
 "metadata": {
  "kernelspec": {
   "display_name": "R",
   "language": "R",
   "name": "ir"
  },
  "language_info": {
   "codemirror_mode": "r",
   "file_extension": ".r",
   "mimetype": "text/x-r-source",
   "name": "R",
   "pygments_lexer": "r",
   "version": "3.6.1"
  }
 },
 "nbformat": 4,
 "nbformat_minor": 5
}
