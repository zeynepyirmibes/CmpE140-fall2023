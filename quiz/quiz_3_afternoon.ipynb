{
 "cells": [
  {
   "cell_type": "markdown",
   "id": "9b13e269",
   "metadata": {},
   "source": [
    "# Quiz 3 (Afternoon)"
   ]
  },
  {
   "cell_type": "markdown",
   "id": "6ec1ad7f",
   "metadata": {},
   "source": [
    "## Instructions \n",
    "\n",
    "### Folder: question1419\n",
    "\n",
    "* Enter the folder **src** under **question1419**\n",
    "* Open **Implement.R**, write the function **GPA_calculator()** between the comments. Do not change any other file. \n",
    "* Open **Test.R** file to test your function. When you open **Test.R**, don't change any line. Just click on **Source** to run the whole file. This script will tell you whether you passed the test cases. Remember that you will be **graded with different scenarios** than in **Test.R**. "
   ]
  },
  {
   "cell_type": "markdown",
   "id": "c0fbbe8a",
   "metadata": {},
   "source": [
    "## Question 1\n",
    "\n",
    "You are going to write a program that calculates the GPA of a student, and give feedback on how well they're doing. For computing the GPA, universities use the weighted average method, meaning that every course has two compounds: _grades_ and _credit_. To calculate the GPA, student grades and their correspondent credits are individually multiplied, and divided by the total number of credits.\n",
    "\n",
    "$$ GPA = {{Weighted Sum} \\over Total Credits}  $$ \n",
    "\n",
    "Credits for the courses can either be 2, 3 or 4. Grades can be anywhere between 0 to 4 with the increment of 0.5 (0, 0.5, 1, 1.5, ... ,4). There are 6 courses that a student is taking.\n",
    "\n",
    "Additionally, student performances are calculated by the following metrics:\n",
    "\n",
    "- GPA < 1 : Fail!\n",
    "- 1 <= GPA <= 2 : Low performance\n",
    "- 2 < GPA <= 3 : Average\n",
    "- GPA < 3 : Excellent!\n",
    "\n",
    "Write a function ```GPA_calculator(credits, grades)``` that will calculate and return as a character value, a student's GPA and their performance.\n",
    "\n",
    "* Hint: Use ```return(paste(2.84 , \"Average\"))``` to return both the GPA, and the performance of the student, as shown in the examples. \n",
    "* Hint: Remember to ```round``` the calculated GPA to **2 decimal places**. \n",
    "\n",
    "Your output should look like this:\n",
    "```r\n",
    "[1] \"2.84 Average\"\n",
    "```\n",
    "\n",
    "Here are some examples:\n",
    "```\n",
    "> GPA_calculator(c(2,3,4,2,3,4), c(0.5, 1, 3, 4, 1.5, 2))\n",
    "[1] \"2.03 Average\"\n",
    "```\n",
    "```\n",
    "> GPA_calculator(c(2,3,4,2,2,2), c(3, 4, 3, 4, 3, 3))\n",
    "[1] \"3.33 Excellent!\"\n",
    "```\n",
    "```\n",
    "> GPA_calculator(c(2,3,4,2,2,2), c(1, 1, 3, 2, 2, 1))\n",
    "[1] \"1.8 Low performance\"\n",
    "```\n",
    "```\n",
    "> GPA_calculator(c(4,3,4,2,2,4), c(1, 1.5, 0.5, 2.5, 0.5, 0))\n",
    "[1] \"0.87 Fail!\"\n",
    "```\n"
   ]
  },
  {
   "cell_type": "code",
   "execution_count": null,
   "id": "498cd307",
   "metadata": {},
   "outputs": [],
   "source": []
  },
  {
   "cell_type": "markdown",
   "id": "674a3450",
   "metadata": {},
   "source": [
    "## Instructions \n",
    "\n",
    "### Folder: question1420\n",
    "\n",
    "* Enter the folder **src** under **question1420**\n",
    "* Open **Implement.R**, write the function **cafeteria()** between the comments. Do not change any other file. \n",
    "* Open **Test.R** file to test your function. When you open **Test.R**, don't change any line. Just click on **Source** to run the whole file. This script will tell you whether you passed the test cases. Remember that you will be **graded with different scenarios** than in **Test.R**. "
   ]
  },
  {
   "cell_type": "markdown",
   "id": "48a2fb77",
   "metadata": {},
   "source": [
    "## Question 2 (40 points)\n",
    "\n",
    "You are a programmer who has been tasked with creating a program for a university cafeteria. The program is intended to deduct the price of a meal from the students' cards if they have enough money. If they don't have enough money, the program should give an error message indicating that the balance is insufficient. Meal price in the university cafeteria is 12.5 TL.\n",
    "\n",
    "Two friends come to the cafeteria, each with their own student cards. If the student has sufficient money, meal price will be deducted from the balance of the student's card. \n",
    "\n",
    "Write a function **cafeteria(students)** that takes a vector with students' card balances, and returns a new vector, with the deducted balances (if a student's balance is sufficient, deduct 12.5 TLs). \n",
    "\n",
    "**Bonus**: You can also implement the function for more than two students, using a loop. Extra 20 points will be given to those who implement the function for more than two students. \n",
    "\n",
    "\n",
    "\n",
    "Your outputs should be:\n",
    "```\n",
    "> cafeteria(c(90.0, 3.0))\n",
    "[1] 77.5  3.0\n",
    "```\n",
    "```\n",
    "> cafeteria(c(12.0, 18.0))\n",
    "[1] 12.0  5.5\n",
    "```\n",
    "```\n",
    "> cafeteria(c(52.0, 30.0))\n",
    "[1] 39.5 17.5\n",
    "```\n",
    "\n",
    "```\n",
    "> cafeteria(c(2.0, 3.0))\n",
    "[1] 2 3\n",
    "```\n",
    "\n",
    "If you used a for loop and completed the **Bonus** part, your outputs should be: \n",
    "\n",
    "```\n",
    "> cafeteria(c(2.0, 3.0, 87, 96, 13))\n",
    "[1]  2.0  3.0 74.5 83.5  0.5\n",
    "```\n",
    "\n",
    "\n",
    "```\n",
    "> cafeteria(c(12.5, 6, 98.0, 34))\n",
    "[1]  0.0  6.0 85.5 21.5\n",
    "```"
   ]
  },
  {
   "cell_type": "code",
   "execution_count": null,
   "id": "d56954a1",
   "metadata": {},
   "outputs": [],
   "source": []
  }
 ],
 "metadata": {
  "kernelspec": {
   "display_name": "R",
   "language": "R",
   "name": "ir"
  },
  "language_info": {
   "codemirror_mode": "r",
   "file_extension": ".r",
   "mimetype": "text/x-r-source",
   "name": "R",
   "pygments_lexer": "r",
   "version": "3.6.1"
  }
 },
 "nbformat": 4,
 "nbformat_minor": 5
}
