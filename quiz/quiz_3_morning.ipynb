{
 "cells": [
  {
   "cell_type": "markdown",
   "id": "4ce614e7",
   "metadata": {},
   "source": [
    "# Quiz 3 (Morning)"
   ]
  },
  {
   "cell_type": "markdown",
   "id": "068bb94e",
   "metadata": {},
   "source": [
    "## Instructions \n",
    "\n",
    "### Folder: question1415\n",
    "\n",
    "* Enter the folder **src** under **question1415**\n",
    "* Open **Implement.R**, write the function **menu()** between the comments. Do not change any other file. \n",
    "* Open **Test.R** file to test your function. When you open **Test.R**, don't change any line. Just click on **Source** to run the whole file. This script will tell you whether you passed the test cases. Remember that you will be **graded with different scenarios** than in **Test.R**. \n"
   ]
  },
  {
   "cell_type": "markdown",
   "id": "a8f25996",
   "metadata": {},
   "source": [
    "## Question 1 (60 points)\n",
    "\n",
    "You're organizing a dinner party and need to plan the menu. Your guests have various dietary preferences and restrictions. Write a function menu(vegetarians, non_dairy, gluten_sensitive, non_sensitive) that returns what kind of menu you will prepare. \n",
    "\n",
    "1. If at least one-third of the guests are vegetarian, you'll include a vegetarian main course: return \"Vegetarian\" from the function. \n",
    "   \n",
    "2. Otherwise (if less than one-third of the guests are vegetarian), if at least half of the guests are non-dairy consumers, you'll ensure that a significant portion of the dishes are dairy-free: return \"Non-dairy\" from the function.\n",
    " \n",
    "3. Otherwise (if less than one-third of the guests are vegetarian, and less than half of the guests are non-dairy consumers) If there are any gluten-sensitive guests, you'll provide alternatives for them: return \"Gluten-sensitive\" from the function.\n",
    "\n",
    "4. Otherwise, you will prepare a non-sensitive, regular menu: return \"Regular\" from the function.\n",
    "\n",
    "* Suppose no one has multiple sensitivities. \n",
    "\n",
    "Your outputs should be:\n",
    "```\n",
    "menu(7,9,1,1)\n",
    "[1] \"Vegetarian\"\n",
    "```\n",
    "```\n",
    "menu(3,8,1,4)\n",
    "[1] \"Non-dairy\"\n",
    "```\n",
    "```\n",
    "> menu(1,1,1,4)\n",
    "[1] \"Gluten-sensitive\"\n",
    "```\n",
    "\n",
    "```\n",
    "> menu(3,4,0,10)\n",
    "[1] \"Regular\"\n",
    "```"
   ]
  },
  {
   "cell_type": "code",
   "execution_count": null,
   "id": "7c99ccc0",
   "metadata": {},
   "outputs": [],
   "source": []
  },
  {
   "cell_type": "markdown",
   "id": "d4ed0819",
   "metadata": {},
   "source": [
    "## Instructions \n",
    "\n",
    "### Folder: question1418\n",
    "\n",
    "* Enter the folder **src** under **question1418**\n",
    "* Open **Implement.R**, write the function **present()** between the comments. Do not change any other file. \n",
    "* Open **Test.R** file to test your function. When you open **Test.R**, don't change any line. Just click on **Source** to run the whole file. This script will tell you whether you passed the test cases. Remember that you will be **graded with different scenarios** than in **Test.R**. "
   ]
  },
  {
   "cell_type": "markdown",
   "id": "c996587c",
   "metadata": {},
   "source": [
    "## Question 2 (40 points)\n",
    "\n",
    "You are a programmer who has been tasked with creating a program for two friends trying to buy a present for their best friend, Matthew. They will pay for the present by equally splitting the price. \n",
    "\n",
    "If their total balance is below the price of the present, they can't buy it. If any of the friends' balance is not enough for their split of the price, they can't buy it. Their balances remain unchanged. \n",
    "\n",
    "Write a function **present(price, students)** that takes the price of the present (**price**), and a vector (**students**) that contains students' card balances. The function should return a vector, with the deducted balances. \n",
    "\n",
    "* **Bonus**: You can also implement the function for more than two friends. Extra 20 points will be given to those who implement the function for more than two friends. \n",
    "\n",
    "\n",
    "Your outputs should be:\n",
    "```\n",
    "> present(12, c(7, 9))\n",
    "[1] 1 3\n",
    "```\n",
    "```\n",
    "> present(24, c(12, 11))\n",
    "[1] 12 11\n",
    "```\n",
    "```\n",
    "> present(17, c(7, 20))\n",
    "[1]  7 20\n",
    "```\n",
    "\n",
    "```\n",
    "> present(5, c(10, 20))\n",
    "[1]  7.5 17.5\n",
    "```\n",
    "\n",
    "If you used a for loop and completed the **Bonus** part, your outputs should be: \n",
    "\n",
    "```\n",
    "> present(6, c(10, 20, 5))\n",
    "[1]  8 18  3\n",
    "```\n",
    "\n",
    "```\n",
    "> present(60, c(20, 45, 67, 80, 15, 30))\n",
    "[1] 10 35 57 70  5 20\n",
    "```"
   ]
  },
  {
   "cell_type": "code",
   "execution_count": null,
   "id": "2133259c",
   "metadata": {},
   "outputs": [],
   "source": []
  }
 ],
 "metadata": {
  "kernelspec": {
   "display_name": "R",
   "language": "R",
   "name": "ir"
  },
  "language_info": {
   "codemirror_mode": "r",
   "file_extension": ".r",
   "mimetype": "text/x-r-source",
   "name": "R",
   "pygments_lexer": "r",
   "version": "3.6.1"
  }
 },
 "nbformat": 4,
 "nbformat_minor": 5
}
