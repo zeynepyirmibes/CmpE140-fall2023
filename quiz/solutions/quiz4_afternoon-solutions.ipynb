{
 "cells": [
  {
   "cell_type": "markdown",
   "id": "19df9d81",
   "metadata": {},
   "source": [
    "# Quiz 4 (Afternoon)"
   ]
  },
  {
   "cell_type": "markdown",
   "id": "a852e967",
   "metadata": {},
   "source": [
    "## Question 1 \n",
    "\n",
    "Write a function called ``neo(r, c)`` that returns a matrix which has ``r`` rows and ``c`` columns. Each row should have a letter (A, B, C, D...) assigned to it and each column should have a number (1, 2, 3, 4...) assigned to it.\n",
    "\n",
    "Hint : You can use a \"double for loop\".\n",
    "\n",
    "Your output should be:\n",
    "\n",
    "```r\n",
    "\n",
    "> neo(10, 10)\n",
    "\n",
    "      [,1] [,2] [,3] [,4] [,5] [,6] [,7] [,8] [,9] [,10]\n",
    " [1,] \"A1\" \"A2\" \"A3\" \"A4\" \"A5\" \"A6\" \"A7\" \"A8\" \"A9\" \"A10\"\n",
    " [2,] \"B1\" \"B2\" \"B3\" \"B4\" \"B5\" \"B6\" \"B7\" \"B8\" \"B9\" \"B10\"\n",
    " [3,] \"C1\" \"C2\" \"C3\" \"C4\" \"C5\" \"C6\" \"C7\" \"C8\" \"C9\" \"C10\"\n",
    " [4,] \"D1\" \"D2\" \"D3\" \"D4\" \"D5\" \"D6\" \"D7\" \"D8\" \"D9\" \"D10\"\n",
    " [5,] \"E1\" \"E2\" \"E3\" \"E4\" \"E5\" \"E6\" \"E7\" \"E8\" \"E9\" \"E10\"\n",
    " [6,] \"F1\" \"F2\" \"F3\" \"F4\" \"F5\" \"F6\" \"F7\" \"F8\" \"F9\" \"F10\"\n",
    " [7,] \"G1\" \"G2\" \"G3\" \"G4\" \"G5\" \"G6\" \"G7\" \"G8\" \"G9\" \"G10\"\n",
    " [8,] \"H1\" \"H2\" \"H3\" \"H4\" \"H5\" \"H6\" \"H7\" \"H8\" \"H9\" \"H10\"\n",
    " [9,] \"I1\" \"I2\" \"I3\" \"I4\" \"I5\" \"I6\" \"I7\" \"I8\" \"I9\" \"I10\"\n",
    "[10,] \"J1\" \"J2\" \"J3\" \"J4\" \"J5\" \"J6\" \"J7\" \"J8\" \"J9\" \"J10\"\n",
    "```"
   ]
  },
  {
   "cell_type": "code",
   "execution_count": 10,
   "id": "a0b62d69",
   "metadata": {},
   "outputs": [],
   "source": [
    "neo <- function(r,c){\n",
    "\n",
    "NEO <- matrix(nrow = r, ncol = c)\n",
    "for (i in 1:c) {\n",
    "  for (x in 1:r) {\n",
    "    NEO[x, i] <- paste(toupper(letters[x]), i, sep = \"\")  \n",
    "  }\n",
    "}\n",
    "    return(NEO)\n",
    "\n",
    "}"
   ]
  },
  {
   "cell_type": "markdown",
   "id": "78bbfffc",
   "metadata": {},
   "source": [
    "## Question 2\n",
    "\n",
    "Answer the following question using the \"mtcars\" dataset.\n",
    "\n",
    "Your code has to find the difference between maximum and minimum horsepower (hp) based on Engine (0 = V-shaped, 1 = straight) (vs). \n",
    "\n",
    "There are two types of cars: Engine v-shaped (vs = 0) and Engine straight (vs = 1). \n",
    "\n",
    "For each type of car, your code should find the difference between maximum and minimum horsepower (maximum horsepower - minimum horsepower). Then you should sort the answer according to horsepower, from highest to lowest. \n",
    "\n",
    "There are different ways to solve the question. \n",
    "\n",
    "* You can use the function aggregate.\n",
    "\n",
    "Your output should be :\n",
    "\n",
    "```\n",
    " vs  hp\n",
    "1  0 244\n",
    "2  1  71\n",
    "```"
   ]
  },
  {
   "cell_type": "code",
   "execution_count": 1,
   "id": "67ca8232",
   "metadata": {},
   "outputs": [
    {
     "data": {
      "text/html": [
       "<table>\n",
       "<thead><tr><th scope=col>vs</th><th scope=col>hp</th></tr></thead>\n",
       "<tbody>\n",
       "\t<tr><td>0  </td><td>244</td></tr>\n",
       "\t<tr><td>1  </td><td> 71</td></tr>\n",
       "</tbody>\n",
       "</table>\n"
      ],
      "text/latex": [
       "\\begin{tabular}{r|ll}\n",
       " vs & hp\\\\\n",
       "\\hline\n",
       "\t 0   & 244\\\\\n",
       "\t 1   &  71\\\\\n",
       "\\end{tabular}\n"
      ],
      "text/markdown": [
       "\n",
       "| vs | hp |\n",
       "|---|---|\n",
       "| 0   | 244 |\n",
       "| 1   |  71 |\n",
       "\n"
      ],
      "text/plain": [
       "  vs hp \n",
       "1 0  244\n",
       "2 1   71"
      ]
     },
     "metadata": {},
     "output_type": "display_data"
    }
   ],
   "source": [
    "a <- aggregate(hp ~ vs, data = mtcars, function(x) max(x) - min(x))\n",
    "  \n",
    "a[order(a$hp, decreasing = TRUE),]"
   ]
  },
  {
   "cell_type": "markdown",
   "id": "422e91c5",
   "metadata": {},
   "source": [
    "## Question 3\n",
    "Write an R function called analyze_mtcars that takes the mtcars data frame as input. The function should perform the following tasks:\n",
    "\n",
    "1-Calculate and return the average miles per gallon (mpg) for all cars.\n",
    "2-Create a new column named \"Fuel_Efficiency\" in the mtcars data frame based on the following criteria:\n",
    "\"Low\" for cars with mpg less than the average mpg.\n",
    "\"Moderate\" for cars with mpg equal to or higher than the average mpg.\n",
    "\n",
    "Your output should be :\n",
    "```\n",
    "$`Average MPG`\n",
    "[1] 20.09062\n",
    "\n",
    "$`mtcars Data with Fuel_Efficiency`\n",
    "                     mpg cyl  disp  hp drat    wt  qsec vs am gear carb Fuel_Efficiency\n",
    "Mazda RX4           21.0   6 160.0 110 3.90 2.620 16.46  0  1    4    4        Moderate\n",
    "Mazda RX4 Wag       21.0   6 160.0 110 3.90 2.875 17.02  0  1    4    4        Moderate\n",
    "Datsun 710          22.8   4 108.0  93 3.85 2.320 18.61  1  1    4    1        Moderate\n",
    "Hornet 4 Drive      21.4   6 258.0 110 3.08 3.215 19.44  1  0    3    1        Moderate\n",
    "Hornet Sportabout   18.7   8 360.0 175 3.15 3.440 17.02  0  0    3    2             Low\n",
    "Valiant             18.1   6 225.0 105 2.76 3.460 20.22  1  0    3    1             Low\n",
    "Duster 360          14.3   8 360.0 245 3.21 3.570 15.84  0  0    3    4             Low\n",
    "Merc 240D           24.4   4 146.7  62 3.69 3.190 20.00  1  0    4    2        Moderate\n",
    "Merc 230            22.8   4 140.8  95 3.92 3.150 22.90  1  0    4    2        Moderate\n",
    "Merc 280            19.2   6 167.6 123 3.92 3.440 18.30  1  0    4    4             Low\n",
    "Merc 280C           17.8   6 167.6 123 3.92 3.440 18.90  1  0    4    4             Low\n",
    "Merc 450SE          16.4   8 275.8 180 3.07 4.070 17.40  0  0    3    3             Low\n",
    "Merc 450SL          17.3   8 275.8 180 3.07 3.730 17.60  0  0    3    3             Low\n",
    "Merc 450SLC         15.2   8 275.8 180 3.07 3.780 18.00  0  0    3    3             Low\n",
    "Cadillac Fleetwood  10.4   8 472.0 205 2.93 5.250 17.98  0  0    3    4             Low\n",
    "Lincoln Continental 10.4   8 460.0 215 3.00 5.424 17.82  0  0    3    4             Low\n",
    "Chrysler Imperial   14.7   8 440.0 230 3.23 5.345 17.42  0  0    3    4             Low\n",
    "Fiat 128            32.4   4  78.7  66 4.08 2.200 19.47  1  1    4    1        Moderate\n",
    "Honda Civic         30.4   4  75.7  52 4.93 1.615 18.52  1  1    4    2        Moderate\n",
    "Toyota Corolla      33.9   4  71.1  65 4.22 1.835 19.90  1  1    4    1        Moderate\n",
    "Toyota Corona       21.5   4 120.1  97 3.70 2.465 20.01  1  0    3    1        Moderate\n",
    "Dodge Challenger    15.5   8 318.0 150 2.76 3.520 16.87  0  0    3    2             Low\n",
    "AMC Javelin         15.2   8 304.0 150 3.15 3.435 17.30  0  0    3    2             Low\n",
    "Camaro Z28          13.3   8 350.0 245 3.73 3.840 15.41  0  0    3    4             Low\n",
    "Pontiac Firebird    19.2   8 400.0 175 3.08 3.845 17.05  0  0    3    2             Low\n",
    "Fiat X1-9           27.3   4  79.0  66 4.08 1.935 18.90  1  1    4    1        Moderate\n",
    "Porsche 914-2       26.0   4 120.3  91 4.43 2.140 16.70  0  1    5    2        Moderate\n",
    "Lotus Europa        30.4   4  95.1 113 3.77 1.513 16.90  1  1    5    2        Moderate\n",
    "Ford Pantera L      15.8   8 351.0 264 4.22 3.170 14.50  0  1    5    4             Low\n",
    "Ferrari Dino        19.7   6 145.0 175 3.62 2.770 15.50  0  1    5    6             Low\n",
    "Maserati Bora       15.0   8 301.0 335 3.54 3.570 14.60  0  1    5    8             Low\n",
    "Volvo 142E          21.4   4 121.0 109 4.11 2.780 18.60  1  1    4    2        Moderate\n",
    "\n",
    "```"
   ]
  },
  {
   "cell_type": "code",
   "execution_count": 2,
   "id": "095e1b5f",
   "metadata": {},
   "outputs": [],
   "source": [
    "analyze_mtcars <- function(mtcars_data) {\n",
    " \n",
    "  average_mpg <- mean(mtcars_data$mpg)\n",
    "  \n",
    " \n",
    "  mtcars_data$Fuel_Efficiency <- ifelse(mtcars_data$mpg < average_mpg, \"Low\", \"Moderate\")\n",
    "  \n",
    "  \n",
    "  result_list <- list(\n",
    "    \"Average MPG\" = average_mpg,\n",
    "    \"mtcars Data with Fuel_Efficiency\" = mtcars_data\n",
    "  )\n",
    "  \n",
    "  return(result_list)\n",
    "}\n"
   ]
  }
 ],
 "metadata": {
  "kernelspec": {
   "display_name": "R",
   "language": "R",
   "name": "ir"
  },
  "language_info": {
   "codemirror_mode": "r",
   "file_extension": ".r",
   "mimetype": "text/x-r-source",
   "name": "R",
   "pygments_lexer": "r",
   "version": "3.6.1"
  }
 },
 "nbformat": 4,
 "nbformat_minor": 5
}
