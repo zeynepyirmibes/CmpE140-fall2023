{
 "cells": [
  {
   "cell_type": "markdown",
   "id": "920a1313",
   "metadata": {},
   "source": [
    "# Quiz 4 (Morning)"
   ]
  },
  {
   "cell_type": "markdown",
   "id": "c229a724",
   "metadata": {},
   "source": [
    "## Question 1 \n",
    "\n",
    "Write a function called ``mat(r, c)`` that creates a matrix named NEO which has ``r`` rows and ``c`` columns. Each cell should have its row number (1, 2, 3, 4...) assigned to it and each column should have a number (1, 2, 3, 4...) assigned to it as such: row1col1, etc.\n",
    "\n",
    "Hint : You can use a \"double for loop\".\n",
    "\n",
    "Your output should be:\n",
    "\n",
    "```r\n",
    "> mat(6, 5)\n",
    "\n",
    "     [,1]       [,2]       [,3]       [,4]       [,5]      \n",
    "[1,] \"row1col1\" \"row1col2\" \"row1col3\" \"row1col4\" \"row1col5\"\n",
    "[2,] \"row2col1\" \"row2col2\" \"row2col3\" \"row2col4\" \"row2col5\"\n",
    "[3,] \"row3col1\" \"row3col2\" \"row3col3\" \"row3col4\" \"row3col5\"\n",
    "[4,] \"row4col1\" \"row4col2\" \"row4col3\" \"row4col4\" \"row4col5\"\n",
    "[5,] \"row5col1\" \"row5col2\" \"row5col3\" \"row5col4\" \"row5col5\"\n",
    "[6,] \"row6col1\" \"row6col2\" \"row6col3\" \"row6col4\" \"row6col5\"\n",
    "```"
   ]
  },
  {
   "cell_type": "code",
   "execution_count": 4,
   "id": "b94e159f",
   "metadata": {},
   "outputs": [],
   "source": [
    "mat <- function(rows, cols){\n",
    "\n",
    "    NEO <- matrix(nrow = rows, ncol = cols)\n",
    "    for (r in 1:rows) {\n",
    "      for (c in 1:cols) {\n",
    "        NEO[r, c] <- paste(\"row\", r, \"col\", c, sep = \"\")  \n",
    "      }\n",
    "    }\n",
    "        return(NEO)\n",
    "\n",
    "}"
   ]
  },
  {
   "cell_type": "markdown",
   "id": "b7e31a2b",
   "metadata": {},
   "source": [
    "## Question 2\n",
    "\n",
    "Using the \"mtcars\" data set in R, compute the average horsepower (hp) for each transmission type in the dataset.\n",
    "\n",
    "Hint : Use the aggregate() function.\n",
    "\n",
    "Your output should be :\n",
    "```\n",
    "   am       hp\n",
    "1  0 160.2632\n",
    "2  1 126.8462\n",
    "\n",
    "```"
   ]
  },
  {
   "cell_type": "code",
   "execution_count": 14,
   "id": "5fe8b7c0",
   "metadata": {},
   "outputs": [
    {
     "data": {
      "text/html": [
       "<table>\n",
       "<thead><tr><th scope=col>Group.1</th><th scope=col>x</th></tr></thead>\n",
       "<tbody>\n",
       "\t<tr><td>0       </td><td>160.2632</td></tr>\n",
       "\t<tr><td>1       </td><td>126.8462</td></tr>\n",
       "</tbody>\n",
       "</table>\n"
      ],
      "text/latex": [
       "\\begin{tabular}{r|ll}\n",
       " Group.1 & x\\\\\n",
       "\\hline\n",
       "\t 0        & 160.2632\\\\\n",
       "\t 1        & 126.8462\\\\\n",
       "\\end{tabular}\n"
      ],
      "text/markdown": [
       "\n",
       "| Group.1 | x |\n",
       "|---|---|\n",
       "| 0        | 160.2632 |\n",
       "| 1        | 126.8462 |\n",
       "\n"
      ],
      "text/plain": [
       "  Group.1 x       \n",
       "1 0       160.2632\n",
       "2 1       126.8462"
      ]
     },
     "metadata": {},
     "output_type": "display_data"
    }
   ],
   "source": [
    "aggregate(mtcars$hp, by=list(mtcars$am), FUN = mean)"
   ]
  },
  {
   "cell_type": "code",
   "execution_count": 3,
   "id": "591a9bba",
   "metadata": {},
   "outputs": [
    {
     "name": "stdout",
     "output_type": "stream",
     "text": [
      "  am       hp\n",
      "1  0 160.2632\n",
      "2  1 126.8462\n"
     ]
    }
   ],
   "source": [
    "average_hp_by_transmission <- aggregate(hp ~ am, data = mtcars, FUN = mean)\n",
    "print(average_hp_by_transmission)"
   ]
  },
  {
   "cell_type": "markdown",
   "id": "515f57be",
   "metadata": {},
   "source": [
    "# Question 3\n",
    "Answer the following questions using the \"mtcars\" dataset.\n",
    "\n",
    "1. View the first 6 rows of the mtcars data set.\n",
    "\n",
    "2. In the mtcars dataset, create a new data frame containing vehicles with an engine displacement (disp) greater than 200 and display the first 5 rows of this new data frame.\n",
    "\n",
    "3. Add a new column named Weight_KG to the mtcars dataset. This column should show the weight of the vehicles in kilograms (1 lb = 0.453592 kg). View the updated top 5 lines of mtcars.\n",
    "\n",
    "4. Calculate and print average mpg values for each cyl (number of cylinders) value.\n",
    "\n",
    "Your output should be :\n",
    "\n",
    "```\n",
    "[1]\n",
    "                   mpg cyl disp  hp drat    wt  qsec vs am gear carb\n",
    "Mazda RX4         21.0   6  160 110 3.90 2.620 16.46  0  1    4    4\n",
    "Mazda RX4 Wag     21.0   6  160 110 3.90 2.875 17.02  0  1    4    4\n",
    "Datsun 710        22.8   4  108  93 3.85 2.320 18.61  1  1    4    1\n",
    "Hornet 4 Drive    21.4   6  258 110 3.08 3.215 19.44  1  0    3    1\n",
    "Hornet Sportabout 18.7   8  360 175 3.15 3.440 17.02  0  0    3    2\n",
    "Valiant           18.1   6  225 105 2.76 3.460 20.22  1  0    3    1\n",
    "\n",
    "[2]\n",
    "                   mpg cyl  disp  hp drat    wt  qsec vs am gear carb\n",
    "Hornet 4 Drive    21.4   6 258.0 110 3.08 3.215 19.44  1  0    3    1\n",
    "Hornet Sportabout 18.7   8 360.0 175 3.15 3.440 17.02  0  0    3    2\n",
    "Valiant           18.1   6 225.0 105 2.76 3.460 20.22  1  0    3    1\n",
    "Duster 360        14.3   8 360.0 245 3.21 3.570 15.84  0  0    3    4\n",
    "Merc 450SE        16.4   8 275.8 180 3.07 4.070 17.40  0  0    3    3\n",
    "\n",
    "[3]\n",
    "\n",
    "                  mpg cyl disp  hp drat    wt  qsec vs am gear carb Weight_KG\n",
    "Mazda RX4         21.0   6  160 110 3.90 2.620 16.46  0  1    4    4  1.188411\n",
    "Mazda RX4 Wag     21.0   6  160 110 3.90 2.875 17.02  0  1    4    4  1.304077\n",
    "Datsun 710        22.8   4  108  93 3.85 2.320 18.61  1  1    4    1  1.052333\n",
    "Hornet 4 Drive    21.4   6  258 110 3.08 3.215 19.44  1  0    3    1  1.458298\n",
    "Hornet Sportabout 18.7   8  360 175 3.15 3.440 17.02  0  0    3    2  1.560356\n",
    "\n",
    "\n",
    "[4]\n",
    "  cyl      mpg\n",
    "1   4 26.66364\n",
    "2   6 19.74286\n",
    "3   8 15.10000\n",
    "```"
   ]
  },
  {
   "cell_type": "code",
   "execution_count": 2,
   "id": "b272e3a8",
   "metadata": {},
   "outputs": [
    {
     "data": {
      "text/html": [
       "<table>\n",
       "<thead><tr><th></th><th scope=col>mpg</th><th scope=col>cyl</th><th scope=col>disp</th><th scope=col>hp</th><th scope=col>drat</th><th scope=col>wt</th><th scope=col>qsec</th><th scope=col>vs</th><th scope=col>am</th><th scope=col>gear</th><th scope=col>carb</th></tr></thead>\n",
       "<tbody>\n",
       "\t<tr><th scope=row>Mazda RX4</th><td>21.0 </td><td>6    </td><td>160  </td><td>110  </td><td>3.90 </td><td>2.620</td><td>16.46</td><td>0    </td><td>1    </td><td>4    </td><td>4    </td></tr>\n",
       "\t<tr><th scope=row>Mazda RX4 Wag</th><td>21.0 </td><td>6    </td><td>160  </td><td>110  </td><td>3.90 </td><td>2.875</td><td>17.02</td><td>0    </td><td>1    </td><td>4    </td><td>4    </td></tr>\n",
       "\t<tr><th scope=row>Datsun 710</th><td>22.8 </td><td>4    </td><td>108  </td><td> 93  </td><td>3.85 </td><td>2.320</td><td>18.61</td><td>1    </td><td>1    </td><td>4    </td><td>1    </td></tr>\n",
       "\t<tr><th scope=row>Hornet 4 Drive</th><td>21.4 </td><td>6    </td><td>258  </td><td>110  </td><td>3.08 </td><td>3.215</td><td>19.44</td><td>1    </td><td>0    </td><td>3    </td><td>1    </td></tr>\n",
       "\t<tr><th scope=row>Hornet Sportabout</th><td>18.7 </td><td>8    </td><td>360  </td><td>175  </td><td>3.15 </td><td>3.440</td><td>17.02</td><td>0    </td><td>0    </td><td>3    </td><td>2    </td></tr>\n",
       "\t<tr><th scope=row>Valiant</th><td>18.1 </td><td>6    </td><td>225  </td><td>105  </td><td>2.76 </td><td>3.460</td><td>20.22</td><td>1    </td><td>0    </td><td>3    </td><td>1    </td></tr>\n",
       "</tbody>\n",
       "</table>\n"
      ],
      "text/latex": [
       "\\begin{tabular}{r|lllllllllll}\n",
       "  & mpg & cyl & disp & hp & drat & wt & qsec & vs & am & gear & carb\\\\\n",
       "\\hline\n",
       "\tMazda RX4 & 21.0  & 6     & 160   & 110   & 3.90  & 2.620 & 16.46 & 0     & 1     & 4     & 4    \\\\\n",
       "\tMazda RX4 Wag & 21.0  & 6     & 160   & 110   & 3.90  & 2.875 & 17.02 & 0     & 1     & 4     & 4    \\\\\n",
       "\tDatsun 710 & 22.8  & 4     & 108   &  93   & 3.85  & 2.320 & 18.61 & 1     & 1     & 4     & 1    \\\\\n",
       "\tHornet 4 Drive & 21.4  & 6     & 258   & 110   & 3.08  & 3.215 & 19.44 & 1     & 0     & 3     & 1    \\\\\n",
       "\tHornet Sportabout & 18.7  & 8     & 360   & 175   & 3.15  & 3.440 & 17.02 & 0     & 0     & 3     & 2    \\\\\n",
       "\tValiant & 18.1  & 6     & 225   & 105   & 2.76  & 3.460 & 20.22 & 1     & 0     & 3     & 1    \\\\\n",
       "\\end{tabular}\n"
      ],
      "text/markdown": [
       "\n",
       "| <!--/--> | mpg | cyl | disp | hp | drat | wt | qsec | vs | am | gear | carb |\n",
       "|---|---|---|---|---|---|---|---|---|---|---|---|\n",
       "| Mazda RX4 | 21.0  | 6     | 160   | 110   | 3.90  | 2.620 | 16.46 | 0     | 1     | 4     | 4     |\n",
       "| Mazda RX4 Wag | 21.0  | 6     | 160   | 110   | 3.90  | 2.875 | 17.02 | 0     | 1     | 4     | 4     |\n",
       "| Datsun 710 | 22.8  | 4     | 108   |  93   | 3.85  | 2.320 | 18.61 | 1     | 1     | 4     | 1     |\n",
       "| Hornet 4 Drive | 21.4  | 6     | 258   | 110   | 3.08  | 3.215 | 19.44 | 1     | 0     | 3     | 1     |\n",
       "| Hornet Sportabout | 18.7  | 8     | 360   | 175   | 3.15  | 3.440 | 17.02 | 0     | 0     | 3     | 2     |\n",
       "| Valiant | 18.1  | 6     | 225   | 105   | 2.76  | 3.460 | 20.22 | 1     | 0     | 3     | 1     |\n",
       "\n"
      ],
      "text/plain": [
       "                  mpg  cyl disp hp  drat wt    qsec  vs am gear carb\n",
       "Mazda RX4         21.0 6   160  110 3.90 2.620 16.46 0  1  4    4   \n",
       "Mazda RX4 Wag     21.0 6   160  110 3.90 2.875 17.02 0  1  4    4   \n",
       "Datsun 710        22.8 4   108   93 3.85 2.320 18.61 1  1  4    1   \n",
       "Hornet 4 Drive    21.4 6   258  110 3.08 3.215 19.44 1  0  3    1   \n",
       "Hornet Sportabout 18.7 8   360  175 3.15 3.440 17.02 0  0  3    2   \n",
       "Valiant           18.1 6   225  105 2.76 3.460 20.22 1  0  3    1   "
      ]
     },
     "metadata": {},
     "output_type": "display_data"
    },
    {
     "data": {
      "text/html": [
       "<table>\n",
       "<thead><tr><th></th><th scope=col>mpg</th><th scope=col>cyl</th><th scope=col>disp</th><th scope=col>hp</th><th scope=col>drat</th><th scope=col>wt</th><th scope=col>qsec</th><th scope=col>vs</th><th scope=col>am</th><th scope=col>gear</th><th scope=col>carb</th></tr></thead>\n",
       "<tbody>\n",
       "\t<tr><th scope=row>Hornet 4 Drive</th><td>21.4 </td><td>6    </td><td>258.0</td><td>110  </td><td>3.08 </td><td>3.215</td><td>19.44</td><td>1    </td><td>0    </td><td>3    </td><td>1    </td></tr>\n",
       "\t<tr><th scope=row>Hornet Sportabout</th><td>18.7 </td><td>8    </td><td>360.0</td><td>175  </td><td>3.15 </td><td>3.440</td><td>17.02</td><td>0    </td><td>0    </td><td>3    </td><td>2    </td></tr>\n",
       "\t<tr><th scope=row>Valiant</th><td>18.1 </td><td>6    </td><td>225.0</td><td>105  </td><td>2.76 </td><td>3.460</td><td>20.22</td><td>1    </td><td>0    </td><td>3    </td><td>1    </td></tr>\n",
       "\t<tr><th scope=row>Duster 360</th><td>14.3 </td><td>8    </td><td>360.0</td><td>245  </td><td>3.21 </td><td>3.570</td><td>15.84</td><td>0    </td><td>0    </td><td>3    </td><td>4    </td></tr>\n",
       "\t<tr><th scope=row>Merc 450SE</th><td>16.4 </td><td>8    </td><td>275.8</td><td>180  </td><td>3.07 </td><td>4.070</td><td>17.40</td><td>0    </td><td>0    </td><td>3    </td><td>3    </td></tr>\n",
       "</tbody>\n",
       "</table>\n"
      ],
      "text/latex": [
       "\\begin{tabular}{r|lllllllllll}\n",
       "  & mpg & cyl & disp & hp & drat & wt & qsec & vs & am & gear & carb\\\\\n",
       "\\hline\n",
       "\tHornet 4 Drive & 21.4  & 6     & 258.0 & 110   & 3.08  & 3.215 & 19.44 & 1     & 0     & 3     & 1    \\\\\n",
       "\tHornet Sportabout & 18.7  & 8     & 360.0 & 175   & 3.15  & 3.440 & 17.02 & 0     & 0     & 3     & 2    \\\\\n",
       "\tValiant & 18.1  & 6     & 225.0 & 105   & 2.76  & 3.460 & 20.22 & 1     & 0     & 3     & 1    \\\\\n",
       "\tDuster 360 & 14.3  & 8     & 360.0 & 245   & 3.21  & 3.570 & 15.84 & 0     & 0     & 3     & 4    \\\\\n",
       "\tMerc 450SE & 16.4  & 8     & 275.8 & 180   & 3.07  & 4.070 & 17.40 & 0     & 0     & 3     & 3    \\\\\n",
       "\\end{tabular}\n"
      ],
      "text/markdown": [
       "\n",
       "| <!--/--> | mpg | cyl | disp | hp | drat | wt | qsec | vs | am | gear | carb |\n",
       "|---|---|---|---|---|---|---|---|---|---|---|---|\n",
       "| Hornet 4 Drive | 21.4  | 6     | 258.0 | 110   | 3.08  | 3.215 | 19.44 | 1     | 0     | 3     | 1     |\n",
       "| Hornet Sportabout | 18.7  | 8     | 360.0 | 175   | 3.15  | 3.440 | 17.02 | 0     | 0     | 3     | 2     |\n",
       "| Valiant | 18.1  | 6     | 225.0 | 105   | 2.76  | 3.460 | 20.22 | 1     | 0     | 3     | 1     |\n",
       "| Duster 360 | 14.3  | 8     | 360.0 | 245   | 3.21  | 3.570 | 15.84 | 0     | 0     | 3     | 4     |\n",
       "| Merc 450SE | 16.4  | 8     | 275.8 | 180   | 3.07  | 4.070 | 17.40 | 0     | 0     | 3     | 3     |\n",
       "\n"
      ],
      "text/plain": [
       "                  mpg  cyl disp  hp  drat wt    qsec  vs am gear carb\n",
       "Hornet 4 Drive    21.4 6   258.0 110 3.08 3.215 19.44 1  0  3    1   \n",
       "Hornet Sportabout 18.7 8   360.0 175 3.15 3.440 17.02 0  0  3    2   \n",
       "Valiant           18.1 6   225.0 105 2.76 3.460 20.22 1  0  3    1   \n",
       "Duster 360        14.3 8   360.0 245 3.21 3.570 15.84 0  0  3    4   \n",
       "Merc 450SE        16.4 8   275.8 180 3.07 4.070 17.40 0  0  3    3   "
      ]
     },
     "metadata": {},
     "output_type": "display_data"
    },
    {
     "data": {
      "text/html": [
       "<table>\n",
       "<thead><tr><th></th><th scope=col>mpg</th><th scope=col>cyl</th><th scope=col>disp</th><th scope=col>hp</th><th scope=col>drat</th><th scope=col>wt</th><th scope=col>qsec</th><th scope=col>vs</th><th scope=col>am</th><th scope=col>gear</th><th scope=col>carb</th><th scope=col>Weight_KG</th></tr></thead>\n",
       "<tbody>\n",
       "\t<tr><th scope=row>Mazda RX4</th><td>21.0    </td><td>6       </td><td>160     </td><td>110     </td><td>3.90    </td><td>2.620   </td><td>16.46   </td><td>0       </td><td>1       </td><td>4       </td><td>4       </td><td>1.188411</td></tr>\n",
       "\t<tr><th scope=row>Mazda RX4 Wag</th><td>21.0    </td><td>6       </td><td>160     </td><td>110     </td><td>3.90    </td><td>2.875   </td><td>17.02   </td><td>0       </td><td>1       </td><td>4       </td><td>4       </td><td>1.304077</td></tr>\n",
       "\t<tr><th scope=row>Datsun 710</th><td>22.8    </td><td>4       </td><td>108     </td><td> 93     </td><td>3.85    </td><td>2.320   </td><td>18.61   </td><td>1       </td><td>1       </td><td>4       </td><td>1       </td><td>1.052333</td></tr>\n",
       "\t<tr><th scope=row>Hornet 4 Drive</th><td>21.4    </td><td>6       </td><td>258     </td><td>110     </td><td>3.08    </td><td>3.215   </td><td>19.44   </td><td>1       </td><td>0       </td><td>3       </td><td>1       </td><td>1.458298</td></tr>\n",
       "\t<tr><th scope=row>Hornet Sportabout</th><td>18.7    </td><td>8       </td><td>360     </td><td>175     </td><td>3.15    </td><td>3.440   </td><td>17.02   </td><td>0       </td><td>0       </td><td>3       </td><td>2       </td><td>1.560356</td></tr>\n",
       "</tbody>\n",
       "</table>\n"
      ],
      "text/latex": [
       "\\begin{tabular}{r|llllllllllll}\n",
       "  & mpg & cyl & disp & hp & drat & wt & qsec & vs & am & gear & carb & Weight\\_KG\\\\\n",
       "\\hline\n",
       "\tMazda RX4 & 21.0     & 6        & 160      & 110      & 3.90     & 2.620    & 16.46    & 0        & 1        & 4        & 4        & 1.188411\\\\\n",
       "\tMazda RX4 Wag & 21.0     & 6        & 160      & 110      & 3.90     & 2.875    & 17.02    & 0        & 1        & 4        & 4        & 1.304077\\\\\n",
       "\tDatsun 710 & 22.8     & 4        & 108      &  93      & 3.85     & 2.320    & 18.61    & 1        & 1        & 4        & 1        & 1.052333\\\\\n",
       "\tHornet 4 Drive & 21.4     & 6        & 258      & 110      & 3.08     & 3.215    & 19.44    & 1        & 0        & 3        & 1        & 1.458298\\\\\n",
       "\tHornet Sportabout & 18.7     & 8        & 360      & 175      & 3.15     & 3.440    & 17.02    & 0        & 0        & 3        & 2        & 1.560356\\\\\n",
       "\\end{tabular}\n"
      ],
      "text/markdown": [
       "\n",
       "| <!--/--> | mpg | cyl | disp | hp | drat | wt | qsec | vs | am | gear | carb | Weight_KG |\n",
       "|---|---|---|---|---|---|---|---|---|---|---|---|---|\n",
       "| Mazda RX4 | 21.0     | 6        | 160      | 110      | 3.90     | 2.620    | 16.46    | 0        | 1        | 4        | 4        | 1.188411 |\n",
       "| Mazda RX4 Wag | 21.0     | 6        | 160      | 110      | 3.90     | 2.875    | 17.02    | 0        | 1        | 4        | 4        | 1.304077 |\n",
       "| Datsun 710 | 22.8     | 4        | 108      |  93      | 3.85     | 2.320    | 18.61    | 1        | 1        | 4        | 1        | 1.052333 |\n",
       "| Hornet 4 Drive | 21.4     | 6        | 258      | 110      | 3.08     | 3.215    | 19.44    | 1        | 0        | 3        | 1        | 1.458298 |\n",
       "| Hornet Sportabout | 18.7     | 8        | 360      | 175      | 3.15     | 3.440    | 17.02    | 0        | 0        | 3        | 2        | 1.560356 |\n",
       "\n"
      ],
      "text/plain": [
       "                  mpg  cyl disp hp  drat wt    qsec  vs am gear carb Weight_KG\n",
       "Mazda RX4         21.0 6   160  110 3.90 2.620 16.46 0  1  4    4    1.188411 \n",
       "Mazda RX4 Wag     21.0 6   160  110 3.90 2.875 17.02 0  1  4    4    1.304077 \n",
       "Datsun 710        22.8 4   108   93 3.85 2.320 18.61 1  1  4    1    1.052333 \n",
       "Hornet 4 Drive    21.4 6   258  110 3.08 3.215 19.44 1  0  3    1    1.458298 \n",
       "Hornet Sportabout 18.7 8   360  175 3.15 3.440 17.02 0  0  3    2    1.560356 "
      ]
     },
     "metadata": {},
     "output_type": "display_data"
    },
    {
     "data": {
      "text/html": [
       "<table>\n",
       "<thead><tr><th scope=col>cyl</th><th scope=col>mpg</th></tr></thead>\n",
       "<tbody>\n",
       "\t<tr><td>4       </td><td>26.66364</td></tr>\n",
       "\t<tr><td>6       </td><td>19.74286</td></tr>\n",
       "\t<tr><td>8       </td><td>15.10000</td></tr>\n",
       "</tbody>\n",
       "</table>\n"
      ],
      "text/latex": [
       "\\begin{tabular}{r|ll}\n",
       " cyl & mpg\\\\\n",
       "\\hline\n",
       "\t 4        & 26.66364\\\\\n",
       "\t 6        & 19.74286\\\\\n",
       "\t 8        & 15.10000\\\\\n",
       "\\end{tabular}\n"
      ],
      "text/markdown": [
       "\n",
       "| cyl | mpg |\n",
       "|---|---|\n",
       "| 4        | 26.66364 |\n",
       "| 6        | 19.74286 |\n",
       "| 8        | 15.10000 |\n",
       "\n"
      ],
      "text/plain": [
       "  cyl mpg     \n",
       "1 4   26.66364\n",
       "2 6   19.74286\n",
       "3 8   15.10000"
      ]
     },
     "metadata": {},
     "output_type": "display_data"
    }
   ],
   "source": [
    "#[1]\n",
    "head(mtcars, 6)\n",
    "\n",
    "#[2]\n",
    "disp_over_200 <- subset(mtcars, disp > 200)\n",
    "head(disp_over_200, 5)\n",
    "\n",
    "#[3]\n",
    "mtcars$Weight_KG <- mtcars$wt * 0.453592\n",
    "head(mtcars, 5)\n",
    "\n",
    "#[4]\n",
    "aggregate(mpg ~ cyl, data = mtcars, mean)"
   ]
  }
 ],
 "metadata": {
  "kernelspec": {
   "display_name": "R",
   "language": "R",
   "name": "ir"
  },
  "language_info": {
   "codemirror_mode": "r",
   "file_extension": ".r",
   "mimetype": "text/x-r-source",
   "name": "R",
   "pygments_lexer": "r",
   "version": "3.6.1"
  }
 },
 "nbformat": 4,
 "nbformat_minor": 5
}
