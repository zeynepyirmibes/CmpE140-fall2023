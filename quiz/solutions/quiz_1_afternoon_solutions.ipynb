{
 "cells": [
  {
   "cell_type": "markdown",
   "id": "323fc018",
   "metadata": {},
   "source": [
    "# Quiz 1 - Vectors\n",
    "\n",
    "## Question 1\n",
    "\n",
    "In order to convert a weight from kilograms to pounds, you need to use a conversion factor of 2.20462. This factor is used because there are approximately 2.20462 pounds in one kilogram.\n",
    "\n",
    "Convert the following measurements to pounds."
   ]
  },
  {
   "cell_type": "code",
   "execution_count": null,
   "id": "4ebaa279",
   "metadata": {},
   "outputs": [],
   "source": [
    "kilograms <- c(80, 93, 147, 53, 71, 18, 140)"
   ]
  },
  {
   "cell_type": "markdown",
   "id": "44a6ba19",
   "metadata": {},
   "source": [
    "Your output should be:"
   ]
  },
  {
   "cell_type": "code",
   "execution_count": null,
   "id": "a0fcca6b",
   "metadata": {},
   "outputs": [],
   "source": [
    "176.36960 205.02966 324.07914 116.84486 156.52802  39.68316 308.64680"
   ]
  },
  {
   "cell_type": "markdown",
   "id": "d1930400",
   "metadata": {},
   "source": [
    "## Solution 1"
   ]
  },
  {
   "cell_type": "code",
   "execution_count": null,
   "id": "5201c40d",
   "metadata": {},
   "outputs": [],
   "source": [
    "kilograms <- c(80, 93, 147, 53, 71, 18, 140)\n",
    "pounds <- kilograms * 2.20462\n",
    "pounds"
   ]
  },
  {
   "cell_type": "markdown",
   "id": "a79a767f",
   "metadata": {},
   "source": [
    "## Question 2\n",
    "\n",
    "Ali, Hilal, Yunus, Ayten, Yasin and Azra applied for an internship position. The company will invite three candidates with the highest GPA for an interview. GPA's of candidates are given below:\n",
    "\n",
    "3.92, 2.78, 3.84, 3.11, 2.97, 3.55\n",
    "\n",
    "Find out which students the company will select and the students' GPA.\n",
    "\n",
    "The answer is:"
   ]
  },
  {
   "cell_type": "code",
   "execution_count": null,
   "id": "1e8a5726",
   "metadata": {},
   "outputs": [],
   "source": [
    "Ali Yunus  Azra \n",
    "3.92  3.84  3.55 "
   ]
  },
  {
   "cell_type": "markdown",
   "id": "e5f0aad6",
   "metadata": {},
   "source": [
    "## Solution 2"
   ]
  },
  {
   "cell_type": "code",
   "execution_count": null,
   "id": "5426e2f7",
   "metadata": {},
   "outputs": [],
   "source": [
    "gpa<-c(3.92 , 2.78 , 3.84 , 3.11 , 2.97 , 3.55)\n",
    "names(gpa)<-c(\"Ali\",\"Hilal\",\"Yunus\",\"Ayten\",\"Yasin\",\"Azra\")\n",
    "x <- sort(gpa,decreasing = T)\n",
    "x[1:3]"
   ]
  },
  {
   "cell_type": "markdown",
   "id": "c4f7cd86",
   "metadata": {},
   "source": [
    "## Question 3\n",
    "\n",
    "Murat and Ayşe are planning to move to another country. Their goal is to move to a country with the highest possible HDI (Human Development Index) value. However, it is usually more difficult to obtain a visa from highly developed countries. Murat and Ayşe narrowed their options to 12 countries. HDI value for those countries are given below:\n",
    "\n",
    "|Country|HDI|\n",
    "|------|------|\n",
    "|Russia|42|\n",
    "|United States|63|\n",
    "|China|30|                                    \n",
    "|Brazil|37|               \n",
    "|Australia|73|\n",
    "|India|18|\n",
    "|Turkey|45|\n",
    "|France|78|\n",
    "|Japan|85|\n",
    "|Venezuela|25|\n",
    "|Argentina|33|\n",
    "|Norway|91|\n",
    "\n",
    "Murat thinks they should choose a country with an HDI value of at least 40 while Ayşe thinks they shouldn't apply to a country whose HDI is higher than 70 because they will be rejected.\n",
    "\n",
    "To help them come to a decision, show which countries meet the standards put forth by both Murat and Ayşe.\n",
    "\n",
    "Your output should be:"
   ]
  },
  {
   "cell_type": "code",
   "execution_count": null,
   "id": "83139ebb",
   "metadata": {},
   "outputs": [],
   "source": [
    "Russia Turkey \n",
    "    42     45 "
   ]
  },
  {
   "cell_type": "markdown",
   "id": "bd2921a8",
   "metadata": {},
   "source": [
    "## Solution 3"
   ]
  },
  {
   "cell_type": "code",
   "execution_count": null,
   "id": "42717a06",
   "metadata": {},
   "outputs": [],
   "source": [
    "hdi <- c(42,6,30,37,73,18,45,78,85,25,33,91)\n",
    "names(hdi) <- c(\"Russia\",\"United States\",\"China\",\"Brazil\",\"Australia\",\"India\",\"Turkey\",\"France\",\"Japan\",\"Venezuela\",\"Argentina\",\"Norway\")\n",
    "hdi <- hdi[hdi >= 40]\n",
    "hdi <- hdi[hdi <= 70]\n",
    "hdi"
   ]
  },
  {
   "cell_type": "markdown",
   "id": "7875c1ce",
   "metadata": {},
   "source": [
    "or alternatively:"
   ]
  },
  {
   "cell_type": "code",
   "execution_count": null,
   "id": "2d5f3fd7",
   "metadata": {},
   "outputs": [],
   "source": [
    "hdi <- c(42,6,30,37,73,18,45,78,85,25,33,91)\n",
    "names(hdi) <- c(\"Russia\",\"United States\",\"China\",\"Brazil\",\"Australia\",\"India\",\"Turkey\",\"France\",\"Japan\",\"Venezuela\",\"Argentina\",\"Norway\")\n",
    "hdi[hdi >= 40 & hdi <= 70]"
   ]
  },
  {
   "cell_type": "markdown",
   "id": "c7348e78",
   "metadata": {},
   "source": [
    "## Question 4\n",
    "\n",
    "Consider the following data:\n",
    "\n",
    "|Country|Area|Population|\n",
    "|------|------|------|\n",
    "|Russia|17,098,242|142,257,519|\n",
    "|United States|9,833,517|326,625,791|\n",
    "|China|9,596,960|1,379,302,771|                                    \n",
    "|Brazil|8,515,770|207,353,391|                \n",
    "|Australia|7,741,220|23,232,413|\n",
    "|India|3,287,263|1,281,935,911|\n",
    "|Turkey|783,562|80,845,215|\n",
    "|France|643,801|67,106,161|\n",
    "|Japan|377,915|126,451,398|\n",
    "|United Kingdom|243,610|65,648,100|\n",
    "\n",
    "1. Create a vector called **density** that holds the population density of the countries.\n",
    "\n",
    "2. Print the names of countries sorted by population density, in descending order.\n",
    "\n",
    "Your outputs should look like this:"
   ]
  },
  {
   "cell_type": "code",
   "execution_count": null,
   "id": "f435d857",
   "metadata": {},
   "outputs": [],
   "source": [
    "    Russia         US      China     Brazil  Australia      India     Turkey      Japan         UK \n",
    "  8.320009  33.215562 143.722884  24.349341   3.001131 389.970596 103.176539 334.602749 269.480317 \n",
    "\n",
    "\"India\"     \"Japan\"     \"UK\"        \"China\"     \"Turkey\"    \"US\"        \"Brazil\"    \"Russia\"    \"Australia\""
   ]
  },
  {
   "cell_type": "markdown",
   "id": "e949ab43",
   "metadata": {},
   "source": [
    "## Solution 4"
   ]
  },
  {
   "cell_type": "code",
   "execution_count": null,
   "id": "8c8f3ee8",
   "metadata": {},
   "outputs": [],
   "source": [
    "#1\n",
    "area <- c(Russia=17098242, US=9833517, China=9596960,\n",
    "          Brazil=8515770, Australia=7741220, India=3287263,\n",
    "          Turkey=783562, Japan=377915, UK=243610)\n",
    "\n",
    "\n",
    "population <- c(Russia=142257519, US=326625791, China=1379302771,\n",
    "                Brazil=207353391, Australia=23232413, India=1281935911,\n",
    "                Turkey=80845215, Japan=126451398,  UK=65648100)\n",
    "\n",
    "density <- population / area\n",
    "density\n",
    "\n",
    "#2\n",
    "names(sort(density, decreasing=TRUE))"
   ]
  }
 ],
 "metadata": {
  "kernelspec": {
   "display_name": "R",
   "language": "R",
   "name": "ir"
  },
  "language_info": {
   "codemirror_mode": "r",
   "file_extension": ".r",
   "mimetype": "text/x-r-source",
   "name": "R",
   "pygments_lexer": "r",
   "version": "3.6.1"
  }
 },
 "nbformat": 4,
 "nbformat_minor": 5
}
