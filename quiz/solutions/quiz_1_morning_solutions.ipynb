{
 "cells": [
  {
   "cell_type": "markdown",
   "id": "00740ace",
   "metadata": {},
   "source": [
    "# Quiz 1 - Vectors\n",
    "\n",
    "## Question 1\n",
    "\n",
    "Suppose you have two vectors x and y with the following data:"
   ]
  },
  {
   "cell_type": "code",
   "execution_count": 1,
   "id": "6856dfbd",
   "metadata": {},
   "outputs": [],
   "source": [
    "x <- c(1, 2, 3, 4, 5)\n",
    "y <- c(2, 3, 5, 6, 7)"
   ]
  },
  {
   "cell_type": "markdown",
   "id": "9f7f79d1",
   "metadata": {},
   "source": [
    "What is the dot product of x and y?\n",
    "\n",
    "The answer should be:"
   ]
  },
  {
   "cell_type": "code",
   "execution_count": null,
   "id": "6d144883",
   "metadata": {},
   "outputs": [],
   "source": [
    "82"
   ]
  },
  {
   "cell_type": "markdown",
   "id": "2ad3174f",
   "metadata": {},
   "source": [
    "## Solution 1"
   ]
  },
  {
   "cell_type": "markdown",
   "id": "d4a03682",
   "metadata": {},
   "source": [
    "The dot product of two vectors x and y is defined as the sum of the products of corresponding entries in the vectors. In other words:\n",
    "\n",
    "x . y = x1 * y1 + x2 * y2 + ... + xn * yn\n",
    "\n",
    "We can use the **sum** function with vectorized multiplication."
   ]
  },
  {
   "cell_type": "code",
   "execution_count": null,
   "id": "541c084e",
   "metadata": {},
   "outputs": [],
   "source": [
    "x <- c(1, 2, 3, 4, 5)\n",
    "y <- c(2, 3, 5, 6, 7)\n",
    "\n",
    "dot_prod <- sum(x * y)\n",
    "dot_prod"
   ]
  },
  {
   "cell_type": "markdown",
   "id": "aa9e550a",
   "metadata": {},
   "source": [
    "## Question 2\n",
    "\n",
    "MGM's one week weather estimations are respectively 15,16,13,15,14,14,17 C° from Sunday to Saturday. Measured temperatures for that week are 17 C° for each day. \n",
    "\n",
    "1. Find the average difference between estimations and real values and round it to 2 decimal places. \n",
    "2. Which forecasts coincide with the actual temperature?\n",
    "\n",
    "Your outputs should be:"
   ]
  },
  {
   "cell_type": "code",
   "execution_count": null,
   "id": "e32d8c90",
   "metadata": {},
   "outputs": [],
   "source": [
    "-2.14\n",
    "\n",
    "Saturday \n",
    "      17 "
   ]
  },
  {
   "cell_type": "markdown",
   "id": "e4248bbf",
   "metadata": {},
   "source": [
    "## Solution 2"
   ]
  },
  {
   "cell_type": "code",
   "execution_count": null,
   "id": "384185fa",
   "metadata": {},
   "outputs": [],
   "source": [
    "#1\n",
    "estimations <- c(Sunday=15, Monday=16, Tuesday=13, Wednesday=15, Thursday=14, Friday=14, Saturday=17)\n",
    "mean_error <- round(mean(estimations - 17),2)\n",
    "mean_error\n",
    "\n",
    "#2\n",
    "estimations[estimations-17 == 0]"
   ]
  },
  {
   "cell_type": "markdown",
   "id": "51fc6273",
   "metadata": {},
   "source": [
    "## Question 3\n",
    "\n",
    "Elif and Berkay are students of economics in Boğaziçi University. They are conducting a research about developing countries in their EC208 class. They have a dataset, given below; about some countries' exchange rate vs US Dollars and the subcontinents they are on. The teacher asks Elif to present the exchange rates of all Asian countries on the list in ascending order whereas he asks Berkay to present the exchange rates of all European countries on the list in descending order. \n",
    "\n",
    "\n",
    "|Country|Exchange Rate|Region|\n",
    "|------|------|------|\n",
    "|Singapore|1.4|Southeast Asia|\n",
    "|Albania|113|Eastern Europe|\n",
    "|Argentina|130.6|South America|                                \n",
    "|Hong Kong|7.8|East Asia|               \n",
    "|Portugal|0.9|Southern Europe|\n",
    "|Korea|1291.4|East Africa|\n",
    "|Madagascar|4096.1|East Africa|\n",
    "|Morocco|10.2|North Africa|\n",
    "|Indonesia|14849.9|Southeast Asia|\n",
    "|Saudi Arabia|3.8|Middle East Asia|\n",
    "|Slovakia|72.5|Eastern Europe|\n",
    "\n",
    "\n",
    "Your output should be:"
   ]
  },
  {
   "cell_type": "code",
   "execution_count": null,
   "id": "0e6365a3",
   "metadata": {},
   "outputs": [],
   "source": [
    "Singapore Saudi Arabia    Hong Kong   Korea      Indonesia \n",
    "  1.4          3.8          7.8       1291.4      14849.9 \n",
    "\n",
    "Albania Slovakia Portugal \n",
    "   113.0   72.5    0.9 "
   ]
  },
  {
   "cell_type": "markdown",
   "id": "095242b9",
   "metadata": {},
   "source": [
    "## Solution 3"
   ]
  },
  {
   "cell_type": "code",
   "execution_count": null,
   "id": "090bc5bd",
   "metadata": {},
   "outputs": [],
   "source": [
    "exchange_rates <- c(1.4, 113, 130.6, 7.8, 0.9, 1291.4, 4096.1, 10.2, 14849.9, 3.8, 72.5)\n",
    "names(exchange_rates) <- c(\"Singapore\", \"Albania\", \"Argentina\", \"Hong Kong\", \"Portugal\", \"Korea\", \"Madagascar\", \"Morocco\", \"Indonesia\", \"Saudi Arabia\", \"Slovakia\")\n",
    "\n",
    "asian_exchange_rates <- exchange_rates[c(1, 4, 6, 9, 10)]\n",
    "european_exchange_rates <- exchange_rates[c(2, 5, 11)]\n",
    "sort(asian_exchange_rates, decreasing = FALSE)\n",
    "sort(european_exchange_rates, decreasing = TRUE)"
   ]
  },
  {
   "cell_type": "markdown",
   "id": "66dbd2d5",
   "metadata": {},
   "source": [
    "## Question 4\n",
    "\n",
    "You are working as an analyst for The Hollywood Reporter. Your company is making a preliminary analysis of the financial performance of the major production studios to create an annual report for the industry. Given the information on the Worldwide Box Office Grosses (mln $), find the following indicators for the report:\n",
    "\n",
    "<table>\n",
    "  <tr>\n",
    "    <th></th>\n",
    "    <th>2010</th>\n",
    "    <th>2011</th>\n",
    "    <th>2012</th>\n",
    "    <th>2013</th>\n",
    "    <th>2014</th>\n",
    "    <th>2015</th>\n",
    "  </tr>\n",
    "  <tr>\n",
    "    <td>Disney</td>\n",
    "    <td>4167</td>\n",
    "    <td>3140</td>\n",
    "    <td>3587</td>\n",
    "    <td>5043</td>\n",
    "    <td>3917</td>\n",
    "    <td>4901</td>\n",
    "  </tr>\n",
    "  <tr>\n",
    "    <td>20th Century Fox</td>\n",
    "    <td>2965</td>\n",
    "    <td>2838</td>\n",
    "    <td>3350</td>\n",
    "    <td>3231</td>\n",
    "    <td>5796</td>\n",
    "    <td>3554</td>\n",
    "  </tr>\n",
    "  <tr>\n",
    "    <td>Paramount</td>\n",
    "    <td>2079</td>\n",
    "    <td>3122</td>\n",
    "    <td>1271</td>\n",
    "    <td>2429</td>\n",
    "    <td>3248</td>\n",
    "    <td>1793</td>\n",
    "  </tr>\n",
    "</table>\n",
    "\n",
    "1. Find and print the highest revenue for each studio.\n",
    "2. Find and print the best year for each studio.\n",
    "\n",
    "Your outputs should look like this:"
   ]
  },
  {
   "cell_type": "code",
   "execution_count": null,
   "id": "2da21507",
   "metadata": {},
   "outputs": [],
   "source": [
    "> max_gross\n",
    "          Disney 20th Century Fox        Paramount \n",
    "            5043             5796             3248 \n",
    "\n",
    "> best_years\n",
    "          Disney 20th Century Fox        Paramount \n",
    "            2013             2014             2014 "
   ]
  },
  {
   "cell_type": "markdown",
   "id": "f85a7753",
   "metadata": {},
   "source": [
    "## Solution 4"
   ]
  },
  {
   "cell_type": "code",
   "execution_count": 4,
   "id": "a85c9cf5",
   "metadata": {},
   "outputs": [
    {
     "data": {
      "text/html": [
       "<dl class=dl-horizontal>\n",
       "\t<dt>Disney</dt>\n",
       "\t\t<dd>5043</dd>\n",
       "\t<dt>20th Century Fox</dt>\n",
       "\t\t<dd>5796</dd>\n",
       "\t<dt>Paramount</dt>\n",
       "\t\t<dd>3248</dd>\n",
       "</dl>\n"
      ],
      "text/latex": [
       "\\begin{description*}\n",
       "\\item[Disney] 5043\n",
       "\\item[20th Century Fox] 5796\n",
       "\\item[Paramount] 3248\n",
       "\\end{description*}\n"
      ],
      "text/markdown": [
       "Disney\n",
       ":   504320th Century Fox\n",
       ":   5796Paramount\n",
       ":   3248\n",
       "\n"
      ],
      "text/plain": [
       "          Disney 20th Century Fox        Paramount \n",
       "            5043             5796             3248 "
      ]
     },
     "metadata": {},
     "output_type": "display_data"
    },
    {
     "data": {
      "text/html": [
       "<dl class=dl-horizontal>\n",
       "\t<dt>Disney</dt>\n",
       "\t\t<dd>2013</dd>\n",
       "\t<dt>20th Century Fox</dt>\n",
       "\t\t<dd>2014</dd>\n",
       "\t<dt>Paramount</dt>\n",
       "\t\t<dd>2014</dd>\n",
       "</dl>\n"
      ],
      "text/latex": [
       "\\begin{description*}\n",
       "\\item[Disney] 2013\n",
       "\\item[20th Century Fox] 2014\n",
       "\\item[Paramount] 2014\n",
       "\\end{description*}\n"
      ],
      "text/markdown": [
       "Disney\n",
       ":   201320th Century Fox\n",
       ":   2014Paramount\n",
       ":   2014\n",
       "\n"
      ],
      "text/plain": [
       "          Disney 20th Century Fox        Paramount \n",
       "            2013             2014             2014 "
      ]
     },
     "metadata": {},
     "output_type": "display_data"
    }
   ],
   "source": [
    "#1\n",
    "years <- c(2010, 2011, 2012, 2013, 2014, 2015)\n",
    "disney <- c(4167, 3140,\t3587,\t5043,\t3917,\t4901)\n",
    "tc_fox <- c(2965, 2838,\t3350,\t3231,\t5796,\t3554)\n",
    "paramount <- c(2079, 3122,\t1271,\t2429,\t3248,\t1793)\n",
    "\n",
    "max_gross <- c(max(disney), max(tc_fox), max(paramount))\n",
    "names(max_gross) <- c(\"Disney\", \"20th Century Fox\", \"Paramount\")\n",
    "max_gross\n",
    "\n",
    "#2\n",
    "best_years <- c(years[order(disney)][length(disney)], years[order(tc_fox)][length(tc_fox)], years[order(paramount)][length(paramount)])\n",
    "names(best_years) <- c(\"Disney\", \"20th Century Fox\", \"Paramount\")\n",
    "best_years"
   ]
  },
  {
   "cell_type": "markdown",
   "id": "698cafad",
   "metadata": {},
   "source": [
    "or alternatively:"
   ]
  },
  {
   "cell_type": "code",
   "execution_count": null,
   "id": "376bae2e",
   "metadata": {},
   "outputs": [],
   "source": [
    "#2\n",
    "\n",
    "best_years <- c(years[which.max(disney)],years[which.max(tc_fox)],years[which.max(paramount)])\n",
    "names(best_years) <- c(\"Disney\", \"20th Century Fox\", \"Paramount\")\n",
    "best_years"
   ]
  }
 ],
 "metadata": {
  "kernelspec": {
   "display_name": "R",
   "language": "R",
   "name": "ir"
  },
  "language_info": {
   "codemirror_mode": "r",
   "file_extension": ".r",
   "mimetype": "text/x-r-source",
   "name": "R",
   "pygments_lexer": "r",
   "version": "3.6.1"
  }
 },
 "nbformat": 4,
 "nbformat_minor": 5
}
