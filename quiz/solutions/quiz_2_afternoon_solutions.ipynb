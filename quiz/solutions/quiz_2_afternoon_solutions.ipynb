{
 "cells": [
  {
   "cell_type": "markdown",
   "id": "02250ecd",
   "metadata": {},
   "source": [
    "## Question 1\n",
    "\n",
    "\n",
    "**a)** Create a sequence of 50 values with starting value 100 and steps of 5 and save it to seq_1 as such:\n",
    "\n",
    "```\n",
    "100 105 110 115 120 125 130 135 140 145 150 155 160 165 170 175 180 185 190 195 200 205 210 215 220 225 230 235 240 245 250 255 260 265 270 275 280 285 290 295 300 305 310 315 320 325 330 335 340 345\n",
    "\n",
    "```\n",
    "\n",
    "**b)** Print the values larger than or equal to 160. \n",
    "\n",
    "```\n",
    "160 165 170 175 180 185 190 195 200 205 210 215 220 225 230 235 240 245 250 255 260 265 270 275 280 285 290 295 300 305 310 315 320 325 330 335 340 345\n",
    "\n",
    "```"
   ]
  },
  {
   "cell_type": "code",
   "execution_count": 4,
   "id": "8ab00d3d",
   "metadata": {},
   "outputs": [
    {
     "data": {
      "text/html": [
       "<ol class=list-inline>\n",
       "\t<li>100</li>\n",
       "\t<li>105</li>\n",
       "\t<li>110</li>\n",
       "\t<li>115</li>\n",
       "\t<li>120</li>\n",
       "\t<li>125</li>\n",
       "\t<li>130</li>\n",
       "\t<li>135</li>\n",
       "\t<li>140</li>\n",
       "\t<li>145</li>\n",
       "\t<li>150</li>\n",
       "\t<li>155</li>\n",
       "\t<li>160</li>\n",
       "\t<li>165</li>\n",
       "\t<li>170</li>\n",
       "\t<li>175</li>\n",
       "\t<li>180</li>\n",
       "\t<li>185</li>\n",
       "\t<li>190</li>\n",
       "\t<li>195</li>\n",
       "\t<li>200</li>\n",
       "\t<li>205</li>\n",
       "\t<li>210</li>\n",
       "\t<li>215</li>\n",
       "\t<li>220</li>\n",
       "\t<li>225</li>\n",
       "\t<li>230</li>\n",
       "\t<li>235</li>\n",
       "\t<li>240</li>\n",
       "\t<li>245</li>\n",
       "\t<li>250</li>\n",
       "\t<li>255</li>\n",
       "\t<li>260</li>\n",
       "\t<li>265</li>\n",
       "\t<li>270</li>\n",
       "\t<li>275</li>\n",
       "\t<li>280</li>\n",
       "\t<li>285</li>\n",
       "\t<li>290</li>\n",
       "\t<li>295</li>\n",
       "\t<li>300</li>\n",
       "\t<li>305</li>\n",
       "\t<li>310</li>\n",
       "\t<li>315</li>\n",
       "\t<li>320</li>\n",
       "\t<li>325</li>\n",
       "\t<li>330</li>\n",
       "\t<li>335</li>\n",
       "\t<li>340</li>\n",
       "\t<li>345</li>\n",
       "</ol>\n"
      ],
      "text/latex": [
       "\\begin{enumerate*}\n",
       "\\item 100\n",
       "\\item 105\n",
       "\\item 110\n",
       "\\item 115\n",
       "\\item 120\n",
       "\\item 125\n",
       "\\item 130\n",
       "\\item 135\n",
       "\\item 140\n",
       "\\item 145\n",
       "\\item 150\n",
       "\\item 155\n",
       "\\item 160\n",
       "\\item 165\n",
       "\\item 170\n",
       "\\item 175\n",
       "\\item 180\n",
       "\\item 185\n",
       "\\item 190\n",
       "\\item 195\n",
       "\\item 200\n",
       "\\item 205\n",
       "\\item 210\n",
       "\\item 215\n",
       "\\item 220\n",
       "\\item 225\n",
       "\\item 230\n",
       "\\item 235\n",
       "\\item 240\n",
       "\\item 245\n",
       "\\item 250\n",
       "\\item 255\n",
       "\\item 260\n",
       "\\item 265\n",
       "\\item 270\n",
       "\\item 275\n",
       "\\item 280\n",
       "\\item 285\n",
       "\\item 290\n",
       "\\item 295\n",
       "\\item 300\n",
       "\\item 305\n",
       "\\item 310\n",
       "\\item 315\n",
       "\\item 320\n",
       "\\item 325\n",
       "\\item 330\n",
       "\\item 335\n",
       "\\item 340\n",
       "\\item 345\n",
       "\\end{enumerate*}\n"
      ],
      "text/markdown": [
       "1. 100\n",
       "2. 105\n",
       "3. 110\n",
       "4. 115\n",
       "5. 120\n",
       "6. 125\n",
       "7. 130\n",
       "8. 135\n",
       "9. 140\n",
       "10. 145\n",
       "11. 150\n",
       "12. 155\n",
       "13. 160\n",
       "14. 165\n",
       "15. 170\n",
       "16. 175\n",
       "17. 180\n",
       "18. 185\n",
       "19. 190\n",
       "20. 195\n",
       "21. 200\n",
       "22. 205\n",
       "23. 210\n",
       "24. 215\n",
       "25. 220\n",
       "26. 225\n",
       "27. 230\n",
       "28. 235\n",
       "29. 240\n",
       "30. 245\n",
       "31. 250\n",
       "32. 255\n",
       "33. 260\n",
       "34. 265\n",
       "35. 270\n",
       "36. 275\n",
       "37. 280\n",
       "38. 285\n",
       "39. 290\n",
       "40. 295\n",
       "41. 300\n",
       "42. 305\n",
       "43. 310\n",
       "44. 315\n",
       "45. 320\n",
       "46. 325\n",
       "47. 330\n",
       "48. 335\n",
       "49. 340\n",
       "50. 345\n",
       "\n",
       "\n"
      ],
      "text/plain": [
       " [1] 100 105 110 115 120 125 130 135 140 145 150 155 160 165 170 175 180 185 190\n",
       "[20] 195 200 205 210 215 220 225 230 235 240 245 250 255 260 265 270 275 280 285\n",
       "[39] 290 295 300 305 310 315 320 325 330 335 340 345"
      ]
     },
     "metadata": {},
     "output_type": "display_data"
    },
    {
     "data": {
      "text/html": [
       "<ol class=list-inline>\n",
       "\t<li>160</li>\n",
       "\t<li>165</li>\n",
       "\t<li>170</li>\n",
       "\t<li>175</li>\n",
       "\t<li>180</li>\n",
       "\t<li>185</li>\n",
       "\t<li>190</li>\n",
       "\t<li>195</li>\n",
       "\t<li>200</li>\n",
       "\t<li>205</li>\n",
       "\t<li>210</li>\n",
       "\t<li>215</li>\n",
       "\t<li>220</li>\n",
       "\t<li>225</li>\n",
       "\t<li>230</li>\n",
       "\t<li>235</li>\n",
       "\t<li>240</li>\n",
       "\t<li>245</li>\n",
       "\t<li>250</li>\n",
       "\t<li>255</li>\n",
       "\t<li>260</li>\n",
       "\t<li>265</li>\n",
       "\t<li>270</li>\n",
       "\t<li>275</li>\n",
       "\t<li>280</li>\n",
       "\t<li>285</li>\n",
       "\t<li>290</li>\n",
       "\t<li>295</li>\n",
       "\t<li>300</li>\n",
       "\t<li>305</li>\n",
       "\t<li>310</li>\n",
       "\t<li>315</li>\n",
       "\t<li>320</li>\n",
       "\t<li>325</li>\n",
       "\t<li>330</li>\n",
       "\t<li>335</li>\n",
       "\t<li>340</li>\n",
       "\t<li>345</li>\n",
       "</ol>\n"
      ],
      "text/latex": [
       "\\begin{enumerate*}\n",
       "\\item 160\n",
       "\\item 165\n",
       "\\item 170\n",
       "\\item 175\n",
       "\\item 180\n",
       "\\item 185\n",
       "\\item 190\n",
       "\\item 195\n",
       "\\item 200\n",
       "\\item 205\n",
       "\\item 210\n",
       "\\item 215\n",
       "\\item 220\n",
       "\\item 225\n",
       "\\item 230\n",
       "\\item 235\n",
       "\\item 240\n",
       "\\item 245\n",
       "\\item 250\n",
       "\\item 255\n",
       "\\item 260\n",
       "\\item 265\n",
       "\\item 270\n",
       "\\item 275\n",
       "\\item 280\n",
       "\\item 285\n",
       "\\item 290\n",
       "\\item 295\n",
       "\\item 300\n",
       "\\item 305\n",
       "\\item 310\n",
       "\\item 315\n",
       "\\item 320\n",
       "\\item 325\n",
       "\\item 330\n",
       "\\item 335\n",
       "\\item 340\n",
       "\\item 345\n",
       "\\end{enumerate*}\n"
      ],
      "text/markdown": [
       "1. 160\n",
       "2. 165\n",
       "3. 170\n",
       "4. 175\n",
       "5. 180\n",
       "6. 185\n",
       "7. 190\n",
       "8. 195\n",
       "9. 200\n",
       "10. 205\n",
       "11. 210\n",
       "12. 215\n",
       "13. 220\n",
       "14. 225\n",
       "15. 230\n",
       "16. 235\n",
       "17. 240\n",
       "18. 245\n",
       "19. 250\n",
       "20. 255\n",
       "21. 260\n",
       "22. 265\n",
       "23. 270\n",
       "24. 275\n",
       "25. 280\n",
       "26. 285\n",
       "27. 290\n",
       "28. 295\n",
       "29. 300\n",
       "30. 305\n",
       "31. 310\n",
       "32. 315\n",
       "33. 320\n",
       "34. 325\n",
       "35. 330\n",
       "36. 335\n",
       "37. 340\n",
       "38. 345\n",
       "\n",
       "\n"
      ],
      "text/plain": [
       " [1] 160 165 170 175 180 185 190 195 200 205 210 215 220 225 230 235 240 245 250\n",
       "[20] 255 260 265 270 275 280 285 290 295 300 305 310 315 320 325 330 335 340 345"
      ]
     },
     "metadata": {},
     "output_type": "display_data"
    }
   ],
   "source": [
    "#a)\n",
    "\n",
    "seq_1 <- seq(100, by = 5, length.out = 50)\n",
    "seq_1\n",
    "\n",
    "#b)\n",
    "\n",
    "seq_1[seq_1 >= 160]"
   ]
  },
  {
   "attachments": {
    "male_growth.png": {
     "image/png": "[encoded data removed]"
    }
   },
   "cell_type": "markdown",
   "id": "6a257e27",
   "metadata": {},
   "source": [
    "## Question 2\n",
    "\n",
    "In a 2005 study, researchers tried to figure out possible muscular growth differences between individuals who performed the same exercises. Total of 243 males and 342 females have been examined. Let's try to replicate the research on R. \n",
    "\n",
    "Steps:\n",
    "1. Set RNGversion to \"3.3.1\" and seed to 1234\n",
    "2. Create a **histogram** for males, which consists of 243 normally distibuted numbers with a mean of 20 and standard deviation of 10. (The name of the histogram should be \"Male Muscular Growth\", the name of the x axis should be \"CSA Change (%)\", and the name of the y axis should be \"Subjects\")\n",
    "3. Create a **histogram** for females, which consists of 342 normally distibuted numbers with a mean of 10 and standard deviation of 7. (The name of the histogram should be \"Female Muscular Growth\", the name of the x axis should be \"CSA Change (%)\", and the name of the y axis should be \"Subjects\")\n",
    "\n",
    "* **Hint:** Use the function rnorm() to generate the normally distibuted numbers. \n",
    "* **Hint:** Use the function hist() to generate the histogram. \n",
    "\n",
    "\n",
    "Your output should look like this:<br>\n",
    "<br>\n",
    "![male_growth.png](attachment:male_growth.png)"
   ]
  },
  {
   "attachments": {
    "female_growth.png": {
     "image/png": "[encoded data removed]"
    }
   },
   "cell_type": "markdown",
   "id": "a3382a54",
   "metadata": {},
   "source": [
    "![female_growth.png](attachment:female_growth.png)"
   ]
  },
  {
   "cell_type": "code",
   "execution_count": 8,
   "id": "91c9121e",
   "metadata": {},
   "outputs": [
    {
     "name": "stderr",
     "output_type": "stream",
     "text": [
      "Warning message in RNGkind(\"Mersenne-Twister\", \"Inversion\", \"Rounding\"):\n",
      "\"non-uniform 'Rounding' sampler used\""
     ]
    },
    {
     "data": {
      "image/png": "[encoded data removed]",
      "text/plain": [
       "Plot with title \"Male Muscular Growth\""
      ]
     },
     "metadata": {},
     "output_type": "display_data"
    },
    {
     "data": {
      "image/png": "[encoded data removed]",
      "text/plain": [
       "Plot with title \"Female Muscular Growth\""
      ]
     },
     "metadata": {},
     "output_type": "display_data"
    }
   ],
   "source": [
    "RNGversion(\"3.3.1\")\n",
    "set.seed(1234)\n",
    "\n",
    "males <- hist(rnorm(243, mean=20, sd=10), main=\"Male Muscular Growth\", xlab=\"CSA Change (%)\", ylab=\"Subjects\")\n",
    "females <- hist(rnorm(342, mean=10, sd=7), main=\"Female Muscular Growth\", xlab=\"CSA Change (%)\", ylab=\"Subjects\")"
   ]
  },
  {
   "cell_type": "markdown",
   "id": "c6c07bea",
   "metadata": {},
   "source": [
    "## Question 3\n",
    "\n",
    "Write a function called \"least_veg(vegetables)\" that takes a named vector of vegetables and their values in Kg. The function should:\n",
    "\n",
    "1-Calculate and print the average weight of the vegetables \n",
    "\n",
    "2-Calculate and print the median weight.\n",
    "\n",
    "3-Print the name of the vegetable with the smallest amount.\n",
    "\n",
    "4-Print the name of the vegetable with the largest amount.\n",
    "\n",
    "\n",
    "* **Hint:** To display the solutions as in the example, you can use the paste() function inside the print() function.\n",
    "\n",
    "Example usage:\n",
    "\n",
    "```\n",
    "print(paste(\"Average Weight:\", 10))\n",
    "```\n",
    "\n",
    "Your output should be:\n",
    "```\n",
    "\n",
    "least_veg(c(carrots=25.5,broccoli=40.2,spinach=10.7,tomatoes=55.1,cucumbers=8.9))\n",
    "\n",
    "[1] \"Average Weight: 28.08\"\n",
    "[1] \"Median Weight: 25.5\"\n",
    "[1] \"Smallest Vegetable: cucumbers\"\n",
    "[1] \"Largest Vegetable: tomatoes\"\n",
    "\n",
    "least_veg(c(carrots=5.5,broccoli=4.2,spinach=7,celery=78,tomatoes=55.1,cucumbers=9, eggplant=2.3))\n",
    "\n",
    "[1] \"Average Weight: 23.0142857142857\"\n",
    "[1] \"Median Weight: 7\"\n",
    "[1] \"Smallest Vegetable: eggplant\"\n",
    "[1] \"Largest Vegetable: celery\"\n",
    "```"
   ]
  },
  {
   "cell_type": "code",
   "execution_count": 64,
   "id": "2ea73417",
   "metadata": {},
   "outputs": [],
   "source": [
    "least_veg <- function(x) {\n",
    "    avg <- mean(x)\n",
    "    print(paste(\"Average weight :\", avg))\n",
    "    median_vegs <- median(x)\n",
    "    print(paste(\"Median weight :\", median_vegs))\n",
    "    sorted_vegs <- sort(x)\n",
    "    min_name <- names(sorted_vegs[1])\n",
    "    max_name <- names(sorted_vegs[length(x)])\n",
    "    print(paste(\"Min name :\", min_name))\n",
    "    print(paste(\"Max name :\", max_name))\n",
    "}"
   ]
  },
  {
   "cell_type": "code",
   "execution_count": 65,
   "id": "4509d67e",
   "metadata": {},
   "outputs": [
    {
     "name": "stdout",
     "output_type": "stream",
     "text": [
      "[1] \"Average weight : 25.5\"\n",
      "[1] \"Median weight : 25.5\"\n",
      "[1] \"Min name : carrots\"\n",
      "[1] \"Max name : carrots\"\n"
     ]
    }
   ],
   "source": [
    "least_veg(c(carrots=25.5))"
   ]
  },
  {
   "cell_type": "code",
   "execution_count": 66,
   "id": "225f1820",
   "metadata": {},
   "outputs": [
    {
     "name": "stdout",
     "output_type": "stream",
     "text": [
      "[1] \"Average weight : 28.08\"\n",
      "[1] \"Median weight : 25.5\"\n",
      "[1] \"Min name : cucumbers\"\n",
      "[1] \"Max name : tomatoes\"\n"
     ]
    }
   ],
   "source": [
    "least_veg(c(carrots=25.5,broccoli=40.2,spinach=10.7,tomatoes=55.1,cucumbers=8.9))"
   ]
  },
  {
   "cell_type": "code",
   "execution_count": 67,
   "id": "4050fa70",
   "metadata": {
    "scrolled": true
   },
   "outputs": [
    {
     "name": "stdout",
     "output_type": "stream",
     "text": [
      "[1] \"Average weight : 23.0142857142857\"\n",
      "[1] \"Median weight : 7\"\n",
      "[1] \"Min name : eggplant\"\n",
      "[1] \"Max name : celery\"\n"
     ]
    }
   ],
   "source": [
    "least_veg(c(carrots=5.5,broccoli=4.2,spinach=7,celery=78,tomatoes=55.1,cucumbers=9, eggplant=2.3))"
   ]
  }
 ],
 "metadata": {
  "kernelspec": {
   "display_name": "R",
   "language": "R",
   "name": "ir"
  },
  "language_info": {
   "codemirror_mode": "r",
   "file_extension": ".r",
   "mimetype": "text/x-r-source",
   "name": "R",
   "pygments_lexer": "r",
   "version": "3.6.1"
  }
 },
 "nbformat": 4,
 "nbformat_minor": 5
}
